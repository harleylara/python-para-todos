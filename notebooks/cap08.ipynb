{
 "cells": [
  {
   "cell_type": "markdown",
   "metadata": {},
   "source": [
    "<!--BOOK_INFORMATION-->\n",
    "<img align=\"left\" style=\"padding-right:10px;\" src=\"./figures/cover-small.jpg\">\n",
    "\n",
    "*Este libro es una versión al español de [Python for Everybody](https://www.py4e.com/) escrito por el [Dr. Charles R. Severance](http://www.dr-chuck.com/); este contenido esta disponible en [GitHub](https://github.com/csev/py4e).*\n",
    "\n",
    "Detalles de Copyright\n",
    "\n",
    "*Copyright ~ 2009- Charles Severance.\n",
    "Este trabajo está registrado bajo una Licencia Creative Commons AttributionNonCommercial-ShareAlike 3.0 [CC BY-NC-SA](https://creativecommons.org/licenses/by-nc-sa/3.0/).*"
   ]
  },
  {
   "cell_type": "markdown",
   "metadata": {},
   "source": [
    "<!--NAVIGATION-->\n",
    "| [Indice](indice.ipynb) | \n",
    "\n",
    "< [Capítulo 7 - Archivos](cap07.ipynb) | [Capítulo 9 - Diccionarios](cap09.ipynb) >"
   ]
  },
  {
   "cell_type": "markdown",
   "metadata": {},
   "source": [
    "# Capítulo 8 - Listas"
   ]
  },
  {
   "cell_type": "markdown",
   "metadata": {},
   "source": [
    "## Una lista es una secuencia\n",
    "\n",
    "Como una cadena, una lista es una secuencia de valores. En una cadena, los valores son caracteres; en una lista, pueden ser de cualquier tipo. Los valores en la lista se llaman elementos o, a veces, items.\n",
    "\n",
    "Hay varias formas de crear una nueva lista; lo más simple es incluir los elementos entre corchetes `[y]`:"
   ]
  },
  {
   "cell_type": "code",
   "execution_count": 1,
   "metadata": {},
   "outputs": [
    {
     "data": {
      "text/plain": [
       "['crunchy frog', 'ram bladder', 'lark vomit']"
      ]
     },
     "execution_count": 1,
     "metadata": {},
     "output_type": "execute_result"
    }
   ],
   "source": [
    "[10, 20, 30, 40]\n",
    "['crunchy frog', 'ram bladder', 'lark vomit']"
   ]
  },
  {
   "cell_type": "markdown",
   "metadata": {},
   "source": [
    "El primer ejemplo es una lista de cuatro enteros. El segundo es una lista de tres cadenas. Los elementos de una lista no tienen que ser del mismo tipo. La siguiente lista contiene una cadena, un flotante, un entero y (¡para menos!) Otra lista:"
   ]
  },
  {
   "cell_type": "code",
   "execution_count": 2,
   "metadata": {},
   "outputs": [
    {
     "data": {
      "text/plain": [
       "['spam', 2.0, 5, [10, 20]]"
      ]
     },
     "execution_count": 2,
     "metadata": {},
     "output_type": "execute_result"
    }
   ],
   "source": [
    "['spam', 2.0, 5, [10, 20]]"
   ]
  },
  {
   "cell_type": "markdown",
   "metadata": {},
   "source": [
    "Si hay Una lista dentro de otra lista esto es una lista anidada.\n",
    "\n",
    "Una lista que no contiene elementos se llama lista vacía; puede crear uno con corchetes vacíos, `[]`.\n",
    "\n",
    "Como era de esperar, puede asignar valores de lista a las variables:"
   ]
  },
  {
   "cell_type": "code",
   "execution_count": 3,
   "metadata": {},
   "outputs": [
    {
     "name": "stdout",
     "output_type": "stream",
     "text": [
      "['Cheddar', 'Edam', 'Gouda'] [17, 123] []\n"
     ]
    }
   ],
   "source": [
    "queso = ['Cheddar', 'Edam', 'Gouda']\n",
    "numeros = [17, 123]\n",
    "vacio = []\n",
    "print(queso, numeros, vacio)"
   ]
  },
  {
   "cell_type": "markdown",
   "metadata": {},
   "source": [
    "## Las listas son mutables\n",
    "\n",
    "La sintaxis para acceder a los elementos de una lista es la misma que para acceder a los caracteres de una cadena: el operador de corchetes. La expresión entre corchetes especifica el índice. Recuerde que los índices comienzan en 0:"
   ]
  },
  {
   "cell_type": "code",
   "execution_count": 4,
   "metadata": {},
   "outputs": [
    {
     "name": "stdout",
     "output_type": "stream",
     "text": [
      "Cheddar\n"
     ]
    }
   ],
   "source": [
    "print(queso[0])"
   ]
  },
  {
   "cell_type": "markdown",
   "metadata": {},
   "source": [
    "A diferencia de las cadenas, las listas son mutables porque puede cambiar el orden de los elementos en una lista o reasignar un elemento en una lista. Cuando el operador de corchetes aparece en el lado izquierdo de una tarea, identifica el elemento de la lista que se asignará."
   ]
  },
  {
   "cell_type": "code",
   "execution_count": 5,
   "metadata": {},
   "outputs": [
    {
     "name": "stdout",
     "output_type": "stream",
     "text": [
      "[17, 5]\n"
     ]
    }
   ],
   "source": [
    "numeros = [17, 123]\n",
    "numeros[1] = 5\n",
    "print(numeros)"
   ]
  },
  {
   "cell_type": "markdown",
   "metadata": {},
   "source": [
    "El segundo elemento de `numeros`, que solía ser `123`, ahora es `5`.\n",
    "\n",
    "Puede pensar en una lista como una relación entre índices y elementos. Esta relación se llama mapeo; cada índice \"se asigna a\" uno de los elementos.\n",
    "\n",
    "Los índices de lista funcionan del mismo modo que los índices de cadena:\n",
    "* Cualquier expresión entera se puede usar como un índice.\n",
    "* Si intenta leer o escribir un elemento que no existe, obtiene un IndexError.\n",
    "* Si un índice tiene un valor negativo, cuenta hacia atrás desde el final de la lista.\n",
    "\n",
    "El operador in también trabaja en listas."
   ]
  },
  {
   "cell_type": "code",
   "execution_count": 6,
   "metadata": {},
   "outputs": [
    {
     "data": {
      "text/plain": [
       "True"
      ]
     },
     "execution_count": 6,
     "metadata": {},
     "output_type": "execute_result"
    }
   ],
   "source": [
    "quesos = ['Cheddar', 'Edam', 'Gouda']\n",
    "'Edam' in quesos"
   ]
  },
  {
   "cell_type": "code",
   "execution_count": 7,
   "metadata": {},
   "outputs": [
    {
     "data": {
      "text/plain": [
       "False"
      ]
     },
     "execution_count": 7,
     "metadata": {},
     "output_type": "execute_result"
    }
   ],
   "source": [
    "'Brie' in quesos"
   ]
  },
  {
   "cell_type": "markdown",
   "metadata": {},
   "source": [
    "## Recorriendo una lista\n",
    "\n",
    "La forma más común de recorrer los elementos de una lista es con un bucle `for`. La sintaxis es la misma que para las cadenas:"
   ]
  },
  {
   "cell_type": "code",
   "execution_count": 8,
   "metadata": {},
   "outputs": [
    {
     "name": "stdout",
     "output_type": "stream",
     "text": [
      "Cheddar\n",
      "Edam\n",
      "Gouda\n"
     ]
    }
   ],
   "source": [
    "for queso in quesos:\n",
    "    print(queso)"
   ]
  },
  {
   "cell_type": "markdown",
   "metadata": {},
   "source": [
    "Esto funciona bien si solo necesita leer los elementos de la lista. Pero si desea escribir o actualizar los elementos, necesita los índices. Una forma común de hacerlo es combinar las funciones `range` y `len`:"
   ]
  },
  {
   "cell_type": "code",
   "execution_count": 9,
   "metadata": {},
   "outputs": [],
   "source": [
    "for i in range(len(numeros)):\n",
    "    numeros[i] = numeros[i] * 2"
   ]
  },
  {
   "cell_type": "markdown",
   "metadata": {},
   "source": [
    "Este bucle atraviesa la lista y actualiza cada elemento. `len` devuelve la cantidad de elementos en la lista. `range` devuelve una lista de índices de `0` a `n - 1` , donde `n` es la longitud de la lista. Cada vez que `i` pasa el ciclo, obtiene el índice del siguiente elemento. La declaración de asignación en el cuerpo utiliza `i` para leer el valor anterior del elemento y para asignar el nuevo valor.\n",
    "\n",
    "Un bucle `for` sobre una lista vacía nunca ejecuta el cuerpo:"
   ]
  },
  {
   "cell_type": "code",
   "execution_count": 10,
   "metadata": {},
   "outputs": [],
   "source": [
    "for x in vacio:\n",
    "    print('Esto nunca pasa.')"
   ]
  },
  {
   "cell_type": "markdown",
   "metadata": {},
   "source": [
    "Aunque una lista puede contener otra lista, la lista anidada todavía cuenta como un elemento único. La longitud de esta lista es cuatro:"
   ]
  },
  {
   "cell_type": "code",
   "execution_count": 11,
   "metadata": {},
   "outputs": [
    {
     "data": {
      "text/plain": [
       "['spam', 1, ['Brie', 'Roquefort', 'Pol le Veq'], [1, 2, 3]]"
      ]
     },
     "execution_count": 11,
     "metadata": {},
     "output_type": "execute_result"
    }
   ],
   "source": [
    "['spam', 1, ['Brie', 'Roquefort', 'Pol le Veq'], [1, 2, 3]]"
   ]
  },
  {
   "cell_type": "markdown",
   "metadata": {},
   "source": [
    "## Operaciones de listas\n",
    "\n",
    "El operador `+` concatena listas:"
   ]
  },
  {
   "cell_type": "code",
   "execution_count": 12,
   "metadata": {},
   "outputs": [
    {
     "name": "stdout",
     "output_type": "stream",
     "text": [
      "[1, 2, 3, 4, 5, 6]\n"
     ]
    }
   ],
   "source": [
    "a = [1, 2, 3]\n",
    "b = [4, 5, 6]\n",
    "c = a + b\n",
    "print(c)"
   ]
  },
  {
   "cell_type": "markdown",
   "metadata": {},
   "source": [
    "Del mismo modo, el operador `*` repite una lista un número determinado de veces:"
   ]
  },
  {
   "cell_type": "code",
   "execution_count": 13,
   "metadata": {},
   "outputs": [
    {
     "data": {
      "text/plain": [
       "[1, 2, 3, 1, 2, 3, 1, 2, 3, 1, 2, 3]"
      ]
     },
     "execution_count": 13,
     "metadata": {},
     "output_type": "execute_result"
    }
   ],
   "source": [
    "a * 4"
   ]
  },
  {
   "cell_type": "markdown",
   "metadata": {},
   "source": [
    "## Listar Slides\n",
    "\n",
    "El operador de slide también trabaja en listas:"
   ]
  },
  {
   "cell_type": "code",
   "execution_count": 14,
   "metadata": {},
   "outputs": [
    {
     "name": "stdout",
     "output_type": "stream",
     "text": [
      "['b', 'c']\n",
      "['a', 'b', 'c', 'd']\n",
      "['d', 'e', 'f']\n"
     ]
    }
   ],
   "source": [
    "t = ['a', 'b', 'c', 'd', 'e', 'f']\n",
    "print(t[1:3])\n",
    "print(t[:4])\n",
    "print(t[3:])"
   ]
  },
  {
   "cell_type": "markdown",
   "metadata": {},
   "source": [
    "Si omite el primer índice, el corte comienza al principio. Si omite el segundo, la porción llega al final. Entonces, si omites ambos, la porción es una copia de toda la lista."
   ]
  },
  {
   "cell_type": "code",
   "execution_count": 15,
   "metadata": {},
   "outputs": [
    {
     "data": {
      "text/plain": [
       "['a', 'b', 'c', 'd', 'e', 'f']"
      ]
     },
     "execution_count": 15,
     "metadata": {},
     "output_type": "execute_result"
    }
   ],
   "source": [
    "t[:]"
   ]
  },
  {
   "cell_type": "markdown",
   "metadata": {},
   "source": [
    "Como las listas son mutables, a menudo es útil hacer una copia antes de realizar operaciones que pliegue, hile o mutile listas.\n",
    "\n",
    "Un operador de slide o sector en el lado izquierdo de una tarea puede actualizar varios elementos:"
   ]
  },
  {
   "cell_type": "code",
   "execution_count": 16,
   "metadata": {},
   "outputs": [
    {
     "name": "stdout",
     "output_type": "stream",
     "text": [
      "['a', 'x', 'y', 'd', 'e', 'f']\n"
     ]
    }
   ],
   "source": [
    "t = ['a', 'b', 'c', 'd', 'e', 'f']\n",
    "t[1:3] = ['x', 'y']\n",
    "print(t)"
   ]
  },
  {
   "cell_type": "markdown",
   "metadata": {},
   "source": [
    "## Métodos de lista\n",
    "\n",
    "Python proporciona métodos que operan en listas. Por ejemplo, `append` agrega un nuevo elemento al final de una lista:"
   ]
  },
  {
   "cell_type": "code",
   "execution_count": 17,
   "metadata": {},
   "outputs": [
    {
     "name": "stdout",
     "output_type": "stream",
     "text": [
      "['a', 'b', 'c', 'd']\n"
     ]
    }
   ],
   "source": [
    "t = ['a', 'b', 'c']\n",
    "t.append('d')\n",
    "print(t)"
   ]
  },
  {
   "cell_type": "markdown",
   "metadata": {},
   "source": [
    "`extend` toma una lista como argumento y agrega todos los elementos:"
   ]
  },
  {
   "cell_type": "code",
   "execution_count": 18,
   "metadata": {},
   "outputs": [
    {
     "name": "stdout",
     "output_type": "stream",
     "text": [
      "['a', 'b', 'c', 'd', 'e']\n"
     ]
    }
   ],
   "source": [
    "t1 = ['a', 'b', 'c']\n",
    "t2 = ['d', 'e']\n",
    "t1.extend(t2)\n",
    "print(t1)"
   ]
  },
  {
   "cell_type": "markdown",
   "metadata": {},
   "source": [
    "Este ejemplo `t2` no se modifica.\n",
    "\n",
    "`sort` organiza los elementos de la lista de menor a mayor:"
   ]
  },
  {
   "cell_type": "code",
   "execution_count": 19,
   "metadata": {},
   "outputs": [],
   "source": [
    "t = ['d', 'c', 'e', 'b', 'a']"
   ]
  },
  {
   "cell_type": "markdown",
   "metadata": {},
   "source": [
    "La mayoría de los métodos de lista son nulos; ellos modifican la lista y regresan `None`. Si escribe accidentalmente `t = t.sort()`, se sentirá decepcionado con el resultado."
   ]
  },
  {
   "cell_type": "markdown",
   "metadata": {},
   "source": [
    "## Eliminando elementos\n",
    "\n",
    "Hay varias formas de eliminar elementos de una lista. Si conoce el índice del elemento que desea, puede usar pop:"
   ]
  },
  {
   "cell_type": "code",
   "execution_count": 20,
   "metadata": {},
   "outputs": [],
   "source": [
    "t = ['a', 'b', 'c']"
   ]
  },
  {
   "cell_type": "markdown",
   "metadata": {},
   "source": [
    "`pop` modifica la lista y devuelve el elemento que se eliminó. Si no proporciona un índice, elimina y devuelve el último elemento.\n",
    "\n",
    "Si no necesita el valor eliminado, puede usar el operador `del`:"
   ]
  },
  {
   "cell_type": "code",
   "execution_count": 21,
   "metadata": {},
   "outputs": [
    {
     "name": "stdout",
     "output_type": "stream",
     "text": [
      "['a', 'c']\n"
     ]
    }
   ],
   "source": [
    "t = ['a', 'b', 'c']\n",
    "del t[1]\n",
    "print(t)"
   ]
  },
  {
   "cell_type": "markdown",
   "metadata": {},
   "source": [
    "Si conoce el elemento que desea eliminar (pero no el índice), puede usar `remove`:"
   ]
  },
  {
   "cell_type": "code",
   "execution_count": 22,
   "metadata": {},
   "outputs": [
    {
     "name": "stdout",
     "output_type": "stream",
     "text": [
      "['a', 'c']\n"
     ]
    }
   ],
   "source": [
    "t = ['a', 'b', 'c']\n",
    "t.remove('b')\n",
    "print(t)"
   ]
  },
  {
   "cell_type": "markdown",
   "metadata": {},
   "source": [
    "El valor de retorno de `remove` es `None`.\n",
    "\n",
    "Para eliminar más de un elemento, puede usar del con un índice de sector:"
   ]
  },
  {
   "cell_type": "code",
   "execution_count": 23,
   "metadata": {},
   "outputs": [
    {
     "name": "stdout",
     "output_type": "stream",
     "text": [
      "['a', 'f']\n"
     ]
    }
   ],
   "source": [
    "t = ['a', 'b', 'c', 'd', 'e', 'f']\n",
    "del t[1:5]\n",
    "print(t)"
   ]
  },
  {
   "cell_type": "markdown",
   "metadata": {},
   "source": [
    "Como de costumbre, el corte selecciona todos los elementos hasta, pero sin incluir, el segundo índice."
   ]
  },
  {
   "cell_type": "markdown",
   "metadata": {},
   "source": [
    "## Listas y funciones\n",
    "\n",
    "Hay una serie de funciones integradas que se pueden usar en listas que le permiten mirar rápidamente una lista sin escribir sus propios bucles:"
   ]
  },
  {
   "cell_type": "code",
   "execution_count": 24,
   "metadata": {},
   "outputs": [
    {
     "name": "stdout",
     "output_type": "stream",
     "text": [
      "6\n",
      "74\n",
      "3\n",
      "154\n",
      "25.666666666666668\n"
     ]
    }
   ],
   "source": [
    "nums =  [3, 41, 12, 9, 74, 15]\n",
    "print(len(nums))\n",
    "print(max(nums))\n",
    "print(min(nums))\n",
    "print(sum(nums))\n",
    "print(sum(nums)/len(nums))"
   ]
  },
  {
   "cell_type": "markdown",
   "metadata": {},
   "source": [
    "La función `sum()` solo funciona cuando los elementos de la lista son números. Las otras funciones ( `max()`, `len()`, etc.) trabajan con listas de cadenas y otros tipos que pueden ser comparable.\n",
    "\n",
    "Podríamos reescribir un programa anterior que calculó el promedio de una lista de números ingresados por el usuario usando una lista.\n",
    "\n",
    "Primero, el programa para calcular un promedio sin una lista:"
   ]
  },
  {
   "cell_type": "code",
   "execution_count": 25,
   "metadata": {},
   "outputs": [
    {
     "name": "stdout",
     "output_type": "stream",
     "text": [
      "Ingresa un numero: 200\n",
      "Ingresa un numero: 45\n",
      "Ingresa un numero: 50\n",
      "Ingresa un numero: hecho\n",
      "promedio: 98.33333333333333\n"
     ]
    }
   ],
   "source": [
    "total = 0\n",
    "count = 0\n",
    "while (True):\n",
    "    inp = input('Ingresa un numero: ')\n",
    "    if inp == 'hecho': break\n",
    "    value = float(inp)\n",
    "    total = total + value\n",
    "    count = count + 1\n",
    "\n",
    "promedio = total / count\n",
    "print('promedio:', promedio)"
   ]
  },
  {
   "cell_type": "markdown",
   "metadata": {},
   "source": [
    "En este programa, tenemos las variables `count` y `total` para mantener el número y el total acumulado de los números del usuario, ya que repetidamente solicitamos un número al usuario. Simplemente podríamos recordar cada número cuando el usuario lo ingresó y usar funciones integradas para calcular la suma y el recuento al final."
   ]
  },
  {
   "cell_type": "code",
   "execution_count": 26,
   "metadata": {},
   "outputs": [
    {
     "name": "stdout",
     "output_type": "stream",
     "text": [
      "Ingresa un numero: 200\n",
      "Ingresa un numero: 45\n",
      "Ingresa un numero: 50\n",
      "Ingresa un numero: hecho\n",
      "Promedio: 98.33333333333333\n"
     ]
    }
   ],
   "source": [
    "numlist = list()\n",
    "while (True):\n",
    "    inp = input('Ingresa un numero: ')\n",
    "    if inp == 'hecho': break\n",
    "    valor = float(inp)\n",
    "    numlist.append(valor)\n",
    "\n",
    "promedio = sum(numlist) / len(numlist)\n",
    "print('Promedio:', promedio)"
   ]
  },
  {
   "cell_type": "markdown",
   "metadata": {},
   "source": [
    "Hacemos una lista vacía antes de que comience el ciclo, y luego cada vez que tenemos un número, lo agregamos a la lista. Al final del programa, simplemente calculamos la suma de los números en la lista y lo dividimos por el recuento de los números en la lista para llegar al promedio."
   ]
  },
  {
   "cell_type": "markdown",
   "metadata": {},
   "source": [
    "## Listas y cadenas\n",
    "\n",
    "Una cadena es una secuencia de caracteres y una lista es una secuencia de valores, pero una lista de caracteres no es lo mismo que una cadena. Para convertir de una cadena a una lista de caracteres, puede usar `list`:"
   ]
  },
  {
   "cell_type": "code",
   "execution_count": 27,
   "metadata": {},
   "outputs": [
    {
     "name": "stdout",
     "output_type": "stream",
     "text": [
      "['s', 'p', 'a', 'm']\n"
     ]
    }
   ],
   "source": [
    "s = 'spam'\n",
    "t = list(s)\n",
    "print(t)"
   ]
  },
  {
   "cell_type": "markdown",
   "metadata": {},
   "source": [
    "Debido a que `list` es el nombre de una función incorporada, debe evitar usarlo como un nombre de variable. También evita la letra `l` porque se parece demasiado al número 1. Entonces es por eso que uso `t`.\n",
    "\n",
    "La función `list` divide una cadena en letras individuales. Si quiere dividir una cadena en palabras, puede usar el método `split`:"
   ]
  },
  {
   "cell_type": "code",
   "execution_count": 28,
   "metadata": {},
   "outputs": [
    {
     "name": "stdout",
     "output_type": "stream",
     "text": [
      "['pining', 'for', 'the', 'fjords']\n",
      "the\n"
     ]
    }
   ],
   "source": [
    "s = 'pining for the fjords'\n",
    "t = s.split()\n",
    "print(t)\n",
    "print(t[2])"
   ]
  },
  {
   "cell_type": "markdown",
   "metadata": {},
   "source": [
    "Una vez que ha utilizado `split` para dividir la cadena en una lista de palabras, puede usar el operador de índice `[]` (corchete) para ver una palabra determinada en la lista.\n",
    "\n",
    "Puede llamar `split` con un argumento opcional llamado delimitador que especifica qué caracteres usar como límites de palabras. El siguiente ejemplo usa un guión como delimitador:"
   ]
  },
  {
   "cell_type": "code",
   "execution_count": 29,
   "metadata": {},
   "outputs": [
    {
     "data": {
      "text/plain": [
       "['spam', 'spam', 'spam']"
      ]
     },
     "execution_count": 29,
     "metadata": {},
     "output_type": "execute_result"
    }
   ],
   "source": [
    "s = 'spam-spam-spam'\n",
    "delimitador = '-'\n",
    "s.split(delimitador)"
   ]
  },
  {
   "cell_type": "markdown",
   "metadata": {},
   "source": [
    "`join` es el inverso de `split`. Toma una lista de cadenas y concatena los elementos. `join` es un método de cadena, por lo que debe invocarlo en el delimitador y pasar la lista como parámetro:"
   ]
  },
  {
   "cell_type": "code",
   "execution_count": 30,
   "metadata": {},
   "outputs": [
    {
     "data": {
      "text/plain": [
       "'pining for the fjords'"
      ]
     },
     "execution_count": 30,
     "metadata": {},
     "output_type": "execute_result"
    }
   ],
   "source": [
    "t = ['pining', 'for', 'the', 'fjords']\n",
    "delimitador = ' '\n",
    "delimitador.join(t)"
   ]
  },
  {
   "cell_type": "markdown",
   "metadata": {},
   "source": [
    "En este caso, el delimitador es un carácter de espacio, por lo que `join` pone un espacio entre las palabras. Para concatenar cadenas sin espacios, puede usar la cadena vacía, \"\", como delimitador."
   ]
  },
  {
   "cell_type": "markdown",
   "metadata": {},
   "source": [
    "## Análisis de cadenas\n",
    "\n",
    "Por lo general, cuando estamos leyendo un archivo, queremos hacer algo en las líneas que no sea simplemente imprimir toda la línea. A menudo queremos encontrar las \"líneas interesantes\" y luego analizar la línea para encontrar alguna parte interesante de la línea. ¿Qué pasaría si quisiéramos imprimir el día de la semana desde esas líneas que comienzan con \"From\"?\n",
    "\n",
    "    From stephen.marquard@uct.ac.zaSatJan 5 09:14:16 2008\n",
    "    \n",
    "El método `split` es muy efectivo cuando se enfrenta con este tipo de problema. Podemos escribir un pequeño programa que busque líneas donde la línea comienza con \"From\", `split` esas líneas, y luego imprimir la tercera palabra en la línea:"
   ]
  },
  {
   "cell_type": "code",
   "execution_count": 31,
   "metadata": {},
   "outputs": [
    {
     "name": "stdout",
     "output_type": "stream",
     "text": [
      "Sat\n",
      "Fri\n",
      "Fri\n",
      "Fri\n",
      "Fri\n",
      "Fri\n",
      "Fri\n",
      "Fri\n",
      "Fri\n",
      "Fri\n",
      "Fri\n",
      "Fri\n",
      "Fri\n",
      "Fri\n",
      "Fri\n",
      "Fri\n",
      "Fri\n",
      "Fri\n",
      "Fri\n",
      "Fri\n",
      "Fri\n",
      "Thu\n",
      "Thu\n",
      "Thu\n",
      "Thu\n",
      "Thu\n",
      "Thu\n"
     ]
    }
   ],
   "source": [
    "fhand = open('./codes/mbox-short.txt')\n",
    "for linea in fhand:\n",
    "    linea = linea.rstrip()\n",
    "    if not linea.startswith('From '): continue\n",
    "    palabras = linea.split()\n",
    "    print(palabras[2])"
   ]
  },
  {
   "cell_type": "code",
   "execution_count": 32,
   "metadata": {
    "scrolled": true
   },
   "outputs": [
    {
     "name": "stdout",
     "output_type": "stream",
     "text": [
      "Sat\n",
      "Fri\n",
      "Fri\n",
      "Fri\n",
      "Fri\n",
      "Fri\n",
      "Fri\n",
      "Fri\n",
      "Fri\n",
      "Fri\n",
      "Fri\n",
      "Fri\n",
      "Fri\n",
      "Fri\n",
      "Fri\n",
      "Fri\n",
      "Fri\n",
      "Fri\n",
      "Fri\n",
      "Fri\n",
      "Fri\n",
      "Thu\n",
      "Thu\n",
      "Thu\n",
      "Thu\n",
      "Thu\n",
      "Thu\n"
     ]
    }
   ],
   "source": [
    "fhand = open('./codes/mbox-short.txt')\n",
    "for linea in fhand:\n",
    "    linea = linea.rstrip()\n",
    "    if not linea.startswith('From '): continue\n",
    "    palabras = linea.split()\n",
    "    print(palabras[2])"
   ]
  },
  {
   "cell_type": "markdown",
   "metadata": {},
   "source": [
    "Aquí también usamos la forma contraída de la declaración `if` donde ponemos `continue` en la misma línea que el `if`. Esta forma contraída de las funciones `if` es la misma que si `continue` estuvieran en la línea siguiente y sangradas.\n",
    "\n",
    "Más tarde, aprenderemos técnicas cada vez más sofisticadas para elegir las líneas y cómo separamos esas líneas para encontrar la cantidad exacta de información que estamos buscando."
   ]
  },
  {
   "cell_type": "markdown",
   "metadata": {},
   "source": [
    "## Objetos y valores\n",
    "\n",
    "Si ejecutamos estas declaraciones de asignación:"
   ]
  },
  {
   "cell_type": "code",
   "execution_count": 33,
   "metadata": {},
   "outputs": [],
   "source": [
    "a = 'banana'\n",
    "b = 'banana'"
   ]
  },
  {
   "cell_type": "markdown",
   "metadata": {},
   "source": [
    "Sabemos que `a` y `b` ambos se refieren a una cadena, pero no sabemos si se refieren a la misma cadena. Hay dos estados posibles:\n",
    "\n",
    "![Figura 8.1](./figures/8.1.svg)\n",
    "<center><i>Figura 8.1: Variables y objetos</i><center>\n",
    "    \n",
    "En un caso, `a` y se `b` refieren a dos objetos diferentes que tienen el mismo valor. En el segundo caso, se refieren al mismo objeto.\n",
    "\n",
    "Para verificar si dos variables se refieren al mismo objeto, puede usar el operador `is`."
   ]
  },
  {
   "cell_type": "code",
   "execution_count": 34,
   "metadata": {},
   "outputs": [
    {
     "data": {
      "text/plain": [
       "True"
      ]
     },
     "execution_count": 34,
     "metadata": {},
     "output_type": "execute_result"
    }
   ],
   "source": [
    "a = 'banana'\n",
    "b = 'banana'\n",
    "a is b"
   ]
  },
  {
   "cell_type": "markdown",
   "metadata": {},
   "source": [
    "En este ejemplo, Python sólo creó un objeto de cadena, y ambos `a` y `b` se refieren a ella.\n",
    "\n",
    "Pero cuando creas dos listas, obtienes dos objetos:"
   ]
  },
  {
   "cell_type": "code",
   "execution_count": 35,
   "metadata": {},
   "outputs": [
    {
     "data": {
      "text/plain": [
       "False"
      ]
     },
     "execution_count": 35,
     "metadata": {},
     "output_type": "execute_result"
    }
   ],
   "source": [
    "a = [1, 2, 3]\n",
    "b = [1, 2, 3]\n",
    "a is b"
   ]
  },
  {
   "cell_type": "markdown",
   "metadata": {},
   "source": [
    "En este caso, diríamos que las dos listas son equivalentes, porque tienen los mismos elementos, pero no son idénticos, porque no son el mismo objeto. Si dos objetos son idénticos, también son equivalentes, pero si son equivalentes, no son necesariamente idénticos.\n",
    "\n",
    "Hasta ahora, hemos usado \"objeto\" y \"valor\" de forma intercambiable, pero es más preciso decir que un objeto tiene un valor. Si ejecuta `a = [1,2,3]`, `a` se refiere a un objeto de lista cuyo valor es una secuencia particular de elementos. Si otra lista tiene los mismos elementos, diríamos que tiene el mismo valor."
   ]
  },
  {
   "cell_type": "markdown",
   "metadata": {},
   "source": [
    "## Aliasing\n",
    "\n",
    "Si `a` se refiere a un objeto y lo asigna `b = a`, entonces ambas variables se refieren al mismo objeto:"
   ]
  },
  {
   "cell_type": "code",
   "execution_count": 36,
   "metadata": {},
   "outputs": [
    {
     "data": {
      "text/plain": [
       "True"
      ]
     },
     "execution_count": 36,
     "metadata": {},
     "output_type": "execute_result"
    }
   ],
   "source": [
    "a = [1, 2, 3]\n",
    "b = a\n",
    "b is a"
   ]
  },
  {
   "cell_type": "markdown",
   "metadata": {},
   "source": [
    "La asociación de una variable con un objeto se llama referencia . En este ejemplo, hay dos referencias al mismo objeto.\n",
    "\n",
    "Un objeto con más de una referencia tiene más de un nombre, por lo que decimos que el objeto tiene un alias.\n",
    "\n",
    "Si el objeto con alias es mutable, los cambios realizados con un alias afectan al otro:"
   ]
  },
  {
   "cell_type": "code",
   "execution_count": 37,
   "metadata": {},
   "outputs": [
    {
     "name": "stdout",
     "output_type": "stream",
     "text": [
      "[17, 2, 3]\n"
     ]
    }
   ],
   "source": [
    "b[0] = 17\n",
    "print(a)"
   ]
  },
  {
   "cell_type": "markdown",
   "metadata": {},
   "source": [
    "Aunque este comportamiento puede ser útil, es propenso a errores. En general, es más seguro evitar el *aliasing* cuando se trabaja con objetos mutables.\n",
    "\n",
    "Para objetos inmutables como cadenas, el aliasing no es un gran problema. En este ejemplo:"
   ]
  },
  {
   "cell_type": "code",
   "execution_count": 38,
   "metadata": {},
   "outputs": [],
   "source": [
    "a = 'banana'\n",
    "b = 'banana'"
   ]
  },
  {
   "cell_type": "markdown",
   "metadata": {},
   "source": [
    "casi nunca hace una diferencia si `a` y `b` se refieren a la misma cadena o no."
   ]
  },
  {
   "cell_type": "markdown",
   "metadata": {},
   "source": [
    "##  Listas como argumentos\n",
    "\n",
    "Cuando pasa una lista a una función, la función obtiene una referencia a la lista. Si la función modifica un parámetro de lista, la persona que llama ve el cambio. Por ejemplo, `eliminar_primero` elimina el primer elemento de una lista:"
   ]
  },
  {
   "cell_type": "code",
   "execution_count": 39,
   "metadata": {},
   "outputs": [],
   "source": [
    "def eliminar_primero(t):\n",
    "    del t[0]"
   ]
  },
  {
   "cell_type": "markdown",
   "metadata": {},
   "source": [
    "Así es como se usa:"
   ]
  },
  {
   "cell_type": "code",
   "execution_count": 40,
   "metadata": {},
   "outputs": [
    {
     "name": "stdout",
     "output_type": "stream",
     "text": [
      "['b', 'c']\n"
     ]
    }
   ],
   "source": [
    "letras = ['a', 'b', 'c']\n",
    "eliminar_primero(letras)\n",
    "print(letras)"
   ]
  },
  {
   "cell_type": "markdown",
   "metadata": {},
   "source": [
    "El parámetro `t` y la variable letras son alias para el mismo objeto.\n",
    "\n",
    "Es importante distinguir entre las operaciones que modifican las listas y las operaciones que crean nuevas listas. Por ejemplo, el método `append` modifica una lista, pero el operador `+` crea una nueva lista:"
   ]
  },
  {
   "cell_type": "code",
   "execution_count": 41,
   "metadata": {},
   "outputs": [
    {
     "name": "stdout",
     "output_type": "stream",
     "text": [
      "[1, 2, 3]\n",
      "None\n",
      "[1, 2, 3, 3]\n"
     ]
    },
    {
     "data": {
      "text/plain": [
       "False"
      ]
     },
     "execution_count": 41,
     "metadata": {},
     "output_type": "execute_result"
    }
   ],
   "source": [
    "t1 = [1, 2]\n",
    "t2 = t1.append(3)\n",
    "print(t1)\n",
    "print(t2)\n",
    "t3 = t1 + [3]\n",
    "print(t3)\n",
    "t2 is t3"
   ]
  },
  {
   "cell_type": "markdown",
   "metadata": {},
   "source": [
    "Esta diferencia es importante cuando escribe funciones que se supone que modifican listas. Por ejemplo, esta función no elimina el encabezado de una lista:"
   ]
  },
  {
   "cell_type": "code",
   "execution_count": 42,
   "metadata": {},
   "outputs": [],
   "source": [
    "def incorrecto_eliminar_primero(t):\n",
    "    t = t[1:] # INCORRECTO!"
   ]
  },
  {
   "cell_type": "markdown",
   "metadata": {},
   "source": [
    "El operador de división crea una lista nueva y la asignación hace que se `t` refiera a ella, pero nada de eso tiene ningún efecto en la lista que se pasó como argumento.\n",
    "\n",
    "Una alternativa es escribir una función que crea y devuelve una nueva lista. Por ejemplo, `tail` devuelve todo menos el primer elemento de una lista:"
   ]
  },
  {
   "cell_type": "code",
   "execution_count": 43,
   "metadata": {},
   "outputs": [],
   "source": [
    "def tail(t):\n",
    "    return t[1:]"
   ]
  },
  {
   "cell_type": "markdown",
   "metadata": {},
   "source": [
    "Esta función deja la lista original sin modificaciones. Así es como se usa:"
   ]
  },
  {
   "cell_type": "code",
   "execution_count": 44,
   "metadata": {},
   "outputs": [
    {
     "name": "stdout",
     "output_type": "stream",
     "text": [
      "['b', 'c']\n"
     ]
    }
   ],
   "source": [
    "letras = ['a', 'b', 'c']\n",
    "resto = tail(letras)\n",
    "print(resto)"
   ]
  },
  {
   "cell_type": "markdown",
   "metadata": {},
   "source": [
    "**Ejercicio 1:** Escribe una función llamada `chop` que toma una lista y la modifica, eliminando el primer y último elemento, y regresa `None`. Luego escriba una función llamada `middle` que toma una lista y devuelve una nueva lista que contiene todos menos el primer y último elemento."
   ]
  },
  {
   "cell_type": "markdown",
   "metadata": {},
   "source": [
    "## Depuración\n",
    "\n",
    "El uso descuidado de listas (y otros objetos mutables) puede llevar a largas horas de depuración. Aquí hay algunos errores comunes y formas de evitarlos:\n",
    "\n",
    "1. No olvide que la mayoría de los métodos de lista modifican el argumento y lo devuelven None. Esto es lo contrario de los métodos de cadena, que devuelven una nueva cadena y dejan el original solo.\n",
    "\n",
    "Si está acostumbrado a escribir código de cadena como este:\n",
    "\n",
    "    word = word.strip()\n",
    "\n",
    "Es tentador escribir un código de lista como este: \n",
    "    \n",
    "    t = t.sort () # ¡INCORRECTO!\n",
    "\n",
    "Debido a que las `sort` devoluelve `None`, es probable que la siguiente operación con la que realice falle.\n",
    "\n",
    "Antes de utilizar los métodos y operadores de lista, debe leer la documentación cuidadosamente y luego probarla en modo interactivo. Los métodos y operadores que las listas comparten con otras secuencias (como cadenas) están documentados en https://docs.python.org/2/library/stdtypes.html#string-methods. Los métodos y operadores que solo se aplican a secuencias mutables están documentados en\n",
    "https://docs.python.org/2/library/stdtypes.html#mutable-sequence-types.\n",
    "\n",
    "2. Elija una forma y quédese con esa.\n",
    "\n",
    "Parte del problema con las listas es que hay demasiadas formas de hacer las cosas. Por ejemplo, para eliminar un elemento de una lista, puede utilizar `pop`, `remove`, `del`, o incluso una rebanada de asignación.\n",
    "\n",
    "Para agregar un elemento, puede usar el método `append` o el operador `+`. Pero no olvides que estos son correctos:\n",
    "\n",
    "    t.append(x)\n",
    "    t = t + [x]\n",
    "\n",
    "Y estos son incorrectos:\n",
    "\n",
    "    t.append([x]) # INCORRECCTO!\n",
    "    t = t.append(x) # INCORRECCTO!\n",
    "    t + [x] # INCORRECCTO!\n",
    "    t = t + x # INCORRECCTO!\n",
    "\n",
    "Pruebe cada uno de estos ejemplos en modo interactivo para asegurarse de que entiende lo que hacen. Tenga en cuenta que solo el último causa un error de tiempo de ejecución; los otros tres son legales, pero hacen lo incorrecto.\n",
    "\n",
    "3. Haga copias para evitar el aliasing.\n",
    "\n",
    "Si desea utilizar un método como el `sort` que modifica el argumento, pero también necesita conservar la lista original, puede hacer una copia.\n",
    "\n",
    "    orig = t[:]\n",
    "    t.sort()\n",
    "    \n",
    "En este ejemplo, también podría usar la función incorporada `sorted`, que devuelve una nueva lista ordenada y deja solo el original. ¡Pero en ese caso debes evitar usar `sorted` como nombre de variable!\n",
    "\n",
    "4. Listas split, y archivos\n",
    "\n",
    "Cuando leemos y analizamos archivos, hay muchas oportunidades para encontrar información que puede bloquear nuestro programa, por lo que es una buena idea volver a visitar el patrón guardián cuando se trata de escribir programas que leen un archivo y buscan una \"aguja en el pajar\".\n",
    "\n",
    "Revisemos nuestro programa que está buscando el día de la semana en las líneas de nuestro archivo:\n",
    "\n",
    "    From stephen.marquard@uct.ac.zaSatJan 5 09:14:16 2008\n",
    "\n",
    "Ya que estamos dividiendo esta línea en palabras, podemos prescindir del uso de `startswithy` simplemente mirar la primera palabra de la línea para determinar si estamos interesados en la línea en absoluto. Podemos usar `continue` para omitir las líneas que no tienen \"From\" como la primera palabra de la siguiente manera:"
   ]
  },
  {
   "cell_type": "code",
   "execution_count": 45,
   "metadata": {},
   "outputs": [
    {
     "name": "stdout",
     "output_type": "stream",
     "text": [
      "Sat\n"
     ]
    },
    {
     "ename": "IndexError",
     "evalue": "list index out of range",
     "output_type": "error",
     "traceback": [
      "\u001b[1;31m---------------------------------------------------------------------------\u001b[0m",
      "\u001b[1;31mIndexError\u001b[0m                                Traceback (most recent call last)",
      "\u001b[1;32m<ipython-input-45-12becca63175>\u001b[0m in \u001b[0;36m<module>\u001b[1;34m\u001b[0m\n\u001b[0;32m      2\u001b[0m \u001b[1;32mfor\u001b[0m \u001b[0mlinea\u001b[0m \u001b[1;32min\u001b[0m \u001b[0mfhand\u001b[0m\u001b[1;33m:\u001b[0m\u001b[1;33m\u001b[0m\u001b[1;33m\u001b[0m\u001b[0m\n\u001b[0;32m      3\u001b[0m     \u001b[0mpalabras\u001b[0m \u001b[1;33m=\u001b[0m \u001b[0mlinea\u001b[0m\u001b[1;33m.\u001b[0m\u001b[0msplit\u001b[0m\u001b[1;33m(\u001b[0m\u001b[1;33m)\u001b[0m\u001b[1;33m\u001b[0m\u001b[1;33m\u001b[0m\u001b[0m\n\u001b[1;32m----> 4\u001b[1;33m     \u001b[1;32mif\u001b[0m \u001b[0mpalabras\u001b[0m\u001b[1;33m[\u001b[0m\u001b[1;36m0\u001b[0m\u001b[1;33m]\u001b[0m \u001b[1;33m!=\u001b[0m \u001b[1;34m'From'\u001b[0m \u001b[1;33m:\u001b[0m \u001b[1;32mcontinue\u001b[0m\u001b[1;33m\u001b[0m\u001b[1;33m\u001b[0m\u001b[0m\n\u001b[0m\u001b[0;32m      5\u001b[0m     \u001b[0mprint\u001b[0m\u001b[1;33m(\u001b[0m\u001b[0mpalabras\u001b[0m\u001b[1;33m[\u001b[0m\u001b[1;36m2\u001b[0m\u001b[1;33m]\u001b[0m\u001b[1;33m)\u001b[0m\u001b[1;33m\u001b[0m\u001b[1;33m\u001b[0m\u001b[0m\n",
      "\u001b[1;31mIndexError\u001b[0m: list index out of range"
     ]
    }
   ],
   "source": [
    "fhand = open('./codes/mbox-short.txt')\n",
    "for linea in fhand:\n",
    "    palabras = linea.split()\n",
    "    if palabras[0] != 'From' : continue\n",
    "    print(palabras[2])"
   ]
  },
  {
   "cell_type": "markdown",
   "metadata": {},
   "source": [
    "Esto parece mucho más simple y ni siquiera tenemos que hacer `rstrip` para eliminar la nueva línea al final del archivo. Pero es mejor?\n",
    "\n",
    "Funciona y vemos el día desde la primera línea `Sat`, pero luego el programa falla con un IndexError. ¿Qué salió mal? ¿Qué datos desordenados causaron que fallara nuestro programa elegante, inteligente y muy Pythonic?\n",
    "\n",
    "Puede mirarlo por un largo tiempo y resolverlo o pedir ayuda a alguien, pero el enfoque más rápido e inteligente es agregar una declaración `print`. El mejor lugar para agregar la declaración de impresión es justo antes de la línea donde falló el programa e imprimir los datos que parecen estar causando la falla.\n",
    "\n",
    "Ahora bien, este enfoque puede generar muchas líneas de salida, pero al menos tendrá alguna pista sobre el problema en cuestión. Así que agregamos una impresión de la variable `palabas` justo antes de la línea cinco. Incluso agregamos un prefijo *\"Debug:\"* a la línea para que podamos mantener nuestra salida regular separada de nuestra salida de depuración."
   ]
  },
  {
   "cell_type": "code",
   "execution_count": 46,
   "metadata": {
    "scrolled": true
   },
   "outputs": [
    {
     "name": "stdout",
     "output_type": "stream",
     "text": [
      "Debug: ['From', 'stephen.marquard@uct.ac.za', 'Sat', 'Jan', '5', '09:14:16', '2008']\n",
      "Sat\n",
      "Debug: ['Return-Path:', '<postmaster@collab.sakaiproject.org>']\n",
      "Debug: ['Received:', 'from', 'murder', '(mail.umich.edu', '[141.211.14.90])']\n",
      "Debug: ['by', 'frankenstein.mail.umich.edu', '(Cyrus', 'v2.3.8)', 'with', 'LMTPA;']\n",
      "Debug: ['Sat,', '05', 'Jan', '2008', '09:14:16', '-0500']\n",
      "Debug: ['X-Sieve:', 'CMU', 'Sieve', '2.3']\n",
      "Debug: ['Received:', 'from', 'murder', '([unix', 'socket])']\n",
      "Debug: ['by', 'mail.umich.edu', '(Cyrus', 'v2.2.12)', 'with', 'LMTPA;']\n",
      "Debug: ['Sat,', '05', 'Jan', '2008', '09:14:16', '-0500']\n",
      "Debug: ['Received:', 'from', 'holes.mr.itd.umich.edu', '(holes.mr.itd.umich.edu', '[141.211.14.79])']\n",
      "Debug: ['by', 'flawless.mail.umich.edu', '()', 'with', 'ESMTP', 'id', 'm05EEFR1013674;']\n",
      "Debug: ['Sat,', '5', 'Jan', '2008', '09:14:15', '-0500']\n",
      "Debug: ['Received:', 'FROM', 'paploo.uhi.ac.uk', '(app1.prod.collab.uhi.ac.uk', '[194.35.219.184])']\n",
      "Debug: ['BY', 'holes.mr.itd.umich.edu', 'ID', '477F90B0.2DB2F.12494', ';']\n",
      "Debug: ['5', 'Jan', '2008', '09:14:10', '-0500']\n",
      "Debug: ['Received:', 'from', 'paploo.uhi.ac.uk', '(localhost', '[127.0.0.1])']\n",
      "Debug: ['by', 'paploo.uhi.ac.uk', '(Postfix)', 'with', 'ESMTP', 'id', '5F919BC2F2;']\n",
      "Debug: ['Sat,', '5', 'Jan', '2008', '14:10:05', '+0000', '(GMT)']\n",
      "Debug: ['Message-ID:', '<200801051412.m05ECIaH010327@nakamura.uits.iupui.edu>']\n",
      "Debug: ['Mime-Version:', '1.0']\n",
      "Debug: ['Content-Transfer-Encoding:', '7bit']\n",
      "Debug: ['Received:', 'from', 'prod.collab.uhi.ac.uk', '([194.35.219.182])']\n",
      "Debug: ['by', 'paploo.uhi.ac.uk', '(JAMES', 'SMTP', 'Server', '2.1.3)', 'with', 'SMTP', 'ID', '899']\n",
      "Debug: ['for', '<source@collab.sakaiproject.org>;']\n",
      "Debug: ['Sat,', '5', 'Jan', '2008', '14:09:50', '+0000', '(GMT)']\n",
      "Debug: ['Received:', 'from', 'nakamura.uits.iupui.edu', '(nakamura.uits.iupui.edu', '[134.68.220.122])']\n",
      "Debug: ['by', 'shmi.uhi.ac.uk', '(Postfix)', 'with', 'ESMTP', 'id', 'A215243002']\n",
      "Debug: ['for', '<source@collab.sakaiproject.org>;', 'Sat,', '5', 'Jan', '2008', '14:13:33', '+0000', '(GMT)']\n",
      "Debug: ['Received:', 'from', 'nakamura.uits.iupui.edu', '(localhost', '[127.0.0.1])']\n",
      "Debug: ['by', 'nakamura.uits.iupui.edu', '(8.12.11.20060308/8.12.11)', 'with', 'ESMTP', 'id', 'm05ECJVp010329']\n",
      "Debug: ['for', '<source@collab.sakaiproject.org>;', 'Sat,', '5', 'Jan', '2008', '09:12:19', '-0500']\n",
      "Debug: ['Received:', '(from', 'apache@localhost)']\n",
      "Debug: ['by', 'nakamura.uits.iupui.edu', '(8.12.11.20060308/8.12.11/Submit)', 'id', 'm05ECIaH010327']\n",
      "Debug: ['for', 'source@collab.sakaiproject.org;', 'Sat,', '5', 'Jan', '2008', '09:12:18', '-0500']\n",
      "Debug: ['Date:', 'Sat,', '5', 'Jan', '2008', '09:12:18', '-0500']\n",
      "Debug: ['X-Authentication-Warning:', 'nakamura.uits.iupui.edu:', 'apache', 'set', 'sender', 'to', 'stephen.marquard@uct.ac.za', 'using', '-f']\n",
      "Debug: ['To:', 'source@collab.sakaiproject.org']\n",
      "Debug: ['From:', 'stephen.marquard@uct.ac.za']\n",
      "Debug: ['Subject:', '[sakai]', 'svn', 'commit:', 'r39772', '-', 'content/branches/sakai_2-5-x/content-impl/impl/src/java/org/sakaiproject/content/impl']\n",
      "Debug: ['X-Content-Type-Outer-Envelope:', 'text/plain;', 'charset=UTF-8']\n",
      "Debug: ['X-Content-Type-Message-Body:', 'text/plain;', 'charset=UTF-8']\n",
      "Debug: ['Content-Type:', 'text/plain;', 'charset=UTF-8']\n",
      "Debug: ['X-DSPAM-Result:', 'Innocent']\n",
      "Debug: ['X-DSPAM-Processed:', 'Sat', 'Jan', '5', '09:14:16', '2008']\n",
      "Debug: ['X-DSPAM-Confidence:', '0.8475']\n",
      "Debug: ['X-DSPAM-Probability:', '0.0000']\n",
      "Debug: []\n"
     ]
    },
    {
     "ename": "IndexError",
     "evalue": "list index out of range",
     "output_type": "error",
     "traceback": [
      "\u001b[1;31m---------------------------------------------------------------------------\u001b[0m",
      "\u001b[1;31mIndexError\u001b[0m                                Traceback (most recent call last)",
      "\u001b[1;32m<ipython-input-46-7b9af6a45e6f>\u001b[0m in \u001b[0;36m<module>\u001b[1;34m\u001b[0m\n\u001b[0;32m      3\u001b[0m     \u001b[0mpalabras\u001b[0m \u001b[1;33m=\u001b[0m \u001b[0mlinea\u001b[0m\u001b[1;33m.\u001b[0m\u001b[0msplit\u001b[0m\u001b[1;33m(\u001b[0m\u001b[1;33m)\u001b[0m\u001b[1;33m\u001b[0m\u001b[1;33m\u001b[0m\u001b[0m\n\u001b[0;32m      4\u001b[0m     \u001b[0mprint\u001b[0m\u001b[1;33m(\u001b[0m\u001b[1;34m'Debug:'\u001b[0m\u001b[1;33m,\u001b[0m \u001b[0mpalabras\u001b[0m\u001b[1;33m)\u001b[0m\u001b[1;33m\u001b[0m\u001b[1;33m\u001b[0m\u001b[0m\n\u001b[1;32m----> 5\u001b[1;33m     \u001b[1;32mif\u001b[0m \u001b[0mpalabras\u001b[0m\u001b[1;33m[\u001b[0m\u001b[1;36m0\u001b[0m\u001b[1;33m]\u001b[0m \u001b[1;33m!=\u001b[0m \u001b[1;34m'From'\u001b[0m \u001b[1;33m:\u001b[0m \u001b[1;32mcontinue\u001b[0m\u001b[1;33m\u001b[0m\u001b[1;33m\u001b[0m\u001b[0m\n\u001b[0m\u001b[0;32m      6\u001b[0m     \u001b[0mprint\u001b[0m\u001b[1;33m(\u001b[0m\u001b[0mpalabras\u001b[0m\u001b[1;33m[\u001b[0m\u001b[1;36m2\u001b[0m\u001b[1;33m]\u001b[0m\u001b[1;33m)\u001b[0m\u001b[1;33m\u001b[0m\u001b[1;33m\u001b[0m\u001b[0m\n",
      "\u001b[1;31mIndexError\u001b[0m: list index out of range"
     ]
    }
   ],
   "source": [
    "fhand = open('./codes/mbox-short.txt')\n",
    "for linea in fhand:\n",
    "    palabras = linea.split()\n",
    "    print('Debug:', palabras)\n",
    "    if palabras[0] != 'From' : continue\n",
    "    print(palabras[2])"
   ]
  },
  {
   "cell_type": "markdown",
   "metadata": {},
   "source": [
    "Cuando ejecutamos el programa, una gran cantidad de resultados se desplaza fuera de la pantalla, pero al final, vemos nuestro resultado de depuración y el rastreo para que sepamos lo que sucedió justo antes del rastreo.\n",
    "\n",
    "Cada línea de depuración imprime la lista de palabras que obtenemos cuando `split` convierte la línea en palabras. Cuando el programa falla, la lista de palabras está vacía []. Si abrimos el archivo en un editor de texto y miramos el archivo, en ese punto se ve así:\n",
    "\n",
    "    X-DSPAM-Result: Innocent\n",
    "    X-DSPAM-Processed: Sat Jan 5 09:14:16 2008\n",
    "    X-DSPAM-Confidence: 0.8475\n",
    "    X-DSPAM-Probability: 0.0000\n",
    "\n",
    "    Details: http://source.sakaiproject.org/viewsvn/?view=rev&rev=39772\n",
    "\n",
    "¡El error ocurre cuando nuestro programa encuentra una línea en blanco! Por supuesto, hay \"cero palabras\" en una línea en blanco. ¿Por qué no pensamos en eso cuando escribimos el código? Cuando el código busca la primera palabra `palabras[0]` para verificar si coincide con \"From\", obtenemos un error de \"índice fuera de rango\".\n",
    "\n",
    "Por supuesto, este es el lugar perfecto para agregar un código de guardián para evitar verificar la primera palabra si la primera palabra no está allí. Hay muchas formas de proteger este código; elegiremos verificar el número de palabras que tenemos antes de mirar la primera palabra:"
   ]
  },
  {
   "cell_type": "code",
   "execution_count": 47,
   "metadata": {
    "scrolled": true
   },
   "outputs": [
    {
     "name": "stdout",
     "output_type": "stream",
     "text": [
      "Sat\n",
      "Fri\n",
      "Fri\n",
      "Fri\n",
      "Fri\n",
      "Fri\n",
      "Fri\n",
      "Fri\n",
      "Fri\n",
      "Fri\n",
      "Fri\n",
      "Fri\n",
      "Fri\n",
      "Fri\n",
      "Fri\n",
      "Fri\n",
      "Fri\n",
      "Fri\n",
      "Fri\n",
      "Fri\n",
      "Fri\n",
      "Thu\n",
      "Thu\n",
      "Thu\n",
      "Thu\n",
      "Thu\n",
      "Thu\n"
     ]
    }
   ],
   "source": [
    "fhand = open('./codes/mbox-short.txt')\n",
    "count = 0\n",
    "for linea in fhand:\n",
    "    palabras = linea.split()\n",
    "    # print('Debug:', palabras)\n",
    "    if len(palabras) == 0 : continue\n",
    "    if palabras[0] != 'From' : continue\n",
    "    print(palabras[2])"
   ]
  },
  {
   "cell_type": "markdown",
   "metadata": {},
   "source": [
    "Primero comentamos la declaración de impresión de depuración en lugar de eliminarla, en caso de que nuestra modificación falle y tengamos que volver a depurarla. Luego agregamos una declaración de guardián que verifica si tenemos cero palabras, y si es así, usamos `continue` para pasar a la siguiente línea del archivo.\n",
    "\n",
    "Podemos pensar que las dos declaraciones `continue` nos ayudan a refinar el conjunto de líneas que son \"interesantes\" para nosotros y que queremos procesar un poco más. Una línea que no tiene palabras no es \"interesante\" para nosotros, así que saltamos a la siguiente línea. Una línea que no tiene \"From\" como su primera palabra no nos interesa, así que la omitimos.\n",
    "\n",
    "El programa modificado se ejecuta correctamente, por lo que tal vez sea correcto. Nuestra declaración de guardián se asegura de que `palabras[0]` nunca fallará, pero tal vez no sea suficiente. Cuando estamos programando, siempre debemos pensar: \"¿Qué podría salir mal?\"\n",
    "\n",
    "**Ejercicio 2:** averigüe qué línea del programa anterior aún no está protegida adecuadamente. Vea si puede construir un archivo de texto que haga que el programa falle y luego modifique el programa para que la línea esté debidamente protegida y pruébelo para asegurarse de que maneja su nuevo archivo de texto.\n",
    "\n",
    "**Ejercicio 3:** Reescribe el código del guardián en el ejemplo anterior sin dos declaraciones if. En su lugar, use una expresión lógica compuesta utilizando el operador lógico `and` con una sola instrucción `if`."
   ]
  },
  {
   "cell_type": "markdown",
   "metadata": {},
   "source": [
    "## Glosario\n",
    "\n",
    "* **aliasing:** Una circunstancia donde dos o más variables se refieren al mismo objeto.\n",
    "* **delimitador:** Un caracter o cadena utilizada para indicar dónde se debe dividir una cadena.\n",
    "* **elemento:** Uno de los valores en una lista (u otra secuencia); también llamados ítems.\n",
    "* **equivalente:** Tienen el mismo valor\n",
    "* **índice:** Un valor entero que indica un elemento en una lista.\n",
    "* **idéntico:** Siendo el mismo objeto (lo que implica equivalencia).\n",
    "* **lista:** Una secuencia de valores.\n",
    "* **lista transversal:** El acceso secuencial de cada elemento en una lista.\n",
    "* **lista anidada:** Una lista que es un elemento de otra lista.\n",
    "* **objeto:** Algo a lo que una variable puede referirse. Un objeto tiene un tipo y un valor.\n",
    "* **referencia:** La asociación entre una variable y su valor."
   ]
  },
  {
   "cell_type": "markdown",
   "metadata": {},
   "source": [
    "## Ejercicios\n",
    "\n",
    "**Ejercicio 4:** descargue una copia del archivo de www.py4e.com/code3/romeo.txt. Escriba un programa para abrir el archivo `romeo.txt` y léalo línea por línea. Para cada línea, divide la línea en una lista de palabras usando la función `split`. Para cada palabra, verifique si la palabra ya está en una lista. Si la palabra no está en la lista, agréguela a la lista. Cuando el programa finalice, ordene e imprima las palabras resultantes en orden alfabético.\n",
    "\n",
    "    Ingresa el nomre del archivo: romeo.txt\n",
    "    ['Arise', 'But', 'It', 'Juliet', 'Who', 'already',\n",
    "    'and', 'breaks', 'east', 'envious', 'fair', 'grief',\n",
    "    'is', 'kill', 'light', 'moon', 'pale', 'sick', 'soft',\n",
    "    'sun', 'the', 'through', 'what', 'window',\n",
    "    'with', 'yonder']\n",
    "\n",
    "**Ejercicio 5:** Escriba un programa para leer los datos del buzón y cuando encuentre una línea que comience con \"From\", dividirá la línea en palabras usando la función `split`. Estamos interesados en quién envió el mensaje, que es la segunda palabra en la línea From.\n",
    "\n",
    "    From stephen.marquard@uct.ac.za Sat Jan 5 09:14:16 2008\n",
    "\n",
    "Analizará la línea `From` e imprimirá la segunda palabra para cada línea `From`, luego también contará el número de líneas `From` (no de `From:`) e imprimirá un conteo al final.\n",
    "\n",
    "Este es un buen resultado de muestra con algunas líneas eliminadas:\n",
    "\n",
    "    python fromcount.py\n",
    "    Enter a file name: mbox-short.txt\n",
    "    stephen.marquard@uct.ac.za\n",
    "    louis@media.berkeley.edu\n",
    "    zqian@umich.edu\n",
    "    \n",
    "    [...some output removed...]\n",
    "    \n",
    "    ray@media.berkeley.edu\n",
    "    cwen@iupui.edu\n",
    "    cwen@iupui.edu\n",
    "    cwen@iupui.edu\n",
    "    There were 27 lines in the file with From as the first word\n",
    "\n",
    "**Ejercicio 6:** vuelva a escribir el programa que solicita al usuario una lista de números e imprime el máximo y mínimo de los números al final cuando el usuario ingresa \"hecho\". Escriba el programa para almacenar los números que ingresa el usuario en una lista y use las funciones `max()` y `min()` para calcular los números máximos y mínimos una vez que se complete el ciclo.\n",
    "\n",
    "    Ingrese un numero: 6\n",
    "    Ingrese un numero: 2\n",
    "    Ingrese un numero: 9\n",
    "    Ingrese un numero: 3\n",
    "    Ingrese un numero: 5\n",
    "    Ingrese un numero: hecho\n",
    "    Maximo: 9.0\n",
    "    Minimo: 2.0"
   ]
  },
  {
   "cell_type": "markdown",
   "metadata": {},
   "source": [
    "<!--NAVIGATION-->\n",
    "| [Indice](indice.ipynb) | \n",
    "\n",
    "< [Capítulo 7 - Archivos](cap07.ipynb) | [Capítulo 9 - Diccionarios](cap09.ipynb) >"
   ]
  }
 ],
 "metadata": {
  "kernelspec": {
   "display_name": "Python 3",
   "language": "python",
   "name": "python3"
  },
  "language_info": {
   "codemirror_mode": {
    "name": "ipython",
    "version": 3
   },
   "file_extension": ".py",
   "mimetype": "text/x-python",
   "name": "python",
   "nbconvert_exporter": "python",
   "pygments_lexer": "ipython3",
   "version": "3.7.3"
  },
  "varInspector": {
   "cols": {
    "lenName": 16,
    "lenType": 16,
    "lenVar": 40
   },
   "kernels_config": {
    "python": {
     "delete_cmd_postfix": "",
     "delete_cmd_prefix": "del ",
     "library": "var_list.py",
     "varRefreshCmd": "print(var_dic_list())"
    },
    "r": {
     "delete_cmd_postfix": ") ",
     "delete_cmd_prefix": "rm(",
     "library": "var_list.r",
     "varRefreshCmd": "cat(var_dic_list()) "
    }
   },
   "types_to_exclude": [
    "module",
    "function",
    "builtin_function_or_method",
    "instance",
    "_Feature"
   ],
   "window_display": false
  }
 },
 "nbformat": 4,
 "nbformat_minor": 2
}
