{
 "cells": [
  {
   "cell_type": "markdown",
   "metadata": {},
   "source": [
    "<!--BOOK_INFORMATION-->\n",
    "<img align=\"left\" style=\"padding-right:10px;\" src=\"./figures/cover-small.jpg\">\n",
    "\n",
    "*Este libro es una versión al español de [Python for Everybody](https://www.py4e.com/) escrito por el [Dr. Charles R. Severance](http://www.dr-chuck.com/); este contenido esta disponible en [GitHub](https://github.com/csev/py4e).*\n",
    "\n",
    "Detalles de Copyright\n",
    "\n",
    "*Copyright ~ 2009- Charles Severance.\n",
    "Este trabajo está registrado bajo una Licencia Creative Commons AttributionNonCommercial-ShareAlike 3.0 [CC BY-NC-SA](https://creativecommons.org/licenses/by-nc-sa/3.0/).*"
   ]
  },
  {
   "cell_type": "markdown",
   "metadata": {},
   "source": [
    "<!--NAVIGATION-->\n",
    "| [Indice](indice.ipynb) | \n",
    "\n",
    "< [Capítulo 8 - Listas](cap08.ipynb) | [Capítulo 10 - Tuplas](cap10.ipynb) >"
   ]
  },
  {
   "cell_type": "markdown",
   "metadata": {},
   "source": [
    "# Capítulo 9 - Diccionarios"
   ]
  },
  {
   "cell_type": "markdown",
   "metadata": {},
   "source": [
    "Un diccionario es como una lista, pero más general. En una lista, las posiciones del índice deben ser enteros; en un diccionario, los índices pueden ser (casi) cualquier tipo.\n",
    "\n",
    "Puede pensar en un diccionario como un mapeo entre un conjunto de índices (que se llaman claves) y un conjunto de valores. Cada clave se asigna a un valor. La asociación de una clave y un valor se denomina *par clave-valor* o, a veces, un elemento.\n",
    "\n",
    "Como ejemplo, construiremos un diccionario que correlacione palabras de inglés a español, por lo que las claves y los valores son todas las cadenas.\n",
    "\n",
    "La función `dict` crea un nuevo diccionario sin elementos. Debido a que `dict` es el nombre de una función incorporada, debe evitar usarlo como un nombre de variable."
   ]
  },
  {
   "cell_type": "code",
   "execution_count": 1,
   "metadata": {},
   "outputs": [
    {
     "name": "stdout",
     "output_type": "stream",
     "text": [
      "{}\n"
     ]
    }
   ],
   "source": [
    "eng2sp = dict()\n",
    "print(eng2sp)"
   ]
  },
  {
   "cell_type": "markdown",
   "metadata": {},
   "source": [
    "Los corchetes, `{}` representan un diccionario vacío. Para agregar elementos al diccionario, puede usar corchetes:"
   ]
  },
  {
   "cell_type": "code",
   "execution_count": 2,
   "metadata": {},
   "outputs": [],
   "source": [
    "eng2sp['one'] = 'uno'"
   ]
  },
  {
   "cell_type": "markdown",
   "metadata": {},
   "source": [
    "Esta línea crea un elemento que se correlaciona desde la clave 'one' con el valor \"uno\". Si imprimimos el diccionario nuevamente, vemos un par clave-valor con dos puntos entre la clave y el valor:"
   ]
  },
  {
   "cell_type": "code",
   "execution_count": 3,
   "metadata": {},
   "outputs": [
    {
     "name": "stdout",
     "output_type": "stream",
     "text": [
      "{'one': 'uno'}\n"
     ]
    }
   ],
   "source": [
    "print(eng2sp)"
   ]
  },
  {
   "cell_type": "markdown",
   "metadata": {},
   "source": [
    "Este formato de salida también es un formato de entrada. Por ejemplo, puede crear un nuevo diccionario con tres elementos. Pero si imprime `eng2sp`, se sorprenderá:"
   ]
  },
  {
   "cell_type": "code",
   "execution_count": 4,
   "metadata": {},
   "outputs": [
    {
     "name": "stdout",
     "output_type": "stream",
     "text": [
      "{'one': 'uno', 'two': 'dos', 'three': 'tres'}\n"
     ]
    }
   ],
   "source": [
    "eng2sp = {'one': 'uno', 'two': 'dos', 'three': 'tres'}\n",
    "print(eng2sp)"
   ]
  },
  {
   "cell_type": "markdown",
   "metadata": {},
   "source": [
    "En general, el orden de los elementos en un diccionario es impredecible.\n",
    "\n",
    "Pero eso no es un problema porque los elementos de un diccionario nunca se indexan con índices enteros. En cambio, usa las claves para buscar los valores correspondientes:"
   ]
  },
  {
   "cell_type": "code",
   "execution_count": 5,
   "metadata": {},
   "outputs": [
    {
     "name": "stdout",
     "output_type": "stream",
     "text": [
      "dos\n"
     ]
    }
   ],
   "source": [
    "print(eng2sp['two'])"
   ]
  },
  {
   "cell_type": "markdown",
   "metadata": {},
   "source": [
    "La clave `'two'` siempre se asigna al valor `'dos'`, por lo que el orden de los elementos no importa.\n",
    "\n",
    "Si la clave no está en el diccionario, obtienes una excepción:"
   ]
  },
  {
   "cell_type": "code",
   "execution_count": 6,
   "metadata": {},
   "outputs": [
    {
     "ename": "KeyError",
     "evalue": "'four'",
     "output_type": "error",
     "traceback": [
      "\u001b[1;31m---------------------------------------------------------------------------\u001b[0m",
      "\u001b[1;31mKeyError\u001b[0m                                  Traceback (most recent call last)",
      "\u001b[1;32m<ipython-input-6-0c5b4554d872>\u001b[0m in \u001b[0;36m<module>\u001b[1;34m\u001b[0m\n\u001b[1;32m----> 1\u001b[1;33m \u001b[0mprint\u001b[0m\u001b[1;33m(\u001b[0m\u001b[0meng2sp\u001b[0m\u001b[1;33m[\u001b[0m\u001b[1;34m'four'\u001b[0m\u001b[1;33m]\u001b[0m\u001b[1;33m)\u001b[0m\u001b[1;33m\u001b[0m\u001b[1;33m\u001b[0m\u001b[0m\n\u001b[0m",
      "\u001b[1;31mKeyError\u001b[0m: 'four'"
     ]
    }
   ],
   "source": [
    "print(eng2sp['four'])"
   ]
  },
  {
   "cell_type": "markdown",
   "metadata": {},
   "source": [
    "La función `len` funciona en diccionarios; devuelve el número de pares clave-valor:"
   ]
  },
  {
   "cell_type": "code",
   "execution_count": 7,
   "metadata": {},
   "outputs": [
    {
     "data": {
      "text/plain": [
       "3"
      ]
     },
     "execution_count": 7,
     "metadata": {},
     "output_type": "execute_result"
    }
   ],
   "source": [
    " len(eng2sp)"
   ]
  },
  {
   "cell_type": "markdown",
   "metadata": {},
   "source": [
    "El operador in trabaja en diccionarios; le dice si algo aparece como una clave en el diccionario (aparecer como un valor no es lo suficientemente bueno)."
   ]
  },
  {
   "cell_type": "code",
   "execution_count": 8,
   "metadata": {},
   "outputs": [
    {
     "data": {
      "text/plain": [
       "True"
      ]
     },
     "execution_count": 8,
     "metadata": {},
     "output_type": "execute_result"
    }
   ],
   "source": [
    "'one' in eng2sp"
   ]
  },
  {
   "cell_type": "code",
   "execution_count": 9,
   "metadata": {},
   "outputs": [
    {
     "data": {
      "text/plain": [
       "False"
      ]
     },
     "execution_count": 9,
     "metadata": {},
     "output_type": "execute_result"
    }
   ],
   "source": [
    " 'uno' in eng2sp"
   ]
  },
  {
   "cell_type": "markdown",
   "metadata": {},
   "source": [
    "Para ver si algo aparece como un valor en un diccionario, puede usar el método `values`, que devuelve los valores como una lista, y luego usar el operador `in`:"
   ]
  },
  {
   "cell_type": "code",
   "execution_count": 10,
   "metadata": {},
   "outputs": [
    {
     "data": {
      "text/plain": [
       "True"
      ]
     },
     "execution_count": 10,
     "metadata": {},
     "output_type": "execute_result"
    }
   ],
   "source": [
    "vals = list(eng2sp.values())\n",
    "'uno' in vals"
   ]
  },
  {
   "cell_type": "markdown",
   "metadata": {},
   "source": [
    "El operador `in` usa diferentes algoritmos para listas y diccionarios. Para las listas, usa un algoritmo de búsqueda lineal. A medida que la lista se alarga, el tiempo de búsqueda se alarga en proporción directa a la longitud de la lista. Para los diccionarios, Python usa un algoritmo llamado tabla hash que tiene una propiedad notable: el operador `in` tarda aproximadamente la misma cantidad de tiempo sin importar cuántos elementos haya en un diccionario. No explicaré por qué las funciones hash son tan mágicas, pero puedes leer más sobre esto en www.wikipedia.org/wiki/Hash_table.\n",
    "\n",
    "**Ejercicio 1:** Escriba un programa que lea las palabras en `words.txt` y las almacene como claves en un diccionario. No importa cuáles sean los valores. Luego puede usar el operador `in` como una forma rápida de verificar si una cadena está en el diccionario."
   ]
  },
  {
   "cell_type": "markdown",
   "metadata": {},
   "source": [
    "## Diccionario como una lista de contenedores\n",
    "\n",
    "Supongamos que le dan una cadena y quiere contar cuántas veces aparece cada letra. Hay varias formas en que puede hacerlo:\n",
    "1. Puede crear 26 variables, una para cada letra del alfabeto. Luego puede recorrer la cadena y, para cada carácter, incrementar el contador correspondiente, probablemente utilizando un condicional encadenado.\n",
    "2. Podrías crear una lista con 26 elementos. Luego puede convertir cada carácter en un número (usando la función incorporada ord), usar el número como índice en la lista e incrementar el contador apropiado.\n",
    "3. Puede crear un diccionario con caracteres como claves y contadores como los valores correspondientes. La primera vez que vea un personaje, agregará un elemento al diccionario. Después de eso, aumentaría el valor de un elemento existente.\n",
    "\n",
    "Cada una de estas opciones realiza el mismo cálculo, pero cada una de ellas implementa ese cálculo de una manera diferente.\n",
    "\n",
    "Una implementación es una forma de realizar un cálculo; algunas implementaciones son mejores que otras. Por ejemplo, una ventaja de la implementación del diccionario es que no tenemos que saber con anticipación qué letras aparecen en la cadena y solo tenemos que dejar espacio para las letras que sí aparecen.\n",
    "\n",
    "Aquí es cómo se vería el código:"
   ]
  },
  {
   "cell_type": "code",
   "execution_count": 11,
   "metadata": {},
   "outputs": [
    {
     "name": "stdout",
     "output_type": "stream",
     "text": [
      "{'b': 1, 'r': 2, 'o': 3, 'n': 1, 't': 1, 's': 1, 'a': 1, 'u': 1, 'i': 1}\n"
     ]
    }
   ],
   "source": [
    "palabra = 'brontosaurio'\n",
    "d = dict()\n",
    "for c in palabra:\n",
    "    if c not in d:\n",
    "        d[c] = 1\n",
    "    else:\n",
    "        d[c] = d[c] + 1\n",
    "print(d)"
   ]
  },
  {
   "cell_type": "markdown",
   "metadata": {},
   "source": [
    "Estamos calculando efectivamente un histogram , que es un término estadístico para un conjunto de contadores (o frecuencias).\n",
    "\n",
    "El bucle `for` atraviesa la cadena. Cada vez que `c` pasa el ciclo, si el caracter no está en el diccionario, creamos un nuevo elemento con clave `c` y el valor inicial `1` (ya que hemos visto esta letra una vez). Si `c` ya está en el diccionario aumentamos `d[c]`.\n",
    "\n",
    "El histograma indica que las letras `a` y `b` aparecen una vez; `o` aparece dos veces, y así sucesivamente.\n",
    "\n",
    "Los diccionarios tienen un método llamado `get` que toma una clave y un valor predeterminado. Si la clave aparece en el diccionario, `get` devuelve el valor correspondiente; de lo contrario, devuelve el valor predeterminado. Por ejemplo:"
   ]
  },
  {
   "cell_type": "code",
   "execution_count": 12,
   "metadata": {},
   "outputs": [
    {
     "name": "stdout",
     "output_type": "stream",
     "text": [
      "100\n",
      "0\n"
     ]
    }
   ],
   "source": [
    "counts = { 'chuck' : 1 , 'annie' : 42, 'jan': 100}\n",
    "print(counts.get('jan', 0))\n",
    "print(counts.get('tim', 0))"
   ]
  },
  {
   "cell_type": "markdown",
   "metadata": {},
   "source": [
    "Podemos usar `get` para escribir nuestro ciclo de histograma de manera más concisa. Debido a que el método `get` maneja automáticamente el caso donde una clave no está en un diccionario, podemos reducir cuatro líneas a una y eliminar la declaración `if`."
   ]
  },
  {
   "cell_type": "code",
   "execution_count": 13,
   "metadata": {},
   "outputs": [
    {
     "name": "stdout",
     "output_type": "stream",
     "text": [
      "{'b': 1, 'r': 2, 'o': 3, 'n': 1, 't': 1, 's': 1, 'a': 1, 'u': 1, 'i': 1}\n"
     ]
    }
   ],
   "source": [
    "palabra = 'brontosaurio'\n",
    "d = dict()\n",
    "for c in palabra:\n",
    " d[c] = d.get(c,0) + 1\n",
    "print(d)"
   ]
  },
  {
   "cell_type": "markdown",
   "metadata": {},
   "source": [
    "El uso del método `get` para simplificar este ciclo de recuento termina siendo un \"modismo\" muy utilizado en Python y lo usaremos muchas veces en el resto del libro. Así que deberías tomarte un momento y comparar el ciclo usando la instrucción `if` y el operador `in` con el ciclo usando el método `get`. Hacen exactamente lo mismo, pero uno es más sucinto."
   ]
  },
  {
   "cell_type": "markdown",
   "metadata": {},
   "source": [
    "## Diccionarios y archivos\n",
    "\n",
    "Uno de los usos comunes de un diccionario es contar la ocurrencia de palabras en un archivo con algún texto escrito. Comencemos con un archivo de palabras muy simple tomado del texto de Romeo y Julieta.\n",
    "\n",
    "Para el primer conjunto de ejemplos, utilizaremos una versión abreviada y simplificada del texto sin puntuación. Más tarde trabajaremos con el texto de la escena con puntuación incluida.\n",
    "\n",
    "    But soft what light through yonder window breaks\n",
    "    It is the east and Juliet is the sun\n",
    "    Arise fair sun and kill the envious moon\n",
    "    Who is already sick and pale with grief\n",
    "\n",
    "Escribiremos un programa de Python para leer las líneas del archivo, dividir cada línea en una lista de palabras, y luego recorrer cada una de las palabras en la línea y contar cada palabra usando un diccionario.\n",
    "\n",
    "Verás que tenemos dos bucles `for`. El bucle externo está leyendo las líneas del archivo y el bucle interno está iterando a través de cada una de las palabras en esa línea particular. Este es un ejemplo de un patrón llamado bucles anidados porque uno de los bucles es el bucle externo y el otro bucle es el bucle interno.\n",
    "\n",
    "Debido a que el bucle interno ejecuta todas sus iteraciones cada vez que el bucle externo realiza una sola iteración, pensamos que el bucle interno itera \"más rápidamente\" y el bucle externo se itera más lentamente.\n",
    "\n",
    "La combinación de los dos bucles anidados asegura que vamos a contar cada palabra en cada línea del archivo de entrada."
   ]
  },
  {
   "cell_type": "code",
   "execution_count": 14,
   "metadata": {},
   "outputs": [
    {
     "name": "stdout",
     "output_type": "stream",
     "text": [
      "Ingresa el nombre de archivo: ./codes/romeo.txt\n",
      "{'But': 1, 'soft': 1, 'what': 1, 'light': 1, 'through': 1, 'yonder': 1, 'window': 1, 'breaks': 2, 'It': 1, 'is': 1, 'the': 1, 'east': 1, 'and': 1, 'Juliet': 1, 'sun': 2, 'Arise': 1, 'fair': 1, 'kill': 1, 'envious': 1, 'moon': 2, 'Who': 1, 'already': 1, 'sick': 1, 'pale': 1, 'with': 1, 'grief': 2}\n"
     ]
    }
   ],
   "source": [
    "fname = input('Ingresa el nombre de archivo: ')\n",
    "try:\n",
    "    fhand = open(fname)\n",
    "except:\n",
    "    print('No se puede abrir el archivo:', fname)\n",
    "    exit()\n",
    "\n",
    "counts = dict()\n",
    "for linea in fhand:\n",
    "    palabras = linea.split()\n",
    "    for palabra in palabras:\n",
    "        if palabra not in counts:\n",
    "            counts[palabra] = 1\n",
    "    else:\n",
    "        counts[palabra] += 1\n",
    "print(counts)"
   ]
  },
  {
   "cell_type": "markdown",
   "metadata": {},
   "source": [
    "Cuando ejecutamos el programa, vemos un volcado sin procesar de todos los conteos en orden de hash sin clasificar (el archivo `romeo.txt` está disponible en www.py4e.com/code3/romeo.txt).\n",
    "\n",
    "Es un poco incómodo consultar el diccionario para encontrar las palabras más comunes y sus recuentos, por lo que debemos agregar un poco más de código Python para obtener el resultado que será más útil."
   ]
  },
  {
   "cell_type": "markdown",
   "metadata": {},
   "source": [
    "## Ciclos y diccionarios\n",
    "\n",
    "Si utiliza un diccionario como secuencia en una instrucción `for`, atraviesa las claves del diccionario. Este ciclo imprime cada clave y el valor correspondiente:"
   ]
  },
  {
   "cell_type": "code",
   "execution_count": 15,
   "metadata": {},
   "outputs": [
    {
     "name": "stdout",
     "output_type": "stream",
     "text": [
      "chuck 1\n",
      "annie 42\n",
      "jan 100\n"
     ]
    }
   ],
   "source": [
    "counts = { 'chuck' : 1 , 'annie' : 42, 'jan': 100}\n",
    "for clave in counts:\n",
    "    print(clave, counts[clave])"
   ]
  },
  {
   "cell_type": "markdown",
   "metadata": {},
   "source": [
    "Podemos utilizar este patrón para implementar los distintos modismos de bucle que hemos descrito anteriormente. Por ejemplo, si quisiéramos encontrar todas las entradas en un diccionario con un valor superior a diez, podríamos escribir el siguiente código:"
   ]
  },
  {
   "cell_type": "code",
   "execution_count": 16,
   "metadata": {},
   "outputs": [
    {
     "name": "stdout",
     "output_type": "stream",
     "text": [
      "annie 42\n",
      "jan 100\n"
     ]
    }
   ],
   "source": [
    "counts = { 'chuck' : 1 , 'annie' : 42, 'jan': 100}\n",
    "for clave in counts:\n",
    "    if counts[clave] > 10 :\n",
    "        print(clave, counts[clave])\n"
   ]
  },
  {
   "cell_type": "markdown",
   "metadata": {},
   "source": [
    "El ciclo `for` itera a través de las teclas del diccionario, por lo que debemos usar el operador de índice para recuperar el valor correspondiente para cada clave.\n",
    "\n",
    "Solo vemos las entradas con un valor superior a 10.\n",
    "\n",
    "Si desea imprimir las teclas en orden alfabético, primero haga una lista de las claves en el diccionario utilizando el método `keys` disponible en los objetos del diccionario, luego ordene esa lista y recorra la lista ordenada, busque cada clave e imprima la clave-valor de pares en ordenados de la siguiente manera:"
   ]
  },
  {
   "cell_type": "code",
   "execution_count": 17,
   "metadata": {},
   "outputs": [
    {
     "name": "stdout",
     "output_type": "stream",
     "text": [
      "['chuck', 'annie', 'jan']\n",
      "annie 42\n",
      "chuck 1\n",
      "jan 100\n"
     ]
    }
   ],
   "source": [
    "counts = { 'chuck' : 1 , 'annie' : 42, 'jan': 100}\n",
    "lst = list(counts.keys())\n",
    "print(lst)\n",
    "lst.sort()\n",
    "for clave in lst:\n",
    "    print(clave, counts[clave])"
   ]
  },
  {
   "cell_type": "markdown",
   "metadata": {},
   "source": [
    "Primero, ve la lista de claves en orden no ordenado que obtenemos del método keys. Luego vemos los pares clave-valor en orden desde el bucle `for`."
   ]
  },
  {
   "cell_type": "markdown",
   "metadata": {},
   "source": [
    "## Analisis de texto avanzado\n",
    "\n",
    "En el ejemplo anterior usando el archivo `romeo.txt`, hicimos el archivo lo más simple posible eliminando todos los signos de puntuación a mano. El texto real tiene muchos signos de puntuación, como se muestra a continuación.\n",
    "\n",
    "    But, soft! what light through yonder window breaks?\n",
    "    It is the east, and Juliet is the sun.\n",
    "    Arise, fair sun, and kill the envious moon,\n",
    "    Who is already sick and pale with grief,\n",
    "\n",
    "Dado que la función `split` de Python busca espacios y trata las palabras como tokens separados por espacios, trataremos las palabras \"soft!\" y \"soft\" como diferentes palabras y crea una entrada de diccionario por separado para cada palabra.\n",
    "\n",
    "Además, dado que el archivo tiene mayúsculas, trataremos \"Who\" y \"who\" como palabras diferentes con recuentos diferentes.\n",
    "\n",
    "Podemos resolver estos dos problemas mediante el uso de los métodos de las cadenas `lower`, `punctuation` y `translate`. `El translate` es el más sutil de los métodos. Aquí está la documentación para translate:\n",
    "\n",
    "    line.translate(str.maketrans(fromstr, tostr, deletestr))\n",
    "\n",
    "Reemplace los caracteres `fromstr` con el carácter en la misma posición `tostr` y elimine todos los caracteres que están en `deletestr`. El `fromstr` y `tostr` pueden ser cadenas vacías y el `deletestr` un parámetro se puede omitir.\n",
    "\n",
    "No especificaremos la tabla pero utilizaremos el parámetro `deletechars` para eliminar toda la puntuación. Incluso dejaremos que Python nos diga la lista de caracteres que considera \"puntuación\":"
   ]
  },
  {
   "cell_type": "code",
   "execution_count": 18,
   "metadata": {},
   "outputs": [
    {
     "data": {
      "text/plain": [
       "'!\"#$%&\\'()*+,-./:;<=>?@[\\\\]^_`{|}~'"
      ]
     },
     "execution_count": 18,
     "metadata": {},
     "output_type": "execute_result"
    }
   ],
   "source": [
    "import string\n",
    "string.punctuation"
   ]
  },
  {
   "cell_type": "markdown",
   "metadata": {},
   "source": [
    "Los parámetros utilizados por `translate` son diferentes en Python 2.0.\n",
    "\n",
    "Hacemos las siguientes modificaciones a nuestro programa:"
   ]
  },
  {
   "cell_type": "code",
   "execution_count": 19,
   "metadata": {},
   "outputs": [
    {
     "name": "stdout",
     "output_type": "stream",
     "text": [
      "Ingresa el nombre de archivo: ./codes/romeo.txt\n",
      "{'but': 1, 'soft': 1, 'what': 1, 'light': 1, 'through': 1, 'yonder': 1, 'window': 1, 'breaks': 1, 'it': 1, 'is': 3, 'the': 3, 'east': 1, 'and': 3, 'juliet': 1, 'sun': 2, 'arise': 1, 'fair': 1, 'kill': 1, 'envious': 1, 'moon': 1, 'who': 1, 'already': 1, 'sick': 1, 'pale': 1, 'with': 1, 'grief': 1}\n"
     ]
    }
   ],
   "source": [
    "import string\n",
    "fname = input('Ingresa el nombre de archivo: ')\n",
    "\n",
    "try:\n",
    "    fhand = open(fname)\n",
    "except:\n",
    "    print('No se puede abrir el archivo:', fname)\n",
    "    exit()\n",
    "\n",
    "counts = dict()\n",
    "for linea in fhand:\n",
    "    linea = linea.rstrip()\n",
    "    linea = linea.translate(linea.maketrans('', '', string.punctuation))\n",
    "    linea = linea.lower()\n",
    "    palabras = linea.split()\n",
    "    for palabra in palabras:\n",
    "        if palabra not in counts:\n",
    "            counts[palabra] = 1\n",
    "        else:\n",
    "            counts[palabra] += 1\n",
    "print(counts)"
   ]
  },
  {
   "cell_type": "markdown",
   "metadata": {},
   "source": [
    "Parte de aprender el \"Arte de Python\" o \"Pensar Pythonically\" es darse cuenta de que Python a menudo tiene capacidades incorporadas para muchos problemas comunes de análisis de datos. Con el tiempo, verá suficiente código de ejemplo y leerá la documentación suficiente como para saber dónde buscar para ver si alguien ya ha escrito algo que facilite su trabajo.\n",
    "\n",
    "Mirar a través de esta salida todavía es difícil de manejar y podemos usar Python para darnos cuenta exactamente lo que estamos buscando, pero para hacerlo, necesitamos aprender sobre las tuplas de Python. Retomaremos este ejemplo una vez que aprendamos sobre las tuplas."
   ]
  },
  {
   "cell_type": "markdown",
   "metadata": {},
   "source": [
    "## Depuración\n",
    "\n",
    "A medida que trabajas con conjuntos de datos más grandes, puede resultar difícil de depurar imprimiendo y verificando los datos a mano. Aquí hay algunas sugerencias para depurar conjuntos de datos grandes:\n",
    "\n",
    "**Escalar la entrada:** \n",
    "Si es posible, reduzca el tamaño del conjunto de datos. Por ejemplo, si el programa lee un archivo de texto, comience con solo las primeras 10 líneas, o con el ejemplo más pequeño que pueda encontrar. Puede editar los archivos por sí mismo o (mejor) modificar el programa para que solo lea las primeras `n` líneas.\n",
    "\n",
    "Si hay un error, puede reducir `n` al valor más pequeño que manifiesta el error, y luego aumentarlo gradualmente a medida que encuentre y corrija los errores.\n",
    "\n",
    "**Ver resúmenes y tipos:**\n",
    "En lugar de imprimir y verificar todo el conjunto de datos, considere imprimir resúmenes de los datos: por ejemplo, la cantidad de elementos en un diccionario o el total de una lista de números.\n",
    "\n",
    "Una causa común de errores de tiempo de ejecución es un valor que no es del tipo correcto. Para depurar este tipo de error, a menudo es suficiente imprimir el tipo de un valor.\n",
    "\n",
    "**Escribir autocomprobaciones:**\n",
    "Algunas veces puede escribir código para verificar errores automáticamente. Por ejemplo, si está calculando el promedio de una lista de números, puede verificar que el resultado no sea mayor que el elemento más grande de la lista o menor que el más pequeño. Esto se denomina \"comprobación de cordura\" porque detecta resultados que son \"completamente ilógicos\".\n",
    "\n",
    "**Impresión de la salida bonita:**\n",
    "Formatear la salida de depuración puede hacer que sea más fácil detectar un error.\n",
    "De nuevo, el tiempo que dedicas a construir andamios puede reducir el tiempo que pasas depurando."
   ]
  },
  {
   "cell_type": "markdown",
   "metadata": {},
   "source": [
    "## Glosario\n",
    "\n",
    "* **diccionario:** Una asignación de un conjunto de claves a sus valores correspondientes.\n",
    "* **tabla hash:** El algoritmo utilizado para implementar diccionarios de Python.\n",
    "* **función hash:** Una función utilizada por una tabla hash para calcular la ubicación de una clave.\n",
    "* **histograma** Un conjunto de contadores.\n",
    "* **implementación: ** Una forma de realizar un cálculo.\n",
    "* **llave:** Un objeto que aparece en un diccionario como la primera parte de un par clave-valor.\n",
    "* **par clave-valor:** La representación de la asignación de una clave a un valor.\n",
    "* **buscar:** Una operación de diccionario que toma una clave y encuentra el valor correspondiente.\n",
    "* **bucles anidados:** Cuando hay uno o más bucles \"dentro\" de otro bucle. El bucle interno se ejecuta hasta completarse cada vez que el bucle externo se ejecuta una vez.\n",
    "* **valor:** Un objeto que aparece en un diccionario como la segunda parte de un par clave-valor. Esto es más específico que nuestro uso anterior de la palabra \"valor\"."
   ]
  },
  {
   "cell_type": "markdown",
   "metadata": {},
   "source": [
    "## Ejercicios\n",
    "\n",
    "**Ejercicio 2:** escriba un programa que clasifique cada mensaje de correo por el día de la semana en que se realizó el compromiso. Para hacer esto, busque líneas que comiencen con \"From\", luego busque la tercera palabra y lleve un recuento continuo de cada uno de los días de la semana. Al final del programa, imprima el contenido de su diccionario (el orden no importa).\n",
    "\n",
    "Línea de muestra:\n",
    "\n",
    "    From stephen.marquard@uct.ac.za Sat Jan 5 09:14:16 2008\n",
    "\n",
    "Ejecución de muestra:\n",
    "\n",
    "    python dow.py\n",
    "    Ingresa el nombre de archivo: mbox-short.txt\n",
    "    {'Fri': 20, 'Thu': 6, 'Sat': 1}\n",
    "\n",
    "**Ejercicio 3:** escriba un programa para leer un registro de correo, cree un histograma usando un diccionario para contar cuántos mensajes provienen de cada dirección de correo electrónico e imprima el diccionario.\n",
    "\n",
    "    Ingresa el nombre de archivo: mbox-short.txt\n",
    "    {'gopal.ramasammycook@gmail.com': 1, 'louis@media.berkeley.edu': 3,\n",
    "    'cwen@iupui.edu': 5, 'antranig@caret.cam.ac.uk': 1,\n",
    "    'rjlowe@iupui.edu': 2, 'gsilver@umich.edu': 3,\n",
    "    'david.horwitz@uct.ac.za': 4, 'wagnermr@iupui.edu': 1,\n",
    "    'zqian@umich.edu': 4, 'stephen.marquard@uct.ac.za': 2,\n",
    "    'ray@media.berkeley.edu': 1}\n",
    "\n",
    "**Ejercicio 4:** agregue código al programa anterior para descubrir quién tiene la mayor cantidad de mensajes en el archivo.\n",
    "\n",
    "Una vez que se han leído todos los datos y se ha creado el diccionario, consulte el diccionario utilizando la función `max` para encontrar quién tiene más mensajes e imprimir cuántos mensajes tiene la persona.\n",
    "\n",
    "    Ingresa el nombre de archivo: mbox-short.txt\n",
    "    cwen@iupui.edu 5\n",
    "\n",
    "    Ingresa el nombre de archivo: mbox.txt\n",
    "    zqian@umich.edu 195\n",
    "\n",
    "**Ejercicio 5:** este programa registra el nombre de dominio (en lugar de la dirección) desde donde se envió el mensaje, en lugar de quién vino el correo (es decir, toda la dirección de correo electrónico). Al final del programa, imprima los contenidos de su diccionario.\n",
    "\n",
    "    python schoolcount.py\n",
    "    Ingresa el nombre de archivo: mbox-short.txt\n",
    "    {'media.berkeley.edu': 4, 'uct.ac.za': 6, 'umich.edu': 7,\n",
    "    'gmail.com': 1, 'caret.cam.ac.uk': 1, 'iupui.edu': 8}"
   ]
  },
  {
   "cell_type": "markdown",
   "metadata": {},
   "source": [
    "<!--NAVIGATION-->\n",
    "| [Indice](indice.ipynb) | \n",
    "\n",
    "< [Capítulo 8 - Listas](cap08.ipynb) | [Capítulo 10 - Tuplas](cap10.ipynb) >"
   ]
  }
 ],
 "metadata": {
  "kernelspec": {
   "display_name": "Python 3",
   "language": "python",
   "name": "python3"
  },
  "language_info": {
   "codemirror_mode": {
    "name": "ipython",
    "version": 3
   },
   "file_extension": ".py",
   "mimetype": "text/x-python",
   "name": "python",
   "nbconvert_exporter": "python",
   "pygments_lexer": "ipython3",
   "version": "3.7.3"
  },
  "varInspector": {
   "cols": {
    "lenName": 16,
    "lenType": 16,
    "lenVar": 40
   },
   "kernels_config": {
    "python": {
     "delete_cmd_postfix": "",
     "delete_cmd_prefix": "del ",
     "library": "var_list.py",
     "varRefreshCmd": "print(var_dic_list())"
    },
    "r": {
     "delete_cmd_postfix": ") ",
     "delete_cmd_prefix": "rm(",
     "library": "var_list.r",
     "varRefreshCmd": "cat(var_dic_list()) "
    }
   },
   "types_to_exclude": [
    "module",
    "function",
    "builtin_function_or_method",
    "instance",
    "_Feature"
   ],
   "window_display": false
  }
 },
 "nbformat": 4,
 "nbformat_minor": 2
}
