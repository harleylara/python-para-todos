{
 "cells": [
  {
   "cell_type": "markdown",
   "metadata": {},
   "source": [
    "<!--BOOK_INFORMATION-->\n",
    "<img align=\"left\" style=\"padding-right:10px;\" src=\"./figures/cover-small.jpg\">\n",
    "\n",
    "*Este libro es una versión al español de [Python for Everybody](https://www.py4e.com/) escrito por el [Dr. Charles R. Severance](http://www.dr-chuck.com/); este contenido esta disponible en [GitHub](https://github.com/csev/py4e).*\n",
    "\n",
    "Detalles de Copyright\n",
    "\n",
    "*Copyright ~ 2009- Charles Severance.\n",
    "Este trabajo está registrado bajo una Licencia Creative Commons AttributionNonCommercial-ShareAlike 3.0 [CC BY-NC-SA](https://creativecommons.org/licenses/by-nc-sa/3.0/).*"
   ]
  },
  {
   "cell_type": "markdown",
   "metadata": {},
   "source": [
    "<!--NAVIGATION-->\n",
    "| [Indice](indice.ipynb) | \n",
    "\n",
    "< [Capítulo 4 - Funciones](cap04.ipynb) | [Capítulo 6 - Cadenas](cap06.ipynb) >"
   ]
  },
  {
   "cell_type": "markdown",
   "metadata": {},
   "source": [
    "# Capítulo 5 - Iteraciones"
   ]
  },
  {
   "cell_type": "markdown",
   "metadata": {},
   "source": [
    "## Actualización de variables\n",
    "\n",
    "Un patrón común en las declaraciones de asignación es una declaración de asignación que actualiza una variable, donde el nuevo valor de la variable depende de la anterior.\n",
    "\n",
    "    x = x + 1\n",
    "\n",
    "Esto significa \"obtener el valor actual de x, agregar 1, y luego actualizar x con el nuevo valor\"\n",
    "Si intenta actualizar una variable que no existe, obtendrá un error, porque Python evalúa el lado derecho antes de asignarle un valor a x:"
   ]
  },
  {
   "cell_type": "code",
   "execution_count": 1,
   "metadata": {},
   "outputs": [
    {
     "ename": "NameError",
     "evalue": "name 'x' is not defined",
     "output_type": "error",
     "traceback": [
      "\u001b[1;31m---------------------------------------------------------------------------\u001b[0m",
      "\u001b[1;31mNameError\u001b[0m                                 Traceback (most recent call last)",
      "\u001b[1;32m<ipython-input-1-2d25c2ef041b>\u001b[0m in \u001b[0;36m<module>\u001b[1;34m\u001b[0m\n\u001b[1;32m----> 1\u001b[1;33m \u001b[0mx\u001b[0m \u001b[1;33m=\u001b[0m \u001b[0mx\u001b[0m \u001b[1;33m+\u001b[0m \u001b[1;36m1\u001b[0m\u001b[1;33m\u001b[0m\u001b[1;33m\u001b[0m\u001b[0m\n\u001b[0m",
      "\u001b[1;31mNameError\u001b[0m: name 'x' is not defined"
     ]
    }
   ],
   "source": [
    "x = x + 1"
   ]
  },
  {
   "cell_type": "markdown",
   "metadata": {},
   "source": [
    "Antes de que pueda actualizar una variable, debe inicializarla, generalmente asi de simple:"
   ]
  },
  {
   "cell_type": "code",
   "execution_count": 2,
   "metadata": {},
   "outputs": [],
   "source": [
    "x = 0\n",
    "x = x + 1"
   ]
  },
  {
   "cell_type": "markdown",
   "metadata": {},
   "source": [
    "Actualizar una variable agregando 1 se llama incremento; restar 1 se llama decremento."
   ]
  },
  {
   "cell_type": "markdown",
   "metadata": {},
   "source": [
    "## La declaración `while`\n",
    "\n",
    "Las computadoras se utilizan a menudo para automatizar tareas repetitivas. Repetir tareas idénticas o similares sin cometer errores es algo que las computadoras hacen bien y las personas lo hacen mal. Debido a que la iteración es tan común, Python proporciona varias funciones de idioma para hacerlo más fácil.\n",
    "\n",
    "Una forma de iteración en Python es la declaración `while`. Aquí hay un programa simple que cuenta regresivamente desde cinco y luego dice \"Despegue!\"."
   ]
  },
  {
   "cell_type": "code",
   "execution_count": 3,
   "metadata": {},
   "outputs": [
    {
     "name": "stdout",
     "output_type": "stream",
     "text": [
      "5\n",
      "4\n",
      "3\n",
      "2\n",
      "1\n",
      "Despegue!\n"
     ]
    }
   ],
   "source": [
    "n = 5\n",
    "while n > 0:\n",
    "    print(n)\n",
    "    n = n - 1\n",
    "print('Despegue!')"
   ]
  },
  {
   "cell_type": "markdown",
   "metadata": {},
   "source": [
    "Casi puede leer la declaración `while` como si fuera inglés. Significa: \"Mientras n sea mayor que 0, muestre el valor de n y luego reduzca el valor de n por 1. Cuando llege a 0, sal de la declaración `while` y muestra la palabra \"Despegue!\".\n",
    "\n",
    "Más formalmente, aquí está el flujo de ejecución de una declaración `while`:\n",
    "* Evaluar la condición y devolver `True` o `False`.\n",
    "* Si la condición es falsa, salga de la declaración `while` y continúe la ejecución en la siguiente declaración.\n",
    "* Si la condición es verdadera, ejecuta el cuerpo y luego regresa al paso 1.\n",
    "\n",
    "Este tipo de flujo se denomina bucle porque el tercer paso gira alrededor de la parte superior. Llamamos a cada vez que ejecutamos el cuerpo del ciclo una iteración. Para el ciclo anterior, diríamos: \"Tenía cinco iteraciones\", lo que significa que el cuerpo del ciclo se ejecutó cinco veces.\n",
    "\n",
    "El cuerpo del bucle debería cambiar el valor de una o más variables para que eventualmente la condición se vuelva falsa y el ciclo termine. Llamamos a la variable que cambia cada vez que el bucle se ejecuta y controla cuando el bucle termina la variable de iteración. Si no hay una variable de iteración, el ciclo se repetirá para siempre, lo que dará como resultado un ciclo infinito."
   ]
  },
  {
   "cell_type": "markdown",
   "metadata": {},
   "source": [
    "## Bucles infinitos\n",
    "\n",
    "Una fuente interminable de diversión para los programadores son las instrucciones del champú, \"Enjabona, enjuaga, repite\" son un ciclo infinito porque no hay una variable de iteración que te diga cuántas veces ejecutar el ciclo."
   ]
  },
  {
   "cell_type": "markdown",
   "metadata": {},
   "source": [
    "## Bucles infinitos y `break`\n",
    "\n",
    "A veces no sabes que es hora de terminar un ciclo hasta que llegues a la mitad del cuerpo. En ese caso, puede escribir un ciclo infinito a propósito y luego usar la instrucción `break` para saltar fuera del ciclo.\n",
    "\n",
    "Este bucle es obviamente un bucle infinito porque la expresión lógica en el enunciado `while` es simplemente la constante lógica `True`:\n",
    "\n",
    "    n = 10\n",
    "    while True:\n",
    "        print(n, end=' ')\n",
    "        n = n - 1\n",
    "    print('Listo!')\n",
    "\n",
    "Si comete el error y ejecuta este código, aprenderá rápidamente cómo detener un proceso de Python fuera de control en su sistema o encontrar dónde está el botón de apagado en su computadora. Este programa se ejecutará para siempre o hasta que la batería se agote porque la expresión lógica en la parte superior del ciclo siempre es verdadera en virtud del hecho de que la expresión es el valor constante `True`.\n",
    "\n",
    "Si bien este es un ciclo infinito disfuncional, aún podemos usar este patrón para construir bucles útiles siempre que agreguemos código cuidadosamente al cuerpo del bucle para salir explícitamente del bucle cuando hayamos alcanzado la condición de salida `break`.\n",
    "\n",
    "Por ejemplo, supongamos que quiere tomar información del usuario hasta que escriba done. Podrías escribir:"
   ]
  },
  {
   "cell_type": "code",
   "execution_count": 4,
   "metadata": {},
   "outputs": [
    {
     "name": "stdout",
     "output_type": "stream",
     "text": [
      "> Hola\n",
      "Hola\n",
      "> mundo!\n",
      "mundo!\n",
      "> adios\n",
      "adios\n",
      "> hecho\n",
      "Hecho!\n"
     ]
    }
   ],
   "source": [
    "while True:\n",
    "    line = input('> ')\n",
    "    if line == 'hecho':\n",
    "        break\n",
    "    print(line)\n",
    "print('Hecho!')"
   ]
  },
  {
   "cell_type": "markdown",
   "metadata": {},
   "source": [
    "La condición de bucle es `True`, lo que siempre es cierto, por lo que el bucle se ejecuta repetidamente hasta que llega a la declaración de interrupción.\n",
    "\n",
    "Cada vez que pasa, se le solicita al usuario un paréntesis angular. Si el usuario escribe hecho, la instrucción `break` sale del ciclo. De lo contrario, el programa repite todo lo que el usuario escriba y vuelve al principio del ciclo.\n",
    "\n",
    "Esta forma de escribir bucles `while` es común porque puede verificar la condición en cualquier punto del ciclo (no solo en la parte superior) y puede expresar la condición de stop afirmativamente (\"detener cuando esto sucede\") en lugar de negativamente (\"seguir hasta que eso ocurra\")."
   ]
  },
  {
   "cell_type": "markdown",
   "metadata": {},
   "source": [
    "##  Terminando iteraciones con `continue`\n",
    "\n",
    "Algunas veces estás en una iteración de un ciclo y quieres terminar la iteración actual e inmediatamente pasar a la siguiente iteración. En ese caso, puede usar la instrucción `continue` para saltar a la siguiente iteración sin finalizar el cuerpo del ciclo para la iteración actual.\n",
    "\n",
    "Aquí hay un ejemplo de un bucle que copia su entrada hasta que el usuario escriba \"hecho\", pero trata las líneas que comienzan con el carácter hash como líneas que no se van a imprimir (algo así como los comentarios de Python)."
   ]
  },
  {
   "cell_type": "code",
   "execution_count": 5,
   "metadata": {},
   "outputs": [
    {
     "name": "stdout",
     "output_type": "stream",
     "text": [
      "> Hola\n",
      "Hola\n",
      "> Imprime esto\n",
      "Imprime esto\n",
      "> # No imprimas esto\n",
      "> hecho\n",
      "Hecho!\n"
     ]
    }
   ],
   "source": [
    "while True:\n",
    "    line = input('> ')\n",
    "    if line[0] == '#':\n",
    "        continue\n",
    "    if line == 'hecho':\n",
    "        break\n",
    "    print(line)\n",
    "print('Hecho!')"
   ]
  },
  {
   "cell_type": "markdown",
   "metadata": {},
   "source": [
    "Todas las líneas están impresas, excepto la que comienza con el signo hash porque cuando `continue` se ejecuta, finaliza la iteración actual y salta de regreso a la declaración `while` para comenzar la siguiente iteración, omitiendo así la declaración `print`."
   ]
  },
  {
   "cell_type": "markdown",
   "metadata": {},
   "source": [
    "## Bucles definidos utilizando `for`\n",
    "\n",
    "A veces queremos recorrer un conjunto de elementos, como una lista de palabras, las líneas de un archivo o una lista de números. Cuando tengamos una lista de cosas por recorrer, podemos construir un ciclo definido usando una declaración `for`. Llamamos a la declaración `while` un ciclo indefinido porque simplemente gira hasta que se convierte en una condición `False`, mientras que el bucle `for` recorre un conjunto conocido de elementos, por lo que se ejecuta a través de tantas iteraciones como elementos en el conjunto.\n",
    "\n",
    "La sintaxis de un bucle `for` es similar al bucle `while` en el sentido de que hay una instrucción `for` y un cuerpo de bucle:"
   ]
  },
  {
   "cell_type": "code",
   "execution_count": 6,
   "metadata": {},
   "outputs": [
    {
     "name": "stdout",
     "output_type": "stream",
     "text": [
      "Feliz año nuevo:  Joseph\n",
      "Feliz año nuevo:  Glenn\n",
      "Feliz año nuevo:  Sally\n",
      "Hecho!\n"
     ]
    }
   ],
   "source": [
    "amigos= ['Joseph', 'Glenn', 'Sally']\n",
    "for amigo in amigos:\n",
    "    print('Feliz año nuevo: ', amigo)\n",
    "print('Hecho!')"
   ]
  },
  {
   "cell_type": "markdown",
   "metadata": {},
   "source": [
    "En términos de Python, la variable `amigos` es una lista de tres strings y el ciclo `for` pasa por la lista y ejecuta el cuerpo una vez para cada una de los tres strings en la lista que da como resultado la salida anterior.\n",
    "\n",
    "Traducir este bucle `for` al inglés no es tan directo como el `while`, pero si piensas en `amigos` como un conjunto, dice así: \"Ejecuta las instrucciones en el cuerpo del bucle `for` una vez para cada `amigo` en el conjunto llamado `amigos`\".\n",
    "\n",
    "Mirando el bucle `for`, está reservados en las palabras clave de Python, y `amigo` y `amigos` son variables."
   ]
  },
  {
   "cell_type": "code",
   "execution_count": 7,
   "metadata": {},
   "outputs": [
    {
     "name": "stdout",
     "output_type": "stream",
     "text": [
      "Feliz año nuevo:  Joseph\n",
      "Feliz año nuevo:  Glenn\n",
      "Feliz año nuevo:  Sally\n"
     ]
    }
   ],
   "source": [
    "for amigo in amigos:\n",
    "    print('Feliz año nuevo: ', amigo)"
   ]
  },
  {
   "cell_type": "markdown",
   "metadata": {},
   "source": [
    "En particular, `amigo` es la variable de iteración para el ciclo `for`. La variable `amigo` cambia para cada iteración del ciclo y controla cuando se completa el ciclo `for`. La variable de iteración pasa sucesivamente a través de las tres cadenas almacenadas en la variable `amigos`."
   ]
  },
  {
   "cell_type": "markdown",
   "metadata": {},
   "source": [
    "## Patrones de bucles\n",
    "\n",
    "A menudo utilizamos un bucle f`or` o `while` para ir a través de una lista de elementos o el contenido de un archivo y estamos buscando algo como el valor más grande o más pequeño de los datos que examinamos.\n",
    "\n",
    "Estos bucles generalmente se construyen por:\n",
    "* Inicializando una o más variables antes de que comience el ciclo\n",
    "* Realizando algunos cálculos en cada elemento en el cuerpo del bucle, posiblemente cambiando las variables en el cuerpo del bucle\n",
    "* Mirando las variables resultantes cuando el ciclo termina\n",
    "\n",
    "Utilizaremos una lista de números para demostrar los conceptos y la construcción de estos patrones de bucle.\n",
    "\n",
    "Por ejemplo, para contar la cantidad de elementos en una lista, escribiremos el siguiente ciclo `for`:"
   ]
  },
  {
   "cell_type": "code",
   "execution_count": 8,
   "metadata": {},
   "outputs": [
    {
     "name": "stdout",
     "output_type": "stream",
     "text": [
      "Contar:  6\n"
     ]
    }
   ],
   "source": [
    "contar = 0\n",
    "for itervar in [3, 41, 12, 9, 74, 15]:\n",
    "    contar = contar + 1\n",
    "print('Contar: ', contar)"
   ]
  },
  {
   "cell_type": "markdown",
   "metadata": {},
   "source": [
    "Establecemos la variable `contar` a cero antes de que comience el ciclo, luego escribimos un ciclo `for` para recorrer la lista de números. Nuestra variable de iteración se denomina `itervar` y, aunque no se utiliza `itervar` en el ciclo, sí controla el ciclo y hace que el cuerpo del ciclo se ejecute una vez para cada uno de los valores de la lista.\n",
    "\n",
    "En el cuerpo del ciclo, agregamos 1 al valor actual de contar para cada uno de los valores en la lista. Mientras se ejecuta el ciclo, el valor de `contar` es el número de valores que hemos visto \"hasta ahora\".\n",
    "\n",
    "Una vez que el ciclo se completa, el valor de `contar` es el número total de elementos. El número total \"cae en nuestro regazo\" al final del ciclo. Construimos el ciclo para que tengamos lo que queremos cuando termina el ciclo.\n",
    "\n",
    "Otro bucle similar que calcula el total de un conjunto de números es el siguiente:"
   ]
  },
  {
   "cell_type": "code",
   "execution_count": 9,
   "metadata": {},
   "outputs": [
    {
     "name": "stdout",
     "output_type": "stream",
     "text": [
      "Total:  154\n"
     ]
    }
   ],
   "source": [
    "total = 0\n",
    "for itervar in [3, 41, 12, 9, 74, 15]:\n",
    "    total = total + itervar\n",
    "print('Total: ', total)"
   ]
  },
  {
   "cell_type": "markdown",
   "metadata": {},
   "source": [
    "En este bucle que hacemos uso de la variable de iteración. En lugar de simplemente agregar uno a `contar` en el ciclo anterior, agregamos el número real `(3, 41, 12, etc.)` al total acumulado durante cada iteración del ciclo. Si piensa en la variable `total`, contiene el \"total acumulado de los valores hasta el momento\". Entonces, antes de que el ciclo comience `total` este en cero porque aún no hemos visto ningún valor, durante el ciclo total es el total acumulado, y al final del ciclo en `total` está el total general de todos los valores en la lista.\n",
    "\n",
    "A medida que el ciclo se ejecuta, `total` acumula la suma de los elementos; una variable utilizada de esta manera a veces se denomina acumulador.\n",
    "\n",
    "Ni el bucle de recuento ni el bucle de suma son particularmente útiles en la práctica porque están incorporados en las funciones `len()` y `sum()` que calculan el número de elementos de una lista y el total de los elementos de la lista, respectivamente."
   ]
  },
  {
   "cell_type": "markdown",
   "metadata": {},
   "source": [
    "## Bucles de máximos y mínimos\n",
    "\n",
    "Para encontrar el valor más grande en una lista o secuencia, construimos el siguiente bucle:"
   ]
  },
  {
   "cell_type": "code",
   "execution_count": 10,
   "metadata": {},
   "outputs": [
    {
     "name": "stdout",
     "output_type": "stream",
     "text": [
      "Antes: None\n",
      "Loop: 3 3\n",
      "Loop: 41 41\n",
      "Loop: 12 41\n",
      "Loop: 9 41\n",
      "Loop: 74 74\n",
      "Loop: 15 74\n",
      "Mas Grande: 74\n"
     ]
    }
   ],
   "source": [
    "mas_grande = None\n",
    "print('Antes:', mas_grande)\n",
    "for itervar in [3, 41, 12, 9, 74, 15]:\n",
    "    if mas_grande is None or itervar > mas_grande:\n",
    "        mas_grande = itervar\n",
    "    print('Loop:', itervar, mas_grande)\n",
    "print('Mas Grande:', mas_grande)"
   ]
  },
  {
   "cell_type": "markdown",
   "metadata": {},
   "source": [
    "La variable `mas_grande` se considera mejor como el \"mayor valor que hemos visto hasta ahora\". Antes del ciclo, establecemos `mas_grande` con la constante `None`. `None` es un valor constante especial que podemos almacenar en una variable para marcar la variable como \"vacía\".\n",
    "\n",
    "Antes de que comience el ciclo, el valor más grande que hemos visto hasta ahora es `None` que aún no hemos visto ningún valor. Mientras el ciclo se está ejecutando, si `mas_grande` es `None`, tomamos el primer valor que vemos como el más grande hasta el momento. Puede ver en la primera iteración cuando el valor de  `itervar` es `3`, ya que `mas_grande` es `None`, inmediatamente configuramos `mas_grande` para ser `3`.\n",
    "\n",
    "Después de la primera iteración, `mas_grande` como `None` ya no existe, por lo que la segunda parte de la expresión lógica compuesta que se verifica es `itervar > mas_grande` se activa solo cuando vemos un valor que es más grande que el \"más grande hasta el momento\". Cuando vemos un nuevo valor \"aún mayor\" tomamos ese nuevo valor para `mas_grande`. Puede ver en la salida del programa que `mas_grande` progresa de `3` a `41` a `74`.\n",
    "\n",
    "Al final del ciclo, hemos escaneado todos los valores y la variable `mas_grande` ahora contiene el valor más grande en la lista.\n",
    "\n",
    "Para calcular el número más pequeño, el código es muy similar con un pequeño cambio:"
   ]
  },
  {
   "cell_type": "code",
   "execution_count": 11,
   "metadata": {},
   "outputs": [
    {
     "name": "stdout",
     "output_type": "stream",
     "text": [
      "Antes: None\n",
      "Loop: 3 3\n",
      "Loop: 41 3\n",
      "Loop: 12 3\n",
      "Loop: 9 3\n",
      "Loop: 74 3\n",
      "Loop: 15 3\n",
      "Mas pequeño: 3\n"
     ]
    }
   ],
   "source": [
    "mas_pequeño = None\n",
    "print('Antes:', mas_pequeño)\n",
    "for itervar in [3, 41, 12, 9, 74, 15]:\n",
    "    if mas_pequeño is None or itervar < mas_pequeño:\n",
    "        mas_pequeño = itervar\n",
    "    print('Loop:', itervar, mas_pequeño)\n",
    "print('Mas pequeño:', mas_pequeño)"
   ]
  },
  {
   "cell_type": "markdown",
   "metadata": {},
   "source": [
    "De nuevo, `mas_pequeño` es el \"más pequeño hasta ahora\" antes, durante y después de que se ejecuta el ciclo. Cuando el ciclo se ha completado, `mas_pequeño` contiene el valor mínimo en la lista.\n",
    "\n",
    "Una vez más, como en el recuento y la suma, las funciones incorporadas `max()` y `min()` hacen la escritura de estos bucles exactos innecesaria.\n",
    "\n",
    "La siguiente es una versión simple de la función `min()` incorporada de Python :"
   ]
  },
  {
   "cell_type": "code",
   "execution_count": 12,
   "metadata": {},
   "outputs": [],
   "source": [
    "def min(valores):\n",
    "    mas_pequeño = None\n",
    "    for valor in valores:\n",
    "        if mas_pequeño is None or valor < mas_pequeño:\n",
    "            mas_pequeño = valor\n",
    "    return mas_pequeño"
   ]
  },
  {
   "cell_type": "markdown",
   "metadata": {},
   "source": [
    "En la versión de función del código más pequeño, eliminamos todas las declaraciones `print` para que sean equivalentes a la función `min` que ya está incorporada en Python"
   ]
  },
  {
   "cell_type": "markdown",
   "metadata": {},
   "source": [
    "## Depuración\n",
    "\n",
    "A medida que comienzas a escribir programas más grandes, es posible que pases más tiempo depurando. Más código significa más posibilidades de cometer un error y más lugares para ocultar errores.\n",
    "\n",
    "Una forma de reducir el tiempo de depuración es \"depurar mediante bisección\". Por ejemplo, si hay 100 líneas en su programa y las verifica una a la vez, tomaría 100 pasos.\n",
    "\n",
    "En cambio, intente dividir el problema a la mitad. Mire en el medio del programa, o cerca de él, un valor intermedio que puede verificar. Agregue una declaración `print` (u otra cosa que tenga un efecto verificable) y ejecute el programa.\n",
    "\n",
    "Si la comprobación del punto medio es incorrecta, el problema debe estar en la primera mitad del programa. Si es correcto, el problema está en la segunda mitad.\n",
    "\n",
    "Cada vez que realiza un control como este, reduce a la mitad el número de líneas que debe buscar. Después de seis pasos (que es mucho menos de 100), estaría en una o dos líneas de código, al menos en teoría.\n",
    "\n",
    "En la práctica, no siempre está claro qué es el \"medio del programa\" y no siempre es posible verificarlo. No tiene sentido contar líneas y encontrar el punto medio exacto. En su lugar, piense en los lugares del programa donde podría haber errores y lugares donde es fácil verificarlo. Luego, elija un lugar donde crea que las probabilidades son las mismas que las del error antes o después del control."
   ]
  },
  {
   "cell_type": "markdown",
   "metadata": {},
   "source": [
    "## Glosario\n",
    "\n",
    "* **acumulador:** Una variable utilizada en un ciclo para sumar o acumular un resultado.\n",
    "* **contador:** Una variable utilizada en un ciclo para contar la cantidad de veces que sucedió algo. Inicializamos un contador a cero y luego incrementamos el contador cada vez que queremos \"contar\" algo.\n",
    "* **decremento:** Una actualización que disminuye el valor de una variable.\n",
    "* **inicializar:** Una tarea que da un valor inicial a una variable que se actualizará.\n",
    "* **incremento:** Una actualización que aumenta el valor de una variable (a menudo en uno).\n",
    "* **bucle infinito:** Un bucle en el que la condición de terminación nunca se cumple o para la que no hay condición de terminación.\n",
    "* **iteración:** Ejecución repetida de un conjunto de declaraciones usando una función que se llama a sí misma o un bucle."
   ]
  },
  {
   "cell_type": "markdown",
   "metadata": {},
   "source": [
    "## Ejercicios\n",
    "\n",
    "**Ejercicio 1:** escriba un programa que lea repetidamente los números hasta que el usuario ingrese \"hecho\". Una vez que se ingresa \"hecho\", imprima el total, el recuento y el promedio de los números. Si el usuario ingresa algo que no sea un número, detecta el error al usar `try` y `except` e imprime un mensaje de error y salta al siguiente número.\n",
    "\n",
    "    Ingrese un numero: 4\n",
    "    Ingrese un numero: 5\n",
    "    Ingrese un numero: dato incorrecto\n",
    "    Entrada incorrecta\n",
    "    Ingrese un numero: 7\n",
    "    Ingrese un numero: done\n",
    "    16 3 5.333333333333333\n",
    "\n",
    "**Ejercicio 2:** escriba otro programa que solicite una lista de números como se indica anteriormente y al final imprima tanto el número máximo como el mínimo en lugar del promedio."
   ]
  },
  {
   "cell_type": "markdown",
   "metadata": {},
   "source": [
    "<!--NAVIGATION-->\n",
    "| [Indice](indice.ipynb) | \n",
    "\n",
    "< [Capítulo 4 - Funciones](cap04.ipynb) | [Capítulo 6 - Cadenas](cap06.ipynb) >"
   ]
  }
 ],
 "metadata": {
  "kernelspec": {
   "display_name": "Python 3",
   "language": "python",
   "name": "python3"
  },
  "language_info": {
   "codemirror_mode": {
    "name": "ipython",
    "version": 3
   },
   "file_extension": ".py",
   "mimetype": "text/x-python",
   "name": "python",
   "nbconvert_exporter": "python",
   "pygments_lexer": "ipython3",
   "version": "3.7.3"
  },
  "varInspector": {
   "cols": {
    "lenName": 16,
    "lenType": 16,
    "lenVar": 40
   },
   "kernels_config": {
    "python": {
     "delete_cmd_postfix": "",
     "delete_cmd_prefix": "del ",
     "library": "var_list.py",
     "varRefreshCmd": "print(var_dic_list())"
    },
    "r": {
     "delete_cmd_postfix": ") ",
     "delete_cmd_prefix": "rm(",
     "library": "var_list.r",
     "varRefreshCmd": "cat(var_dic_list()) "
    }
   },
   "types_to_exclude": [
    "module",
    "function",
    "builtin_function_or_method",
    "instance",
    "_Feature"
   ],
   "window_display": false
  }
 },
 "nbformat": 4,
 "nbformat_minor": 2
}
