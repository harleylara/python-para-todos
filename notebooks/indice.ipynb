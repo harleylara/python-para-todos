{
 "cells": [
  {
   "cell_type": "markdown",
   "metadata": {},
   "source": [
    "# PYTHON PARA TODOS"
   ]
  },
  {
   "cell_type": "markdown",
   "metadata": {},
   "source": [
    "![Book Cover](./figures/cover-large.jpg)\n",
    "\n",
    "*Este libro es una versión al español de [Python for Everybody](https://www.py4e.com/) escrito por el [Dr. Charles R. Severance](http://www.dr-chuck.com/); este contenido esta disponible en [GitHub](https://github.com/csev/py4e).*\n",
    "\n",
    "Detalles de Copyright\n",
    "\n",
    "*Copyright ~ 2009- Charles Severance.\n",
    "Este trabajo está registrado bajo una Licencia Creative Commons AttributionNonCommercial-ShareAlike 3.0 [CC BY-NC-SA](https://creativecommons.org/licenses/by-nc-sa/3.0/).*"
   ]
  },
  {
   "cell_type": "markdown",
   "metadata": {},
   "source": [
    "<!--NAVIGATION-->\n",
    "| [Prólogo](prologo.ipynb) >"
   ]
  },
  {
   "cell_type": "markdown",
   "metadata": {},
   "source": [
    "## Tabla de contenidos\n",
    "\n",
    "<br>\n",
    "\n",
    "### [Prólogo](prologo.ipynb)\n",
    "\n",
    "### [Capítulo 1 - ¿Por qué deberías aprender a escribir código?](cap01.ipynb)\n",
    "\n",
    "### [Capítulo 2 - Variables, expresiones y declaraciones](cap02.ipynb)\n",
    "\n",
    "### [Capítulo 3 - Ejecuciones condicionales](cap03.ipynb)\n",
    "\n",
    "### [Capítulo 4 - Funciones](cap04.ipynb)\n",
    "\n",
    "### [Capítulo 5 - Iteraciones](cap05.ipynb)\n",
    "\n",
    "### [Capítulo 6 - Cadenas](cap06.ipynb)\n",
    "\n",
    "### [Capítulo 7 - Archivos](cap07.ipynb)\n",
    "\n",
    "### [Capítulo 8 - Listas](cap08.ipynb)\n",
    "\n",
    "### [Capítulo 9 - Diccionarios](cap09.ipynb)\n",
    "\n",
    "### [Capítulo 10 - Tuplas](cap10.ipynb)\n",
    "\n",
    "### [Capítulo 11 - Expresiones regulares](cap11.ipynb)\n",
    "\n",
    "### [Capítulo 12 - Programas en red](cap12.ipynb)\n",
    "\n",
    "### [Capítulo 13 - Python y servicios web](cap13.ipynb)\n",
    "\n",
    "### [Capítulo 14 - Programación orientada a objetos](cap14.ipynb)\n",
    "\n",
    "### [Capítulo 15 - Uso de bases de datos y SQL](cap15.ipynb)\n",
    "\n",
    "### [Capítulo 16 - Visualización de datos](cap16.ipynb)"
   ]
  },
  {
   "cell_type": "markdown",
   "metadata": {},
   "source": [
    "<!--NAVIGATION-->\n",
    "| [Prólogo](prologo.ipynb) >"
   ]
  }
 ],
 "metadata": {
  "kernelspec": {
   "display_name": "Python 3",
   "language": "python",
   "name": "python3"
  },
  "language_info": {
   "codemirror_mode": {
    "name": "ipython",
    "version": 3
   },
   "file_extension": ".py",
   "mimetype": "text/x-python",
   "name": "python",
   "nbconvert_exporter": "python",
   "pygments_lexer": "ipython3",
   "version": "3.7.3"
  },
  "varInspector": {
   "cols": {
    "lenName": 16,
    "lenType": 16,
    "lenVar": 40
   },
   "kernels_config": {
    "python": {
     "delete_cmd_postfix": "",
     "delete_cmd_prefix": "del ",
     "library": "var_list.py",
     "varRefreshCmd": "print(var_dic_list())"
    },
    "r": {
     "delete_cmd_postfix": ") ",
     "delete_cmd_prefix": "rm(",
     "library": "var_list.r",
     "varRefreshCmd": "cat(var_dic_list()) "
    }
   },
   "types_to_exclude": [
    "module",
    "function",
    "builtin_function_or_method",
    "instance",
    "_Feature"
   ],
   "window_display": false
  }
 },
 "nbformat": 4,
 "nbformat_minor": 2
}
