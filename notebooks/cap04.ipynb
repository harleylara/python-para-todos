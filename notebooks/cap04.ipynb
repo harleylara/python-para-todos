{
 "cells": [
  {
   "cell_type": "markdown",
   "metadata": {},
   "source": [
    "<!--BOOK_INFORMATION-->\n",
    "<img align=\"left\" style=\"padding-right:10px;\" src=\"./figures/cover-small.jpg\">\n",
    "\n",
    "*Este libro es una versión al español de [Python for Everybody](https://www.py4e.com/) escrito por el [Dr. Charles R. Severance](http://www.dr-chuck.com/); este contenido esta disponible en [GitHub](https://github.com/csev/py4e).*\n",
    "\n",
    "Detalles de Copyright\n",
    "\n",
    "*Copyright ~ 2009- Charles Severance.\n",
    "Este trabajo está registrado bajo una Licencia Creative Commons AttributionNonCommercial-ShareAlike 3.0 [CC BY-NC-SA](https://creativecommons.org/licenses/by-nc-sa/3.0/).*"
   ]
  },
  {
   "cell_type": "markdown",
   "metadata": {},
   "source": [
    "<!--NAVIGATION-->\n",
    "| [Indice](indice.ipynb) | \n",
    "\n",
    "< [Capítulo 3 - Ejecuciones condicionales](cap03.ipynb) | [Capítulo 5 - Iteraciones](cap05.ipynb) >"
   ]
  },
  {
   "cell_type": "markdown",
   "metadata": {},
   "source": [
    "# Capítulo 4 - Funciones"
   ]
  },
  {
   "cell_type": "markdown",
   "metadata": {},
   "source": [
    "## Llamadas de funciones\n",
    "\n",
    "En el contexto de la programación, una función es una secuencia de declaraciones nombrada que realiza un cálculo. Cuando define una función, especifica el nombre y la secuencia de las declaraciones. Más tarde, puede \"llamar\" a la función por su nombre. Ya hemos visto un ejemplo de llamada a una función:"
   ]
  },
  {
   "cell_type": "code",
   "execution_count": 1,
   "metadata": {},
   "outputs": [
    {
     "data": {
      "text/plain": [
       "int"
      ]
     },
     "execution_count": 1,
     "metadata": {},
     "output_type": "execute_result"
    }
   ],
   "source": [
    "type(32)"
   ]
  },
  {
   "cell_type": "markdown",
   "metadata": {},
   "source": [
    "El nombre de la función es `type`. La expresión entre paréntesis se llama argumento de la función. El argumento es un valor o variable que estamos pasando a la función como entrada a la función. El resultado para la función `type` es el tipo de argumento.\n",
    "\n",
    "Es común decir que una función \"toma\" un argumento y \"devuelve\" un resultado. El resultado se llama valor de retorno."
   ]
  },
  {
   "cell_type": "markdown",
   "metadata": {},
   "source": [
    "## Funciones integradas\n",
    "\n",
    "Python proporciona una serie de funciones integradas importantes que podemos usar sin necesidad de proporcionar la definición de la función. Los creadores de Python escribieron un conjunto de funciones para resolver problemas comunes y los incluyeron en Python para que los usemos.\n",
    "\n",
    "Las funciones `max` y `min` nos dan los valores más grandes y más pequeños en una lista, respectivamente:"
   ]
  },
  {
   "cell_type": "code",
   "execution_count": 2,
   "metadata": {},
   "outputs": [
    {
     "data": {
      "text/plain": [
       "'u'"
      ]
     },
     "execution_count": 2,
     "metadata": {},
     "output_type": "execute_result"
    }
   ],
   "source": [
    "max('Hola mundo!')"
   ]
  },
  {
   "cell_type": "code",
   "execution_count": 3,
   "metadata": {},
   "outputs": [
    {
     "data": {
      "text/plain": [
       "' '"
      ]
     },
     "execution_count": 3,
     "metadata": {},
     "output_type": "execute_result"
    }
   ],
   "source": [
    "min('Hola mundo!')"
   ]
  },
  {
   "cell_type": "markdown",
   "metadata": {},
   "source": [
    "La función `max` nos dice el \"carácter más grande\" en un `string` (que resulta ser la letra \"w\") y la función `min` nos muestra el carácter más pequeño (que resulta ser un espacio).\n",
    "\n",
    "Otra función incorporada muy común es la función `len` que nos dice cuántos elementos hay en su argumento. Si el argumento que se pasa a `len` es es una cadena, devuelve el número de caracteres en la cadena."
   ]
  },
  {
   "cell_type": "code",
   "execution_count": 4,
   "metadata": {},
   "outputs": [
    {
     "data": {
      "text/plain": [
       "11"
      ]
     },
     "execution_count": 4,
     "metadata": {},
     "output_type": "execute_result"
    }
   ],
   "source": [
    "len('Hola mundo!')"
   ]
  },
  {
   "cell_type": "markdown",
   "metadata": {},
   "source": [
    "Estas funciones no están limitadas a mirar cadenas. Pueden operar en cualquier conjunto de valores, como veremos en capítulos posteriores.\n",
    "\n",
    "Debe tratar los nombres de las funciones incorporadas como palabras reservadas (es decir, evite usar `max` como nombre de variable).\n"
   ]
  },
  {
   "cell_type": "markdown",
   "metadata": {},
   "source": [
    "## Tipos de funciones de conversión\n",
    "\n",
    "Python también proporciona funciones integradas que convierten valores de un tipo a otro. La función `int` toma cualquier valor y lo convierte en un entero, si puede, o se queja de lo contrario:"
   ]
  },
  {
   "cell_type": "code",
   "execution_count": 5,
   "metadata": {},
   "outputs": [
    {
     "data": {
      "text/plain": [
       "32"
      ]
     },
     "execution_count": 5,
     "metadata": {},
     "output_type": "execute_result"
    }
   ],
   "source": [
    "int('32')"
   ]
  },
  {
   "cell_type": "code",
   "execution_count": 6,
   "metadata": {},
   "outputs": [
    {
     "ename": "ValueError",
     "evalue": "invalid literal for int() with base 10: 'Hola'",
     "output_type": "error",
     "traceback": [
      "\u001b[1;31m---------------------------------------------------------------------------\u001b[0m",
      "\u001b[1;31mValueError\u001b[0m                                Traceback (most recent call last)",
      "\u001b[1;32m<ipython-input-6-3e58bd585213>\u001b[0m in \u001b[0;36m<module>\u001b[1;34m\u001b[0m\n\u001b[1;32m----> 1\u001b[1;33m \u001b[0mint\u001b[0m\u001b[1;33m(\u001b[0m\u001b[1;34m'Hola'\u001b[0m\u001b[1;33m)\u001b[0m\u001b[1;33m\u001b[0m\u001b[1;33m\u001b[0m\u001b[0m\n\u001b[0m",
      "\u001b[1;31mValueError\u001b[0m: invalid literal for int() with base 10: 'Hola'"
     ]
    }
   ],
   "source": [
    "int('Hola')"
   ]
  },
  {
   "cell_type": "markdown",
   "metadata": {},
   "source": [
    "`int` puede convertir valores de coma flotante a enteros, pero no redondea; corta la parte de la fracción:"
   ]
  },
  {
   "cell_type": "code",
   "execution_count": 7,
   "metadata": {},
   "outputs": [
    {
     "data": {
      "text/plain": [
       "3"
      ]
     },
     "execution_count": 7,
     "metadata": {},
     "output_type": "execute_result"
    }
   ],
   "source": [
    "int(3.999999)"
   ]
  },
  {
   "cell_type": "code",
   "execution_count": 8,
   "metadata": {},
   "outputs": [
    {
     "data": {
      "text/plain": [
       "-2"
      ]
     },
     "execution_count": 8,
     "metadata": {},
     "output_type": "execute_result"
    }
   ],
   "source": [
    "int(-2.3)"
   ]
  },
  {
   "cell_type": "markdown",
   "metadata": {},
   "source": [
    "`float` convierte números enteros y cadenas a números de coma flotante:"
   ]
  },
  {
   "cell_type": "code",
   "execution_count": 9,
   "metadata": {},
   "outputs": [
    {
     "data": {
      "text/plain": [
       "32.0"
      ]
     },
     "execution_count": 9,
     "metadata": {},
     "output_type": "execute_result"
    }
   ],
   "source": [
    "float(32)"
   ]
  },
  {
   "cell_type": "code",
   "execution_count": 10,
   "metadata": {},
   "outputs": [
    {
     "data": {
      "text/plain": [
       "3.14159"
      ]
     },
     "execution_count": 10,
     "metadata": {},
     "output_type": "execute_result"
    }
   ],
   "source": [
    "float('3.14159')"
   ]
  },
  {
   "cell_type": "markdown",
   "metadata": {},
   "source": [
    "Finalmente, `str` convierte su argumento en una cadena:"
   ]
  },
  {
   "cell_type": "code",
   "execution_count": 11,
   "metadata": {},
   "outputs": [
    {
     "data": {
      "text/plain": [
       "'32'"
      ]
     },
     "execution_count": 11,
     "metadata": {},
     "output_type": "execute_result"
    }
   ],
   "source": [
    "str(32)"
   ]
  },
  {
   "cell_type": "code",
   "execution_count": 12,
   "metadata": {},
   "outputs": [
    {
     "data": {
      "text/plain": [
       "'3.14159'"
      ]
     },
     "execution_count": 12,
     "metadata": {},
     "output_type": "execute_result"
    }
   ],
   "source": [
    "str(3.14159)"
   ]
  },
  {
   "cell_type": "markdown",
   "metadata": {},
   "source": [
    "##  Números al azar\n",
    "\n",
    "Dadas las mismas entradas, la mayoría de los programas de computadora generan los mismos resultados cada vez, por lo que se dice que son deterministas. El determinismo suele ser algo bueno, ya que esperamos que el mismo cálculo arroje el mismo resultado. Sin embargo, para algunas aplicaciones, queremos que la computadora sea impredecible. Los juegos son un ejemplo obvio, pero hay más.\n",
    "\n",
    "Hacer que un programa sea verdaderamente no determinista resulta no ser tan fácil, pero hay formas de que al menos parezca no determinista. Una de ellas es usar algoritmos que generan números pseudoaleatorios. Los números pseudoaleatorios no son verdaderamente aleatorios porque se generan mediante un cálculo determinista, pero con solo mirar los números, es casi imposible distinguirlos de los aleatorios.\n",
    "\n",
    "El módulo `random` proporciona funciones que generan números pseudoaleatorios (que a partir de ahora llamaré \"aleatorios\").\n",
    "\n",
    "La función `random` devuelve un flotante aleatorio entre 0.0 y 1.0 (incluyendo 0.0 pero no 1.0). Cada vez que llamas `random`, obtienes el siguiente número en una larga serie. Para ver una muestra, ejecuta este ciclo:"
   ]
  },
  {
   "cell_type": "code",
   "execution_count": 13,
   "metadata": {},
   "outputs": [
    {
     "name": "stdout",
     "output_type": "stream",
     "text": [
      "0.839602825161887\n",
      "0.6407309034969706\n",
      "0.915352238799576\n",
      "0.6391958852743845\n",
      "0.023691711900079793\n",
      "0.09264210392463723\n",
      "0.5795369997081438\n",
      "0.5464776187483458\n",
      "0.291258410739916\n",
      "0.6320967319823835\n"
     ]
    }
   ],
   "source": [
    "import random\n",
    "\n",
    "for i in range(10):\n",
    "    x = random.random()\n",
    "    print(x)"
   ]
  },
  {
   "cell_type": "markdown",
   "metadata": {},
   "source": [
    "Este programa produce la siguiente lista de 10 números aleatorios entre 0.0 y hasta 1.0 pero sin incluir.\n",
    "\n",
    "**Ejercicio 1:** Ejecute el programa en su sistema y vea qué números obtiene. Ejecute el programa más de una vez y vea qué números obtiene.\n",
    "\n",
    "La función `random` es solo una de muchas funciones que manejan números aleatorios. La función `randint` toma los parámetros `low` y `high`, y devuelve un número entero entre `low` y `high` (incluidos ambos)."
   ]
  },
  {
   "cell_type": "code",
   "execution_count": 14,
   "metadata": {},
   "outputs": [
    {
     "data": {
      "text/plain": [
       "10"
      ]
     },
     "execution_count": 14,
     "metadata": {},
     "output_type": "execute_result"
    }
   ],
   "source": [
    "random.randint(5, 10)"
   ]
  },
  {
   "cell_type": "markdown",
   "metadata": {},
   "source": [
    "Para elegir un elemento de una secuencia al azar, puede usar `choice`:"
   ]
  },
  {
   "cell_type": "code",
   "execution_count": 15,
   "metadata": {},
   "outputs": [
    {
     "data": {
      "text/plain": [
       "2"
      ]
     },
     "execution_count": 15,
     "metadata": {},
     "output_type": "execute_result"
    }
   ],
   "source": [
    "t = [1, 2, 3]\n",
    "random.choice(t)"
   ]
  },
  {
   "cell_type": "markdown",
   "metadata": {},
   "source": [
    "El módulo `random` también proporciona funciones para generar valores aleatorios a partir de distribuciones continuas, incluidas gaussianas, exponenciales, gamma y algunas más."
   ]
  },
  {
   "cell_type": "markdown",
   "metadata": {},
   "source": [
    "## Funciones matemáticas\n",
    "\n",
    "Python tiene un módulo `math` que proporciona la mayoría de las funciones matemáticas familiares. Antes de que podamos usar el módulo, tenemos que importarlo:"
   ]
  },
  {
   "cell_type": "code",
   "execution_count": 16,
   "metadata": {},
   "outputs": [],
   "source": [
    "import math"
   ]
  },
  {
   "cell_type": "markdown",
   "metadata": {},
   "source": [
    "Esta declaración crea un objeto de módulo llamado `math`. Si imprime el objeto del módulo, obtendrá información al respecto:"
   ]
  },
  {
   "cell_type": "code",
   "execution_count": 17,
   "metadata": {},
   "outputs": [
    {
     "name": "stdout",
     "output_type": "stream",
     "text": [
      "<module 'math' (built-in)>\n"
     ]
    }
   ],
   "source": [
    "print(math)"
   ]
  },
  {
   "cell_type": "markdown",
   "metadata": {},
   "source": [
    "El objeto del módulo contiene las funciones y variables definidas en el módulo. Para acceder a una de las funciones, debe especificar el nombre del módulo y el nombre de la función, separados por un punto. Este formato se llama notación de puntos."
   ]
  },
  {
   "cell_type": "code",
   "execution_count": 18,
   "metadata": {},
   "outputs": [
    {
     "name": "stdout",
     "output_type": "stream",
     "text": [
      "9.777236052888478\n"
     ]
    }
   ],
   "source": [
    "señal = 95\n",
    "ruido = 10\n",
    "relacion = señal / ruido\n",
    "decibeles = 10 * math.log10(relacion)\n",
    "print(decibeles)"
   ]
  },
  {
   "cell_type": "code",
   "execution_count": 19,
   "metadata": {},
   "outputs": [
    {
     "name": "stdout",
     "output_type": "stream",
     "text": [
      "0.644217687237691\n"
     ]
    }
   ],
   "source": [
    "radianes = 0.7\n",
    "altura = math.sin(radianes)\n",
    "print(altura)"
   ]
  },
  {
   "cell_type": "markdown",
   "metadata": {},
   "source": [
    "El primer ejemplo calcula la base de logaritmo 10 de la relación señal / ruido. El módulo matemático también proporciona una función llamada `log` que calcula la base de logaritmos e.\n",
    "\n",
    "El segundo ejemplo encuentra el seno de `radianes`. El nombre de la variable es un indicio de que `sin` y las otras funciones trigonométricas (`cos`, `tan`, etc.) toman argumentos en radianes. Para convertir de grados a radianes, divida por 360 y multiplique por 2 π:"
   ]
  },
  {
   "cell_type": "code",
   "execution_count": 20,
   "metadata": {},
   "outputs": [
    {
     "data": {
      "text/plain": [
       "0.7071067811865476"
      ]
     },
     "execution_count": 20,
     "metadata": {},
     "output_type": "execute_result"
    }
   ],
   "source": [
    "grados = 45\n",
    "radianes = grados / 360.0 * 2 * math.pi\n",
    "math.sin(radianes)"
   ]
  },
  {
   "cell_type": "markdown",
   "metadata": {},
   "source": [
    "La expresión `math.pi` obtiene la variable `pi` del módulo matemático. El valor de esta variable es una\n",
    "aproximación de π, con una precisión de alrededor de 15 dígitos.\n",
    "\n",
    "Si conoce trigonometría, puede verificar el resultado anterior comparándolo con la raíz cuadrada de dos\n",
    "dividida por dos:"
   ]
  },
  {
   "cell_type": "code",
   "execution_count": 21,
   "metadata": {},
   "outputs": [
    {
     "data": {
      "text/plain": [
       "0.7071067811865476"
      ]
     },
     "execution_count": 21,
     "metadata": {},
     "output_type": "execute_result"
    }
   ],
   "source": [
    "math.sqrt(2) / 2.0"
   ]
  },
  {
   "cell_type": "markdown",
   "metadata": {},
   "source": [
    "## Agregar nuevas funciones\n",
    "\n",
    "Hasta ahora, solo hemos usado las funciones que vienen con Python, pero también es posible agregar nuevas funciones. Una definición de función especifica el nombre de una nueva función y la secuencia de declaraciones que se ejecutan cuando se llama a la función. Una vez que definimos una función, podemos reutilizar la función una y otra vez a lo largo de nuestro programa.\n",
    "\n",
    "Aquí hay un ejemplo:"
   ]
  },
  {
   "cell_type": "code",
   "execution_count": 22,
   "metadata": {},
   "outputs": [],
   "source": [
    "def imprimir_oraciones():\n",
    "    print(\"Soy un leñador, y estoy bien.\")\n",
    "    print(\"Duermo toda la noche y trabajo todo el día.\")"
   ]
  },
  {
   "cell_type": "markdown",
   "metadata": {},
   "source": [
    "`def` es una palabra clave que indica que esta es una definición de función. El nombre de la función es\n",
    "`imprimir_oraciones`. Las reglas para los nombres de las funciones son las mismas que para los nombres de las variables: las letras, los números y algunos signos de puntuación son legales, pero el primer carácter no puede ser un número. No puede usar una palabra clave como el nombre de una función, y debe evitar tener una variable y una función con el mismo nombre.\n",
    "\n",
    "Los paréntesis vacíos después del nombre indican que esta función no toma ningún argumento. Más adelante construiremos funciones que tomen argumentos como sus entradas.\n",
    "\n",
    "La primera línea de la definición de función se llama encabezado; el resto se llama el cuerpo. El encabezado debe terminar con dos puntos y el cuerpo debe sangrarse. Por convención, la sangría es siempre de cuatro espacios. El cuerpo puede contener cualquier cantidad de declaraciones.\n",
    "\n",
    "Las cadenas en las declaraciones de impresión están entre comillas. Las comillas simples y las comillas dobles hacen lo mismo; la mayoría de las personas usa comillas simples, excepto en casos como este donde aparece una comilla simple (que también es un apóstrofo) en la cadena.\n",
    "\n",
    "Si escribe una definición de función en modo interactivo, el intérprete imprime puntos suspensivos `...` para hacerle saber que la definición no está completa:\n",
    "\n",
    "    >>> def imprimir_oraciones():\n",
    "    ... print(\"Soy un leñador, y estoy bien.\")\n",
    "    ... print('Duermo toda la noche y trabajo todo el día.')\n",
    "    ...\n",
    "\n",
    "Para finalizar la función, debe ingresar una línea vacía (esto no es necesario en una secuencia de comandos).\n",
    "\n",
    "La definición de una función crea una variable con el mismo nombre."
   ]
  },
  {
   "cell_type": "code",
   "execution_count": 23,
   "metadata": {},
   "outputs": [
    {
     "name": "stdout",
     "output_type": "stream",
     "text": [
      "<function imprimir_oraciones at 0x0000021AB2715B70>\n",
      "<class 'function'>\n"
     ]
    }
   ],
   "source": [
    "print(imprimir_oraciones)\n",
    "print(type(imprimir_oraciones))"
   ]
  },
  {
   "cell_type": "markdown",
   "metadata": {},
   "source": [
    "El valor de imprimir_oraciones es un objeto de función, que tiene el tipo \"función\".\n",
    "\n",
    "La sintaxis para llamar a la nueva función es la misma que para las funciones incorporadas:"
   ]
  },
  {
   "cell_type": "code",
   "execution_count": 24,
   "metadata": {},
   "outputs": [
    {
     "name": "stdout",
     "output_type": "stream",
     "text": [
      "Soy un leñador, y estoy bien.\n",
      "Duermo toda la noche y trabajo todo el día.\n"
     ]
    }
   ],
   "source": [
    "imprimir_oraciones()"
   ]
  },
  {
   "cell_type": "markdown",
   "metadata": {},
   "source": [
    "Una vez que haya definido una función, puede usarla dentro de otra función. Por ejemplo, para repetir el estribillo anterior, podríamos escribir una función llamada repetir_oraciones:"
   ]
  },
  {
   "cell_type": "code",
   "execution_count": 25,
   "metadata": {},
   "outputs": [],
   "source": [
    "def repetir_oraciones():\n",
    "    imprimir_oraciones()\n",
    "    imprimir_oraciones()"
   ]
  },
  {
   "cell_type": "markdown",
   "metadata": {},
   "source": [
    "Y luego llama repetir_oraciones:"
   ]
  },
  {
   "cell_type": "code",
   "execution_count": 26,
   "metadata": {},
   "outputs": [
    {
     "name": "stdout",
     "output_type": "stream",
     "text": [
      "Soy un leñador, y estoy bien.\n",
      "Duermo toda la noche y trabajo todo el día.\n",
      "Soy un leñador, y estoy bien.\n",
      "Duermo toda la noche y trabajo todo el día.\n"
     ]
    }
   ],
   "source": [
    "repetir_oraciones()"
   ]
  },
  {
   "cell_type": "markdown",
   "metadata": {},
   "source": [
    "## Definiciones y usos\n",
    "\n",
    "Al juntar los fragmentos de código de la sección anterior, todo el programa se ve así:"
   ]
  },
  {
   "cell_type": "code",
   "execution_count": 27,
   "metadata": {},
   "outputs": [
    {
     "name": "stdout",
     "output_type": "stream",
     "text": [
      "Soy un leñador, y estoy bien.\n",
      "Duermo toda la noche y trabajo todo el día.\n",
      "Soy un leñador, y estoy bien.\n",
      "Duermo toda la noche y trabajo todo el día.\n"
     ]
    }
   ],
   "source": [
    "def imprimir_oraciones():\n",
    "    print(\"Soy un leñador, y estoy bien.\")\n",
    "    print('Duermo toda la noche y trabajo todo el día.')\n",
    "\n",
    "def repetir_oraciones():\n",
    "    imprimir_oraciones()\n",
    "    imprimir_oraciones()\n",
    "\n",
    "repetir_oraciones()"
   ]
  },
  {
   "cell_type": "markdown",
   "metadata": {},
   "source": [
    "Este programa contiene dos definiciones de funciones: `imprimir_oraciones` y `repetir_oraciones`. Las definiciones de funciones se ejecutan como otras declaraciones, pero el efecto es crear objetos de función. Las instrucciones dentro de la función no se ejecutan hasta que se llama a la función y la definición de la función no genera salida.\n",
    "\n",
    "Como era de esperar, debe crear una función antes de poder ejecutarla. En otras palabras, la definición de la función debe ejecutarse antes de la primera vez que se llama.\n",
    "\n",
    "**Ejercicio 2:** mueva la última línea de este programa a la parte superior, de modo que la llamada a la función aparezca antes de las definiciones. Ejecute el programa y vea qué mensaje de error recibe.\n",
    "\n",
    "**Ejercicio 3:** Mueva la llamada a la función de regreso a la parte inferior y mueva la definición de\n",
    "imprimir_oraciones después de la definición de repetir_oraciones. ¿Qué pasa cuando ejecutas este programa?"
   ]
  },
  {
   "cell_type": "markdown",
   "metadata": {},
   "source": [
    "## Flujo de ejecución\n",
    "\n",
    "Para garantizar que una función esté definida antes de su primer uso, debe conocer el orden en que se ejecutan las instrucciones, lo que se denomina flujo de ejecución.\n",
    "\n",
    "La ejecución siempre comienza en la primera declaración del programa. Las declaraciones se ejecutan una a la vez, en orden de arriba a abajo.\n",
    "\n",
    "Las definiciones de funciones no alteran el flujo de ejecución del programa, pero recuerde que las instrucciones dentro de la función no se ejecutan hasta que se llame a la función.\n",
    "\n",
    "Una llamada a función es como un desvío en el flujo de ejecución. En lugar de ir al siguiente enunciado, el flujo salta al cuerpo de la función, ejecuta todas las instrucciones allí y luego regresa para continuar donde lo dejó.\n",
    "\n",
    "Eso suena bastante simple, hasta que recuerde que una función puede llamar a otra. Mientras está en medio de una función, el programa podría tener que ejecutar las declaraciones en otra función. ¡Pero al ejecutar esa nueva función, el programa podría tener que ejecutar otra función más!\n",
    "\n",
    "Afortunadamente, Python es bueno en el seguimiento de dónde está, por lo que cada vez que se completa una función, el programa continúa donde lo dejó en la función que lo llamó. Cuando llega al final del programa, termina.\n",
    "\n",
    "¿Cuál es la moraleja de esta sórdida historia? Cuando lee un programa, no siempre quiere leer de arriba abajo. A veces tiene más sentido si sigues el flujo de ejecución."
   ]
  },
  {
   "cell_type": "markdown",
   "metadata": {},
   "source": [
    "## Parámetros y argumentos\n",
    "\n",
    "Algunas de las funciones integradas que hemos visto requieren argumentos. Por ejemplo, cuando llamas `math.sin`, pasas un número como argumento. Algunas funciones toman más de un argumento: `math.pow` toma dos, la base y el exponente.\n",
    "\n",
    "Dentro de la función, los argumentos se asignan a variables llamadas parámetros. Aquí hay un ejemplo de una función definida por el usuario que toma un argumento:"
   ]
  },
  {
   "cell_type": "code",
   "execution_count": 28,
   "metadata": {},
   "outputs": [],
   "source": [
    "def imprimir_pares(bruce):\n",
    "    print(bruce)\n",
    "    print(bruce)"
   ]
  },
  {
   "cell_type": "markdown",
   "metadata": {},
   "source": [
    "Esta función asigna el argumento a un parámetro nombrado `bruce`. Cuando se llama a la función, imprime el valor del parámetro (cualquiera que sea) dos veces.\n",
    "\n",
    "Esta función funciona con cualquier valor que se pueda imprimir."
   ]
  },
  {
   "cell_type": "code",
   "execution_count": 29,
   "metadata": {},
   "outputs": [
    {
     "name": "stdout",
     "output_type": "stream",
     "text": [
      "Spam\n",
      "Spam\n"
     ]
    }
   ],
   "source": [
    "imprimir_pares('Spam')"
   ]
  },
  {
   "cell_type": "code",
   "execution_count": 30,
   "metadata": {},
   "outputs": [
    {
     "name": "stdout",
     "output_type": "stream",
     "text": [
      "17\n",
      "17\n"
     ]
    }
   ],
   "source": [
    "imprimir_pares(17)"
   ]
  },
  {
   "cell_type": "code",
   "execution_count": 31,
   "metadata": {},
   "outputs": [
    {
     "name": "stdout",
     "output_type": "stream",
     "text": [
      "3.141592653589793\n",
      "3.141592653589793\n"
     ]
    }
   ],
   "source": [
    "import math\n",
    "imprimir_pares(math.pi)"
   ]
  },
  {
   "cell_type": "markdown",
   "metadata": {},
   "source": [
    "Las mismas reglas de composición que se aplican a las funciones incorporadas también se aplican a las funciones definidas por el usuario, por lo que podemos utilizar cualquier tipo de expresión como argumento para `imprimir_pares`:"
   ]
  },
  {
   "cell_type": "code",
   "execution_count": 32,
   "metadata": {},
   "outputs": [
    {
     "name": "stdout",
     "output_type": "stream",
     "text": [
      "Spam Spam Spam Spam \n",
      "Spam Spam Spam Spam \n"
     ]
    }
   ],
   "source": [
    "imprimir_pares('Spam ' * 4)"
   ]
  },
  {
   "cell_type": "code",
   "execution_count": 33,
   "metadata": {},
   "outputs": [
    {
     "name": "stdout",
     "output_type": "stream",
     "text": [
      "-1.0\n",
      "-1.0\n"
     ]
    }
   ],
   "source": [
    "imprimir_pares(math.cos(math.pi))"
   ]
  },
  {
   "cell_type": "markdown",
   "metadata": {},
   "source": [
    "El argumento se evalúa antes de llamar a la función, por lo que en los ejemplos las expresiones `'Spam ' * 4 y math.cos(math.pi)` solo se evalúan una vez.\n",
    "\n",
    "También puedes usar una variable como argumento:"
   ]
  },
  {
   "cell_type": "code",
   "execution_count": 34,
   "metadata": {},
   "outputs": [
    {
     "name": "stdout",
     "output_type": "stream",
     "text": [
      "Eric, la mitad de una abeja\n",
      "Eric, la mitad de una abeja\n"
     ]
    }
   ],
   "source": [
    "michael = 'Eric, la mitad de una abeja'\n",
    "imprimir_pares(michael)"
   ]
  },
  {
   "cell_type": "markdown",
   "metadata": {},
   "source": [
    "El nombre de la variable que pasamos como argumento `michael` no tiene nada que ver con el nombre del parámetro `bruce`. No importa cómo se llamó el valor que se paso en la llamada de la función; adentro de `imprimir_pares`, llamamos a todos `bruce`."
   ]
  },
  {
   "cell_type": "markdown",
   "metadata": {},
   "source": [
    "## Funciones fructíferas y funciones vacías\n",
    "\n",
    "Algunas de las funciones que estamos usando, como las funciones matemáticas, arrojan resultados; a falta de un nombre mejor, los llamo funciones fructíferas. Otras funciones, como `imprimir_pares`, realizan una acción pero no devuelven un valor. Se llaman funciones vacías.\n",
    "\n",
    "Cuando llamas a una función fructífera, casi siempre quieres hacer algo con el resultado; por ejemplo, puede asignarlo a una variable o usarlo como parte de una expresión:"
   ]
  },
  {
   "cell_type": "code",
   "execution_count": 35,
   "metadata": {},
   "outputs": [
    {
     "name": "stdout",
     "output_type": "stream",
     "text": [
      "1.618033988749895\n"
     ]
    }
   ],
   "source": [
    "radianes = 1\n",
    "x = math.cos(radianes)\n",
    "oro = (math.sqrt(5) + 1) / 2\n",
    "print(oro)"
   ]
  },
  {
   "cell_type": "markdown",
   "metadata": {},
   "source": [
    "Cuando llamas a una función en modo interactivo, Python muestra el resultado:\n",
    "\n",
    "    >>> math.sqrt(5)\n",
    "    2.23606797749979\n",
    "    \n",
    "Pero en una secuencia de comandos, si llama a una función fructífera y no almacena el resultado de la función en una variable, el valor de retorno desaparece en la niebla."
   ]
  },
  {
   "cell_type": "code",
   "execution_count": 36,
   "metadata": {},
   "outputs": [
    {
     "data": {
      "text/plain": [
       "2.23606797749979"
      ]
     },
     "execution_count": 36,
     "metadata": {},
     "output_type": "execute_result"
    }
   ],
   "source": [
    "math.sqrt(5)"
   ]
  },
  {
   "cell_type": "markdown",
   "metadata": {},
   "source": [
    "Este script calcula la raíz cuadrada de 5, pero como no almacena el resultado en una variable o muestra el resultado, no es muy útil.\n",
    "\n",
    "Las funciones vacías pueden mostrar algo en la pantalla o tener algún otro efecto, pero no tienen un valor de retorno. Si intentas asignar el resultado a una variable, obtienes un valor especial llamado `None`."
   ]
  },
  {
   "cell_type": "code",
   "execution_count": 37,
   "metadata": {},
   "outputs": [
    {
     "name": "stdout",
     "output_type": "stream",
     "text": [
      "Grande\n",
      "Grande\n",
      "None\n"
     ]
    }
   ],
   "source": [
    "resultado = imprimir_pares('Grande')\n",
    "print(resultado)"
   ]
  },
  {
   "cell_type": "markdown",
   "metadata": {},
   "source": [
    "El valor `None` no es el mismo que el de la cadena \"Ninguno\". Es un valor especial que tiene su propio tipo:"
   ]
  },
  {
   "cell_type": "code",
   "execution_count": 38,
   "metadata": {},
   "outputs": [
    {
     "name": "stdout",
     "output_type": "stream",
     "text": [
      "<class 'NoneType'>\n"
     ]
    }
   ],
   "source": [
    "print(type(None))"
   ]
  },
  {
   "cell_type": "markdown",
   "metadata": {},
   "source": [
    "Para devolver un resultado de una función, usamos la declaración `return` en nuestra función. Por ejemplo, podríamos hacer una función muy simple llamada sumados que suma dos números y devuelve un resultado."
   ]
  },
  {
   "cell_type": "code",
   "execution_count": 39,
   "metadata": {},
   "outputs": [
    {
     "name": "stdout",
     "output_type": "stream",
     "text": [
      "8\n"
     ]
    }
   ],
   "source": [
    "def sumar(a, b):\n",
    "    suma = a + b\n",
    "    return suma\n",
    "\n",
    "x = sumar(3, 5)\n",
    "print(x)"
   ]
  },
  {
   "cell_type": "markdown",
   "metadata": {},
   "source": [
    "Cuando se ejecuta este script, la instrucción `print` imprimirá 8 porque sumados llamó a la función con 3 y 5 como argumentos. Dentro de la función, los parámetros `a` y `b` eran 3 y 5 respectivamente. La función calculó la suma de los dos números y la colocó en la variable de función local nombrada suma. Luego utilizó la declaración `return` para enviar el valor calculado nuevamente al código de llamada como el resultado de la función, que se asignó a la variable `x` y se imprimió."
   ]
  },
  {
   "cell_type": "markdown",
   "metadata": {},
   "source": [
    "## ¿Porque funciona?\n",
    "\n",
    "Puede que no esté claro por qué vale la pena dividir un programa en funciones. Hay varias razones:\n",
    "* Crear una nueva función le da la oportunidad de nombrar un grupo de declaraciones, lo que hace que su programa sea más fácil de leer, comprender y depurar.\n",
    "* Las funciones pueden hacer que un programa sea más pequeño al eliminar el código repetitivo. Más tarde, si haces un cambio, solo tienes que hacerlo en un solo lugar.\n",
    "* La división de un programa largo en funciones le permite depurar las partes de una en una y luego ensamblarlas en un todo funcional.\n",
    "* Las funciones bien diseñadas son a menudo útiles para muchos programas. Una vez que escribe y depura uno, puede reutilizarlo.\n",
    "\n",
    "A lo largo del resto del libro, a menudo usaremos una definición de función para explicar un concepto. Parte de la habilidad de crear y usar funciones es tener una función que capture adecuadamente una idea como \"encontrar el valor más pequeño en una lista de valores\". Más tarde le mostraremos el código que encuentre el más pequeño en una lista de valores y se lo presentaremos como una función llamada `min` que toma una lista de valores como argumento y devuelve el valor más pequeño de la lista."
   ]
  },
  {
   "cell_type": "markdown",
   "metadata": {},
   "source": [
    "## Depuración\n",
    "\n",
    "Si está usando un editor de texto para escribir sus scripts, puede tener problemas con espacios y tabulaciones. La mejor forma de evitar estos problemas es usar espacios exclusivamente (sin tabulaciones). La mayoría de los editores de texto que conocen Python lo hacen de manera predeterminada, pero otros no.\n",
    "\n",
    "Las tabulaciones y espacios generalmente son invisibles, lo que hace que sea difícil depurarlos, así que intente encontrar un editor que maneje la sangría por usted.\n",
    "\n",
    "Además, no se olvide de guardar su programa antes de ejecutarlo. Algunos entornos de desarrollo lo hacen de forma automática, pero otros no. En ese caso, el programa que está viendo en el editor de texto no es el mismo que el programa que está ejecutando\n",
    "\n",
    "La depuración puede llevar mucho tiempo si sigues ejecutando el mismo programa incorrecto una y otra vez.\n",
    "\n",
    "Asegúrese de que el código que está mirando es el código que está ejecutando. Si no está seguro, ponga algo así como `print(\"hola\")` al principio del programa y ejecútelo de nuevo. Si no ves hola, ¡no estás ejecutando el programa correcto!"
   ]
  },
  {
   "cell_type": "markdown",
   "metadata": {},
   "source": [
    "## Glosario\n",
    "\n",
    "* **algoritmo:** Un proceso general para resolver una categoría de problemas.\n",
    "* **argumento:** Un valor proporcionado a una función cuando se llama a la función. Este valor se asigna al parámetro correspondiente en la función.\n",
    "* **cuerpo:** La secuencia de instrucciones dentro de una definición de función.\n",
    "* **composición:** Usar una expresión como parte de una expresión más grande, o una declaración como parte de una declaración más grande.\n",
    "* **determinista:** Perteneciente a un programa que hace lo mismo cada vez que se ejecuta, con las mismas entradas.\n",
    "* **notación de puntos:** La sintaxis para llamar a una función en otro módulo al especificar el nombre del módulo seguido de un punto `.` y el nombre de la función.\n",
    "* **flujo de ejecución:** El orden en que las sentencias se ejecutan durante la ejecución de un programa.\n",
    "* **función fructífera:** Una función que devuelve un valor.\n",
    "* **función:** Una secuencia de declaraciones con nombre que realiza alguna operación útil. Las funciones\n",
    "pueden o no tomar argumentos y pueden o no producir un resultado.\n",
    "* **llamada de función:** Una declaración que ejecuta una función. Consiste en el nombre de la función seguido de una lista de argumentos.\n",
    "* **definición de función:** Una declaración que crea una nueva función, especificando su nombre, parámetros y las declaraciones que ejecuta.\n",
    "* **objeto de función:** Un valor creado por una definición de función. El nombre de la función es una variable que hace referencia a un objeto de función.\n",
    "* **cabecera:** La primera línea de una definición de función.\n",
    "* **declaración de importación:** Una declaración que lee un archivo de módulo y crea un objeto de módulo.\n",
    "* **objeto de módulo:** Un valor creado por una declaración `import` que proporciona acceso a los datos y códigos definidos en un módulo.\n",
    "* **parámetro:** Un nombre usado dentro de una función para referirse al valor pasado como argumento.\n",
    "* **pseudoaleatorio:** Perteneciente a una secuencia de números que parecen ser aleatorios, pero que son generados por un programa determinista.\n",
    "* **valor de retorno:** El resultado de una función. Si una llamada a función se usa como una expresión, el valor de retorno es el valor de la expresión.\n",
    "* **función nula:** Una función que no devuelve un valor."
   ]
  },
  {
   "cell_type": "markdown",
   "metadata": {},
   "source": [
    "## Ejercicios\n",
    "\n",
    "**Ejercicio 4:** ¿Cuál es el propósito de la palabra clave `def` en Python?\n",
    "1. Es el argot que significa \"el siguiente código es realmente genial\" \n",
    "2. Se indica el inicio de una función\n",
    "3. Indica que la siguiente sección sangrada de código se va a guardar para más tarde \n",
    "4. B y C son verdaderas\n",
    "5. Ninguna de las anteriores\n",
    "\n",
    "**Ejercicio 5:** ¿Qué imprimirá el siguiente programa de Python?\n",
    "\n",
    "    def fred():\n",
    "        print(\"Zap\")\n",
    "    def jane():\n",
    "        print(\"ABC\")\n",
    "    jane()\n",
    "    fred()\n",
    "    jane()\n",
    "\n",
    "1. Zap ABC jane fred jane\n",
    "2. Zap ABC Zap\n",
    "3. ABC Zap jane\n",
    "4. ABC Zap ABC\n",
    "5. Zap Zap Zap\n",
    "\n",
    "**Ejercicio 6:** vuelva a escribir su cálculo de pago con tiempo y medio para las horas extraordinarias y cree una función llamada `calcularpago` que toma dos parámetros (horas y tarifa).\n",
    "\n",
    "    Ingrese las Horas: 45\n",
    "    Ingrese la tarifa: 10\n",
    "    Pago: 475.0\n",
    "\n",
    "**Ejercicio 7:** Reescribe el programa de calificaciones del capítulo anterior usando una función llamada `calculargrado` que toma un puntaje como su parámetro y devuelve una calificación como una cadena.\n",
    "\n",
    "    Puntaje Grado\n",
    "    > 0.9    A\n",
    "    > 0.8    B\n",
    "    > 0.7    C\n",
    "    > 0.6    D\n",
    "    <= 0.6   F\n",
    "    \n",
    "    Ingresa el puntaje: 0.95\n",
    "    A\n",
    "    \n",
    "    Ingresa el puntaje: perfecto\n",
    "    Puntaje equivocado\n",
    "    \n",
    "    Ingresa el puntaje: 10.0\n",
    "    Puntaje equivocado\n",
    "    \n",
    "    Enter score: 0.75\n",
    "    C\n",
    "    \n",
    "    Enter score: 0.5\n",
    "    F\n",
    "\n",
    "Ejecute el programa repetidamente para probar los diferentes valores de entrada."
   ]
  },
  {
   "cell_type": "markdown",
   "metadata": {},
   "source": [
    "<!--NAVIGATION-->\n",
    "| [Indice](indice.ipynb) | \n",
    "\n",
    "< [Capítulo 3 - Ejecuciones condicionales](cap03.ipynb) | [Capítulo 5 - Iteraciones](cap05.ipynb) >"
   ]
  }
 ],
 "metadata": {
  "kernelspec": {
   "display_name": "Python 3",
   "language": "python",
   "name": "python3"
  },
  "language_info": {
   "codemirror_mode": {
    "name": "ipython",
    "version": 3
   },
   "file_extension": ".py",
   "mimetype": "text/x-python",
   "name": "python",
   "nbconvert_exporter": "python",
   "pygments_lexer": "ipython3",
   "version": "3.7.3"
  },
  "varInspector": {
   "cols": {
    "lenName": 16,
    "lenType": 16,
    "lenVar": 40
   },
   "kernels_config": {
    "python": {
     "delete_cmd_postfix": "",
     "delete_cmd_prefix": "del ",
     "library": "var_list.py",
     "varRefreshCmd": "print(var_dic_list())"
    },
    "r": {
     "delete_cmd_postfix": ") ",
     "delete_cmd_prefix": "rm(",
     "library": "var_list.r",
     "varRefreshCmd": "cat(var_dic_list()) "
    }
   },
   "types_to_exclude": [
    "module",
    "function",
    "builtin_function_or_method",
    "instance",
    "_Feature"
   ],
   "window_display": false
  }
 },
 "nbformat": 4,
 "nbformat_minor": 2
}
