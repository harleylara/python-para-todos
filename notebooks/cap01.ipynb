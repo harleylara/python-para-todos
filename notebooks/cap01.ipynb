{
 "cells": [
  {
   "cell_type": "markdown",
   "metadata": {},
   "source": [
    "<!--BOOK_INFORMATION-->\n",
    "<img align=\"left\" style=\"padding-right:10px;\" src=\"./figures/cover-small.jpg\">\n",
    "\n",
    "*Este libro es una versión al español de [Python for Everybody](https://www.py4e.com/) escrito por el [Dr. Charles R. Severance](http://www.dr-chuck.com/); este contenido esta disponible en [GitHub](https://github.com/csev/py4e).*\n",
    "\n",
    "Detalles de Copyright\n",
    "\n",
    "*Copyright ~ 2009- Charles Severance.\n",
    "Este trabajo está registrado bajo una Licencia Creative Commons AttributionNonCommercial-ShareAlike 3.0 [CC BY-NC-SA](https://creativecommons.org/licenses/by-nc-sa/3.0/).*"
   ]
  },
  {
   "cell_type": "markdown",
   "metadata": {},
   "source": [
    "<!--NAVIGATION-->\n",
    "| [Indice](indice.ipynb) | \n",
    "\n",
    "< [Prólogo](prologo.ipynb) | [Capítulo 2 - Variables, expresiones y declaraciones](cap02.ipynb) >"
   ]
  },
  {
   "cell_type": "markdown",
   "metadata": {},
   "source": [
    "# Capítulo 1 - ¿Por qué deberías aprender a escribir código?\n"
   ]
  },
  {
   "cell_type": "markdown",
   "metadata": {},
   "source": [
    "Escribir código (o programar) es una actividad muy creativa y gratificante. Puedes escribir programas por muchas razones, que van desde ganarse la vida hasta resolver un problema de análisis de datos difíciles o divertirse para ayudar a alguien a resolver un problema. Este libro asume que *todos* necesitan saber cómo programar, y que una vez que sepas cómo programar sabrás qué quieres hacer con tus habilidades recién descubiertas. \n",
    "\n",
    "Estamos rodeados en nuestra vida diaria con computadoras que van desde computadoras portátiles hasta teléfonos celulares. Podemos pensar en estas computadoras como nuestros \"asistentes personales\" que pueden encargarse de muchas cosas en nuestro nombre. El hardware en nuestras computadoras actuales está construido esencialmente para hacernos continuamente la pregunta: \"¿Qué te gustaría que haga a continuación?\"\n",
    "\n",
    "<img src=\"figures/1.1.svg\">\n",
    "<center><i>Figura 1.1: Asistente personal digital</i></center>\n",
    "\n",
    "Los programadores agregan un sistema operativo y un conjunto de aplicaciones al hardware y terminamos con un asistente digital personal que es bastante útil y capaz de ayudarnos a hacer muchas cosas diferentes.\n",
    "\n",
    "Nuestras computadoras son rápidas y tienen una gran cantidad de memoria y podrían ser muy útiles si solo supiéramos el idioma para hablar y explicar a la computadora qué es lo que nos gustaría \"hacer después\". Si conociéramos este lenguaje, podríamos decirle a la computadora que hiciera tareas en nuestro nombre que fueran repetitivas. Curiosamente, los tipos de cosas que las computadoras pueden hacer mejor que nosotros son a menudo el tipo de cosas que a los humanos nos resultan aburridas y que nos entumecen la mente.\n",
    "\n",
    "Por ejemplo, observe los primeros tres párrafos de este capítulo y dígame la palabra más utilizada y cuántas veces se usa la palabra. Si bien fue capaz de leer y comprender las palabras en unos pocos segundos, contarlas es casi doloroso porque no es el tipo de problema que las mentes humanas están diseñadas para resolver. Para una computadora, lo opuesto es cierto, leer y entender el texto de una hoja de papel es difícil para una computadora, pero contar las palabras y decirle cuántas veces se usó la palabra más utilizada es muy fácil para la computadora:\n"
   ]
  },
  {
   "cell_type": "code",
   "execution_count": 1,
   "metadata": {},
   "outputs": [
    {
     "name": "stdout",
     "output_type": "stream",
     "text": [
      "Enter file:./codes/words.txt\n",
      "que 8\n"
     ]
    }
   ],
   "source": [
    "%run -i ./codes/words.py"
   ]
  },
  {
   "cell_type": "markdown",
   "metadata": {},
   "source": [
    "Nuestro \"asistente de análisis de información personal\" rápidamente nos dijo que la palabra \"que\" se usó ocho veces en los primeros tres párrafos de este capítulo.\n",
    "\n",
    "Este mismo hecho de que las computadoras son buenas en cosas que los humanos no son, es por eso que necesitas ser hábil para hablar el \"lenguaje de la computadora\". Una vez que aprenda este nuevo idioma, puede delegar tareas mundanas a su compañero (la computadora), dejando más tiempo para que haga las cosas para las que es único. Usted aporta creatividad, intuición e inventiva a esta alianza."
   ]
  },
  {
   "cell_type": "markdown",
   "metadata": {},
   "source": [
    "## Creatividad y motivación\n",
    "\n",
    "Si bien este libro no está destinado a programadores profesionales, la programación profesional puede ser un trabajo muy gratificante tanto a nivel financiero como personal. Crear programas útiles, elegantes e inteligentes para que otros lo usen es una actividad muy creativa. Su computadora o Asistente Digital Personal (PDA) generalmente contiene muchos programas diferentes de diferentes grupos de programadores, cada uno compitiendo por su atención e interés. Ellos hacen todo lo posible para satisfacer sus necesidades y darle una gran experiencia de usuario en el proceso. En algunas situaciones, cuando elige una pieza de software, los programadores reciben una\n",
    "compensación directa debido a su elección.\n",
    "\n",
    "Si pensamos en los programas como la producción creativa de grupos de programadores, quizás la siguiente figura sea una versión más sensata de nuestro PDA:\n",
    "\n",
    "<img src=\"figures/1.2.svg\">\n",
    "<center><i>Figura 1.2: Programadores hablando contigo</i></center>\n",
    "\n",
    "Por ahora, nuestra principal motivación no es ganar dinero o por favor los usuarios finales, sino que somos más productivos en el manejo de los datos y la información que encontraremos en nuestras vidas. Cuando comiences por primera vez, serás el programador y el usuario final de tus programas. A medida que adquiere habilidades como programador y la programación se sienta más creativa para usted, sus pensamientos pueden dirigirse hacia el desarrollo de programas para otros."
   ]
  },
  {
   "cell_type": "markdown",
   "metadata": {},
   "source": [
    "## Arquitectura de hardware\n",
    "\n",
    "Antes de empezar a aprender el lenguaje que deberemos hablar con el fin de darle instrucciones a las computadoras para desarrollar software, necesitamos aprender un poco sobre cómo se construyen las computadoras. Si desmonta su computadora o su teléfono celular y observa profundamente, encontrará las siguientes partes:\n",
    "\n",
    "<img src=\"figures/1.3.svg\">\n",
    "<i><center>Figura 1.3: Arquitectura de hardware</center></i>\n",
    "\n",
    "Las definiciones de alto nivel de estas partes son las siguientes:\n",
    "* La Unidad Central de Proceso (o CPU) es la parte de la computadora que está construida para estar\n",
    "obsesionada con \"¿qué sigue?\" Si su computadora tiene una capacidad de 3.0 Gigahertz, significa que la\n",
    "CPU preguntará \"¿Y ahora qué?\" tres mil millones de veces por segundo. Tendrás que aprender a hablar\n",
    "rápido para mantenerte al día con la CPU.\n",
    "* La memoria principal se usa para almacenar información que la CPU necesita apuradamente. La memoria\n",
    "principal es casi tan rápida como la CPU. Pero la información almacenada en la memoria principal\n",
    "desaparece cuando la computadora se apaga.\n",
    "* La memoria secundaria también se usa para almacenar información, pero es mucho más lenta que la\n",
    "memoria principal. La ventaja de la memoria secundaria es que puede almacenar información incluso\n",
    "cuando no hay energía para la computadora. Algunos ejemplos de memoria secundaria son las unidades de\n",
    "disco o la memoria flash (que generalmente se encuentran en memorias USB y reproductores portátiles de\n",
    "música).\n",
    "* Los dispositivos de entrada y salida son simplemente nuestra pantalla, teclado, mouse, micrófono, altavoz, panel táctil, etc. Son todas las formas en la que interactuamos con la computadora.\n",
    "* En estos días, la mayoría de las computadoras también tienen una conexión de red para recuperar\n",
    "información a través de una red. Podemos pensar en la red como un lugar muy lento para almacenar y\n",
    "recuperar datos que podrían no estar siempre \"actualizados\". Entonces, en cierto sentido, la red es una forma de memoria secundaria lenta y, en ocasiones, poco confiable.\n",
    "\n",
    "Si bien la mayoría de los detalles sobre cómo funcionan estos componentes es mejor dejarlos en manos de los creadores de computadoras, es útil contar con cierta terminología para poder hablar de estas diferentes partes a medida que escribimos nuestros programas.\n",
    "\n",
    "Como programador, su trabajo es utilizar y organizar cada uno de estos recursos para dar respuesta al problema que necesita resolver y analizar los datos que obtiene de la solución. Como programador, la mayor parte del tiempo estará \"hablando\" con la CPU y diciéndole qué hacer a continuación. Algunas veces le dirá a la CPU que use la memoria principal, la memoria secundaria, la red o los dispositivos de entrada/salida.\n",
    "\n",
    "<img src=\"figures/1.4.svg\">\n",
    "<center><i>Figura 1.4:¿Dónde estás?</i></center>\n",
    "\n",
    "Tienes que ser la persona que responda a la CPU la pregunta \"¿Y ahora qué?\". Pero sería muy incómodo encogerse uno mismo hasta los 5 mm. de altura e introducirse dentro de la computadora sólo para poder dar una orden tres mil millones de veces por segundo. Así que, en vez de eso, tendrás que escribir las instrucciones por adelantado. Esas instrucciones almacenadas reciben el nombre de programa y el acto de escribirlas y encontrar cuáles son las instrucciones adecuadas, programar.\n"
   ]
  },
  {
   "cell_type": "markdown",
   "metadata": {},
   "source": [
    "## Entender la programación\n",
    "\n",
    "En el resto de este libro, intentaremos convertirte en una persona experta en el arte de la programación. Al final, serás un programador, tal vez no un programador profesional, pero al menos tendrás las habilidades para analizar un problema de análisis de datos/información y desarrollar un programa para resolver el problema.\n",
    "\n",
    "En cierto sentido, necesitas dos habilidades para ser un programador:\n",
    "* Primero, necesitas saber el lenguaje de programación (Python): necesitas saber el vocabulario y la\n",
    "gramática. Debes poder deletrear correctamente las palabras en este nuevo idioma y saber cómo construir \"oraciones\" bien formadas en este nuevo idioma.\n",
    "* Segundo, necesitas \"contar una historia\". Al escribir una historia, combinas palabras y oraciones para transmitir una idea al lector. Hay una habilidad y arte en la construcción de la historia, y la habilidad en la escritura de historias se mejora al escribir un poco y obtener algunos comentarios. En la programación, nuestro programa es la \"historia\" y el problema que está tratando de resolver es la \"idea\".\n",
    "\n",
    "Una vez que aprenda un lenguaje de programación como Python, le resultará mucho más fácil aprender un segundo lenguaje de programación como JavaScript o C++. El nuevo lenguaje de programación tiene un vocabulario y una gramática muy diferentes, pero las habilidades para resolver problemas serán las mismas en todos los lenguajes de programación.\n",
    "\n",
    "Aprenderás el \"vocabulario\" y las \"oraciones\" de Python con bastante rapidez. Le tomará más tiempo poder escribir un programa coherente para resolver un problema completamente nuevo. Enseñamos la programación al igual que enseñamos a escribir. Comenzamos a leer y explicar programas, luego escribimos programas simples y luego escribimos programas cada vez más complejos a lo largo del tiempo. En algún momento, \"adquiere tu musa\" y observa los patrones por tu cuenta y puede ver de forma más natural cómo tomar un problema y escribir un programa que resuelva ese problema. Y una vez que llegas a ese punto, la programación se convierte en un proceso muy agradable y creativo.\n",
    "\n",
    "Comenzamos con el vocabulario y la estructura de los programas de Python. Sea paciente ya que los ejemplos simples le recuerdan cuándo comenzó a leer por primera vez."
   ]
  },
  {
   "cell_type": "markdown",
   "metadata": {},
   "source": [
    "## Palabras y Oraciones\n",
    "\n",
    "A diferencia de los lenguajes humanos, el vocabulario de Python es bastante pequeño. Llamamos a este\n",
    "\"vocabulario\" las \"palabras reservadas\" o \"keywords\". Estas son palabras que tienen un significado muy especial para Python. Cuando Python ve estas palabras en un programa, tienen uno y solo un significado para Python. Más tarde, al escribir programas, creará sus propias palabras que tienen significado para las variables llamadas. Tendrá gran libertad para elegir sus nombres para sus variables, pero no puede usar ninguna de las palabras reservadas de Python como nombre para una variable.\n",
    "\n",
    "Cuando entrenamos a un perro, usamos palabras especiales como \"siéntate\", \"quieto\" y \"tráelo\". Cuando hablas con un perro y no utilizas ninguna de las palabras reservadas, simplemente te miran con una mirada burlona hasta que dices una palabra reservada. Por ejemplo, si usted dice, \"Me gustaría que más gente salga a caminar para mejorar su salud en general\", lo que la mayoría de los perros, escuchan es \"bla, bla, bla caminar, bla, bla, bla, bla.\" Eso es porque \"caminar\" es una palabra reservada en el lenguaje canino. Muchos podrían sugerir que el lenguaje entre humanos y gatos no tiene palabras reservadas.\n",
    "\n",
    "Las palabras reservadas en el idioma en que los humanos hablan con Python incluyen lo siguiente:"
   ]
  },
  {
   "cell_type": "code",
   "execution_count": 2,
   "metadata": {},
   "outputs": [
    {
     "name": "stdout",
     "output_type": "stream",
     "text": [
      "\n",
      "Here is a list of the Python keywords.  Enter any keyword to get more help.\n",
      "\n",
      "False               class               from                or\n",
      "None                continue            global              pass\n",
      "True                def                 if                  raise\n",
      "and                 del                 import              return\n",
      "as                  elif                in                  try\n",
      "assert              else                is                  while\n",
      "async               except              lambda              with\n",
      "await               finally             nonlocal            yield\n",
      "break               for                 not                 \n",
      "\n"
     ]
    }
   ],
   "source": [
    "help(\"keywords\")"
   ]
  },
  {
   "cell_type": "markdown",
   "metadata": {},
   "source": [
    "Eso es todo, y a diferencia de un perro, Python ya está completamente entrenado. Cuando diga \"try\", Python lo intentará cada vez que lo diga sin falta.\n",
    "\n",
    "Aprenderemos estas palabras reservadas y cómo se usan a su debido tiempo, pero por ahora nos enfocaremos en el equivalente de Python al \"hablar\" (en lenguaje humano a perro). Lo bueno de decirle a Python que hable es que incluso podemos decirle qué decir dándole un mensaje entre comillas:"
   ]
  },
  {
   "cell_type": "code",
   "execution_count": 3,
   "metadata": {},
   "outputs": [
    {
     "name": "stdout",
     "output_type": "stream",
     "text": [
      "Hola mundo!\n"
     ]
    }
   ],
   "source": [
    "print('Hola mundo!')"
   ]
  },
  {
   "cell_type": "markdown",
   "metadata": {},
   "source": [
    "E incluso hemos escrito nuestra primera oración de Python sintácticamente correcta. Nuestra oración comienza con la función de impresión seguida de una cadena de texto de nuestra elección entre comillas simples."
   ]
  },
  {
   "cell_type": "markdown",
   "metadata": {},
   "source": [
    "## Conversar con Python\n",
    "\n",
    "Ahora que tenemos una palabra y una oración simple que conocemos en Python, necesitamos saber cómo comenzar una conversación con Python para probar nuestras nuevas habilidades lingüísticas.\n",
    "\n",
    "Antes de que pueda conversar con Python, primero debe instalar el software Python en su computadora y aprender cómo iniciar Python en su computadora. Eso es demasiado detalle para este capítulo, por lo que le sugiero que consulte www.py4e.com donde tengo instrucciones detalladas y capturas de pantalla para configurar e iniciar Python en sistemas Macintosh y Windows. En algún momento, estará en una ventana de terminal o comando y escribirá python y el intérprete de Python comenzará a ejecutarse en modo interactivo.\n",
    "\n",
    "    Python 3.5.1 (v3.5.1:37a07cee5969, Dec 6 2015, 01:54:25)\n",
    "     [MSC v.1900 64 bit (AMD64)] on win32\n",
    "     Type \"help\", \"copyright\", \"credits\" or \"license\" for more information.\n",
    " \n",
    "El simbolo `>>>` llamado \"prompt\" es la manera en que el intérprete de Python pregunta: \"¿Qué quieres que haga a continuación?\" Python está listo para tener una conversación contigo. Todo lo que debes saber es cómo hablar el lenguaje Python.\n",
    "\n",
    "Supongamos por ejemplo que aún no conoces ni las palabras ni frases más sencillas de Python. Puede que quieras utilizar el método clásico que utilizan los astronautas cuando aterrizan en un planeta lejano e intentan hablar con los habitantes de ese mundo:"
   ]
  },
  {
   "cell_type": "code",
   "execution_count": 4,
   "metadata": {},
   "outputs": [
    {
     "ename": "SyntaxError",
     "evalue": "invalid syntax (<ipython-input-4-22e172adaacb>, line 1)",
     "output_type": "error",
     "traceback": [
      "\u001b[1;36m  File \u001b[1;32m\"<ipython-input-4-22e172adaacb>\"\u001b[1;36m, line \u001b[1;32m1\u001b[0m\n\u001b[1;33m    Vengo en son de paz, por favro llévame donde tu lider\u001b[0m\n\u001b[1;37m           ^\u001b[0m\n\u001b[1;31mSyntaxError\u001b[0m\u001b[1;31m:\u001b[0m invalid syntax\n"
     ]
    }
   ],
   "source": [
    "Vengo en son de paz, por favro llévame donde tu lider"
   ]
  },
  {
   "cell_type": "markdown",
   "metadata": {},
   "source": [
    "Esto no está yendo tan bien. A menos que piense en algo rápidamente, los habitantes del planeta probablemente lo apuñalarán con sus lanzas, lo pondrán en un asador, lo asarán sobre un fuego y lo comerán para la cena.\n",
    "\n",
    "Afortunadamente trajiste una copia de este libro en tus viajes, y buscas esta página e intentas de nuevo:"
   ]
  },
  {
   "cell_type": "code",
   "execution_count": 5,
   "metadata": {},
   "outputs": [
    {
     "name": "stdout",
     "output_type": "stream",
     "text": [
      "Hola mundo!\n"
     ]
    }
   ],
   "source": [
    "print('Hola mundo!')"
   ]
  },
  {
   "cell_type": "markdown",
   "metadata": {},
   "source": [
    "Esto se ve mucho mejor, por lo que intenta comunicarse un poco más:"
   ]
  },
  {
   "cell_type": "code",
   "execution_count": 6,
   "metadata": {},
   "outputs": [
    {
     "name": "stdout",
     "output_type": "stream",
     "text": [
      "Usted debe ser el dios legendario que viene del cielo\n"
     ]
    }
   ],
   "source": [
    "print('Usted debe ser el dios legendario que viene del cielo')"
   ]
  },
  {
   "cell_type": "code",
   "execution_count": 7,
   "metadata": {},
   "outputs": [
    {
     "name": "stdout",
     "output_type": "stream",
     "text": [
      "Hemos estado esperándole por mucho tiempo\n"
     ]
    }
   ],
   "source": [
    "print('Hemos estado esperándole por mucho tiempo')"
   ]
  },
  {
   "cell_type": "code",
   "execution_count": 8,
   "metadata": {},
   "outputs": [
    {
     "name": "stdout",
     "output_type": "stream",
     "text": [
      "La leyenda dice que debe estar usted muy rico con mostaza\n"
     ]
    }
   ],
   "source": [
    "print('La leyenda dice que debe estar usted muy rico con mostaza')"
   ]
  },
  {
   "cell_type": "code",
   "execution_count": 9,
   "metadata": {},
   "outputs": [
    {
     "ename": "SyntaxError",
     "evalue": "Missing parentheses in call to 'print'. Did you mean print('Tendremos un festín esta noche a menos que diga)? (<ipython-input-9-69d702758ce7>, line 1)",
     "output_type": "error",
     "traceback": [
      "\u001b[1;36m  File \u001b[1;32m\"<ipython-input-9-69d702758ce7>\"\u001b[1;36m, line \u001b[1;32m1\u001b[0m\n\u001b[1;33m    print 'Tendremos un festín esta noche a menos que diga\u001b[0m\n\u001b[1;37m                                                          ^\u001b[0m\n\u001b[1;31mSyntaxError\u001b[0m\u001b[1;31m:\u001b[0m Missing parentheses in call to 'print'. Did you mean print('Tendremos un festín esta noche a menos que diga)?\n"
     ]
    }
   ],
   "source": [
    "print 'Tendremos un festín esta noche a menos que diga"
   ]
  },
  {
   "cell_type": "markdown",
   "metadata": {},
   "source": [
    "La conversación fue muy bien durante un tiempo y luego cometiste el menor error al usar el lenguaje y Python devolvió las lanzas.\n",
    "\n",
    "En este punto, también debes darte cuenta de que, si bien Python es increíblemente complejo y poderoso ademas de muy quisquilloso con la sintaxis que utilizas para comunicarse con él, Python no es inteligente. En realidad, estás teniendo una conversación contigo mismo, pero usando la sintaxis adecuada.\n",
    "\n",
    "En cierto sentido, cuando utiliza un programa escrito por otra persona, la conversación se establece entre usted y esos otros programadores, y Python actúa como intermediario. Python es una forma para que los creadores de programas expresen cómo se supone que debe continuar la conversación. Y en solo unos pocos capítulos más, será uno de esos programadores que usan Python para hablar con los usuarios de su programa.\n",
    "\n",
    "Antes de que abandonemos nuestra primera conversación con el intérprete de Python, probablemente debas saber la manera adecuada de decir \"adiós\" cuando interactúas con los habitantes del Planeta Python:"
   ]
  },
  {
   "cell_type": "code",
   "execution_count": 10,
   "metadata": {},
   "outputs": [
    {
     "ename": "NameError",
     "evalue": "name 'adios' is not defined",
     "output_type": "error",
     "traceback": [
      "\u001b[1;31m---------------------------------------------------------------------------\u001b[0m",
      "\u001b[1;31mNameError\u001b[0m                                 Traceback (most recent call last)",
      "\u001b[1;32m~\\PythonParaTodos\\notebooks\\codes\\words.py\u001b[0m in \u001b[0;36m<module>\u001b[1;34m\u001b[0m\n\u001b[1;32m----> 1\u001b[1;33m \u001b[0madios\u001b[0m\u001b[1;33m\u001b[0m\u001b[1;33m\u001b[0m\u001b[0m\n\u001b[0m",
      "\u001b[1;31mNameError\u001b[0m: name 'adios' is not defined"
     ]
    }
   ],
   "source": [
    "adios"
   ]
  },
  {
   "cell_type": "code",
   "execution_count": 11,
   "metadata": {},
   "outputs": [
    {
     "ename": "SyntaxError",
     "evalue": "invalid syntax (<ipython-input-11-aafced61d9cc>, line 1)",
     "output_type": "error",
     "traceback": [
      "\u001b[1;36m  File \u001b[1;32m\"<ipython-input-11-aafced61d9cc>\"\u001b[1;36m, line \u001b[1;32m1\u001b[0m\n\u001b[1;33m    si no te importa, tengo que irme\u001b[0m\n\u001b[1;37m        ^\u001b[0m\n\u001b[1;31mSyntaxError\u001b[0m\u001b[1;31m:\u001b[0m invalid syntax\n"
     ]
    }
   ],
   "source": [
    "si no te importa, tengo que irme"
   ]
  },
  {
   "cell_type": "markdown",
   "metadata": {},
   "source": [
    "Notará que el error es diferente para los primeros dos intentos incorrectos. El segundo error es diferente porque si es una palabra reservada y Python vio la palabra reservada y el pensamiento, estábamos tratando de decir algo, pero obtuvimos la sintaxis de la oración incorrecta.\n",
    "\n",
    "La forma correcta de decir \"adiós\" a Python es ingresar quit () en el prompt >>>, indicador del sistema interactivo. Probablemente te haya llevado bastante tiempo adivinarlo, por lo que tener un libro a mano probablemente resulte útil."
   ]
  },
  {
   "cell_type": "markdown",
   "metadata": {},
   "source": [
    "## Terminología: intérprete y compilador\n",
    "\n",
    "Python es un lenguaje de alto nivel que pretende ser relativamente sencillo para que los humanos lean y escriban y para que las computadoras lo lean y procesen. Otros lenguajes de alto nivel incluyen Java, C++, PHP, Ruby, Basic, Perl, JavaScript y muchos más. El hardware real dentro de la Unidad Central de Procesamiento (CPU) no comprende ninguno de estos lenguajes de alto nivel.\n",
    "\n",
    "La CPU entiende un lenguaje que llamamos lenguaje de máquina . El lenguaje de máquina es muy simple y\n",
    "francamente muy tedioso de escribir porque está representado todo en ceros y unos:\n",
    "\n",
    "001010001110100100101010000001111\n",
    "11100110000011101010010101101101\n",
    "...\n",
    "\n",
    "El lenguaje de máquina parece bastante simple en la superficie, dado que solo hay ceros y unos, pero su sintaxis es aún más compleja y mucho más compleja que Python. Entonces, muy pocos programadores escriben lenguaje de máquina. En su lugar, creamos varios traductores para permitir a los programadores escribir en lenguajes de alto nivel como Python o JavaScript, y estos traductores convierten los programas en lenguaje de máquina para su ejecución real por la CPU.\n",
    "\n",
    "Dado que el lenguaje de la máquina está vinculado al hardware de la computadora, el lenguaje de la máquina no es portátil en diferentes tipos de hardware. Los programas escritos en lenguajes de alto nivel se pueden mover entre diferentes computadoras utilizando un intérprete diferente en la máquina nueva o recompilando el código para crear una versión de idioma de máquina del programa para la nueva máquina.\n",
    "\n",
    "Estos traductores de lenguaje de programación se dividen en dos categorías generales: (1) intérpretes y (2) compiladores.\n",
    "\n",
    "Un intérprete lee el código fuente del programa escrito por el programador, analiza el código fuente e interpreta las instrucciones sobre la marcha. Python es un intérprete y cuando ejecutamos Python interactivamente, podemos escribir una línea de Python (una oración) y Python lo procesa inmediatamente y está listo para que escribamos otra línea de Python.\n",
    "\n",
    "Algunas de las líneas de Python le dicen a Python que desea que recuerde algún valor para más adelante.\n",
    "Necesitamos elegir un nombre para recordar ese valor y podemos usar ese nombre simbólico para recuperar el valor más tarde. Usamos el término variable para referirnos a las etiquetas que usamos para referirnos a estos datos almacenados."
   ]
  },
  {
   "cell_type": "code",
   "execution_count": 12,
   "metadata": {},
   "outputs": [
    {
     "name": "stdout",
     "output_type": "stream",
     "text": [
      "6\n"
     ]
    }
   ],
   "source": [
    "x = 6\n",
    "print(x)"
   ]
  },
  {
   "cell_type": "code",
   "execution_count": 13,
   "metadata": {},
   "outputs": [
    {
     "name": "stdout",
     "output_type": "stream",
     "text": [
      "42\n"
     ]
    }
   ],
   "source": [
    "y = x * 7\n",
    "print(y)"
   ]
  },
  {
   "cell_type": "markdown",
   "metadata": {},
   "source": [
    "En este ejemplo, le pedimos a Python que recuerde el valor seis y use la etiqueta x para que podamos recuperar el valor más tarde. Verificamos que Python haya recordado el valor usando print. Luego pedimos a Python que recupere x y lo multiplique por siete y coloque el valor recién calculado en y. Luego pedimos a Python que imprima el valor actualmente en y.\n",
    "\n",
    "Aunque estamos escribiendo estos comandos en Python una línea a la vez, Python los trata como una secuencia ordenada de declaraciones con declaraciones posteriores capaces de recuperar datos creados en declaraciones anteriores. Estamos escribiendo nuestro primer párrafo simple con cuatro oraciones en un orden lógico y significativo.\n",
    "\n",
    "La naturaleza de un intérprete es poder tener una conversación interactiva como se muestra arriba. Un compilador necesita ser entregado todo el programa en un archivo, y luego se ejecuta un proceso para traducir el código fuente de alto nivel en el lenguaje de la máquina y luego el compilador pone el lenguaje de la máquina resultante en un archivo para su posterior ejecución.\n",
    "\n",
    "Si tiene un sistema Windows, a menudo estos programas de lenguaje de máquina ejecutables tienen una extención como \".exe\" o \".dll\" que significa \"ejecutable\" y \"biblioteca de enlace dinámico\", respectivamente. En Linux y Macintosh, no hay ningún sufijo que marque de manera única un archivo como ejecutable.\n",
    "\n",
    "Si abriera un archivo ejecutable en un editor de texto, se vería completamente loco y sería ilegible:\n",
    "\n",
    "     ^?ELF^A^A^A^@^@^@^@^@^@^@^@^@^B^@^C^@^A^@^@^@\\xa0\\x82\n",
    "     ^D^H4^@^@^@\\x90^]^@^@^@^@^@^@4^@ ^@^G^@(^@$^@!^@^F^@\n",
    "     ^@^@4^@^@^@4\\x80^D^H4\\x80^D^H\\xe0^@^@^@\\xe0^@^@^@^E\n",
    "     ^@^@^@^D^@^@^@^C^@^@^@^T^A^@^@^T\\x81^D^H^T\\x81^D^H^S\n",
    "     ^@^@^@^S^@^@^@^D^@^@^@^A^@^@^@^A\\^D^HQVhT\\x83^D^H\\xe8\n",
    "     ....\n",
    "\n",
    "No es fácil leer o escribir en lenguaje de máquina, por lo que es bueno tener intérpretes y compiladores que nos permitan escribir en lenguajes de alto nivel como Python o JavaScript.\n",
    "\n",
    "Ahora, en este punto de nuestra discusión de compiladores e intérpretes, debería preguntarse un poco sobre el intérprete de Python. ¿En qué idioma está escrito? ¿Está escrito en un lenguaje compilado? Cuando escribimos \"python\", ¿qué está pasando exactamente?\n",
    "\n",
    "El intérprete de Python está escrito en un lenguaje de llamado \"C\". Puede consultar el código fuente real del intérprete de Python visitando www.python.org y yendo hacia su código fuente. Entonces Python es un programa en sí mismo y está compilado en código máquina. Cuando instaló Python en su computadora (o el vendedor lo instaló), hizo una copia de código de máquina del programa Python traducido en su sistema. En Windows, es probable que el código de la máquina ejecutable para Python esté en un archivo con un nombre como: C:\\Python35\\python.exe\n",
    "\n",
    "Eso es más de lo que realmente necesita saber para ser un programador de Python, pero a veces vale la\n",
    "pena responder esas pequeñas preguntas persistentes desde el principio."
   ]
  },
  {
   "cell_type": "markdown",
   "metadata": {},
   "source": [
    "## Escribir un programa\n",
    "\n",
    "Escribir comandos en el intérprete de Python es una gran manera de experimentar con las características\n",
    "de Python, pero no se recomienda para resolver problemas más complejos.\n",
    "\n",
    "Cuando queremos escribir un programa, usamos un editor de texto para escribir las instrucciones de Python en un archivo, que se llama una secuencia de comandos. Por convención, las secuencias de comandos de Python tienen nombres que terminan con .py.\n",
    "\n",
    "Para ejecutar el script, debe decirle al intérprete de Python el nombre del archivo. En una ventana de comandos de Unix o Windows, debe escribir de la python hola.py siguiente manera:"
   ]
  },
  {
   "cell_type": "code",
   "execution_count": 14,
   "metadata": {},
   "outputs": [
    {
     "name": "stdout",
     "output_type": "stream",
     "text": [
      "Hola mundo!\n"
     ]
    }
   ],
   "source": [
    "%run -i \"./codes/hello.py\""
   ]
  },
  {
   "cell_type": "markdown",
   "metadata": {},
   "source": [
    "Llamamos al intérprete de Python y le pedimos que lea su código fuente desde el archivo \"hello.py\" en lugar de solicitarnos líneas de código Python de forma interactiva.\n",
    "\n",
    "Notará que no era necesario tener quit () al final del programa Python en el archivo. Cuando Python lee su código fuente de un archivo, sabe que se detiene cuando llega al final del archivo."
   ]
  },
  {
   "cell_type": "markdown",
   "metadata": {},
   "source": [
    "## ¿Qué es un programa?\n",
    "\n",
    "La definición de un programa en su forma más básica es una secuencia de declaraciones de Python que han sido diseñadas para hacer algo. Incluso nuestro sencillo script hello.py es un programa. Es un programa de una línea y no es particularmente útil, pero en la definición más estricta, es un programa de Python.\n",
    "\n",
    "Tal vez resulte más fácil comprender qué es un programa pensando en un problema que pudiera ser resuelto a través de un programa, y luego estudiando cómo sería el programa que solucionaría ese problema.\n",
    "\n",
    "Digamos que estás haciendo investigación de Social Computing en publicaciones de Facebook y estás interesado en la palabra más utilizada en una serie de publicaciones. Podría imprimir la secuencia de publicaciones de Facebook y estudiar minuciosamente el texto buscando la palabra más común, pero eso llevaría mucho tiempo y sería muy propenso a errores. Sería inteligente escribir un programa de Python para manejar la tarea de forma rápida y precisa para que pueda pasar el fin de semana haciendo algo divertido.\n",
    "\n",
    "Por ejemplo, mira el siguiente texto sobre un payaso y un automóvil. Mire el texto y descubra la palabra más común y cuántas veces ocurre.\n",
    "\n",
    "\"el payaso corrió tras el coche y el coche se metió dentro de la tienda y la tienda cayó sobre el payaso y el coche\"\n",
    "\n",
    "Luego imagine que está haciendo esta tarea mirando millones de líneas de texto. Francamente, sería más rápido para usted aprender Python y escribir un programa de Python para contar las palabras de lo que sería escanear manualmente las palabras.\n",
    "\n",
    "La mejor noticia es que ya se me ocurrió un programa simple para encontrar la palabra más común en un archivo de texto. Lo escribí, lo probé y ahora se lo doy a usted para que pueda ahorrar algo de tiempo."
   ]
  },
  {
   "cell_type": "code",
   "execution_count": 15,
   "metadata": {},
   "outputs": [
    {
     "name": "stdout",
     "output_type": "stream",
     "text": [
      "Enter file:./codes/words.txt\n",
      "que 8\n"
     ]
    }
   ],
   "source": [
    "name = input('Enter file:')\n",
    "handle = open(name, 'r')\n",
    "counts = dict()\n",
    " \n",
    "for line in handle:\n",
    "    words = line.split()\n",
    "    for word in words:\n",
    "        counts[word] = counts.get(word, 0) + 1\n",
    "\n",
    "bigcount = None\n",
    "bigword = None\n",
    "for word, count in list(counts.items()):\n",
    "    if bigcount is None or count > bigcount:\n",
    "        bigword = word\n",
    "        bigcount = count\n",
    "\n",
    "print(bigword, bigcount)"
   ]
  },
  {
   "cell_type": "markdown",
   "metadata": {},
   "source": [
    "Ni siquiera necesita saber Python para usar este programa. Deberá leer el Capítulo 10 de este libro para comprender completamente las asombrosas técnicas de Python que se utilizaron para hacer el programa. Usted es el usuario final, simplemente usa el programa y se maravilla de su inteligencia y de cómo le ahorró tanto esfuerzo manual. Simplemente escriba el código en un archivo llamado words.py y ejecútelo o descargue el código fuente de http://www.py4e.com/code3/ y ejecútelo.\n",
    "\n",
    "Este es un buen ejemplo de cómo el interprete de Python y el lenguaje Python están actuando como intermediarios entre usted (el usuario final) y yo (el programador). Python es una forma de intercambiar secuencias de instrucciones útiles (es decir, programas) en un lenguaje común que puede ser utilizado por cualquier persona que instale Python en su computadora. Entonces, ninguno de nosotros está hablando con Python, sino que nos comunicamos entre nosotros a través de Python."
   ]
  },
  {
   "cell_type": "markdown",
   "metadata": {},
   "source": [
    "## Los bloques de construcción de programas\n",
    "\n",
    "En los siguientes capítulos, aprenderemos más sobre el vocabulario, la estructura de las oraciones, la estructura de los párrafos y la estructura de la historia de Python. Aprenderemos sobre las poderosas capacidades de Python y cómo componer esas capacidades para crear programas útiles.\n",
    "\n",
    "Hay algunos patrones conceptuales de bajo nivel que usamos para construir programas. Estas construcciones no son solo para los programas de Python, sino que forman parte de todos los lenguajes de programación, desde el lenguaje de máquina hasta los lenguajes de alto nivel.\n",
    "\n",
    "**entrada:** Obtenga datos del \"mundo exterior\". Esto podría ser leer datos de un archivo, o incluso algún tipo de sensor, como un micrófono o un GPS. En nuestros programas iniciales, nuestra entrada vendrá del usuario escribiendo datos en el teclado.\n",
    "**salida:** Mostrar los resultados del programa en una pantalla, almacenarlos en un fichero o incluso es posible enviarlos a un dispositivo como un altavoz para reproducir música o leer un texto.\n",
    "**ejecución secuencial:** Realice las instrucciones una tras otra en el orden en que se encuentran en la secuencia de comandos.\n",
    "**ejecución condicional:** Verifique ciertas condiciones y luego ejecute u omita una secuencia de declaraciones.\n",
    "**ejecución repetida:** Realice algunos conjuntos de declaraciones repetidamente, generalmente con alguna variación.\n",
    "**reutilizar:** Escriba un conjunto de instrucciones una vez y asígnele un nombre y luego vuelva a utilizar esas instrucciones según sea necesario a lo largo de su programa.\n",
    "\n",
    "Suena casi demasiado simple para ser verdad, y por supuesto nunca es tan simple. Es como decir que caminar es simplemente \"poner un pie delante del otro\". El \"arte\" de escribir un programa es componer y tejer estos elementos básicos juntos muchas veces para producir algo que sea útil para sus usuarios.\n",
    "\n",
    "El programa de conteo de palabras de arriba usa directamente todos estos patrones excepto uno."
   ]
  },
  {
   "cell_type": "markdown",
   "metadata": {},
   "source": [
    "## ¿Qué podría salir mal?\n",
    "\n",
    "Como vimos en nuestras primeras conversaciones con Python, debemos comunicarnos con mucha precisión cuando escribimos el código de Python. La menor desviación o error hará que Python deje de mirar su programa.\n",
    "\n",
    "Los programadores novatos a menudo se toman el hecho de que Python no permita cometer errores como la prueba fehaciente de que Python es mezquino, odioso y cruel. A pesar de que a Python parece gustarle todo el mundo, es capaz de identificarles a ellos en concreto, y se la tiene jurada. Debido a ello, Python toma sus programas, que están perfectamente escritos, y los rechaza, considerándolos como “inservibles”, sólo para atormentarles."
   ]
  },
  {
   "cell_type": "code",
   "execution_count": 16,
   "metadata": {},
   "outputs": [
    {
     "ename": "SyntaxError",
     "evalue": "invalid syntax (<ipython-input-16-652b679e5af6>, line 1)",
     "output_type": "error",
     "traceback": [
      "\u001b[1;36m  File \u001b[1;32m\"<ipython-input-16-652b679e5af6>\"\u001b[1;36m, line \u001b[1;32m1\u001b[0m\n\u001b[1;33m    primt 'Hola mundo!'\u001b[0m\n\u001b[1;37m                      ^\u001b[0m\n\u001b[1;31mSyntaxError\u001b[0m\u001b[1;31m:\u001b[0m invalid syntax\n"
     ]
    }
   ],
   "source": [
    "primt 'Hola mundo!'"
   ]
  },
  {
   "cell_type": "code",
   "execution_count": 17,
   "metadata": {},
   "outputs": [
    {
     "ename": "SyntaxError",
     "evalue": "invalid syntax (<ipython-input-17-b51035c9ca9f>, line 1)",
     "output_type": "error",
     "traceback": [
      "\u001b[1;36m  File \u001b[1;32m\"<ipython-input-17-b51035c9ca9f>\"\u001b[1;36m, line \u001b[1;32m1\u001b[0m\n\u001b[1;33m    Te odio Python!\u001b[0m\n\u001b[1;37m          ^\u001b[0m\n\u001b[1;31mSyntaxError\u001b[0m\u001b[1;31m:\u001b[0m invalid syntax\n"
     ]
    }
   ],
   "source": [
    "Te odio Python!"
   ]
  },
  {
   "cell_type": "code",
   "execution_count": 18,
   "metadata": {},
   "outputs": [
    {
     "ename": "SyntaxError",
     "evalue": "invalid syntax (<ipython-input-18-c5b1cee8beeb>, line 1)",
     "output_type": "error",
     "traceback": [
      "\u001b[1;36m  File \u001b[1;32m\"<ipython-input-18-c5b1cee8beeb>\"\u001b[1;36m, line \u001b[1;32m1\u001b[0m\n\u001b[1;33m    Si sales, te daré una lección\u001b[0m\n\u001b[1;37m           ^\u001b[0m\n\u001b[1;31mSyntaxError\u001b[0m\u001b[1;31m:\u001b[0m invalid syntax\n"
     ]
    }
   ],
   "source": [
    "Si sales, te daré una lección"
   ]
  },
  {
   "cell_type": "markdown",
   "metadata": {},
   "source": [
    "Hay poco que ganar argumentando con Python. Es solo una herramienta. No tiene emociones y está feliz y lista para servirle cuando lo necesite. Sus mensajes de error suenan duros, pero son solo la llamada de ayuda de Python. Ha examinado lo que ha escrito, y simplemente no puede entender lo que ha ingresado.\n",
    "\n",
    "Python se parece mucho más a un perro, te ama incondicionalmente, tiene unas pocas palabras clave que comprende, te mira con una expresión dulce en la cara (>>>) y espera que digas algo que entienda. Cuando Python dice \"SyntaxError: invalid syntax\", simplemente está moviendo la cola y diciendo: \"Parece que dijiste algo, pero no entiendo lo que querías decir, pero por favor sigue hablándome (>>>)\".\n",
    "\n",
    "A medida que sus programas se vuelven cada vez más sofisticados, encontrará tres tipos generales de errores:\n",
    "* **Errores de sintaxis (Syntax errors):** Estos son los primeros errores que hará y los más fáciles de corregir. Un error de sintaxis significa que ha violado las reglas de \"gramática\" de Python. Python hace todo lo posible para señalar directamente en la línea y el carácter donde notó que estaba confundido. El único truco de errores de sintaxis es que a veces el error que se debe corregir es más temprano en el programa que cuando Python notó que estaba confundido. Entonces, la línea y el carácter que Python indica en un error de sintaxis puede ser solo un punto de partida para su investigación.\n",
    "* **Errores de lógica:** Un error lógico es cuando su programa tiene buena sintaxis, pero hay un error en el orden de las declaraciones o tal vez un error en la forma en que las declaraciones se relacionan entre sí. Un buen ejemplo de un error lógico podría ser: \"tome un trago de su botella de agua, póngalo en su mochila, camine hasta la biblioteca y luego enrosca el tapón de la botella\".\n",
    "* **Errores semánticos:** Un error semántico es cuando la descripción de los pasos a seguir es sintácticamente perfecta y en el orden correcto, pero simplemente hay un error en el programa. El programa es perfectamente correcto, pero no hace lo que pretendías. Un ejemplo simple sería si le diera instrucciones a una persona a un restaurante y le dijera: \"... cuando llegue a la intersección en la estación de servicio, gire a la izquierda y avance una milla y el restaurante es un edificio rojo a su izquierda\". Tu amigo llega muy tarde y te llama para decirte que están en una granja y caminando detrás de un establo, sin señal de restaurante. Luego dices \"¿giró a la izquierda o a la derecha en la estación de servicio?\" y dicen: \"Seguí tus instrucciones a la perfección, las escribí, dice girar a la izquierda y recorrer una milla en la gasolinera\". Luego dices: \"Lo siento mucho, porque, aunque mis instrucciones eran sintácticamente correctas, tristemente contenían un error semántico pequeño, pero no detectado\".\n",
    "\n",
    "De nuevo en los tres tipos de errores, Python simplemente está haciendo todo lo posible para hacer exactamente lo que usted ha pedido."
   ]
  },
  {
   "cell_type": "markdown",
   "metadata": {},
   "source": [
    "## El camino del aprendizaje\n",
    "\n",
    "A medida que avance en el resto del libro, no tema si los conceptos no encajan bien la primera vez. Cuando estabas aprendiendo a hablar, no fue un problema en tus primeros años que solo hicieras lindos ruidos de gorgoteo. Y estuvo bien si le tomó seis meses pasar del vocabulario simple a oraciones simples y tomó entre 5 y 6 años más para pasar de oraciones a párrafos, y unos años más para poder escribir una historia corta completa e interesante tú mismo.\n",
    "\n",
    "Queremos que aprendas Python mucho más rápido, así que lo enseñamos todo al mismo tiempo en los siguientes capítulos. Pero es como aprender un nuevo idioma que toma tiempo para absorber y comprender antes de que se sienta natural. Eso nos lleva a cierta confusión cuando visitamos y volvemos a visitar los temas para tratar de que veas el panorama completo mientras definimos los pequeños fragmentos que conforman ese panorama general. Si bien el libro está escrito linealmente, y si estás tomando un curso, progresará de forma lineal, no dudes en ser muy \"no lineal\" en la forma en que abordas el material. Mire hacia adelante y hacia atrás y lea con un toque ligero. Es importante no avanzar a material más avanzado sin comprender completamente los detalles, pues si entiende los detalles tendrá una mejor comprensión del \"¿por qué?\" de la programación. Puede revisar material anterior e incluso rehacer ejercicios anteriores.\n",
    "\n",
    "Por lo general, cuando estás aprendiendo tu primer lenguaje de programación, ¡hay algunos maravillosos “Ah Hah!\" momentos en los que puedes mirar desde un martillo y un cincel y alejarte y ver que estás construyendo una hermosa escultura.\n",
    "\n",
    "Si algo parece particularmente difícil, por lo general no tiene sentido quedarse despierto toda la noche y mirarlo fijamente. Tómese un descanso, tome una siesta, tome un refrigerio, explíquele a alguien (o quizás a su perro) qué tiene un problema y luego vuelva a verlo con los ojos frescos. Te aseguro que una vez que aprendas los conceptos de programación en el libro, mirarás hacia atrás y verás que todo fue realmente fácil y elegante y que simplemente te tomó un poco de tiempo asimilarlo."
   ]
  },
  {
   "cell_type": "markdown",
   "metadata": {},
   "source": [
    "## Glosario\n",
    "\n",
    "* **error:** Un error en un programa.\n",
    "* **Unidad Central de Procesamiento:** El corazón de cualquier computadora. Es lo que ejecuta el software que escribimos; también llamado \"CPU\" o \"el procesador\".\n",
    "* **compilar:** Traducir un programa escrito en un lenguaje de alto nivel en un lenguaje de bajo nivel, todo a la vez, en preparación para su posterior ejecución.\n",
    "* **lenguaje de alto nivel:** Un lenguaje de programación como Python que está diseñado para que los humanos puedan leer y escribir fácilmente.\n",
    "* **modo interactivo:** Una forma de utilizar el intérprete de Python escribiendo comandos y expresiones en el prompt.\n",
    "* **interpretar:** Ejecutar un programa en un lenguaje de alto nivel, traduciendolo una línea a la vez.\n",
    "* **lenguaje de bajo nivel:** Un lenguaje de programación diseñado para ser fácil de ejecutar por una computadora; también llamado \"código máquina\" o \"lenguaje ensamblador\".\n",
    "* **código de maquina:** El lenguaje de nivel más bajo para el software, que es el lenguaje que ejecuta directamente la unidad de procesamiento central (CPU).\n",
    "* **memoria principal:** Almacena programas y datos. La memoria principal pierde su información cuando se apaga.\n",
    "* **analizar gramaticalmente:** Examina un programa y analiza la estructura sintáctica.\n",
    "* **portabilidad:** Una propiedad de un programa que puede ejecutarse en más de un tipo de computadora.\n",
    "* **función *print*:** Una instrucción que hace que el intérprete de Python muestre un valor, un mensaje o ambas cosas a la vez en la pantalla.\n",
    "* **resolución de problemas:** El proceso de formular un problema, encontrar una solución y expresar la solución.\n",
    "* **programa:** Un conjunto de instrucciones que especifica un cálculo.\n",
    "* **prompt:** Cuando un programa muestra un mensaje y hace una pausa para que el usuario escriba alguna entrada al programa.\n",
    "* **memoria secundaria:** Almacena programas y datos, y conserva su información incluso cuando está apagada. Generalmente más lento que la memoria principal. Los ejemplos de memoria secundaria incluyen unidades de disco y memoria flash o en memorias USB.\n",
    "* **semántica:** El significado de un programa.\n",
    "* **error semántico:** Un error en un programa que lo hace hacer algo diferente de lo que el programador pretendía.\n",
    "* **código fuente:** Un programa en un lenguaje de alto nivel."
   ]
  },
  {
   "cell_type": "markdown",
   "metadata": {},
   "source": [
    "## Ejercicios\n",
    "\n",
    "**Ejercicio 1:** ¿Cuál es la función de la memoria secundaria en una computadora?\n",
    "\n",
    "1. Ejecutar todos los cálculos y la lógica del programa.\n",
    "2. Recuperar páginas web a través de Internet.\n",
    "3. Almacenar información a largo plazo, incluso más allá de un ciclo de energía.\n",
    "4. Tomar la información del usuario.\n",
    "\n",
    "**Ejercicio 2:** ¿Qué es un programa?\n",
    "\n",
    "**Ejercicio 3:** ¿Cuál es la diferencia entre un compilador y un intérprete?\n",
    "\n",
    "**Ejercicio 4:** ¿Cuál de los siguientes contiene \"código de máquina\"?\n",
    "\n",
    "1. El intérprete de Python.\n",
    "2. El teclado.\n",
    "3. El archivo fuente de Python.\n",
    "4. Un documento de procesamiento de palabras.\n",
    "\n",
    "**Ejercicio 5:** ¿Qué está mal con el siguiente código?\n",
    "\n",
    "    primt 'Hola mundo!'\n",
    "    \n",
    "**Ejercicio 6:** ¿En qué lugar del computador queda almacenada una variable, como en este caso “X”, después de ejecutar la siguiente línea de Python?:\n",
    "\n",
    "    x = 123\n",
    "    \n",
    "    \n",
    "1. Unidad central de procesamiento\n",
    "2. Memoria principal\n",
    "3. Memoria secundaria\n",
    "4. Dispositivos de entrada\n",
    "5. Dispositivos de salida\n",
    "\n",
    "**Ejercicio 7:** ¿Qué imprimirá el siguiente programa?\n",
    "\n",
    "    x = 43\n",
    "    x = x + 1\n",
    "    print(x)\n",
    "\n",
    "1. 43\n",
    "2. 44\n",
    "3. x + 1\n",
    "4. Error porque x = x + 1 no es posible matemáticamente.\n",
    "\n",
    "**Ejercicio 8:** Explique cada uno de los siguientes conceptos utilizando un ejemplo de capacidad humana: \n",
    "\n",
    "1. Unidad central de procesamiento\n",
    "2. Memoria principal\n",
    "3. memoria secundaria\n",
    "4. Dispositivo de entrada\n",
    "5. Dispositivo de salida\n",
    "\n",
    "Por ejemplo, \"¿Cuál es el equivalente humano a una Unidad Central de Procesamiento\"?\n",
    "\n",
    "**Ejercicio 9:** ¿Cómo arreglas un \"Error de sintaxis\"?"
   ]
  },
  {
   "cell_type": "markdown",
   "metadata": {},
   "source": [
    "<!--NAVIGATION-->\n",
    "| [Indice](indice.ipynb) | \n",
    "\n",
    "< [Prólogo](prologo.ipynb) | [Capítulo 2 - Variables, expresiones y declaraciones](cap02.ipynb) >"
   ]
  }
 ],
 "metadata": {
  "kernelspec": {
   "display_name": "Python 3",
   "language": "python",
   "name": "python3"
  },
  "language_info": {
   "codemirror_mode": {
    "name": "ipython",
    "version": 3
   },
   "file_extension": ".py",
   "mimetype": "text/x-python",
   "name": "python",
   "nbconvert_exporter": "python",
   "pygments_lexer": "ipython3",
   "version": "3.7.3"
  },
  "varInspector": {
   "cols": {
    "lenName": 16,
    "lenType": 16,
    "lenVar": 40
   },
   "kernels_config": {
    "python": {
     "delete_cmd_postfix": "",
     "delete_cmd_prefix": "del ",
     "library": "var_list.py",
     "varRefreshCmd": "print(var_dic_list())"
    },
    "r": {
     "delete_cmd_postfix": ") ",
     "delete_cmd_prefix": "rm(",
     "library": "var_list.r",
     "varRefreshCmd": "cat(var_dic_list()) "
    }
   },
   "types_to_exclude": [
    "module",
    "function",
    "builtin_function_or_method",
    "instance",
    "_Feature"
   ],
   "window_display": false
  }
 },
 "nbformat": 4,
 "nbformat_minor": 2
}
