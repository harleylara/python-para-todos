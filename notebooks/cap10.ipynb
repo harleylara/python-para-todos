{
 "cells": [
  {
   "cell_type": "markdown",
   "metadata": {},
   "source": [
    "<!--BOOK_INFORMATION-->\n",
    "<img align=\"left\" style=\"padding-right:10px;\" src=\"./figures/cover-small.jpg\">\n",
    "\n",
    "*Este libro es una versión al español de [Python for Everybody](https://www.py4e.com/) escrito por el [Dr. Charles R. Severance](http://www.dr-chuck.com/); este contenido esta disponible en [GitHub](https://github.com/csev/py4e).*\n",
    "\n",
    "Detalles de Copyright\n",
    "\n",
    "*Copyright ~ 2009- Charles Severance.\n",
    "Este trabajo está registrado bajo una Licencia Creative Commons AttributionNonCommercial-ShareAlike 3.0 [CC BY-NC-SA](https://creativecommons.org/licenses/by-nc-sa/3.0/).*"
   ]
  },
  {
   "cell_type": "markdown",
   "metadata": {},
   "source": [
    "<!--NAVIGATION-->\n",
    "| [Indice](indice.ipynb) | \n",
    "\n",
    "< [Capítulo 9 - Diccionarios](cap09.ipynb) | [Capítulo 11 - Expresiones regulares](cap11.ipynb) >"
   ]
  },
  {
   "cell_type": "markdown",
   "metadata": {},
   "source": [
    "# Capítulo 10 - Tuplas"
   ]
  },
  {
   "cell_type": "markdown",
   "metadata": {},
   "source": [
    "## Las tuplas son inmutables\n",
    "\n",
    "Una tupla es una secuencia de valores muy parecida a una lista. Los valores almacenados en una tupla pueden ser de cualquier tipo y están indexados por enteros. La diferencia importante es que las tuplas son inmutables. Las tuplas también son comparables y manejables, por lo que podemos ordenar listas de ellas y usar tuplas como valores clave en los diccionarios de Python.\n",
    "\n",
    "Sintácticamente, una tupla es una lista de valores separados por comas:"
   ]
  },
  {
   "cell_type": "code",
   "execution_count": 1,
   "metadata": {},
   "outputs": [],
   "source": [
    "t = 'a', 'b', 'c', 'd', 'e'"
   ]
  },
  {
   "cell_type": "markdown",
   "metadata": {},
   "source": [
    "Aunque no es necesario, es común incluir tuplas entre paréntesis para ayudarnos a identificar rápidamente las tuplas cuando observamos el código de Python:"
   ]
  },
  {
   "cell_type": "code",
   "execution_count": 2,
   "metadata": {},
   "outputs": [],
   "source": [
    "t = ('a', 'b', 'c', 'd', 'e')"
   ]
  },
  {
   "cell_type": "markdown",
   "metadata": {},
   "source": [
    "Para crear una tupla con un solo elemento, debe incluir la coma final:"
   ]
  },
  {
   "cell_type": "code",
   "execution_count": 3,
   "metadata": {},
   "outputs": [
    {
     "data": {
      "text/plain": [
       "tuple"
      ]
     },
     "execution_count": 3,
     "metadata": {},
     "output_type": "execute_result"
    }
   ],
   "source": [
    "t1 = ('a',)\n",
    "type(t1)"
   ]
  },
  {
   "cell_type": "markdown",
   "metadata": {},
   "source": [
    "Sin la coma que Python trata ('a') como una expresión con una cadena entre paréntesis que evalúa como una cadena: "
   ]
  },
  {
   "cell_type": "code",
   "execution_count": 4,
   "metadata": {},
   "outputs": [
    {
     "data": {
      "text/plain": [
       "str"
      ]
     },
     "execution_count": 4,
     "metadata": {},
     "output_type": "execute_result"
    }
   ],
   "source": [
    "t2 = ('a')\n",
    "type(t2)"
   ]
  },
  {
   "cell_type": "markdown",
   "metadata": {},
   "source": [
    "Otra forma de construir una tupla es la función incorporada tuple. Sin argumentos, crea una tupla vacía:"
   ]
  },
  {
   "cell_type": "code",
   "execution_count": 5,
   "metadata": {},
   "outputs": [
    {
     "name": "stdout",
     "output_type": "stream",
     "text": [
      "()\n"
     ]
    }
   ],
   "source": [
    "t = tuple()\n",
    "print(t)"
   ]
  },
  {
   "cell_type": "markdown",
   "metadata": {},
   "source": [
    "Si el argumento es una secuencia (cadena, lista o tupla), el resultado de la llamada a `tuple` es una tupla con los elementos de la secuencia:"
   ]
  },
  {
   "cell_type": "code",
   "execution_count": 6,
   "metadata": {},
   "outputs": [
    {
     "name": "stdout",
     "output_type": "stream",
     "text": [
      "('l', 'u', 'p', 'i', 'n', 's')\n"
     ]
    }
   ],
   "source": [
    "t = tuple('lupins')\n",
    "print(t)"
   ]
  },
  {
   "cell_type": "markdown",
   "metadata": {},
   "source": [
    "Debido a que `tuple` es el nombre de un constructor, debe evitar usarlo como un nombre de variable.\n",
    "La mayoría de los operadores de listas también trabajan con tuplas. El operador de corchete indexa un elemento:"
   ]
  },
  {
   "cell_type": "code",
   "execution_count": 7,
   "metadata": {},
   "outputs": [
    {
     "name": "stdout",
     "output_type": "stream",
     "text": [
      "a\n"
     ]
    }
   ],
   "source": [
    " t = ('a', 'b', 'c', 'd', 'e')\n",
    "print(t[0])"
   ]
  },
  {
   "cell_type": "markdown",
   "metadata": {},
   "source": [
    "Y el operador de sector selecciona un rango de elementos."
   ]
  },
  {
   "cell_type": "code",
   "execution_count": 8,
   "metadata": {},
   "outputs": [
    {
     "name": "stdout",
     "output_type": "stream",
     "text": [
      "('b', 'c')\n"
     ]
    }
   ],
   "source": [
    ">>> print(t[1:3])"
   ]
  },
  {
   "cell_type": "markdown",
   "metadata": {},
   "source": [
    "Pero si intentas modificar uno de los elementos de la tupla, obtienes un error:"
   ]
  },
  {
   "cell_type": "code",
   "execution_count": 9,
   "metadata": {},
   "outputs": [
    {
     "ename": "TypeError",
     "evalue": "'tuple' object does not support item assignment",
     "output_type": "error",
     "traceback": [
      "\u001b[1;31m---------------------------------------------------------------------------\u001b[0m",
      "\u001b[1;31mTypeError\u001b[0m                                 Traceback (most recent call last)",
      "\u001b[1;32m<ipython-input-9-7e674cdf20e6>\u001b[0m in \u001b[0;36m<module>\u001b[1;34m\u001b[0m\n\u001b[1;32m----> 1\u001b[1;33m \u001b[0mt\u001b[0m\u001b[1;33m[\u001b[0m\u001b[1;36m0\u001b[0m\u001b[1;33m]\u001b[0m \u001b[1;33m=\u001b[0m \u001b[1;34m'A'\u001b[0m\u001b[1;33m\u001b[0m\u001b[1;33m\u001b[0m\u001b[0m\n\u001b[0m",
      "\u001b[1;31mTypeError\u001b[0m: 'tuple' object does not support item assignment"
     ]
    }
   ],
   "source": [
    "t[0] = 'A'"
   ]
  },
  {
   "cell_type": "markdown",
   "metadata": {},
   "source": [
    "No puede modificar los elementos de una tupla, pero puede reemplazar una tupla por otra:"
   ]
  },
  {
   "cell_type": "code",
   "execution_count": 10,
   "metadata": {},
   "outputs": [
    {
     "name": "stdout",
     "output_type": "stream",
     "text": [
      "('A', 'b', 'c', 'd', 'e')\n"
     ]
    }
   ],
   "source": [
    "t = ('A',) + t[1:]\n",
    "print(t)"
   ]
  },
  {
   "cell_type": "markdown",
   "metadata": {},
   "source": [
    "## Comparando tuplas\n",
    "\n",
    "Los operadores de comparación trabajan con tuplas y otras secuencias. Python comienza comparando el primer elemento de cada secuencia. Si son iguales, pasa al siguiente elemento, y así sucesivamente, hasta que encuentra elementos que difieren. Los elementos posteriores no se consideran (incluso si son realmente grandes)."
   ]
  },
  {
   "cell_type": "code",
   "execution_count": 11,
   "metadata": {},
   "outputs": [
    {
     "data": {
      "text/plain": [
       "True"
      ]
     },
     "execution_count": 11,
     "metadata": {},
     "output_type": "execute_result"
    }
   ],
   "source": [
    "(0, 1, 2) < (0, 3, 4)"
   ]
  },
  {
   "cell_type": "code",
   "execution_count": 12,
   "metadata": {},
   "outputs": [
    {
     "data": {
      "text/plain": [
       "True"
      ]
     },
     "execution_count": 12,
     "metadata": {},
     "output_type": "execute_result"
    }
   ],
   "source": [
    "(0, 1, 2000000) < (0, 3, 4)"
   ]
  },
  {
   "cell_type": "markdown",
   "metadata": {},
   "source": [
    "La función `sort` funciona de la misma manera. Se ordena principalmente por el primer elemento, pero en el caso de un empate, ordena por segundo elemento, y así sucesivamente.\n",
    "\n",
    "Esta característica se presta a un patrón llamado *DSU* para **Decorar** una secuencia construyendo una lista de tuplas con una o más claves de ordenación que preceden a los elementos de la secuencia, **Ordenar** la lista de tuplas que usan el Python incorporado `sort`, y **Undecorate** extrayendo\n",
    "los elementos ordenados de la secuencia.\n",
    "\n",
    "Por ejemplo, supongamos que tiene una lista de palabras y desea ordenarlas de la más larga a la más corta:"
   ]
  },
  {
   "cell_type": "code",
   "execution_count": 13,
   "metadata": {},
   "outputs": [
    {
     "name": "stdout",
     "output_type": "stream",
     "text": [
      "['yonder', 'window', 'breaks', 'light', 'what', 'soft', 'but', 'in']\n"
     ]
    }
   ],
   "source": [
    "txt = 'but soft what light in yonder window breaks'\n",
    "palabras = txt.split()\n",
    "t = list()\n",
    "\n",
    "for palabra in palabras:\n",
    "    t.append((len(palabra), palabra))\n",
    "\n",
    "t.sort(reverse=True)\n",
    "\n",
    "res = list()\n",
    "for longitud, palabra in t:\n",
    "    res.append(palabra)\n",
    "\n",
    "print(res)"
   ]
  },
  {
   "cell_type": "markdown",
   "metadata": {},
   "source": [
    "El primer ciclo crea una lista de tuplas, donde cada tupla es una palabra precedida por su longitud.\n",
    "\n",
    "`sort` compara el primer elemento, longitud, primero, y solo considera el segundo elemento para romper vínculos. El argumento de la palabra clave `reverse=True` le dice a `sort` que realice un orden decreciente.\n",
    "\n",
    "El segundo bucle atraviesa la lista de tuplas y crea una lista de palabras en orden descendente de longitud. Las palabras de cuatro caracteres se ordenan en orden alfabético inverso, por lo que \"what\" aparece antes de \"soft\".\n",
    "\n",
    "Por supuesto, la línea pierde gran parte de su impacto poético cuando se convierte en una lista de Python y se ordena en orden de longitud de palabra descendente."
   ]
  },
  {
   "cell_type": "markdown",
   "metadata": {},
   "source": [
    "## Asignacion a tuplas\n",
    "\n",
    "Una de las características sintácticas únicas del lenguaje Python es la capacidad de tener una tupla en el lado izquierdo de una declaración de asignación. Esto le permite asignar más de una variable a la vez cuando el lado izquierdo es una secuencia.\n",
    "\n",
    "En este ejemplo, tenemos una lista de dos elementos (que es una secuencia) y asignamos los elementos primero y segundo de la secuencia a las variables `x` y `y` en una sola declaración."
   ]
  },
  {
   "cell_type": "code",
   "execution_count": 14,
   "metadata": {},
   "outputs": [
    {
     "name": "stdout",
     "output_type": "stream",
     "text": [
      "have\n",
      "fun\n"
     ]
    }
   ],
   "source": [
    "m = [ 'have', 'fun' ]\n",
    "x, y = m\n",
    "print(x)\n",
    "print(y)"
   ]
  },
  {
   "cell_type": "markdown",
   "metadata": {},
   "source": [
    "No es magia, Python traduce aproximadamente la sintaxis de asignación de tuplas para que sea la siguiente:"
   ]
  },
  {
   "cell_type": "code",
   "execution_count": 15,
   "metadata": {},
   "outputs": [
    {
     "name": "stdout",
     "output_type": "stream",
     "text": [
      "have\n",
      "fun\n"
     ]
    }
   ],
   "source": [
    "m = [ 'have', 'fun' ]\n",
    "x = m[0]\n",
    "y = m[1]\n",
    "print(x)\n",
    "print(y)"
   ]
  },
  {
   "cell_type": "markdown",
   "metadata": {},
   "source": [
    "Estilísticamente, cuando usamos una tupla en el lado izquierdo de la declaración de asignación, omitimos los paréntesis, pero la siguiente es una sintaxis igualmente válida:"
   ]
  },
  {
   "cell_type": "code",
   "execution_count": 16,
   "metadata": {},
   "outputs": [
    {
     "name": "stdout",
     "output_type": "stream",
     "text": [
      "have\n",
      "fun\n"
     ]
    }
   ],
   "source": [
    "m = [ 'have', 'fun' ]\n",
    "(x, y) = m\n",
    "print(x)\n",
    "print(y)"
   ]
  },
  {
   "cell_type": "markdown",
   "metadata": {},
   "source": [
    "Una aplicación particularmente inteligente de la asignación de tuplas nos permite intercambiar los valores de dos variables en una sola declaración:"
   ]
  },
  {
   "cell_type": "code",
   "execution_count": 17,
   "metadata": {},
   "outputs": [
    {
     "name": "stdout",
     "output_type": "stream",
     "text": [
      "have\n",
      "fun\n",
      "fun\n",
      "have\n"
     ]
    }
   ],
   "source": [
    "print(x)\n",
    "print(y)\n",
    "x, y = y, x\n",
    "print(x)\n",
    "print(y)"
   ]
  },
  {
   "cell_type": "markdown",
   "metadata": {},
   "source": [
    "Ambos lados de esta declaración son tuplas, pero el lado izquierdo es una tupla de variables; el lado derecho es una tupla de expresiones. Cada valor en el lado derecho se asigna a su variable respectiva en el lado izquierdo. Todas las expresiones en el lado derecho se evalúan antes de cualquiera de las asignaciones.\n",
    "\n",
    "El número de variables a la izquierda y el número de valores a la derecha debe ser el mismo:"
   ]
  },
  {
   "cell_type": "code",
   "execution_count": 18,
   "metadata": {},
   "outputs": [
    {
     "ename": "ValueError",
     "evalue": "too many values to unpack (expected 2)",
     "output_type": "error",
     "traceback": [
      "\u001b[1;31m---------------------------------------------------------------------------\u001b[0m",
      "\u001b[1;31mValueError\u001b[0m                                Traceback (most recent call last)",
      "\u001b[1;32m<ipython-input-18-8904fd2ea925>\u001b[0m in \u001b[0;36m<module>\u001b[1;34m\u001b[0m\n\u001b[1;32m----> 1\u001b[1;33m \u001b[0ma\u001b[0m\u001b[1;33m,\u001b[0m \u001b[0mb\u001b[0m \u001b[1;33m=\u001b[0m \u001b[1;36m1\u001b[0m\u001b[1;33m,\u001b[0m \u001b[1;36m2\u001b[0m\u001b[1;33m,\u001b[0m \u001b[1;36m3\u001b[0m\u001b[1;33m\u001b[0m\u001b[1;33m\u001b[0m\u001b[0m\n\u001b[0m",
      "\u001b[1;31mValueError\u001b[0m: too many values to unpack (expected 2)"
     ]
    }
   ],
   "source": [
    "a, b = 1, 2, 3"
   ]
  },
  {
   "cell_type": "markdown",
   "metadata": {},
   "source": [
    "De manera más general, el lado derecho puede ser cualquier tipo de secuencia (cadena, lista o tupla). Por ejemplo, para dividir una dirección de correo electrónico en un nombre de usuario y un dominio, puede escribir:"
   ]
  },
  {
   "cell_type": "code",
   "execution_count": 19,
   "metadata": {},
   "outputs": [
    {
     "name": "stdout",
     "output_type": "stream",
     "text": [
      "monty\n",
      "python.org\n"
     ]
    }
   ],
   "source": [
    "addr = 'monty@python.org'\n",
    "uname, domain = addr.split('@')\n",
    "print(uname)\n",
    "print(domain)"
   ]
  },
  {
   "cell_type": "markdown",
   "metadata": {},
   "source": [
    "El valor de retorno de `split` es una lista con dos elementos; el primer elemento está asignado a `uname`, el segundo a `domain`."
   ]
  },
  {
   "cell_type": "markdown",
   "metadata": {},
   "source": [
    "## Diccionarios y tuplas\n",
    "\n",
    "Los diccionarios tienen un método llamado `items` que devuelve una lista de tuplas, donde cada tupla es un par `clave-valor`:"
   ]
  },
  {
   "cell_type": "code",
   "execution_count": 20,
   "metadata": {},
   "outputs": [],
   "source": [
    "d = {'a':10, 'b':1, 'c':22}"
   ]
  },
  {
   "cell_type": "markdown",
   "metadata": {},
   "source": [
    "Como debería esperar de un diccionario, los artículos no están en un orden particular.\n",
    "\n",
    "Sin embargo, dado que la lista de tuplas es una lista, y las tuplas son comparables, ahora podemos ordenar la lista de tuplas. La conversión de un diccionario a una lista de tuplas es una forma de que generemos los contenidos de un diccionario ordenado por clave:"
   ]
  },
  {
   "cell_type": "code",
   "execution_count": 21,
   "metadata": {},
   "outputs": [
    {
     "name": "stdout",
     "output_type": "stream",
     "text": [
      "[('a', 10), ('b', 1), ('c', 22)]\n",
      "[('a', 10), ('b', 1), ('c', 22)]\n"
     ]
    }
   ],
   "source": [
    "d = {'a':10, 'b':1, 'c':22}\n",
    "t = list(d.items())\n",
    "print(t)\n",
    "t.sort()\n",
    "print(t)"
   ]
  },
  {
   "cell_type": "markdown",
   "metadata": {},
   "source": [
    "La nueva lista está ordenada en orden alfabético ascendente por el valor clave."
   ]
  },
  {
   "cell_type": "markdown",
   "metadata": {},
   "source": [
    "## Asignacion multiple con diccionarios\n",
    "\n",
    "Combinar `items`, asignación de tuplas y `for`, puede ver un bonito patrón de código para recorrer las claves y los valores de un diccionario en un solo bucle:"
   ]
  },
  {
   "cell_type": "code",
   "execution_count": 22,
   "metadata": {},
   "outputs": [
    {
     "name": "stdout",
     "output_type": "stream",
     "text": [
      "10 a\n",
      "1 b\n",
      "22 c\n"
     ]
    }
   ],
   "source": [
    "for clave, valor in list(d.items()):\n",
    "    print(valor, clave)"
   ]
  },
  {
   "cell_type": "markdown",
   "metadata": {},
   "source": [
    "Este ciclo tiene dos variables de iteración porque `items` devuelve una lista de tuplas, una asignación de tupla que itera sucesivamente a través de cada uno de los pares clave-valor en el diccionario.\n",
    "\n",
    "Para cada iteración a través del bucle, tanto `clave` y `valor` se hacen avanzar al siguiente par clave-valor en el diccionario (todavía en orden hash).\n",
    "\n",
    "Si combinamos estas dos técnicas, podemos imprimir el contenido de un diccionario ordenado por el valor\n",
    "almacenado en cada par clave-valor.\n",
    "\n",
    "Para hacer esto, primero hacemos una lista de tuplas donde cada tupla es del tipo (valor, clave). El método `items` nos daría una lista de tuplas del tipo (clave, valor), pero esta vez queremos ordenar por valor, no por clave. Una vez que hemos construido la lista con las tuplas de la clave de valor, es una cuestión simple de ordenar la lista en orden inverso e imprimir la nueva lista ordenada."
   ]
  },
  {
   "cell_type": "code",
   "execution_count": 23,
   "metadata": {},
   "outputs": [
    {
     "name": "stdout",
     "output_type": "stream",
     "text": [
      "[(10, 'a'), (1, 'b'), (22, 'c')]\n"
     ]
    }
   ],
   "source": [
    "d = {'a':10, 'b':1, 'c':22}\n",
    "l = list()\n",
    "for clave, valor in d.items() :\n",
    "    l.append( (valor, clave) )\n",
    "print(l)\n",
    "l.sort(reverse=True)"
   ]
  },
  {
   "cell_type": "markdown",
   "metadata": {},
   "source": [
    "Al construir cuidadosamente la lista de tuplas para tener el valor como el primer elemento de cada tupla, podemos ordenar la lista de tuplas y obtener los contenidos de nuestro diccionario ordenados por valor."
   ]
  },
  {
   "cell_type": "markdown",
   "metadata": {},
   "source": [
    "## Las palabras mas comunes\n",
    "\n",
    "Volviendo a nuestro ejemplo del texto de Romeo y Julieta Act 2, Escena 2, podemos aumentar nuestro programa para usar esta técnica para imprimir las diez palabras más comunes en el texto de la siguiente manera:"
   ]
  },
  {
   "cell_type": "code",
   "execution_count": 24,
   "metadata": {},
   "outputs": [
    {
     "name": "stdout",
     "output_type": "stream",
     "text": [
      "61 i\n",
      "42 and\n",
      "40 romeo\n",
      "34 to\n",
      "34 the\n",
      "32 thou\n",
      "32 juliet\n",
      "30 that\n",
      "29 my\n",
      "24 thee\n"
     ]
    }
   ],
   "source": [
    "import string\n",
    "fhand = open('./codes/romeo-full.txt')\n",
    "counts = dict()\n",
    "for linea in fhand:\n",
    "    linea = linea.translate(str.maketrans('', '', string.punctuation))\n",
    "    linea = linea.lower()\n",
    "    palabras = linea.split()\n",
    "    for palabra in palabras:\n",
    "        if palabra not in counts:\n",
    "            counts[palabra] = 1\n",
    "        else:\n",
    "            counts[palabra] += 1\n",
    "\n",
    "# Ordena el diccionario por valor\n",
    "lst = list()\n",
    "for clave, valor in list(counts.items()):\n",
    "    lst.append((valor, clave))\n",
    "\n",
    "lst.sort(reverse=True)\n",
    "\n",
    "for clave, valor in lst[:10]:\n",
    "    print(clave, valor)"
   ]
  },
  {
   "cell_type": "markdown",
   "metadata": {},
   "source": [
    "La primera parte del programa que lee el archivo y calcula el diccionario que correlaciona cada palabra con el recuento de palabras del documento no cambia. Pero en lugar de simplemente imprimir counts y finalizar el programa, construimos una lista de tuplas (valor, clave) y luego ordenamos la lista en orden inverso.\n",
    "\n",
    "Como el valor es primero, se usará para las comparaciones. Si hay más de una tupla con el mismo valor, verá el segundo elemento (la clave), de modo que las tuplas donde el valor sea el mismo se ordenarán más por orden alfabético de la clave.\n",
    "\n",
    "Al final, escribimos un bucle `for` agradable que realiza una iteración de asignación múltiple e imprime las diez palabras más comunes iterando a través de un segmento de la lista `lst[:10]`.\n",
    "\n",
    "Entonces ahora la salida finalmente se ve como lo que queremos para nuestro análisis de frecuencia de palabras."
   ]
  },
  {
   "cell_type": "code",
   "execution_count": 25,
   "metadata": {},
   "outputs": [
    {
     "data": {
      "text/plain": [
       "[(61, 'i'),\n",
       " (42, 'and'),\n",
       " (40, 'romeo'),\n",
       " (34, 'to'),\n",
       " (34, 'the'),\n",
       " (32, 'thou'),\n",
       " (32, 'juliet'),\n",
       " (30, 'that'),\n",
       " (29, 'my'),\n",
       " (24, 'thee')]"
      ]
     },
     "execution_count": 25,
     "metadata": {},
     "output_type": "execute_result"
    }
   ],
   "source": [
    "lst[:10]"
   ]
  },
  {
   "cell_type": "markdown",
   "metadata": {},
   "source": [
    "El hecho de que este complejo análisis y análisis de datos se pueda realizar con un programa Python de 19 líneas fácil de entender es una de las razones por las cuales Python es una buena opción como lenguaje para explorar información."
   ]
  },
  {
   "cell_type": "markdown",
   "metadata": {},
   "source": [
    "## Usar tuplas como claves en los diccionarios\n",
    "\n",
    "Debido a que las tuplas son hashable y las listas no, si queremos crear una clave compuesta para usar en un diccionario, debemos usar una tupla como clave.\n",
    "\n",
    "Encontraríamos una clave compuesta si quisiéramos crear un directorio telefónico que haga corresponder los apellidos, los primeros nombres con los números de teléfono. Suponiendo que hemos definido las variables `apellido`, `nombre` y `numero`, podríamos escribir una instrucción de asignación diccionario de la siguiente manera:\n",
    "\n",
    "    diccionario[apellido,nombre] = numero\n",
    "\n",
    "La expresión entre paréntesis es una tupla. Podríamos usar la asignación de tuplas en un bucle `for` para recorrer este diccionario."
   ]
  },
  {
   "cell_type": "code",
   "execution_count": 26,
   "metadata": {
    "scrolled": true
   },
   "outputs": [
    {
     "name": "stdout",
     "output_type": "stream",
     "text": [
      "Juan Lopez 123456789\n"
     ]
    }
   ],
   "source": [
    "diccionario = dict()\n",
    "diccionario['Lopez','Juan'] = 123456789\n",
    "for apellido, nombre in diccionario:\n",
    "    print(nombre, apellido, diccionario[apellido,nombre])"
   ]
  },
  {
   "cell_type": "markdown",
   "metadata": {},
   "source": [
    "Este bucle atraviesa las claves en `diccionario`, que son tuplas. Asigna los elementos de cada tupla, `apellido` y `nombre` luego imprime el nombre y el número de teléfono correspondiente."
   ]
  },
  {
   "cell_type": "markdown",
   "metadata": {},
   "source": [
    "## Secuencias: cadenas, listas y tuplas - ¡Oh, Dios mío!\n",
    "\n",
    "Me he centrado en listas de tuplas, pero casi todos los ejemplos de este capítulo también funcionan con listas de listas, tuplas de tuplas y tuplas de listas. Para evitar enumerar las posibles combinaciones, a veces es más fácil hablar de secuencias de secuencias.\n",
    "\n",
    "En muchos contextos, los diferentes tipos de secuencias (cadenas, listas y tuplas) se pueden usar indistintamente. Entonces, ¿cómo y por qué eliges uno sobre los demás?\n",
    "\n",
    "Para comenzar con lo obvio, las cadenas son más limitadas que otras secuencias porque los elementos tienen que ser caracteres. Ellos también son inmutables. Si necesita la capacidad de cambiar los caracteres en una cadena (en lugar de crear una nueva cadena), es posible que desee utilizar una lista de caracteres en su lugar.\n",
    "\n",
    "Las listas son más comunes que las tuplas, principalmente porque son mutables. Pero hay algunos casos en los que podrías preferir tuplas:\n",
    "1. En algunos contextos, como una declaración `return`, es sintácticamente más simple crear una tupla que una lista. En otros contextos, es posible que se prefiera una lista.\n",
    "2. Si desea usar una secuencia como un clave de diccionario, debe usar un tipo inmutable como una tupla o cadena.\n",
    "3. Si está pasando una secuencia como argumento a una función, el uso de tuplas reduce el potencial de comportamiento inesperado debido al aliasing.\n",
    "\n",
    "Debido a que las tuplas son inmutables, no proporcionan métodos como `sort` y `reverse`, que modifican las listas existentes. Sin embargo, Python proporciona las funciones integradas `sorted` y `reversed`, que toman cualquier secuencia como parámetro y devuelven una nueva secuencia con los mismos elementos en un orden diferente."
   ]
  },
  {
   "cell_type": "markdown",
   "metadata": {},
   "source": [
    "## Depuración\n",
    "\n",
    "Las listas, diccionarios y tuplas se conocen genéricamente como estructuras de datos; en este capítulo estamos comenzando a ver estructuras de datos compuestos, como listas de tuplas y diccionarios que contienen tuplas como claves y listas como valores. Las estructuras de datos compuestas son útiles, pero son propensas a lo que llamo errores de forma; es decir, los errores causados cuando una estructura de datos tiene un tipo, tamaño o composición incorrectos, o tal vez usted escribe algún código y olvida la forma de sus datos y produce un error.\n",
    "\n",
    "Por ejemplo, si está esperando una lista con un número entero y le doy un número entero simple antiguo (no en una lista), no funcionará.\n",
    "\n",
    "Cuando está depurando un programa, y especialmente si está trabajando en un error, hay cuatro cosas que debe intentar:\n",
    "\n",
    "**leer:** Examine su código, léalo de nuevo y verifique que diga lo que quería decir.\n",
    "\n",
    "**ejecutar:** Experimenta haciendo cambios y ejecutando diferentes versiones. A menudo, si muestra lo correcto en el lugar correcto del programa, el problema se vuelve obvio, pero a veces debe dedicar algún tiempo a construir andamios.\n",
    "\n",
    "**reflexionar:** ¡Tómate un tiempo para pensar! ¿Qué tipo de error es: sintaxis, tiempo de ejecución, semántica? ¿Qué información puede obtener de los mensajes de error o de la salida del programa? ¿Qué tipo de error podría causar el problema que estás viendo? ¿Qué cambiaste por última vez antes de que apareciera el problema?\n",
    "\n",
    "**retirarse:** En algún momento, lo mejor que puede hacer es retroceder, deshacer los cambios recientes, hasta que regrese a un programa que funciona y que usted comprende. Entonces puedes comenzar a reconstruir.\n",
    "\n",
    "Los programadores principiantes a veces se atascan en una de estas actividades y se olvidan de los demás. Cada actividad viene con su propio modo de falla.\n",
    "\n",
    "Por ejemplo, leer su código podría ayudar si el problema es un error tipográfico, pero no si el problema es un malentendido conceptual. Si no comprende lo que hace su programa, puede leerlo 100 veces y nunca ver el error, porque el error está en su cabeza.\n",
    "\n",
    "Ejecutar experimentos puede ser útil, especialmente si realiza pruebas pequeñas y simples. Pero si ejecuta experimentos sin pensar o leer su código, puede caer en un patrón que llamo \"programación aleatoria\", que es el proceso de hacer cambios aleatorios hasta que el programa haga lo correcto. Vale decir que la programación aleatoria puede llevar mucho tiempo.\n",
    "\n",
    "Tienes que tomar tiempo para pensar. La depuración es como una ciencia experimental. Debería tener al menos una hipótesis sobre cuál es el problema. Si hay dos o más posibilidades, trate de pensar en una prueba que eliminaría una de ellas.\n",
    "\n",
    "Tomar un descanso ayuda con el pensamiento. También lo hace hablar. Si le explica el problema a alguien más (o incluso a usted), a veces encontrará la respuesta antes de que termine de formular la pregunta.\n",
    "\n",
    "Pero incluso las mejores técnicas de depuración fallarán si hay demasiados errores o si el código que intentas corregir es demasiado grande y complicado. A veces, la mejor opción es retirarse,  simplificando el programa hasta que llegue a algo que funcione y que usted entienda.\n",
    "\n",
    "Los programadores principiantes a menudo son reacios a retirarse porque no pueden soportar eliminar una línea de código (incluso si está mal). Si te hace sentir mejor, copia tu programa en otro archivo antes de comenzar a desmantelarlo. Luego puedes pegar las piezas un poquito a la vez.\n",
    "\n",
    "Encontrar un error difícil requiere leer, ejecutar, reflexionar y, a veces, retirarse. Si te quedas atascado en una de estas actividades, prueba con los demás."
   ]
  },
  {
   "cell_type": "markdown",
   "metadata": {},
   "source": [
    "## Glosario\n",
    "\n",
    "* **comparable:** Un tipo en el que se puede verificar un valor para ver si es mayor, menor o igual a otro valor del mismo tipo. Los tipos que son comparables se pueden poner en una lista y ordenar. \n",
    "\n",
    "* **estructura de datos:** Una colección de valores relacionados, a menudo organizados en listas, diccionarios, tuplas, etc.\n",
    "\n",
    "* **DSU:** Abreviatura de \"decorate-sort-undecorate\", un patrón que implica construir una lista de tuplas, ordenar y extraer parte del resultado.\n",
    "\n",
    "* **reunir:** La operación de ensamblar una tupla de argumento de longitud variable.\n",
    "\n",
    "* **hashable:** Un tipo que tiene una función hash. Los tipos inmutables como enteros, flotantes y cadenas son hashable; tipos mutables como listas y diccionarios no lo son.\n",
    "\n",
    "* **dispersión:** La operación de tratar una secuencia como una lista de argumentos.\n",
    "\n",
    "* **forma (de una estructura de datos):** Un resumen del tipo, tamaño y composición de una estructura de datos.\n",
    "\n",
    "* **singleton:** Una lista (u otra secuencia) con un solo elemento.\n",
    "\n",
    "* **tupla:** Una secuencia inmutable de elementos.\n",
    "\n",
    "* **asignación de tupla:** Una asignación con una secuencia en el lado derecho y una tupla de variables en el lado izquierdo. El lado derecho se evalúa y luego sus elementos se asignan a las variables de la izquierda."
   ]
  },
  {
   "cell_type": "markdown",
   "metadata": {},
   "source": [
    "## Ejercicios\n",
    "\n",
    "**Ejercicio 1:** revise un programa anterior de la siguiente manera: lea y analice las líneas \"From\" y extraiga las direcciones de la línea. Cuente la cantidad de mensajes de cada persona que usa un diccionario.\n",
    "\n",
    "Una vez que se hayan leído todos los datos, imprima la persona con la mayor cantidad de confirmaciones creando una lista de tuplas (de recuento, correo electrónico) del diccionario. Luego, clasifique la lista en orden inverso e imprima la persona que tiene la mayor cantidad de confirmaciones.\n",
    "\n",
    "Linea de ejemplo:\n",
    "\n",
    "    From stephen.marquard@uct.ac.za Sat Jan 5 09:14:16 2008\n",
    "    \n",
    "    Ingresa el nombre de archivo: mbox-short.txt\n",
    "    cwen@iupui.edu 5\n",
    "    \n",
    "    Ingresa el nombre de archivo: mbox.txt\n",
    "    zqian@umich.edu 195\n",
    "\n",
    "**Ejercicio 2:** este programa cuenta la distribución de la hora del día para cada uno de los mensajes. Puede sacar la hora de la línea \"From\" buscando la cadena de tiempo y luego dividir esa cadena en partes usando el carácter de dos puntos. Una vez que haya acumulado los conteos por cada hora, imprima los conteos, uno por línea, ordenados por hora como se muestra a continuación.\n",
    "\n",
    "    python timeofday.py\n",
    "    Ingresa el nombre de archivo: mbox-short.txt\n",
    "    04 3\n",
    "    06 1\n",
    "    07 1\n",
    "    09 2\n",
    "    10 3\n",
    "    11 6\n",
    "    14 1\n",
    "    15 2\n",
    "    16 4\n",
    "    17 2\n",
    "    18 1\n",
    "    19 1\n",
    "\n",
    "**Ejercicio 3:** escriba un programa que lea un archivo e imprima las letras en orden decreciente de frecuencia. Su programa debe convertir todas las entradas en minúsculas y solo contar las letras a-z. Su programa no debe contar espacios, dígitos, signos de puntuación ni nada que no sean las letras de la `a` a la `z`. Encuentre ejemplos de texto de diferentes idiomas y vea cómo varía la frecuencia de las letras entre los idiomas. Compare sus resultados con las tablas en wikipedia.org/wiki/Letter_frequencies."
   ]
  },
  {
   "cell_type": "markdown",
   "metadata": {},
   "source": [
    "<!--NAVIGATION-->\n",
    "| [Indice](indice.ipynb) |\n",
    "\n",
    "< [Capítulo 9 - Diccionarios](cap09.ipynb) | [Capítulo 11 - Expresiones regulares](cap11.ipynb) >"
   ]
  }
 ],
 "metadata": {
  "kernelspec": {
   "display_name": "Python 3",
   "language": "python",
   "name": "python3"
  },
  "language_info": {
   "codemirror_mode": {
    "name": "ipython",
    "version": 3
   },
   "file_extension": ".py",
   "mimetype": "text/x-python",
   "name": "python",
   "nbconvert_exporter": "python",
   "pygments_lexer": "ipython3",
   "version": "3.7.3"
  },
  "varInspector": {
   "cols": {
    "lenName": 16,
    "lenType": 16,
    "lenVar": 40
   },
   "kernels_config": {
    "python": {
     "delete_cmd_postfix": "",
     "delete_cmd_prefix": "del ",
     "library": "var_list.py",
     "varRefreshCmd": "print(var_dic_list())"
    },
    "r": {
     "delete_cmd_postfix": ") ",
     "delete_cmd_prefix": "rm(",
     "library": "var_list.r",
     "varRefreshCmd": "cat(var_dic_list()) "
    }
   },
   "types_to_exclude": [
    "module",
    "function",
    "builtin_function_or_method",
    "instance",
    "_Feature"
   ],
   "window_display": false
  }
 },
 "nbformat": 4,
 "nbformat_minor": 2
}
