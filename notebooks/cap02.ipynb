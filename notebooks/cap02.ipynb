{
 "cells": [
  {
   "cell_type": "markdown",
   "metadata": {},
   "source": [
    "<!--BOOK_INFORMATION-->\n",
    "<img align=\"left\" style=\"padding-right:10px;\" src=\"./figures/cover-small.jpg\">\n",
    "\n",
    "*Este libro es una versión al español de [Python for Everybody](https://www.py4e.com/) escrito por el [Dr. Charles R. Severance](http://www.dr-chuck.com/); este contenido esta disponible en [GitHub](https://github.com/csev/py4e).*\n",
    "\n",
    "Detalles de Copyright\n",
    "\n",
    "*Copyright ~ 2009- Charles Severance.\n",
    "Este trabajo está registrado bajo una Licencia Creative Commons AttributionNonCommercial-ShareAlike 3.0 [CC BY-NC-SA](https://creativecommons.org/licenses/by-nc-sa/3.0/).*"
   ]
  },
  {
   "cell_type": "markdown",
   "metadata": {},
   "source": [
    "<!--NAVIGATION-->\n",
    "| [Indice](indice.ipynb) | \n",
    "\n",
    "< [Capítulo 1 - ¿Por qué deberías aprender a escribir código?](cap01.ipynb) | [Capítulo 3 - Ejecuciones condicionales](cap03.ipynb) >"
   ]
  },
  {
   "cell_type": "markdown",
   "metadata": {},
   "source": [
    "# Capítulo 2 - Variables, expresiones y declaraciones\n",
    "\n",
    "## Valores y tipos\n",
    "\n",
    "Un valor es una de las cosas básicas con las que trabaja un programa, como una letra o un número. Los valores que hemos visto hasta ahora son 1, 2 y \"Hola mundo!\".\n",
    "\n",
    "Estos valores pertenecen a diferentes tipos: 2 es un número entero, y \"¡Hola, mundo!\" es una cadena, llamada así porque contiene una \"cadena\" de letras. Usted (y el intérprete) pueden identificar cadenas porque están entre comillas.\n",
    "\n",
    "La sentencia *print* también funciona para enteros."
   ]
  },
  {
   "cell_type": "code",
   "execution_count": 1,
   "metadata": {},
   "outputs": [
    {
     "name": "stdout",
     "output_type": "stream",
     "text": [
      "4\n"
     ]
    }
   ],
   "source": [
    "print(4)"
   ]
  },
  {
   "cell_type": "markdown",
   "metadata": {},
   "source": [
    "Si no está seguro de qué tipo tiene un valor, el intérprete puede decírselo"
   ]
  },
  {
   "cell_type": "code",
   "execution_count": 2,
   "metadata": {},
   "outputs": [
    {
     "data": {
      "text/plain": [
       "str"
      ]
     },
     "execution_count": 2,
     "metadata": {},
     "output_type": "execute_result"
    }
   ],
   "source": [
    "type('Hola mundo!')"
   ]
  },
  {
   "cell_type": "code",
   "execution_count": 3,
   "metadata": {},
   "outputs": [
    {
     "data": {
      "text/plain": [
       "int"
      ]
     },
     "execution_count": 3,
     "metadata": {},
     "output_type": "execute_result"
    }
   ],
   "source": [
    "type(17)"
   ]
  },
  {
   "cell_type": "markdown",
   "metadata": {},
   "source": [
    "Como era de esperar, las cadenas pertenecen al tipo *str* y los enteros pertenecen al tipo *int*. Menos obviamente, los números con un punto decimal pertenecen a un tipo llamado *float*, porque estos números se representan en un formato llamado punto flotante."
   ]
  },
  {
   "cell_type": "code",
   "execution_count": 4,
   "metadata": {},
   "outputs": [
    {
     "data": {
      "text/plain": [
       "float"
      ]
     },
     "execution_count": 4,
     "metadata": {},
     "output_type": "execute_result"
    }
   ],
   "source": [
    "type(3.2)"
   ]
  },
  {
   "cell_type": "markdown",
   "metadata": {},
   "source": [
    "¿Qué pasa con valores como \"17\" y \"3.2\"? Se parecen a números, pero están entre comillas como cadenas."
   ]
  },
  {
   "cell_type": "code",
   "execution_count": 5,
   "metadata": {},
   "outputs": [
    {
     "data": {
      "text/plain": [
       "str"
      ]
     },
     "execution_count": 5,
     "metadata": {},
     "output_type": "execute_result"
    }
   ],
   "source": [
    "type('17')"
   ]
  },
  {
   "cell_type": "code",
   "execution_count": 6,
   "metadata": {},
   "outputs": [
    {
     "data": {
      "text/plain": [
       "str"
      ]
     },
     "execution_count": 6,
     "metadata": {},
     "output_type": "execute_result"
    }
   ],
   "source": [
    "type('3.2')"
   ]
  },
  {
   "cell_type": "markdown",
   "metadata": {},
   "source": [
    "Son cadenas.\n",
    "\n",
    "Cuando escribe un número entero grande, es posible que tenga la tentación de usar comas entre grupos de tres dígitos, como en 1,000,000. Este no es un número entero legal en Python, pero es legal:"
   ]
  },
  {
   "cell_type": "code",
   "execution_count": 7,
   "metadata": {},
   "outputs": [
    {
     "name": "stdout",
     "output_type": "stream",
     "text": [
      "1 0 0\n"
     ]
    }
   ],
   "source": [
    "print(1,000,00)"
   ]
  },
  {
   "cell_type": "markdown",
   "metadata": {},
   "source": [
    "Bueno, eso no es lo que esperábamos en absoluto! Python interpreta 1,000,000 como una secuencia de enteros separados por comas, que imprime con espacios intermedios.\n",
    "\n",
    "\n",
    "Este es el primer ejemplo que hemos visto de un error semántico: el código se ejecuta sin producir un mensaje de error, pero no hace lo \"correcto\"."
   ]
  },
  {
   "cell_type": "markdown",
   "metadata": {},
   "source": [
    "## Variables\n",
    "\n",
    "Una de las características más potentes de un lenguaje de programación es la capacidad de manipular variables. Una variable es un nombre que se refiere a un valor.\n",
    "\n",
    "Una instrucción de asignación crea nuevas variables y le da valores:"
   ]
  },
  {
   "cell_type": "code",
   "execution_count": 8,
   "metadata": {},
   "outputs": [],
   "source": [
    "mensaje = 'Y ahora algo completamente diferente'\n",
    "n = 17\n",
    "pi = 3.1415926535897931"
   ]
  },
  {
   "cell_type": "markdown",
   "metadata": {},
   "source": [
    "Este ejemplo hace tres asignaciones. El primero asigna una cadena a una nueva variable llamada *mensaje*; el segundo asigna el entero 17 a *n*; el tercero asigna el valor (aproximado) de π a *pi*.\n",
    "\n",
    "Para mostrar el valor de una variable, puede usar una sentencia *print*:"
   ]
  },
  {
   "cell_type": "code",
   "execution_count": 9,
   "metadata": {},
   "outputs": [
    {
     "name": "stdout",
     "output_type": "stream",
     "text": [
      "17\n",
      "3.141592653589793\n"
     ]
    }
   ],
   "source": [
    "print(n)\n",
    "print(pi)"
   ]
  },
  {
   "cell_type": "markdown",
   "metadata": {},
   "source": [
    "El tipo de una variable es el tipo del valor al que se refiere."
   ]
  },
  {
   "cell_type": "code",
   "execution_count": 10,
   "metadata": {},
   "outputs": [
    {
     "data": {
      "text/plain": [
       "str"
      ]
     },
     "execution_count": 10,
     "metadata": {},
     "output_type": "execute_result"
    }
   ],
   "source": [
    "type(mensaje)"
   ]
  },
  {
   "cell_type": "code",
   "execution_count": 11,
   "metadata": {},
   "outputs": [
    {
     "data": {
      "text/plain": [
       "int"
      ]
     },
     "execution_count": 11,
     "metadata": {},
     "output_type": "execute_result"
    }
   ],
   "source": [
    "type(n)"
   ]
  },
  {
   "cell_type": "code",
   "execution_count": 12,
   "metadata": {},
   "outputs": [
    {
     "data": {
      "text/plain": [
       "float"
      ]
     },
     "execution_count": 12,
     "metadata": {},
     "output_type": "execute_result"
    }
   ],
   "source": [
    "type(pi)"
   ]
  },
  {
   "cell_type": "markdown",
   "metadata": {},
   "source": [
    "## Nombres de variables y palabras claves\n",
    "\n",
    "Los programadores generalmente eligen nombres para sus variables que son significativos y documentan para qué se usa la variable.\n",
    "\n",
    "Los nombres de variables pueden ser arbitrariamente largos. Pueden contener tanto letras como números, pero no pueden comenzar con un número. Es legal usar letras mayúsculas, pero es una buena idea comenzar los nombres de las variables con una letra minúscula (verás por qué más adelante).\n",
    "\n",
    "El carácter de subrayado _ puede aparecer en un nombre. A menudo se usa en nombres con varias palabras, como mi_nombre o velocidad_de_vuelo. Los nombres de variables pueden comenzar con un carácter de guion bajo, pero generalmente evitamos hacerlo a menos que estemos escribiendo bibliotecas de código para que otros lo usen.\n",
    "\n",
    "Si asigna a una variable un nombre ilegal, obtendrá un error de sintaxis:"
   ]
  },
  {
   "cell_type": "code",
   "execution_count": 13,
   "metadata": {},
   "outputs": [
    {
     "ename": "SyntaxError",
     "evalue": "invalid syntax (<ipython-input-13-ee94c7e0b6d5>, line 1)",
     "output_type": "error",
     "traceback": [
      "\u001b[1;36m  File \u001b[1;32m\"<ipython-input-13-ee94c7e0b6d5>\"\u001b[1;36m, line \u001b[1;32m1\u001b[0m\n\u001b[1;33m    76trombones = 'música'\u001b[0m\n\u001b[1;37m              ^\u001b[0m\n\u001b[1;31mSyntaxError\u001b[0m\u001b[1;31m:\u001b[0m invalid syntax\n"
     ]
    }
   ],
   "source": [
    "76trombones = 'música'"
   ]
  },
  {
   "cell_type": "code",
   "execution_count": 14,
   "metadata": {},
   "outputs": [
    {
     "ename": "SyntaxError",
     "evalue": "invalid syntax (<ipython-input-14-1c9f450d7dd8>, line 1)",
     "output_type": "error",
     "traceback": [
      "\u001b[1;36m  File \u001b[1;32m\"<ipython-input-14-1c9f450d7dd8>\"\u001b[1;36m, line \u001b[1;32m1\u001b[0m\n\u001b[1;33m    mor@ = 1000000\u001b[0m\n\u001b[1;37m         ^\u001b[0m\n\u001b[1;31mSyntaxError\u001b[0m\u001b[1;31m:\u001b[0m invalid syntax\n"
     ]
    }
   ],
   "source": [
    "mor@ = 1000000"
   ]
  },
  {
   "cell_type": "code",
   "execution_count": 15,
   "metadata": {},
   "outputs": [
    {
     "ename": "SyntaxError",
     "evalue": "invalid syntax (<ipython-input-15-5f8993154490>, line 1)",
     "output_type": "error",
     "traceback": [
      "\u001b[1;36m  File \u001b[1;32m\"<ipython-input-15-5f8993154490>\"\u001b[1;36m, line \u001b[1;32m1\u001b[0m\n\u001b[1;33m    class = 'hola'\u001b[0m\n\u001b[1;37m          ^\u001b[0m\n\u001b[1;31mSyntaxError\u001b[0m\u001b[1;31m:\u001b[0m invalid syntax\n"
     ]
    }
   ],
   "source": [
    "class = 'hola'"
   ]
  },
  {
   "cell_type": "markdown",
   "metadata": {},
   "source": [
    "*76trombones* es ilegal porque comienza con un número. *more@* es ilegal, ya que contiene un carácter ilegal, *@*. Pero, ¿qué pasa con *class*?\n",
    "\n",
    "Resulta que *class* una de las palabras clave de Python. El intérprete usa palabras clave para reconocer la estructura del programa, y no se pueden usar como nombres de variables.\n",
    "\n",
    "Python reserva 33 palabras clave:"
   ]
  },
  {
   "cell_type": "code",
   "execution_count": 16,
   "metadata": {
    "scrolled": true
   },
   "outputs": [
    {
     "name": "stdout",
     "output_type": "stream",
     "text": [
      "\n",
      "Here is a list of the Python keywords.  Enter any keyword to get more help.\n",
      "\n",
      "False               class               from                or\n",
      "None                continue            global              pass\n",
      "True                def                 if                  raise\n",
      "and                 del                 import              return\n",
      "as                  elif                in                  try\n",
      "assert              else                is                  while\n",
      "async               except              lambda              with\n",
      "await               finally             nonlocal            yield\n",
      "break               for                 not                 \n",
      "\n"
     ]
    }
   ],
   "source": [
    "help(\"keywords\")"
   ]
  },
  {
   "cell_type": "markdown",
   "metadata": {},
   "source": [
    "Es posible que desee mantener esta lista a mano. Si el intérprete se queja de uno de sus nombres de variable y no sabe por qué, vea si está en esta lista."
   ]
  },
  {
   "cell_type": "markdown",
   "metadata": {},
   "source": [
    "## Declaraciones\n",
    "\n",
    "Una declaración es una unidad de código que el intérprete de Python puede ejecutar. Hemos visto dos tipos de declaraciones: `print` siendo un enunciado y una asignación de expresión.\n",
    "\n",
    "Cuando escribe una instrucción en modo interactivo, el intérprete la ejecuta y muestra el resultado, si hay alguno.\n",
    "\n",
    "Un **script** generalmente contiene una secuencia de declaraciones. Si hay más de una declaración, los resultados aparecen de uno en uno a medida que se ejecutan las declaraciones.\n",
    "\n",
    "Por ejemplo, la secuencia de comandos"
   ]
  },
  {
   "cell_type": "code",
   "execution_count": 17,
   "metadata": {},
   "outputs": [
    {
     "name": "stdout",
     "output_type": "stream",
     "text": [
      "1\n",
      "2\n"
     ]
    }
   ],
   "source": [
    "print(1)\n",
    "x = 2\n",
    "print(x)"
   ]
  },
  {
   "cell_type": "markdown",
   "metadata": {},
   "source": [
    "la instrucción de asignación no produce salida."
   ]
  },
  {
   "cell_type": "markdown",
   "metadata": {},
   "source": [
    "## Operadores y operandos\n",
    "\n",
    "Los operadores son símbolos especiales que representan cálculos como la suma y la multiplicación. Los valores a los que se aplica el operador se llaman operandos.\n",
    "\n",
    "Los operadores `+`, `-`, `*`, `/`, y `**` realizan la suma, resta, multiplicación, división y exponenciación, como en los siguientes ejemplos:\n",
    "\n",
    "    20+32 hora-1 hora*60+minutos minutos/60 5**2 (5+9)*(15-7)\n",
    "\n",
    "Ha habido un cambio en el operador de división entre Python 2.x y Python 3.x. En Python 3.x, el resultado de esta división es un resultado en coma flotante:"
   ]
  },
  {
   "cell_type": "code",
   "execution_count": 18,
   "metadata": {},
   "outputs": [
    {
     "data": {
      "text/plain": [
       "0.9833333333333333"
      ]
     },
     "execution_count": 18,
     "metadata": {},
     "output_type": "execute_result"
    }
   ],
   "source": [
    "minuto = 59\n",
    "minuto/60"
   ]
  },
  {
   "cell_type": "markdown",
   "metadata": {},
   "source": [
    "El operador de división en Python 2.0 dividiría dos enteros y truncaría el resultado en un entero.\n",
    "\n",
    "Para obtener la misma respuesta en Python 3.0 use la división de piso (// entero)"
   ]
  },
  {
   "cell_type": "code",
   "execution_count": 19,
   "metadata": {},
   "outputs": [
    {
     "data": {
      "text/plain": [
       "0"
      ]
     },
     "execution_count": 19,
     "metadata": {},
     "output_type": "execute_result"
    }
   ],
   "source": [
    "minuto = 59\n",
    "minuto//60"
   ]
  },
  {
   "cell_type": "markdown",
   "metadata": {},
   "source": [
    "En Python 3.0 la división de enteros funciona mucho más de lo que cabría esperar si ingresa la expresión en una calculadora.\n"
   ]
  },
  {
   "cell_type": "markdown",
   "metadata": {},
   "source": [
    "## Expresiones\n",
    "\n",
    "Una expresión es una combinación de valores, variables y operadores. Un valor en sí mismo se considera una expresión, y también lo es una variable, por lo que las siguientes son todas expresiones legales (suponiendo que a la variable x se le ha asignado un valor):"
   ]
  },
  {
   "cell_type": "code",
   "execution_count": 20,
   "metadata": {},
   "outputs": [
    {
     "data": {
      "text/plain": [
       "19"
      ]
     },
     "execution_count": 20,
     "metadata": {},
     "output_type": "execute_result"
    }
   ],
   "source": [
    "17\n",
    "x\n",
    "x + 17"
   ]
  },
  {
   "cell_type": "markdown",
   "metadata": {},
   "source": [
    "Si escribe una expresión en modo interactivo, el intérprete la evalúa y muestra el resultado:"
   ]
  },
  {
   "cell_type": "code",
   "execution_count": 21,
   "metadata": {},
   "outputs": [
    {
     "data": {
      "text/plain": [
       "2"
      ]
     },
     "execution_count": 21,
     "metadata": {},
     "output_type": "execute_result"
    }
   ],
   "source": [
    "1 + 1"
   ]
  },
  {
   "cell_type": "markdown",
   "metadata": {},
   "source": [
    "¡Pero en un programa, una expresión por sí sola no hace nada! Esta es una fuente común de confusión para los principiantes.\n",
    "\n",
    "Ejercicio 1: Escriba las siguientes declaraciones en el intérprete de Python para ver lo que hacen:"
   ]
  },
  {
   "cell_type": "code",
   "execution_count": 22,
   "metadata": {},
   "outputs": [
    {
     "data": {
      "text/plain": [
       "6"
      ]
     },
     "execution_count": 22,
     "metadata": {},
     "output_type": "execute_result"
    }
   ],
   "source": [
    "5\n",
    "x = 5\n",
    "x + 1"
   ]
  },
  {
   "cell_type": "markdown",
   "metadata": {},
   "source": [
    "## Orden de operadores\n",
    "\n",
    "Cuando aparece más de un operador en una expresión, el orden de evaluación depende de las reglas de precedencia. Para los operadores matemáticos, Python sigue la convención matemática. El acrónimo **PEMDAS** es una forma útil de recordar las reglas:\n",
    "* Los **P**aréntesis tienen la precedencia más alta y se pueden usar para forzar que una expresión se evalúe en el orden que desee. Dado que las expresiones entre paréntesis se evalúan primero, 2 * (3 - 1) es 4 y (1 + 1)**(5 - 2) es 8. También puede usar paréntesis para hacer que una expresión sea más fácil de leer, como en (minuto * 100) / 60, incluso si no cambia el resultado.\n",
    "* **E**xponenciación tiene la siguiente precedencia más alta, por lo que 2**1 + 1 es 3, no 4, y 3 * 1**3 es 3, no 27.\n",
    "* **M**ultiplicación y **D**ivisión tienen la misma precedencia, que es más alta que **A**dición y **S**ustracción, que también tienen la misma precedencia. Entonces 2 * 3 – 1 es 5, no 4, y 6 + 4 / 2 es 8.0, no 5.\n",
    "* Los operadores con la misma precedencia se evalúan de izquierda a derecha. Entonces la expresión 5 – 3 – 1 es 1, no 3, porque 5 – 3 sucede primero y luego 1 se resta de 2.\n",
    "\n",
    "En caso de duda, siempre coloque paréntesis en sus expresiones para asegurarse de que los cálculos se realizan en el orden que desea."
   ]
  },
  {
   "cell_type": "markdown",
   "metadata": {},
   "source": [
    "## Operador de modulo\n",
    "\n",
    "El operador de módulo trabaja en enteros y produce el resto cuando el primer operando se divide por el segundo. En Python, el operador de módulo es un signo de porcentaje (%). La sintaxis es la misma que para otros operadores:"
   ]
  },
  {
   "cell_type": "code",
   "execution_count": 23,
   "metadata": {},
   "outputs": [
    {
     "name": "stdout",
     "output_type": "stream",
     "text": [
      "2\n",
      "1\n"
     ]
    }
   ],
   "source": [
    "cociente = 7 // 3\n",
    "print(cociente)\n",
    "resto = 7 % 3\n",
    "print(resto)"
   ]
  },
  {
   "cell_type": "markdown",
   "metadata": {},
   "source": [
    "Entonces 7 dividido por 3 es 2 con 1 sobrante.\n",
    "\n",
    "El operador de módulo resulta ser sorprendentemente útil. Por ejemplo, puede verificar si un número es divisible por otro: si *x* % *y* es cero, entonces *x* es divisible por *y*.\n",
    "\n",
    "También puede extraer el dígito o los dígitos del más a la derecha de un número. Por ejemplo, *x* % 10 arroja el dígito más a la derecha de *x* (en la base 10). Del mismo modo, *x* % 100 produce los dos últimos dígitos."
   ]
  },
  {
   "cell_type": "markdown",
   "metadata": {},
   "source": [
    "## Operadores de cadenas\n",
    "\n",
    "El operador + trabaja con cadenas, pero no es una adición en el sentido matemático. En su lugar, realiza la concatenación, lo que significa unir las cadenas uniéndolas de extremo a extremo. Por ejemplo:"
   ]
  },
  {
   "cell_type": "code",
   "execution_count": 24,
   "metadata": {},
   "outputs": [
    {
     "name": "stdout",
     "output_type": "stream",
     "text": [
      "25\n"
     ]
    }
   ],
   "source": [
    "primero = 10\n",
    "segundo = 15\n",
    "print(primero + segundo)"
   ]
  },
  {
   "cell_type": "code",
   "execution_count": 25,
   "metadata": {},
   "outputs": [
    {
     "name": "stdout",
     "output_type": "stream",
     "text": [
      "100150\n"
     ]
    }
   ],
   "source": [
    "primero = '100'\n",
    "segundo = '150'\n",
    "print(primero + segundo)"
   ]
  },
  {
   "cell_type": "markdown",
   "metadata": {},
   "source": [
    "El resultado de este ultimo programa es 100150."
   ]
  },
  {
   "cell_type": "markdown",
   "metadata": {},
   "source": [
    "## Pedirle al usuario su opinión\n",
    "\n",
    "A veces nos gustaría tomar el valor de una variable del usuario a través de su teclado. Python proporciona una función incorporada llamada *input* que obtiene la entrada desde el teclado. Cuando se llama a esta función, el programa se detiene y espera a que el usuario escriba algo. Cuando el usuario presiona Return o Enter, el programa se reanuda y *input* devuelve en forma de cadena lo que el usuario tipeó."
   ]
  },
  {
   "cell_type": "code",
   "execution_count": 26,
   "metadata": {},
   "outputs": [
    {
     "name": "stdout",
     "output_type": "stream",
     "text": [
      "Hola!\n",
      "Hola!\n"
     ]
    }
   ],
   "source": [
    "entrada = input()\n",
    "print(entrada)"
   ]
  },
  {
   "cell_type": "markdown",
   "metadata": {},
   "source": [
    "Antes de recibir información del usuario, es una buena idea imprimir un mensaje que le indique al usuario qué debe ingresar. Puede pasar una cadena a *input* para que se muestre al usuario antes de hacer una pausa para la entrada:"
   ]
  },
  {
   "cell_type": "code",
   "execution_count": 27,
   "metadata": {},
   "outputs": [
    {
     "name": "stdout",
     "output_type": "stream",
     "text": [
      "Cuál es tu nombre?\n",
      "Chuck\n",
      "Chuck\n"
     ]
    }
   ],
   "source": [
    "nombre = input('Cuál es tu nombre?\\n')\n",
    "print(nombre)"
   ]
  },
  {
   "cell_type": "markdown",
   "metadata": {},
   "source": [
    "La secuencia *\\n* al final del prompt representa una nueva línea, que es un carácter especial que causa un salto de línea. Es por eso que la entrada del usuario aparece debajo del aviso.\n",
    "\n",
    "Si espera que el usuario escriba un número entero, puede intentar convertir el valor de retorno a *int* con la función `int()`:"
   ]
  },
  {
   "cell_type": "code",
   "execution_count": 28,
   "metadata": {},
   "outputs": [
    {
     "name": "stdout",
     "output_type": "stream",
     "text": [
      "Cuál es la velocidad de una golondrina?\n",
      "75\n"
     ]
    },
    {
     "data": {
      "text/plain": [
       "80"
      ]
     },
     "execution_count": 28,
     "metadata": {},
     "output_type": "execute_result"
    }
   ],
   "source": [
    "prompt = 'Cuál es la velocidad de una golondrina?\\n'\n",
    "velocidad = input(prompt)\n",
    "int(velocidad)\n",
    "int(velocidad) + 5"
   ]
  },
  {
   "cell_type": "code",
   "execution_count": 29,
   "metadata": {
    "scrolled": true
   },
   "outputs": [
    {
     "name": "stdout",
     "output_type": "stream",
     "text": [
      "Cuál es la velocidad de una golondrina?\n",
      "75\n"
     ]
    },
    {
     "data": {
      "text/plain": [
       "80"
      ]
     },
     "execution_count": 29,
     "metadata": {},
     "output_type": "execute_result"
    }
   ],
   "source": [
    "prompt = 'Cuál es la velocidad de una golondrina?\\n'\n",
    "velocidad = input(prompt)\n",
    "int(velocidad)\n",
    "int(velocidad) + 5"
   ]
  },
  {
   "cell_type": "markdown",
   "metadata": {},
   "source": [
    "Veremos cómo manejar este tipo de error más adelante."
   ]
  },
  {
   "cell_type": "markdown",
   "metadata": {},
   "source": [
    "## Comentarios\n",
    "\n",
    "A medida que los programas crecen y se vuelven más complicados, se vuelven más difíciles de leer. Los lenguajes formales son densos, y a menudo es difícil mirar un fragmento de código y descubrir qué está haciendo o por qué.\n",
    "\n",
    "Por esta razón, es una buena idea agregar notas a sus programas para explicar en lenguaje natural lo que está haciendo el programa. Estas notas se llaman comentarios, y en Python comienzan con el símbolo #:"
   ]
  },
  {
   "cell_type": "code",
   "execution_count": 30,
   "metadata": {},
   "outputs": [],
   "source": [
    "# calcular el porcentaje de horas que han transcurrido\n",
    "porcentaje = (minuto * 100) / 60"
   ]
  },
  {
   "cell_type": "markdown",
   "metadata": {},
   "source": [
    "En este caso, el comentario aparece solo en una línea. También puedes poner comentarios al final de una línea:"
   ]
  },
  {
   "cell_type": "code",
   "execution_count": 31,
   "metadata": {},
   "outputs": [],
   "source": [
    "porcentaje = (minuto * 100) / 60 # porcentaje de una hora"
   ]
  },
  {
   "cell_type": "markdown",
   "metadata": {},
   "source": [
    "Todo lo que esta después de # hasta el final de la línea se ignora; no tiene ningún efecto en el programa.\n",
    "\n",
    "Los comentarios son más útiles cuando documentan características no obvias del código. Es razonable suponer que el lector puede descubrir qué hace el código; es mucho más útil explicar por qué.\n",
    "\n",
    "Este comentario es redundante con el código e inútil:"
   ]
  },
  {
   "cell_type": "code",
   "execution_count": 32,
   "metadata": {},
   "outputs": [],
   "source": [
    "v = 5 # asigna 5 a v"
   ]
  },
  {
   "cell_type": "markdown",
   "metadata": {},
   "source": [
    "Este comentario contiene información útil que no está en el código:"
   ]
  },
  {
   "cell_type": "code",
   "execution_count": 33,
   "metadata": {},
   "outputs": [],
   "source": [
    "v = 5 # velocidad en metros/segundos."
   ]
  },
  {
   "cell_type": "markdown",
   "metadata": {},
   "source": [
    "Los buenos nombres de variables pueden reducir la necesidad de comentarios, pero los nombres largos pueden hacer que las expresiones complejas sean difíciles de leer, por lo que hay una solución de compromiso."
   ]
  },
  {
   "cell_type": "markdown",
   "metadata": {},
   "source": [
    "## Elegir nombres de variables mnemotécnicas\n",
    "\n",
    "Siempre que siga las reglas simples de nomenclatura en las variables y evite las palabras reservadas, tendrá muchas opciones cuando nombre sus variables. Al principio, esta elección puede ser confusa tanto cuando lee un programa como cuando escribe sus propios programas. Por ejemplo, los siguientes tres programas son idénticos en términos de lo que logran, pero muy diferentes cuando los lee y trata de comprenderlos."
   ]
  },
  {
   "cell_type": "code",
   "execution_count": 34,
   "metadata": {},
   "outputs": [
    {
     "name": "stdout",
     "output_type": "stream",
     "text": [
      "437.5\n"
     ]
    }
   ],
   "source": [
    "a = 35.0\n",
    "b = 12.50\n",
    "c = a * b\n",
    "print(c)"
   ]
  },
  {
   "cell_type": "code",
   "execution_count": 35,
   "metadata": {},
   "outputs": [
    {
     "name": "stdout",
     "output_type": "stream",
     "text": [
      "437.5\n"
     ]
    }
   ],
   "source": [
    "horas = 35.0\n",
    "tarifa = 12.50\n",
    "pago = horas * tarifa\n",
    "print(pago)"
   ]
  },
  {
   "cell_type": "code",
   "execution_count": 36,
   "metadata": {},
   "outputs": [
    {
     "name": "stdout",
     "output_type": "stream",
     "text": [
      "437.5\n"
     ]
    }
   ],
   "source": [
    "x1q3z9ahd = 35.0\n",
    "x1q3z9afd = 12.50\n",
    "x1q3p9afd = x1q3z9ahd * x1q3z9afd\n",
    "print(x1q3p9afd)"
   ]
  },
  {
   "cell_type": "markdown",
   "metadata": {},
   "source": [
    "El intérprete de Python considera que estos tres programas son exactamente iguales, pero los humanos ven y entienden estos programas de manera bastante diferente. Los humanos comprenderán más rápidamente la intención del segundo programa porque el programador ha elegido nombres de variables que reflejan su intención con respecto a qué datos se almacenarán en cada variable.\n",
    "\n",
    "Llamamos a estos nombres de variables sabiamente elegidos \"nombres de variables mnemotécnicas\". La palabra mnemónico significa \"ayuda con la memoria\". Elegimos nombres de variables mnemotécnicas para ayudarnos a recordar por qué creamos la variable en primer lugar.\n",
    "\n",
    "Aunque todo esto suena muy bien, y es una muy buena idea usar nombres de variables mnemotécnicos, los nombres de variables mnemotécnicos pueden interferir en la capacidad de un programador principiante de analizar y comprender el código. Esto se debe a que los programadores principiantes aún no han memorizado las palabras reservadas (solo hay 33) y algunas veces las variables con nombres que son demasiado descriptivos comienzan a parecerse a una parte del lenguaje y no solo a nombres de variables bien elegidos.\n",
    "\n",
    "Eche un vistazo rápido al siguiente código de ejemplo de Python que recorre algunos datos. Pronto cubriremos los bucles, pero por ahora trataremos de descifrar lo que esto significa:"
   ]
  },
  {
   "cell_type": "code",
   "execution_count": 37,
   "metadata": {},
   "outputs": [
    {
     "name": "stdout",
     "output_type": "stream",
     "text": [
      "Yo\n",
      "voy\n",
      "a\n",
      "aprender\n",
      "Python\n"
     ]
    }
   ],
   "source": [
    "palabras = ['Yo','voy','a','aprender','Python']\n",
    "for palabra in palabras:\n",
    "    print(palabra)"
   ]
  },
  {
   "cell_type": "markdown",
   "metadata": {},
   "source": [
    "¿Qué está sucediendo aquí? ¿Cuáles de los tokens (*for*, palabra, *in*, etc.) son palabras reservadas y cuáles son solo nombres de variables? ¿Python entiende en un nivel fundamental la noción de palabras? Los programadores principiantes tienen problemas para separar qué partes del código deben ser iguales a este ejemplo y qué partes del código son simplemente elecciones hechas por el programador.\n",
    "\n",
    "El siguiente código es equivalente al código anterior:"
   ]
  },
  {
   "cell_type": "code",
   "execution_count": 38,
   "metadata": {},
   "outputs": [
    {
     "name": "stdout",
     "output_type": "stream",
     "text": [
      "rebanada1\n",
      "rebanada2\n",
      "rebanada3\n",
      "rebanada4\n"
     ]
    }
   ],
   "source": [
    "pizza = ['rebanada1','rebanada2','rebanada3','rebanada4']\n",
    "for rebanada in pizza:\n",
    "    print(rebanada)"
   ]
  },
  {
   "cell_type": "markdown",
   "metadata": {},
   "source": [
    "Es más fácil para el programador principiante mirar este código y saber qué partes son palabras reservadas definidas por Python y qué partes son simplemente nombres variables elegidos por el programador. Es bastante claro que Python no tiene una comprensión fundamental de la pizza y las rodajas y el hecho de que una pizza consiste en un conjunto de una o más rebanadas.\n",
    "\n",
    "Pero si nuestro programa es realmente acerca de leer datos y buscar palabras en los datos, *pizza* y *rebanada* son nombres de variables muy poco nemotécnicos. Elegirlos como nombres variables distrae del significado del programa.\n",
    "\n",
    "Después de un período de tiempo bastante corto, sabrá las palabras reservadas más comunes y comenzará a ver las palabras reservadas saltando hacia usted:\n",
    "\n",
    "<pre><code><b>for</b> palabra <b>in</b> palabras<b>:</b>\n",
    "    <b>print</b>(palabra)\n",
    "</code></pre>\n",
    "\n",
    "Las partes del código que se definen por Python (for, in, print, y :) están en negrita y las variables elegidas por el programador (*palabra* y *palabras*) no están en negrita. Muchos editores de texto conocen la sintaxis de Python y colorearán las palabras reservadas de manera diferente para darte pistas para mantener separadas tus variables y palabras reservadas. Después de un tiempo, comenzará a leer Python y determinar rápidamente qué es una variable y qué es una palabra reservada."
   ]
  },
  {
   "cell_type": "markdown",
   "metadata": {},
   "source": [
    "## Depuración\n",
    "\n",
    "En este punto, el error de sintaxis que tienen más probabilidades de hacer es un nombre de variable ilegal, como *class* y *yield*, que son palabras clave, o odd~job y US$, que contienen caracteres no válidos.\n",
    "Si pone un espacio en un nombre de variable, Python piensa que son dos operandos sin un operador:"
   ]
  },
  {
   "cell_type": "code",
   "execution_count": 39,
   "metadata": {},
   "outputs": [
    {
     "ename": "SyntaxError",
     "evalue": "invalid syntax (<ipython-input-39-44564c6bebed>, line 1)",
     "output_type": "error",
     "traceback": [
      "\u001b[1;36m  File \u001b[1;32m\"<ipython-input-39-44564c6bebed>\"\u001b[1;36m, line \u001b[1;32m1\u001b[0m\n\u001b[1;33m    mal nombre = 5\u001b[0m\n\u001b[1;37m             ^\u001b[0m\n\u001b[1;31mSyntaxError\u001b[0m\u001b[1;31m:\u001b[0m invalid syntax\n"
     ]
    }
   ],
   "source": [
    "mal nombre = 5"
   ]
  },
  {
   "cell_type": "code",
   "execution_count": 40,
   "metadata": {},
   "outputs": [
    {
     "ename": "SyntaxError",
     "evalue": "invalid token (<ipython-input-40-a9ab09a355cb>, line 1)",
     "output_type": "error",
     "traceback": [
      "\u001b[1;36m  File \u001b[1;32m\"<ipython-input-40-a9ab09a355cb>\"\u001b[1;36m, line \u001b[1;32m1\u001b[0m\n\u001b[1;33m    mes = 09\u001b[0m\n\u001b[1;37m           ^\u001b[0m\n\u001b[1;31mSyntaxError\u001b[0m\u001b[1;31m:\u001b[0m invalid token\n"
     ]
    }
   ],
   "source": [
    "mes = 09"
   ]
  },
  {
   "cell_type": "markdown",
   "metadata": {},
   "source": [
    "Para los errores de sintaxis, los mensajes de error no ayudan mucho. Los mensajes más comunes son\n",
    "\n",
    "    SyntaxError: invalid syntax \n",
    "\n",
    "y \n",
    "\n",
    "    SyntaxError: invalid token\n",
    "\n",
    "ninguno de los cuales es muy informativo.\n",
    "\n",
    "El error de tiempo de ejecución que es más probable que suceda es un \"uso antes de la definición\"; es decir, tratando de usar una variable antes de haber asignado un valor. Esto puede suceder si escribes mal el nombre de una variable:"
   ]
  },
  {
   "cell_type": "code",
   "execution_count": 41,
   "metadata": {},
   "outputs": [
    {
     "ename": "NameError",
     "evalue": "name 'principl' is not defined",
     "output_type": "error",
     "traceback": [
      "\u001b[1;31m---------------------------------------------------------------------------\u001b[0m",
      "\u001b[1;31mNameError\u001b[0m                                 Traceback (most recent call last)",
      "\u001b[1;32m<ipython-input-41-f6770b18798d>\u001b[0m in \u001b[0;36m<module>\u001b[1;34m\u001b[0m\n\u001b[0;32m      1\u001b[0m \u001b[0mprincipal\u001b[0m \u001b[1;33m=\u001b[0m \u001b[1;36m327.68\u001b[0m\u001b[1;33m\u001b[0m\u001b[1;33m\u001b[0m\u001b[0m\n\u001b[1;32m----> 2\u001b[1;33m \u001b[0mintereses\u001b[0m \u001b[1;33m=\u001b[0m \u001b[0mprincipl\u001b[0m \u001b[1;33m*\u001b[0m \u001b[0mtarifa\u001b[0m\u001b[1;33m\u001b[0m\u001b[1;33m\u001b[0m\u001b[0m\n\u001b[0m",
      "\u001b[1;31mNameError\u001b[0m: name 'principl' is not defined"
     ]
    }
   ],
   "source": [
    "principal = 327.68\n",
    "intereses = principl * tarifa"
   ]
  },
  {
   "cell_type": "markdown",
   "metadata": {},
   "source": [
    "Los nombres de las variables son sensibles a las mayúsculas y minúsculas, por lo que LaTeX no es lo mismo que latex.\n",
    "\n",
    "En este punto, la causa más probable de un error semántico es el orden de las operaciones. Por ejemplo, para evaluar de 1/2 π , que podría estar tentado a escribir"
   ]
  },
  {
   "cell_type": "code",
   "execution_count": 42,
   "metadata": {},
   "outputs": [
    {
     "data": {
      "text/plain": [
       "1.5707963267948966"
      ]
     },
     "execution_count": 42,
     "metadata": {},
     "output_type": "execute_result"
    }
   ],
   "source": [
    "1.0 / 2.0 * pi"
   ]
  },
  {
   "cell_type": "markdown",
   "metadata": {},
   "source": [
    "Pero la división ocurre primero, por lo que obtendrías π / 2 , ¡que no es lo mismo! No hay forma de que Python sepa lo que quería escribir, por lo que en este caso no obtendrá un mensaje de error; simplemente recibes la respuesta incorrecta"
   ]
  },
  {
   "cell_type": "markdown",
   "metadata": {},
   "source": [
    "## Glosario\n",
    "\n",
    "* **asignación:** Una declaración que asigna un valor a una variable.\n",
    "* **concatenar:** Para unir dos operandos de extremo a extremo.\n",
    "* **comentario:** Información en un programa que está destinado a otros programadores (o cualquier persona que lea el código fuente) y no tiene ningún efecto en la ejecución del programa.\n",
    "* **evaluar:** Simplificar una expresión realizando las operaciones para producir un solo valor.\n",
    "* **expresión:** Una combinación de variables, operadores y valores que representa un único valor de resultado.\n",
    "* **punto flotante (float):** Un tipo de dato que representa números con partes fraccionales.\n",
    "* **entero (int):** Un tipo de dato que representa números enteros.\n",
    "* **palabra clave:** Una palabra reservada que el compilador usa para analizar un programa; no se puede utilizar como palabras clave if, def y while como nombres de variables.\n",
    "* **mnemotécnico:** Una ayuda de memoria. A menudo damos nombres mnemotécnicos de variables para ayudarnos a recordar qué se almacena en la variable.\n",
    "* **operador de módulo:** Un operador denotado con un signo de porcentaje (%), que trabaja en enteros y cede el resto cuando un número se divide por otro.\n",
    "* **operando:** Uno de los valores en los que opera un operador.\n",
    "* **operador:** Un símbolo especial que representa un cálculo simple como adición, multiplicación o\n",
    "concatenación de cadenas.\n",
    "* **reglas de precedencia:** El conjunto de reglas que rige el orden en que se evalúan las expresiones que involucran operadores múltiples y operandos.\n",
    "* **declaración:** Una sección de código que representa un comando o acción. Hasta el momento, las declaraciones que hemos visto son asignaciones y declaración de expresión de impresión.\n",
    "* **string (str):** Un tipo de dato que representa secuencias de caracteres.\n",
    "* **tipo:** Una categoría de valores. Los tipos de datos que hemos visto hasta ahora son enteros (tipo int), números de coma flotante (tipo float) y cadenas (tipo str).\n",
    "* **valor:** Una de las unidades básicas de datos, como un número o cadena, que un programa manipula.\n",
    "* **variable:** Un nombre que se refiere a un valor."
   ]
  },
  {
   "cell_type": "markdown",
   "metadata": {},
   "source": [
    "## Ejercicios\n",
    "\n",
    "**Ejercicio 1:**  escriba un programa que utilice *input* para solicitarle un nombre a un usuario y luego le da la bienvenida.\n",
    "    \n",
    "    Ingresa tu nombre: Chuck\n",
    "    Hola Chuck\n",
    "    \n",
    "**Ejercicio 2:** escriba un programa para solicitar al usuario las horas y tarifa por hora para calcular el salario bruto.\n",
    "\n",
    "    Ingresa las horas: 35\n",
    "    Ingresa la tarifa: 2.75\n",
    "    Salario bruto: 96.25\n",
    "    \n",
    "No nos preocuparemos por asegurarnos de que nuestro pago tenga exactamente dos dígitos después del decimal por ahora. Si lo desea, puede jugar con la función incorporada de Python llamada *round* para redondear adecuadamente el pago resultante a dos decimales.\n",
    "\n",
    "**Ejercicio 3:**  suponga que ejecutamos las siguientes declaraciones de asignación:\n",
    "\n",
    "    ancho = 17\n",
    "    alto = 12.0\n",
    "    \n",
    "Para cada una de las siguientes expresiones, escriba el valor de la expresión y el tipo (del valor de la expresión).\n",
    "\n",
    "1. ancho//2\n",
    "2. ancho/2.0\n",
    "3. alto/3\n",
    "4. 1 + 2\n",
    "\n",
    "Use el intérprete de Python para verificar sus respuestas.\n",
    "\n",
    "**Ejercicio 4:** escriba un programa que le solicite al usuario una temperatura en Celsius, y la convierta a Fahrenheit e imprima la temperatura convertida."
   ]
  },
  {
   "cell_type": "markdown",
   "metadata": {},
   "source": [
    "<!--NAVIGATION-->\n",
    "| [Indice](indice.ipynb) | \n",
    "\n",
    "< [Capítulo 1 - ¿Por qué deberías aprender a escribir código?](cap01.ipynb) | [Capítulo 3 - Ejecuciones condicionales](cap03.ipynb) >"
   ]
  }
 ],
 "metadata": {
  "kernelspec": {
   "display_name": "Python 3",
   "language": "python",
   "name": "python3"
  },
  "language_info": {
   "codemirror_mode": {
    "name": "ipython",
    "version": 3
   },
   "file_extension": ".py",
   "mimetype": "text/x-python",
   "name": "python",
   "nbconvert_exporter": "python",
   "pygments_lexer": "ipython3",
   "version": "3.7.3"
  },
  "varInspector": {
   "cols": {
    "lenName": 16,
    "lenType": 16,
    "lenVar": 40
   },
   "kernels_config": {
    "python": {
     "delete_cmd_postfix": "",
     "delete_cmd_prefix": "del ",
     "library": "var_list.py",
     "varRefreshCmd": "print(var_dic_list())"
    },
    "r": {
     "delete_cmd_postfix": ") ",
     "delete_cmd_prefix": "rm(",
     "library": "var_list.r",
     "varRefreshCmd": "cat(var_dic_list()) "
    }
   },
   "types_to_exclude": [
    "module",
    "function",
    "builtin_function_or_method",
    "instance",
    "_Feature"
   ],
   "window_display": false
  }
 },
 "nbformat": 4,
 "nbformat_minor": 2
}
