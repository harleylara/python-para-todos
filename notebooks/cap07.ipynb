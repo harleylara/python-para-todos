{
 "cells": [
  {
   "cell_type": "markdown",
   "metadata": {},
   "source": [
    "<!--BOOK_INFORMATION-->\n",
    "<img align=\"left\" style=\"padding-right:10px;\" src=\"./figures/cover-small.jpg\">\n",
    "\n",
    "*Este libro es una versión al español de [Python for Everybody](https://www.py4e.com/) escrito por el [Dr. Charles R. Severance](http://www.dr-chuck.com/); este contenido esta disponible en [GitHub](https://github.com/csev/py4e).*\n",
    "\n",
    "Detalles de Copyright\n",
    "\n",
    "*Copyright ~ 2009- Charles Severance.\n",
    "Este trabajo está registrado bajo una Licencia Creative Commons AttributionNonCommercial-ShareAlike 3.0 [CC BY-NC-SA](https://creativecommons.org/licenses/by-nc-sa/3.0/).*"
   ]
  },
  {
   "cell_type": "markdown",
   "metadata": {},
   "source": [
    "<!--NAVIGATION-->\n",
    "| [Indice](indice.ipynb) | \n",
    "\n",
    "< [Capítulo 6 - Cadenas](cap06.ipynb) | [Capítulo 8 - Listas](cap08.ipynb) >"
   ]
  },
  {
   "cell_type": "markdown",
   "metadata": {},
   "source": [
    "# Capítulo 7 - Archivos"
   ]
  },
  {
   "cell_type": "markdown",
   "metadata": {},
   "source": [
    "## Persistencia\n",
    "\n",
    "Hasta ahora, hemos aprendido cómo escribir programas y comunicar nuestras intenciones a la Unidad Central de Procesamiento usando la ejecución condicional, funciones e iteraciones. Hemos aprendido cómo crear y usar estructuras de datos en la memoria principal. La CPU y la memoria son el lugar donde nuestro software funciona y se ejecuta. Es donde sucede todo el \"pensamiento\".\n",
    "\n",
    "Pero si recuerda las discusiones de nuestra arquitectura de hardware, una vez que se apaga, todo lo almacenado en la CPU o en la memoria principal se borra. Hasta ahora, nuestros programas han sido ejercicios divertidos transitorios para aprender Python.\n",
    "\n",
    "![Figura 7.1](./figures/1.3.svg)\n",
    "<center><i>Figura 7.1: Arquitectura de hardware</i></center>\n",
    "\n",
    "En este capítulo, comenzamos a trabajar con la memoria secundaria (o archivos). La memoria secundaria no se borra cuando se apaga. O en el caso de una unidad flash USB, los datos que escribimos de nuestros programas se pueden eliminar del sistema y transportar a otro sistema.\n",
    "\n",
    "Nos enfocaremos principalmente en leer y escribir archivos de texto como los que creamos en un editor de texto. Más adelante veremos cómo trabajar con archivos de base de datos que son archivos binarios, diseñados específicamente para ser leídos y escritos a través de un software de base de datos."
   ]
  },
  {
   "cell_type": "markdown",
   "metadata": {},
   "source": [
    "## Abrir archivos\n",
    "\n",
    "Cuando queremos leer o escribir un archivo (por ejemplo, en su disco duro), primero debemos abrir el archivo. La apertura del archivo se comunica con su sistema operativo, que sabe dónde se almacenan los datos para cada archivo. Cuando abre un archivo, le está pidiendo al sistema operativo que encuentre el archivo por nombre y asegúrese de que el archivo exista. En este ejemplo, abrimos el archivo mbox.txt, que debe almacenarse en la misma carpeta en la que se encuentra cuando inicia Python. Puede descargar este archivo de www.py4e.com/code3/mbox.txt."
   ]
  },
  {
   "cell_type": "code",
   "execution_count": 1,
   "metadata": {},
   "outputs": [
    {
     "name": "stdout",
     "output_type": "stream",
     "text": [
      "<_io.TextIOWrapper name='./codes/mbox.txt' mode='r' encoding='cp1252'>\n"
     ]
    }
   ],
   "source": [
    "fhand = open('./codes/mbox.txt')\n",
    "print(fhand)"
   ]
  },
  {
   "cell_type": "markdown",
   "metadata": {},
   "source": [
    "Si open tiene éxito, el sistema operativo nos devuelve un identificador de archivo. El identificador de archivo no es la información real contenida en el archivo, sino que es un \"identificador\" que podemos usar para leer los datos. Se le proporciona un identificador si el archivo solicitado existe y usted tiene los permisos adecuados para leer el archivo.\n",
    "\n",
    "![Figura 7.2](./figures/7.2.svg)\n",
    "<center><i>Figura 7.2: Un manejador de archivos.</i></center>\n",
    "\n",
    "Si el archivo no existe, se producirá un error con una trazabilidad y no obtendrá un identificador para acceder al contenido del archivo:"
   ]
  },
  {
   "cell_type": "code",
   "execution_count": 2,
   "metadata": {},
   "outputs": [
    {
     "ename": "FileNotFoundError",
     "evalue": "[Errno 2] No such file or directory: 'stuff.txt'",
     "output_type": "error",
     "traceback": [
      "\u001b[1;31m---------------------------------------------------------------------------\u001b[0m",
      "\u001b[1;31mFileNotFoundError\u001b[0m                         Traceback (most recent call last)",
      "\u001b[1;32m<ipython-input-2-4bba6e616446>\u001b[0m in \u001b[0;36m<module>\u001b[1;34m\u001b[0m\n\u001b[1;32m----> 1\u001b[1;33m \u001b[0mfhand\u001b[0m \u001b[1;33m=\u001b[0m \u001b[0mopen\u001b[0m\u001b[1;33m(\u001b[0m\u001b[1;34m'stuff.txt'\u001b[0m\u001b[1;33m)\u001b[0m\u001b[1;33m\u001b[0m\u001b[1;33m\u001b[0m\u001b[0m\n\u001b[0m",
      "\u001b[1;31mFileNotFoundError\u001b[0m: [Errno 2] No such file or directory: 'stuff.txt'"
     ]
    }
   ],
   "source": [
    "fhand = open('stuff.txt')"
   ]
  },
  {
   "cell_type": "markdown",
   "metadata": {},
   "source": [
    "Más adelante utilizaremos `try` y `except`, trataremos con más gracia la situación en la que intentamos abrir un archivo que no existe."
   ]
  },
  {
   "cell_type": "markdown",
   "metadata": {},
   "source": [
    "## Archivos de texto y líneas\n",
    "\n",
    "Un archivo de texto se puede considerar como una secuencia de líneas, al igual que una secuencia de Python se puede considerar como una secuencia de caracteres. Por ejemplo, esta es una muestra de un archivo de texto que registra la actividad de correos de varias personas en un equipo de desarrollo de proyectos de código abierto:\n",
    "\n",
    "    From stephen.marquard@uct.ac.za Sat Jan 5 09:14:16 2008\n",
    "    Return-Path: <postmaster@collab.sakaiproject.org>\n",
    "    Date: Sat, 5 Jan 2008 09:12:18 -0500\n",
    "    To: source@collab.sakaiproject.org\n",
    "    From: stephen.marquard@uct.ac.za\n",
    "    Subject: [sakai] svn commit: r39772 - content/branches/\n",
    "    Details: http://source.sakaiproject.org/viewsvn/?view=rev&rev=39772\n",
    "    ...\n",
    "\n",
    "El archivo completo de interacciones de correo está disponible en www.py4e.com/code3/mbox.txt y una versión abreviada del archivo está disponible en www.py4e.com/code3/mbox-short.txt.\n",
    "\n",
    "Estos archivos están en un formato estándar para un archivo que contiene varios mensajes de correo. Las líneas que comienzan con \"From\" separan los mensajes y las líneas que comienzan con \"From:\" forman parte de los mensajes. Para obtener más información sobre el formato mbox, consulte [Wikipedia en Ingles](en.wikipedia.org/wiki/Mbox) o [Wikipedia en Español](https://es.wikipedia.org/wiki/Mbox).\n",
    "\n",
    "Para dividir el archivo en líneas, hay un carácter especial que representa el \"final de la línea\" llamado el carácter de nueva línea.\n",
    "\n",
    "En Python, representamos el carácter de nueva línea como una barra invertida-n `\\n` en las constantes de cadena. Aunque parece dos personajes, en realidad es un solo personaje. Cuando miramos la variable ingresando \"cosas\" en el intérprete, nos muestra el `\\n` en la cadena, pero cuando utilizamos `print` para mostrar la cadena, vemos la cadena dividida en dos líneas por el carácter de nueva línea."
   ]
  },
  {
   "cell_type": "code",
   "execution_count": 3,
   "metadata": {},
   "outputs": [
    {
     "name": "stdout",
     "output_type": "stream",
     "text": [
      "Hola\n",
      "Mundo!\n"
     ]
    }
   ],
   "source": [
    "algo = 'Hola\\nMundo!'\n",
    "print(algo)"
   ]
  },
  {
   "cell_type": "code",
   "execution_count": 4,
   "metadata": {},
   "outputs": [
    {
     "name": "stdout",
     "output_type": "stream",
     "text": [
      "X\n",
      "Y\n"
     ]
    },
    {
     "data": {
      "text/plain": [
       "3"
      ]
     },
     "execution_count": 4,
     "metadata": {},
     "output_type": "execute_result"
    }
   ],
   "source": [
    "algo = 'X\\nY'\n",
    "print(algo)\n",
    "len(algo)"
   ]
  },
  {
   "cell_type": "markdown",
   "metadata": {},
   "source": [
    "También puede ver que la longitud de la cadena `X\\nY` es de tres caracteres porque el carácter de nueva línea es un solo carácter.\n",
    "\n",
    "Entonces, cuando miramos las líneas en un archivo, necesitamos imaginar que hay un personaje invisible especial llamado nueva línea al final de cada línea que marca el final de la línea.\n",
    "\n",
    "Entonces, el carácter de nueva línea separa los caracteres en el archivo en líneas."
   ]
  },
  {
   "cell_type": "markdown",
   "metadata": {},
   "source": [
    "##  Leyendo archivos\n",
    "\n",
    "Si bien el identificador de archivo no contiene los datos del archivo, es bastante fácil construir un ciclo `for` para leer y contar cada una de las líneas en un archivo:"
   ]
  },
  {
   "cell_type": "code",
   "execution_count": 5,
   "metadata": {},
   "outputs": [
    {
     "name": "stdout",
     "output_type": "stream",
     "text": [
      "Lineas contadas: 1910\n"
     ]
    }
   ],
   "source": [
    "fhand = open('./codes/mbox-short.txt')\n",
    "conteo = 0\n",
    "for linea in fhand:\n",
    "    conteo = conteo + 1\n",
    "print('Lineas contadas:', conteo)"
   ]
  },
  {
   "cell_type": "markdown",
   "metadata": {},
   "source": [
    "Podemos usar el identificador de archivo como la secuencia en nuestro ciclo `for`. Nuestro ciclo `for` simplemente cuenta el número de líneas en el archivo y las imprime. La traducción aproximada del ciclo `for` al inglés es \"para cada línea en el archivo representado por el identificador del archivo, agregue uno a la variable `conteo`\".\n",
    "\n",
    "La razón por la cual la función `open` no lee el archivo completo es porque el archivo puede ser bastante grande con muchos gigabytes de datos. La instrucción `open` toma la misma cantidad de tiempo,  independientemente del tamaño del archivo. El bucle `for` hace que los datos se lean del archivo.\n",
    "\n",
    "Cuando el archivo se lee usando un bucle `for` de esta manera, Python se encarga de dividir los datos en el archivo en líneas separadas utilizando el carácter de nueva línea. Python lee cada línea a través de la nueva línea e incluye la nueva línea como el último carácter en la variable `linea` para cada iteración del ciclo `for`.\n",
    "\n",
    "Debido a que el bucle `for` lee los datos una línea a la vez, puede leer y contar las líneas de manera eficiente en archivos muy grandes sin quedarse sin memoria principal para almacenar los datos. El programa anterior puede contar las líneas en cualquier archivo de tamaño usando muy poca memoria ya que cada línea se lee, se cuenta y luego se descarta.\n",
    "\n",
    "Si sabe que el archivo es relativamente pequeño en comparación con el tamaño de su memoria principal, puede leer todo el archivo en una cadena usando el método `read` en el manejador de archivo."
   ]
  },
  {
   "cell_type": "code",
   "execution_count": 6,
   "metadata": {},
   "outputs": [
    {
     "name": "stdout",
     "output_type": "stream",
     "text": [
      "94626\n",
      "From stephen.marquar\n"
     ]
    }
   ],
   "source": [
    "fhand = open('./codes/mbox-short.txt')\n",
    "inp = fhand.read()\n",
    "print(len(inp))\n",
    "print(inp[:20])"
   ]
  },
  {
   "cell_type": "markdown",
   "metadata": {},
   "source": [
    "En este ejemplo, los contenidos completos (todos los 94,626 caracteres) del archivo mbox-short.txt se leen directamente en la variable `inp`. Usamos el corte de cadena para imprimir los primeros 20 caracteres de los datos de cadena almacenados en `inp`.\n",
    "\n",
    "Cuando el archivo se lee de esta manera, todos los caracteres, incluidas todas las líneas y los caracteres de nueva línea, son una cadena grande en la variable `inp`. Recuerde que esta forma de la función `open` solo debe usarse si los datos del archivo se ajustarán cómodamente en la memoria principal de su computadora.\n",
    "\n",
    "Si el archivo es demasiado grande para caber en la memoria principal, debe escribir su programa para leer el archivo en fragmentos utilizando un `for` o un bucle `while`.\n"
   ]
  },
  {
   "cell_type": "markdown",
   "metadata": {},
   "source": [
    "## Buscando a través de un archivo\n",
    "\n",
    "Cuando busca datos en un archivo, es un patrón muy común leer un archivo, ignorando la mayoría de las líneas y solo las líneas de procesamiento que cumplen una condición particular. Podemos combinar el patrón para leer un archivo con métodos de cadena para crear mecanismos simples de búsqueda.\n",
    "\n",
    "Por ejemplo, si quisiéramos leer un archivo y solo imprimir líneas que comenzaran con el prefijo \"From:\", podríamos usar el método de cadena `startswith` para seleccionar solo aquellas líneas con el prefijo deseado:"
   ]
  },
  {
   "cell_type": "code",
   "execution_count": 7,
   "metadata": {
    "scrolled": true
   },
   "outputs": [
    {
     "name": "stdout",
     "output_type": "stream",
     "text": [
      "From: stephen.marquard@uct.ac.za\n",
      "\n",
      "From: louis@media.berkeley.edu\n",
      "\n",
      "From: zqian@umich.edu\n",
      "\n",
      "From: rjlowe@iupui.edu\n",
      "\n",
      "From: zqian@umich.edu\n",
      "\n",
      "From: rjlowe@iupui.edu\n",
      "\n",
      "From: cwen@iupui.edu\n",
      "\n",
      "From: cwen@iupui.edu\n",
      "\n",
      "From: gsilver@umich.edu\n",
      "\n",
      "From: gsilver@umich.edu\n",
      "\n",
      "From: zqian@umich.edu\n",
      "\n",
      "From: gsilver@umich.edu\n",
      "\n",
      "From: wagnermr@iupui.edu\n",
      "\n",
      "From: zqian@umich.edu\n",
      "\n",
      "From: antranig@caret.cam.ac.uk\n",
      "\n",
      "From: gopal.ramasammycook@gmail.com\n",
      "\n",
      "From: david.horwitz@uct.ac.za\n",
      "\n",
      "From: david.horwitz@uct.ac.za\n",
      "\n",
      "From: david.horwitz@uct.ac.za\n",
      "\n",
      "From: david.horwitz@uct.ac.za\n",
      "\n",
      "From: stephen.marquard@uct.ac.za\n",
      "\n",
      "From: louis@media.berkeley.edu\n",
      "\n",
      "From: louis@media.berkeley.edu\n",
      "\n",
      "From: ray@media.berkeley.edu\n",
      "\n",
      "From: cwen@iupui.edu\n",
      "\n",
      "From: cwen@iupui.edu\n",
      "\n",
      "From: cwen@iupui.edu\n",
      "\n"
     ]
    }
   ],
   "source": [
    "fhand = open('./codes/mbox-short.txt')\n",
    "conteo = 0\n",
    "for linea in fhand:\n",
    "    if linea.startswith('From:'):\n",
    "        print(linea)"
   ]
  },
  {
   "cell_type": "markdown",
   "metadata": {},
   "source": [
    "La salida se ve muy bien ya que las únicas líneas que estamos viendo son las que comienzan con \"From:\", pero ¿por qué estamos viendo las líneas en blanco adicionales? Esto se debe a ese personaje de nueva línea invisible. Cada una de las líneas termina con una línea nueva, por lo que la instrucción `print` imprime la cadena en la línea variable que incluye una nueva línea y luego `print` agrega otra línea nueva, lo que da como resultado el doble espacio que vemos.\n",
    "\n",
    "Podríamos usar el corte de líneas para imprimir todo menos el último carácter, pero un enfoque más simple es usar el método `rstrip` que elimina los espacios en blanco del lado derecho de una cadena de la siguiente manera:"
   ]
  },
  {
   "cell_type": "code",
   "execution_count": 8,
   "metadata": {
    "scrolled": true
   },
   "outputs": [
    {
     "name": "stdout",
     "output_type": "stream",
     "text": [
      "From: stephen.marquard@uct.ac.za\n",
      "From: louis@media.berkeley.edu\n",
      "From: zqian@umich.edu\n",
      "From: rjlowe@iupui.edu\n",
      "From: zqian@umich.edu\n",
      "From: rjlowe@iupui.edu\n",
      "From: cwen@iupui.edu\n",
      "From: cwen@iupui.edu\n",
      "From: gsilver@umich.edu\n",
      "From: gsilver@umich.edu\n",
      "From: zqian@umich.edu\n",
      "From: gsilver@umich.edu\n",
      "From: wagnermr@iupui.edu\n",
      "From: zqian@umich.edu\n",
      "From: antranig@caret.cam.ac.uk\n",
      "From: gopal.ramasammycook@gmail.com\n",
      "From: david.horwitz@uct.ac.za\n",
      "From: david.horwitz@uct.ac.za\n",
      "From: david.horwitz@uct.ac.za\n",
      "From: david.horwitz@uct.ac.za\n",
      "From: stephen.marquard@uct.ac.za\n",
      "From: louis@media.berkeley.edu\n",
      "From: louis@media.berkeley.edu\n",
      "From: ray@media.berkeley.edu\n",
      "From: cwen@iupui.edu\n",
      "From: cwen@iupui.edu\n",
      "From: cwen@iupui.edu\n"
     ]
    }
   ],
   "source": [
    "fhand = open('./codes/mbox-short.txt')\n",
    "for linea in fhand:\n",
    "    linea = linea.rstrip()\n",
    "    if linea.startswith('From:'):\n",
    "        print(linea)"
   ]
  },
  {
   "cell_type": "markdown",
   "metadata": {},
   "source": [
    "A medida que sus programas de procesamiento de archivos se vuelven más complicados, puede estructurar sus bucles de búsqueda utilizando `continue`. La idea básica del ciclo de búsqueda es que está buscando líneas \"interesantes\" y omitiendo líneas \"sin interés\". Y luego, cuando encontramos una línea interesante, hacemos algo con esa línea.\n",
    "\n",
    "Podemos estructurar el ciclo para seguir el patrón de saltear líneas sin interés de la siguiente manera:"
   ]
  },
  {
   "cell_type": "code",
   "execution_count": 9,
   "metadata": {
    "scrolled": true
   },
   "outputs": [
    {
     "name": "stdout",
     "output_type": "stream",
     "text": [
      "From: stephen.marquard@uct.ac.za\n",
      "From: louis@media.berkeley.edu\n",
      "From: zqian@umich.edu\n",
      "From: rjlowe@iupui.edu\n",
      "From: zqian@umich.edu\n",
      "From: rjlowe@iupui.edu\n",
      "From: cwen@iupui.edu\n",
      "From: cwen@iupui.edu\n",
      "From: gsilver@umich.edu\n",
      "From: gsilver@umich.edu\n",
      "From: zqian@umich.edu\n",
      "From: gsilver@umich.edu\n",
      "From: wagnermr@iupui.edu\n",
      "From: zqian@umich.edu\n",
      "From: antranig@caret.cam.ac.uk\n",
      "From: gopal.ramasammycook@gmail.com\n",
      "From: david.horwitz@uct.ac.za\n",
      "From: david.horwitz@uct.ac.za\n",
      "From: david.horwitz@uct.ac.za\n",
      "From: david.horwitz@uct.ac.za\n",
      "From: stephen.marquard@uct.ac.za\n",
      "From: louis@media.berkeley.edu\n",
      "From: louis@media.berkeley.edu\n",
      "From: ray@media.berkeley.edu\n",
      "From: cwen@iupui.edu\n",
      "From: cwen@iupui.edu\n",
      "From: cwen@iupui.edu\n"
     ]
    }
   ],
   "source": [
    "fhand = open('./codes/mbox-short.txt')\n",
    "for linea in fhand:\n",
    "    linea = linea.rstrip()\n",
    "     # Omitir lineas no interesantes\n",
    "    if not linea.startswith('From:'):\n",
    "         continue\n",
    "     # proceso para nuestras lineas interesantes\n",
    "    print(linea)"
   ]
  },
  {
   "cell_type": "markdown",
   "metadata": {},
   "source": [
    "La salida del programa es la misma. En inglés, las líneas que no interesan son aquellas que no comienzan con \"From:\", que nos salteamos el uso `continue`. Para las líneas \"interesantes\" (es decir, aquellas que comienzan con \"From:\"), realizamos el procesamiento en esas líneas.\n",
    "\n",
    "Podemos utilizar el método `find` de cadena para simular una búsqueda de editor de texto que encuentre líneas donde la cadena de búsqueda está en cualquier lugar de la línea. Como busca `find` una ocurrencia de una cadena dentro de otra cadena y devuelve la posición de la cadena o `-1` si la cadena no se encontró, podemos escribir el siguiente ciclo para mostrar las líneas que contienen la cadena ` @ uct.ac.za ` (es decir, provienen de la Universidad de Ciudad del Cabo en Sudáfrica):"
   ]
  },
  {
   "cell_type": "code",
   "execution_count": 10,
   "metadata": {
    "scrolled": true
   },
   "outputs": [
    {
     "name": "stdout",
     "output_type": "stream",
     "text": [
      "From stephen.marquard@uct.ac.za Sat Jan  5 09:14:16 2008\n",
      "X-Authentication-Warning: nakamura.uits.iupui.edu: apache set sender to stephen.marquard@uct.ac.za using -f\n",
      "From: stephen.marquard@uct.ac.za\n",
      "Author: stephen.marquard@uct.ac.za\n",
      "From david.horwitz@uct.ac.za Fri Jan  4 07:02:32 2008\n",
      "X-Authentication-Warning: nakamura.uits.iupui.edu: apache set sender to david.horwitz@uct.ac.za using -f\n",
      "From: david.horwitz@uct.ac.za\n",
      "Author: david.horwitz@uct.ac.za\n",
      "r39753 | david.horwitz@uct.ac.za | 2008-01-04 13:05:51 +0200 (Fri, 04 Jan 2008) | 1 line\n",
      "From david.horwitz@uct.ac.za Fri Jan  4 06:08:27 2008\n",
      "X-Authentication-Warning: nakamura.uits.iupui.edu: apache set sender to david.horwitz@uct.ac.za using -f\n",
      "From: david.horwitz@uct.ac.za\n",
      "Author: david.horwitz@uct.ac.za\n",
      "From david.horwitz@uct.ac.za Fri Jan  4 04:49:08 2008\n",
      "X-Authentication-Warning: nakamura.uits.iupui.edu: apache set sender to david.horwitz@uct.ac.za using -f\n",
      "From: david.horwitz@uct.ac.za\n",
      "Author: david.horwitz@uct.ac.za\n",
      "From david.horwitz@uct.ac.za Fri Jan  4 04:33:44 2008\n",
      "X-Authentication-Warning: nakamura.uits.iupui.edu: apache set sender to david.horwitz@uct.ac.za using -f\n",
      "From: david.horwitz@uct.ac.za\n",
      "Author: david.horwitz@uct.ac.za\n",
      "From stephen.marquard@uct.ac.za Fri Jan  4 04:07:34 2008\n",
      "X-Authentication-Warning: nakamura.uits.iupui.edu: apache set sender to stephen.marquard@uct.ac.za using -f\n",
      "From: stephen.marquard@uct.ac.za\n",
      "Author: stephen.marquard@uct.ac.za\n"
     ]
    }
   ],
   "source": [
    "fhand = open('./codes/mbox-short.txt')\n",
    "for linea in fhand:\n",
    "    linea = linea.rstrip()\n",
    "    if linea.find('@uct.ac.za') == -1: continue\n",
    "    print(linea)"
   ]
  },
  {
   "cell_type": "markdown",
   "metadata": {},
   "source": [
    "## Dejar que el usuario elija el nombre del archivo\n",
    "\n",
    "Realmente no queremos tener que editar nuestro código Python cada vez que queremos procesar un archivo\n",
    "diferente. Sería más útil pedirle al usuario que ingrese la cadena de nombre de archivo cada vez que se ejecuta el programa para que pueda usar nuestro programa en diferentes archivos sin cambiar el código de Python.\n",
    "\n",
    "Esto es bastante simple de hacer leyendo el nombre del archivo del usuario usando la función `input` de la siguiente manera:"
   ]
  },
  {
   "cell_type": "code",
   "execution_count": 11,
   "metadata": {},
   "outputs": [
    {
     "name": "stdout",
     "output_type": "stream",
     "text": [
      "Digita el nombre de Archivo: ./codes/mbox.txt\n",
      "There were 1797 subject lines in ./codes/mbox.txt\n"
     ]
    }
   ],
   "source": [
    "fname = input('Digita el nombre de Archivo: ')\n",
    "fhand = open(fname)\n",
    "conteo = 0\n",
    "for linea in fhand:\n",
    "    if linea.startswith('Subject:'):\n",
    "        conteo = conteo + 1\n",
    "print('There were', conteo, 'subject lines in', fname)"
   ]
  },
  {
   "cell_type": "markdown",
   "metadata": {},
   "source": [
    "Leemos el nombre del archivo del usuario y lo colocamos en una variable nombrada fname y abrimos ese archivo. Ahora podemos ejecutar el programa repetidamente en diferentes archivos.\n",
    "\n",
    "Antes de echar un vistazo a la siguiente sección, eche un vistazo al programa anterior y pregúntese, \"¿Qué podría salir mal aquí?\" o \"¿Qué podría hacer nuestro usuario amigable que haría que nuestro pequeño y agradable programa salga despiadadamente con error, haciendo que parezcamos no tan genial a los ojos de nuestros usuarios?\""
   ]
  },
  {
   "cell_type": "markdown",
   "metadata": {},
   "source": [
    "## Usando `try`, `except`, y `open`\n",
    "\n",
    "Te dije que no mires. Esta es tu última oportunidad.\n",
    "\n",
    "¿Qué pasa si nuestro usuario escribe algo que no es un nombre de archivo?"
   ]
  },
  {
   "cell_type": "code",
   "execution_count": 12,
   "metadata": {},
   "outputs": [
    {
     "name": "stdout",
     "output_type": "stream",
     "text": [
      "Digita el nombre de Archivo: ./codes/mbox.txt\n",
      "There were 1797 subject lines in ./codes/mbox.txt\n"
     ]
    }
   ],
   "source": [
    "fname = input('Digita el nombre de Archivo: ')\n",
    "fhand = open(fname)\n",
    "conteo = 0\n",
    "for linea in fhand:\n",
    "    if linea.startswith('Subject:'):\n",
    "        conteo = conteo + 1\n",
    "print('There were', conteo, 'subject lines in', fname)"
   ]
  },
  {
   "cell_type": "markdown",
   "metadata": {},
   "source": [
    "No te rías. Los usuarios eventualmente harán todo lo posible para romper sus programas, ya sea a propósito o con intenciones maliciosas. De hecho, una parte importante de cualquier equipo de desarrollo de software es una persona o grupo llamado *Quality Assurance* (o QA para abreviar) cuyo trabajo consiste en hacer las cosas más locas posibles en un intento de romper el software que tiene el programador.\n",
    "\n",
    "El equipo de control de calidad es responsable de encontrar las fallas en los programas antes de que hayamos entregado el programa a los usuarios finales que pueden estar comprando el software o pagando nuestro salario para escribir el software. Entonces, el equipo de control de calidad es el mejor amigo del programador.\n",
    "\n",
    "Entonces, ahora que vemos el defecto en el programa, podemos arreglarlo elegantemente usando la estructura `try` / `except`. Debemos asumir que la llamada `open` puede fallar y agregar un código de recuperación cuando open falla de la siguiente manera:"
   ]
  },
  {
   "cell_type": "code",
   "execution_count": 13,
   "metadata": {},
   "outputs": [
    {
     "name": "stdout",
     "output_type": "stream",
     "text": [
      "Digita el nombre de Archivo: ./codes/mbox.txt\n",
      "There were 1797 subject lines in ./codes/mbox.txt\n"
     ]
    }
   ],
   "source": [
    "fname = input('Digita el nombre de Archivo: ')\n",
    "try:\n",
    "    fhand = open(fname)\n",
    "except:\n",
    "    print('No se puede abrir el archivo:', fname)\n",
    "    exit()\n",
    "conteo = 0\n",
    "for linea in fhand:\n",
    "    if linea.startswith('Subject:'):\n",
    "        conteo = conteo + 1\n",
    "print('There were', conteo, 'subject lines in', fname)"
   ]
  },
  {
   "cell_type": "markdown",
   "metadata": {},
   "source": [
    "La función `exit` termina el programa. Es una función que llamamos que nunca regresa. Ahora, cuando nuestro usuario (o equipo de control de calidad) escribe tonterías o nombres de archivo incorrectos, los \"atrapamos\" y nos recuperamos con gracia.\n",
    "\n",
    "Proteger la llamada `open` es un buen ejemplo del uso apropiado de `try` y `except` en un programa de Python. Usamos el término \"Pythonic\" cuando estamos haciendo algo de la \"manera de Python\". Podríamos decir que el ejemplo anterior es la forma pitonica de abrir un archivo.\n",
    "\n",
    "Una vez que seas más habilidoso en Python, puedes participar en una conversación con otros programadores de Python para decidir cuál de las dos soluciones equivalentes a un problema es \"más Pythonic\". El objetivo de ser \"más Pythonic\" captura la idea de que la programación es parte de ingeniería y parte arte. No siempre estamos interesados en hacer que algo funcione, también queremos que nuestra solución sea elegante y que nuestros pares la aprecien como elegante."
   ]
  },
  {
   "cell_type": "markdown",
   "metadata": {},
   "source": [
    "## Escribiendo archivos\n",
    "\n",
    "Para escribir un archivo, debe abrirlo con el modo `w` como segundo parámetro:"
   ]
  },
  {
   "cell_type": "code",
   "execution_count": 14,
   "metadata": {},
   "outputs": [
    {
     "name": "stdout",
     "output_type": "stream",
     "text": [
      "<_io.TextIOWrapper name='output.txt' mode='w' encoding='cp1252'>\n"
     ]
    }
   ],
   "source": [
    "fout = open('output.txt', 'w')\n",
    "print(fout)"
   ]
  },
  {
   "cell_type": "markdown",
   "metadata": {},
   "source": [
    "Si el archivo ya existe, al abrirlo en modo de escritura borra los datos antiguos y comienza de nuevo, ¡así que tenga cuidado! Si el archivo no existe, se crea uno nuevo.\n",
    "\n",
    "El método `write` del objeto de manejo de archivo coloca datos en el archivo, devolviendo la cantidad de caracteres escritos. El modo de escritura predeterminado es texto para escribir (y leer) cadenas."
   ]
  },
  {
   "cell_type": "code",
   "execution_count": 15,
   "metadata": {},
   "outputs": [
    {
     "data": {
      "text/plain": [
       "1"
      ]
     },
     "execution_count": 15,
     "metadata": {},
     "output_type": "execute_result"
    }
   ],
   "source": [
    "linea1 = \"Esto es una linea de texto,\\n\"\n",
    "fout.write(linea)"
   ]
  },
  {
   "cell_type": "markdown",
   "metadata": {},
   "source": [
    "Una vez más, el objeto de archivo realiza un seguimiento de dónde está, por lo que si vuelve a llamar `write`, agrega los datos nuevos al final.\n",
    "\n",
    "Debemos asegurarnos de administrar los extremos de las líneas mientras escribimos en el archivo insertando explícitamente el carácter de nueva línea cuando queremos terminar una línea. La instrucción `print` agrega automáticamente una nueva línea, pero el método `write` no agrega la nueva línea automáticamente."
   ]
  },
  {
   "cell_type": "code",
   "execution_count": 16,
   "metadata": {},
   "outputs": [
    {
     "data": {
      "text/plain": [
       "20"
      ]
     },
     "execution_count": 16,
     "metadata": {},
     "output_type": "execute_result"
    }
   ],
   "source": [
    "linea2 = 'Esto es otra linea.\\n'\n",
    "fout.write(linea2)"
   ]
  },
  {
   "cell_type": "markdown",
   "metadata": {},
   "source": [
    "Cuando termine de escribir, debe cerrar el archivo para asegurarse de que el último bit de datos se haya escrito físicamente en el disco para que no se pierda si se apaga."
   ]
  },
  {
   "cell_type": "code",
   "execution_count": 17,
   "metadata": {},
   "outputs": [],
   "source": [
    "fout.close()"
   ]
  },
  {
   "cell_type": "markdown",
   "metadata": {},
   "source": [
    "Podríamos cerrar también los archivos que abrimos para su lectura, pero podemos ser un poco descuidados si solo abrimos algunos archivos, ya que Python se asegura de que todos los archivos abiertos se cierren cuando finalice el programa. Cuando estamos escribiendo archivos, queremos cerrarlos explícitamente para no dejar nada al azar."
   ]
  },
  {
   "cell_type": "markdown",
   "metadata": {},
   "source": [
    "## Depuración\n",
    "\n",
    "Cuando está leyendo y escribiendo archivos, puede tener problemas con el espacio en blanco. Estos errores pueden ser difíciles de depurar porque los espacios, las pestañas y las líneas nuevas normalmente son invisibles:"
   ]
  },
  {
   "cell_type": "code",
   "execution_count": 18,
   "metadata": {},
   "outputs": [
    {
     "name": "stdout",
     "output_type": "stream",
     "text": [
      "1 2\t 3\n",
      " 4\n"
     ]
    }
   ],
   "source": [
    "s = '1 2\\t 3\\n 4'\n",
    "print(s)"
   ]
  },
  {
   "cell_type": "markdown",
   "metadata": {},
   "source": [
    "La función incorporada `repr` puede ayudar. Toma cualquier objeto como argumento y devuelve una representación de cadena del objeto. Para cadenas, representa caracteres de espacios en blanco con secuencias de barra inclinada invertida:"
   ]
  },
  {
   "cell_type": "code",
   "execution_count": 19,
   "metadata": {},
   "outputs": [
    {
     "name": "stdout",
     "output_type": "stream",
     "text": [
      "'1 2\\t 3\\n 4'\n"
     ]
    }
   ],
   "source": [
    "print(repr(s))"
   ]
  },
  {
   "cell_type": "markdown",
   "metadata": {},
   "source": [
    "Esto puede ser útil para la depuración.\n",
    "\n",
    "Otro problema con el que puede encontrarse es que diferentes sistemas usan caracteres diferentes para indicar el final de una línea. Algunos sistemas usan una línea nueva, representada `\\n`. Otros usan un carácter de retorno, representado `\\r`. Algunos usan ambos. Si mueve archivos entre diferentes sistemas, estas incoherencias pueden causar problemas.\n",
    "\n",
    "Para la mayoría de los sistemas, hay aplicaciones para convertir de un formato a otro. Puede encontrarlos (y leer más sobre este tema) en wikipedia.org/wiki/Newline. O, por supuesto, podrías escribir uno tú mismo."
   ]
  },
  {
   "cell_type": "markdown",
   "metadata": {},
   "source": [
    "## Glosario\n",
    "\n",
    "* **captura:** Para evitar que una excepción termine un programa usando las instrucciones `try` y `except`.\n",
    "* **nueva línea:** Un carácter especial utilizado en archivos y cadenas para indicar el final de una línea.\n",
    "* **Pythonic:** Una técnica que funciona elegantemente en Python. \"Usar `try` y `except` es la manera pitónica de recuperar archivos perdidos\".\n",
    "* **Quality Assurance:** Una persona o equipo enfocado en asegurar la calidad general de un producto de software. QA a menudo participa en probar un producto e identificar problemas antes de que se lance el producto.\n",
    "* **archivo de texto:** Una secuencia de caracteres almacenados en un almacenamiento permanente como un disco duro."
   ]
  },
  {
   "cell_type": "markdown",
   "metadata": {},
   "source": [
    "## Ejercicios\n",
    "\n",
    "**Ejercicio 1:** escriba un programa para leer un archivo e imprima el contenido del archivo (línea por línea) todo en mayúsculas. La ejecución del programa se verá de la siguiente manera:\n",
    "\n",
    "    FROM STEPHEN.MARQUARD@UCT.AC.ZA SAT JAN 5 09:14:16 2008\n",
    "    RETURN-PATH: <POSTMASTER@COLLAB.SAKAIPROJECT.ORG>\n",
    "    RECEIVED: FROM MURDER (MAIL.UMICH.EDU [141.211.14.90])\n",
    "        BY FRANKENSTEIN.MAIL.UMICH.EDU (CYRUS V2.3.8) WITH LMTPA;\n",
    "        SAT, 05 JAN 2008 09:14:16 -0500\n",
    "    \n",
    "Puede descargar el archivo de www.py4e.com/code3/mbox-short.txt.\n",
    "\n",
    "**Ejercicio 2:** escriba un programa para solicitar un nombre de archivo y luego lea el archivo y busque las líneas del formulario:\n",
    "\n",
    "    X-DSPAM-Confidence:0.8475\n",
    "\n",
    "Cuando encuentre una línea que comience con `X-DSPAM-Confidence`, separe la línea para extraer el número de coma flotante en la línea. Cuente estas líneas y luego calcule el total de los valores de confianza de `spam` de estas líneas. Cuando llegue al final del archivo, imprima la confianza media de `spam`.\n",
    "\n",
    "    Enter the file name: mbox.txt\n",
    "    Average spam confidence: 0.894128046745\n",
    "\n",
    "    Enter the file name: mbox-short.txt\n",
    "    Average spam confidence: 0.750718518519\n",
    "\n",
    "Pon a prueba tu archivo en los archivos `mbox.txt` y `mbox-short.txt`.\n",
    "\n",
    "**Ejercicio 3:** a veces, cuando los programadores se aburren o quieren divertirse un poco, agregan un Huevo de Pascua inofensivo a su programa. Modifican el programa que solicita al usuario el nombre del archivo para que imprima un mensaje divertido cuando el usuario ingresa el nombre exacto del archivo \"na na boo boo\". El programa debería comportarse normalmente para todos los demás archivos que existen y que no existen. Aquí hay una ejecución de muestra del programa:\n",
    "\n",
    "    python egg.py\n",
    "    Enter the file name: mbox.txt\n",
    "    There were 1797 subject lines in mbox.txt\n",
    "    \n",
    "    python egg.py\n",
    "    Enter the file name: missing.tyxt\n",
    "    File cannot be opened: missing.tyxt\n",
    "    \n",
    "    python egg.py\n",
    "    Enter the file name: na na boo boo\n",
    "    NA NA BOO BOO TO YOU - You have been punk'd!\n",
    "\n",
    "No lo alentamos a que ponga Huevos de Pascua en sus programas; esto es solo un ejercicio."
   ]
  },
  {
   "cell_type": "markdown",
   "metadata": {},
   "source": [
    "<!--NAVIGATION-->\n",
    "| [Indice](indice.ipynb) | \n",
    "\n",
    "< [Capítulo 6 - Cadenas](cap06.ipynb) | [Capítulo 8 - Listas](cap08.ipynb) >"
   ]
  }
 ],
 "metadata": {
  "kernelspec": {
   "display_name": "Python 3",
   "language": "python",
   "name": "python3"
  },
  "language_info": {
   "codemirror_mode": {
    "name": "ipython",
    "version": 3
   },
   "file_extension": ".py",
   "mimetype": "text/x-python",
   "name": "python",
   "nbconvert_exporter": "python",
   "pygments_lexer": "ipython3",
   "version": "3.7.3"
  },
  "varInspector": {
   "cols": {
    "lenName": 16,
    "lenType": 16,
    "lenVar": 40
   },
   "kernels_config": {
    "python": {
     "delete_cmd_postfix": "",
     "delete_cmd_prefix": "del ",
     "library": "var_list.py",
     "varRefreshCmd": "print(var_dic_list())"
    },
    "r": {
     "delete_cmd_postfix": ") ",
     "delete_cmd_prefix": "rm(",
     "library": "var_list.r",
     "varRefreshCmd": "cat(var_dic_list()) "
    }
   },
   "types_to_exclude": [
    "module",
    "function",
    "builtin_function_or_method",
    "instance",
    "_Feature"
   ],
   "window_display": false
  }
 },
 "nbformat": 4,
 "nbformat_minor": 2
}
