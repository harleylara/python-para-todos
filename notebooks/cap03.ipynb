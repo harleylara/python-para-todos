{
 "cells": [
  {
   "cell_type": "markdown",
   "metadata": {},
   "source": [
    "<!--BOOK_INFORMATION-->\n",
    "<img align=\"left\" style=\"padding-right:10px;\" src=\"./figures/cover-small.jpg\">\n",
    "\n",
    "*Este libro es una versión al español de [Python for Everybody](https://www.py4e.com/) escrito por el [Dr. Charles R. Severance](http://www.dr-chuck.com/); este contenido esta disponible en [GitHub](https://github.com/csev/py4e).*\n",
    "\n",
    "Detalles de Copyright\n",
    "\n",
    "*Copyright ~ 2009- Charles Severance.\n",
    "Este trabajo está registrado bajo una Licencia Creative Commons AttributionNonCommercial-ShareAlike 3.0 [CC BY-NC-SA](https://creativecommons.org/licenses/by-nc-sa/3.0/).*"
   ]
  },
  {
   "cell_type": "markdown",
   "metadata": {},
   "source": [
    "<!--NAVIGATION-->\n",
    "| [Indice](indice.ipynb) | \n",
    "\n",
    "< [Capítulo 2 - Variables, expresiones y declaraciones](cap02.ipynb) | [Capítulo 4 - Funciones](cap04.ipynb) >"
   ]
  },
  {
   "cell_type": "markdown",
   "metadata": {},
   "source": [
    "# Capítulo 3 - Ejecución condicional"
   ]
  },
  {
   "cell_type": "markdown",
   "metadata": {},
   "source": [
    "## Expresiones booleanas\n",
    "\n",
    "Una expresión booleana es una expresión que es verdadera o falsa. Los siguientes ejemplos usan el operador *==*, que compara dos operandos y produce *True* si son iguales y *False* si no:"
   ]
  },
  {
   "cell_type": "code",
   "execution_count": 1,
   "metadata": {},
   "outputs": [
    {
     "data": {
      "text/plain": [
       "True"
      ]
     },
     "execution_count": 1,
     "metadata": {},
     "output_type": "execute_result"
    }
   ],
   "source": [
    "5 == 5"
   ]
  },
  {
   "cell_type": "code",
   "execution_count": 2,
   "metadata": {},
   "outputs": [
    {
     "data": {
      "text/plain": [
       "False"
      ]
     },
     "execution_count": 2,
     "metadata": {},
     "output_type": "execute_result"
    }
   ],
   "source": [
    "5 == 6"
   ]
  },
  {
   "cell_type": "markdown",
   "metadata": {},
   "source": [
    "*True* y *False* son valores especiales que pertenecen a la clase *bool*; no son cadenas"
   ]
  },
  {
   "cell_type": "code",
   "execution_count": 3,
   "metadata": {},
   "outputs": [
    {
     "data": {
      "text/plain": [
       "bool"
      ]
     },
     "execution_count": 3,
     "metadata": {},
     "output_type": "execute_result"
    }
   ],
   "source": [
    "type(True)"
   ]
  },
  {
   "cell_type": "code",
   "execution_count": 4,
   "metadata": {},
   "outputs": [
    {
     "data": {
      "text/plain": [
       "bool"
      ]
     },
     "execution_count": 4,
     "metadata": {},
     "output_type": "execute_result"
    }
   ],
   "source": [
    "type(False)"
   ]
  },
  {
   "cell_type": "markdown",
   "metadata": {},
   "source": [
    "El operador *==* es uno de los operadores de comparación; los otros son:\n",
    "\n",
    "    x != y       # x no es igual a y\n",
    "    x > y        # x es mayor a y\n",
    "    x < y        # x es menor a y\n",
    "    x >= y       # x es mayor o igual a y\n",
    "    x <= y       # x es menor o igual a y\n",
    "    x is y       # x es y\n",
    "    x is not y   # x no es y\n",
    "    \n",
    "Aunque estas operaciones probablemente le resulten familiares, los símbolos de Python son diferentes de los símbolos matemáticos para las mismas operaciones. Un error común es usar un solo signo igual (=) en lugar de un signo doble igual (==). Recuerde que = es un operador de asignación y == es un operador de comparación. No existe tal cosa =< o =>."
   ]
  },
  {
   "cell_type": "markdown",
   "metadata": {},
   "source": [
    "## Operadores lógicos\n",
    "\n",
    "Hay tres operadores lógicos: and, or, y not. La semántica (significado) de estos operadores es similar a su significado en inglés. Por ejemplo,\n",
    "\n",
    "    x > 0 and x < 10\n",
    "\n",
    "es verdadero solo si x es mayor que 0 y menor que 10.\n",
    "\n",
    "    n % 2 == 0 or n % 3 == 0\n",
    "\n",
    "es ver si  cualquiera de las condiciones es verdadera, es decir, si el número es divisible entre 2 o 3.\n",
    "\n",
    "Finalmente, el operador *not* niega una expresión booleana, por lo que not *(x > y)* es verdadera si *(x > y)* es falsa; es decir, si *x* es menor o igual a *y*.\n",
    "\n",
    "Estrictamente hablando, los operandos de los operadores lógicos deben ser expresiones booleanas, pero Python no es muy estricto. Cualquier número distinto de cero se interpreto como \"verdadero\"."
   ]
  },
  {
   "cell_type": "code",
   "execution_count": 5,
   "metadata": {},
   "outputs": [
    {
     "data": {
      "text/plain": [
       "True"
      ]
     },
     "execution_count": 5,
     "metadata": {},
     "output_type": "execute_result"
    }
   ],
   "source": [
    "17 and True"
   ]
  },
  {
   "cell_type": "markdown",
   "metadata": {},
   "source": [
    "Esta flexibilidad puede ser útil, pero hay algunas sutilezas que pueden ser confusas. Es posible que desee evitarlo hasta que esté seguro de que sabe lo que está haciendo."
   ]
  },
  {
   "cell_type": "markdown",
   "metadata": {},
   "source": [
    "## Ejecución condicional\n",
    "\n",
    "Para escribir programas útiles, casi siempre necesitamos la capacidad de verificar las condiciones y cambiar el comportamiento del programa en consecuencia. Las declaraciones condicionales nos dan esta habilidad. La forma más simple es la declaración *if*:"
   ]
  },
  {
   "cell_type": "code",
   "execution_count": 6,
   "metadata": {},
   "outputs": [
    {
     "name": "stdout",
     "output_type": "stream",
     "text": [
      "x es positiva\n"
     ]
    }
   ],
   "source": [
    "x = 2\n",
    "if x > 0:\n",
    "    print('x es positiva')"
   ]
  },
  {
   "cell_type": "markdown",
   "metadata": {},
   "source": [
    "La expresión booleana después de la declaración *if* se llama condición. Terminamos la instrucción *if* con un carácter de dos puntos (:) y la línea después de la instrucción *if* se le aplica sangría.\n",
    "\n",
    "![Figura 3.1](./figures/3.1.svg)\n",
    "<center><i>Figura 3.1: La lógica if (si)</i></center>\n",
    "\n",
    "Si la condición lógica es verdadera, entonces la declaración con sangría se ejecuta. Si la condición lógica es falsa, la instrucción con sangría se omite.\n",
    "Las declaraciones *if* tienen la misma estructura que las definiciones de funciones o los bucles *for*. La instrucción consiste en una línea de encabezado que termina con el carácter de dos puntos (:) seguido de un bloque sangrado. Las declaraciones como esta se llaman declaraciones compuestas porque se extienden a través de más de una línea.\n",
    "\n",
    "No hay límite en la cantidad de declaraciones que pueden aparecer en el cuerpo, pero debe haber al menos una. De vez en cuando, es útil tener un cuerpo sin declaraciones (por lo general, como un marcador de posición para el código que aún no ha escrito). En ese caso, puede usar la declaración *pass*, que no hace nada."
   ]
  },
  {
   "cell_type": "code",
   "execution_count": 7,
   "metadata": {},
   "outputs": [],
   "source": [
    "if x < 0:\n",
    "    pass"
   ]
  },
  {
   "cell_type": "markdown",
   "metadata": {},
   "source": [
    "Si ingresa una declaración *if* en el intérprete de Python, el aviso cambiará de tres comillas a tres puntos para indicar que se encuentra en medio de un bloque de declaraciones, como se muestra a continuación:\n",
    "\n",
    "    >>> x = 3\n",
    "    >>> if x < 10:\n",
    "    ...     print('Menor')\n",
    "    ...\n",
    "    Menor\n",
    "    >>>"
   ]
  },
  {
   "cell_type": "markdown",
   "metadata": {},
   "source": [
    "## Ejecución alternativa\n",
    "\n",
    "Una segunda forma de la declaración *if* es la ejecución alternativa, en la que hay dos posibilidades y la condición determina cuál se ejecuta. La sintaxis se ve así:"
   ]
  },
  {
   "cell_type": "code",
   "execution_count": 8,
   "metadata": {},
   "outputs": [
    {
     "name": "stdout",
     "output_type": "stream",
     "text": [
      "x es par\n"
     ]
    }
   ],
   "source": [
    "x = 4\n",
    "if x % 2 == 0:\n",
    "    print('x es par')\n",
    "else:\n",
    "    print('x es impar')"
   ]
  },
  {
   "cell_type": "markdown",
   "metadata": {},
   "source": [
    "Si el resto cuando *x* está dividido por 2 es 0, entonces sabemos que *x* es par, y el programa muestra un mensaje a tal efecto. Si la condición es falsa, se ejecuta el segundo conjunto de declaraciones.\n",
    "\n",
    "![Figura 3.2](./figures/3.2.svg)\n",
    "<center><i>Figura 3.2: Lógica If-Then-Else (Si-Entonce-En_otro_caso)</i></center>\n",
    "\n",
    "Como la condición debe ser verdadera o falsa, se ejecutará exactamente una de las alternativas. Las alternativas se llaman ramas, porque son ramas en el flujo de ejecución."
   ]
  },
  {
   "cell_type": "markdown",
   "metadata": {},
   "source": [
    "## Condicionales encadenados\n",
    "\n",
    "A veces hay más de dos posibilidades y necesitamos más de dos ramas. Una forma de expresar un cálculo como ese es un condicional concatenado:"
   ]
  },
  {
   "cell_type": "code",
   "execution_count": 9,
   "metadata": {},
   "outputs": [
    {
     "name": "stdout",
     "output_type": "stream",
     "text": [
      "x es mayor que y\n"
     ]
    }
   ],
   "source": [
    "x = 5\n",
    "y = 3\n",
    "if x < y:\n",
    "    print('x es menor que y')\n",
    "elif x > y:\n",
    "    print('x es mayor que y')\n",
    "else:\n",
    "    print('x es igual a y')"
   ]
  },
  {
   "cell_type": "markdown",
   "metadata": {},
   "source": [
    "`elif` es una abreviatura de \"else if\". De nuevo, se ejecutará exactamente una rama.\n",
    "\n",
    "![Figura 3.3](./figures/3.3.svg)\n",
    "<center><i>Figura 3.3: Lógica If-Then-ElseIf</i></center>\n",
    "\n",
    "No hay límite en el número de declaraciones `elif`. Si hay un `else`, tiene que ser al final, pero no es estrictamente necesario"
   ]
  },
  {
   "cell_type": "code",
   "execution_count": 10,
   "metadata": {},
   "outputs": [
    {
     "name": "stdout",
     "output_type": "stream",
     "text": [
      "Mala suposición\n"
     ]
    }
   ],
   "source": [
    "choice = 'a'\n",
    "if choice == 'a':\n",
    "    print('Mala suposición')\n",
    "elif choice == 'b':\n",
    "    print('Buena suposición')\n",
    "elif choice == 'c':\n",
    "    print('Cerrar, pero no es correcto')"
   ]
  },
  {
   "cell_type": "markdown",
   "metadata": {},
   "source": [
    "Cada condición se verifica en orden. Si el primero es falso, el siguiente está marcado, y así sucesivamente. Si uno de ellos es verdadero, la rama correspondiente se ejecuta y la instrucción finaliza. Incluso si más de una condición es verdadera, solo se ejecuta la primera rama verdadera."
   ]
  },
  {
   "cell_type": "markdown",
   "metadata": {},
   "source": [
    "## Condicionales anidados\n",
    "\n",
    "Un condicional también se puede anidar dentro de otro. Podríamos haber escrito el ejemplo de tres ramas como este:"
   ]
  },
  {
   "cell_type": "code",
   "execution_count": 11,
   "metadata": {},
   "outputs": [
    {
     "name": "stdout",
     "output_type": "stream",
     "text": [
      "x es mayor a y\n"
     ]
    }
   ],
   "source": [
    "if x == y:\n",
    "    print('x y y son iguales')\n",
    "else:\n",
    "    if x < y:\n",
    "        print('x es menor a y')\n",
    "    else:\n",
    "        print('x es mayor a y')"
   ]
  },
  {
   "cell_type": "markdown",
   "metadata": {},
   "source": [
    "El condicional externo contiene dos ramas. La primera rama contiene una declaración simple. La segunda rama contiene otra instrucción `if`, que tiene dos ramas propias. Esas dos ramas son declaraciones simples, aunque también podrían haber sido declaraciones condicionales.\n",
    "\n",
    "![Figura 3.4](./figures/3.4.svg)\n",
    "<center><i>Figura 3.4: Anidando declaraciones.</i></center>\n",
    "\n",
    "Aunque la sangría de las declaraciones hace que la estructura sea aparente, los condicionales anidados se vuelven difíciles de leer muy rápidamente. En general, es una buena idea evitarlos cuando pueda.\n",
    "\n",
    "Los operadores lógicos a menudo proporcionan una forma de simplificar las sentencias condicionales anidadas. Por ejemplo, podemos reescribir el siguiente código usando un solo condicional:"
   ]
  },
  {
   "cell_type": "code",
   "execution_count": 12,
   "metadata": {},
   "outputs": [
    {
     "name": "stdout",
     "output_type": "stream",
     "text": [
      "x es un numero positivo.\n"
     ]
    }
   ],
   "source": [
    "if 0 < x:\n",
    "if x < 10:\n",
    "     print('x es un numero positivo.')"
   ]
  },
  {
   "cell_type": "markdown",
   "metadata": {},
   "source": [
    "La declaración `print` se ejecuta solo si pasamos ambos condicionales, por lo que podemos obtener el mismo efecto con el operador `and`:"
   ]
  },
  {
   "cell_type": "code",
   "execution_count": 13,
   "metadata": {},
   "outputs": [
    {
     "name": "stdout",
     "output_type": "stream",
     "text": [
      "x es un numero positivo.\n"
     ]
    }
   ],
   "source": [
    "if 0 < x and x < 10:\n",
    "    print('x es un numero positivo.')"
   ]
  },
  {
   "cell_type": "markdown",
   "metadata": {},
   "source": [
    "## Capturar excepciones usando try y except\n",
    "\n",
    "Anteriormente vimos un segmento de código donde usamos las funciones `input` y `int` para leer y analizar un número entero ingresado por el usuario. También vimos lo traicionero que podría ser esto:"
   ]
  },
  {
   "cell_type": "code",
   "execution_count": 14,
   "metadata": {},
   "outputs": [
    {
     "name": "stdout",
     "output_type": "stream",
     "text": [
      "75\n"
     ]
    },
    {
     "data": {
      "text/plain": [
       "75"
      ]
     },
     "execution_count": 14,
     "metadata": {},
     "output_type": "execute_result"
    }
   ],
   "source": [
    "velocidad = input()\n",
    "velocidad\n",
    "int(velocidad)"
   ]
  },
  {
   "cell_type": "markdown",
   "metadata": {},
   "source": [
    "Cuando estamos ejecutando estas declaraciones en el intérprete de Python, recibimos un nuevo mensaje del intérprete, pensamos \"¡vaya!\" Y pasamos a nuestra siguiente declaración.\n",
    "\n",
    "Sin embargo, si coloca este código en un script de Python y se produce este error, el script se detiene inmediatamente en sus pistas con un traceback. No ejecuta la siguiente declaración.\n",
    "\n",
    "Aquí hay un programa de muestra para convertir una temperatura Fahrenheit a una temperatura Celsius:"
   ]
  },
  {
   "cell_type": "code",
   "execution_count": 15,
   "metadata": {},
   "outputs": [
    {
     "name": "stdout",
     "output_type": "stream",
     "text": [
      "Ingresa la temperatura en Fahrenheit: 75\n",
      "23.88888888888889\n"
     ]
    }
   ],
   "source": [
    "inp = input('Ingresa la temperatura en Fahrenheit: ')\n",
    "fahr = float(inp)\n",
    "cel = (fahr - 32.0) * 5.0 / 9.0\n",
    "print(cel)"
   ]
  },
  {
   "cell_type": "code",
   "execution_count": 16,
   "metadata": {},
   "outputs": [
    {
     "name": "stdout",
     "output_type": "stream",
     "text": [
      "Ingresa la temperatura en Fahrenheit: 75\n",
      "23.88888888888889\n"
     ]
    }
   ],
   "source": [
    "inp = input('Ingresa la temperatura en Fahrenheit: ')\n",
    "fahr = float(inp)\n",
    "cel = (fahr - 32.0) * 5.0 / 9.0\n",
    "print(cel)"
   ]
  },
  {
   "cell_type": "markdown",
   "metadata": {},
   "source": [
    "Existe una estructura de ejecución condicional incorporada en Python para manejar estos tipos de errores esperados e inesperados llamados `try` / `except`. La idea de `try` y `except` es que usted sabe que algunas secuencias de instrucciones pueden tener un problema y desea agregar algunas declaraciones para que se ejecuten si ocurre un error. Estas declaraciones adicionales (el bloque `except`) se ignoran si no hay ningún error.\n",
    "\n",
    "Puede pensar en la característica `try` y `except` en Python como una \"póliza de seguro\" en una secuencia de declaraciones.\n",
    "\n",
    "Podemos reescribir nuestro convertidor de temperatura de la siguiente manera:"
   ]
  },
  {
   "cell_type": "code",
   "execution_count": 17,
   "metadata": {},
   "outputs": [
    {
     "name": "stdout",
     "output_type": "stream",
     "text": [
      "Ingresa la temperatura en Fahrenheit:75\n",
      "23.88888888888889\n"
     ]
    }
   ],
   "source": [
    "inp = input('Ingresa la temperatura en Fahrenheit:')\n",
    "try:\n",
    "    fahr = float(inp)\n",
    "    cel = (fahr - 32.0) * 5.0 / 9.0\n",
    "    print(cel)\n",
    "except:\n",
    "    print('Por favor ingresa un numero')"
   ]
  },
  {
   "cell_type": "markdown",
   "metadata": {},
   "source": [
    "Python comienza ejecutando la secuencia de declaraciones en el bloque `try`. Si todo va bien, se salta el bloque `except` y continúa. Si se produce una excepción en el bloque `try`, Python salta fuera del bloque `try` y ejecuta la secuencia de instrucciones en el bloque `except`."
   ]
  },
  {
   "cell_type": "code",
   "execution_count": 18,
   "metadata": {},
   "outputs": [
    {
     "name": "stdout",
     "output_type": "stream",
     "text": [
      "Ingresa la temperatura en Fahrenheit:75\n",
      "23.88888888888889\n"
     ]
    }
   ],
   "source": [
    "inp = input('Ingresa la temperatura en Fahrenheit:')\n",
    "try:\n",
    "    fahr = float(inp)\n",
    "    cel = (fahr - 32.0) * 5.0 / 9.0\n",
    "    print(cel)\n",
    "except:\n",
    "    print('Por favor ingresa un numero')"
   ]
  },
  {
   "cell_type": "markdown",
   "metadata": {},
   "source": [
    "Manejar una excepción con una declaración `try` se llama capturar una excepción. En este ejemplo, el\n",
    "bloque `except` imprime un mensaje de error. En general, atrapar una excepción te da la oportunidad de\n",
    "solucionar el problema, o intentarlo nuevamente, o al menos finalizar el programa correctamente."
   ]
  },
  {
   "cell_type": "markdown",
   "metadata": {},
   "source": [
    "##  Evaluación de cortocircuito de expresiones lógicas\n",
    "\n",
    "Cuando Python está procesando una expresión lógica como *x >= 2 and (x/y) > 2*, evalúa la expresión de izquierda a derecha. Debido a la definición de `and`, si *x* es menor que 2, la expresión *x >= 2* es `False` y, por lo tanto, toda la expresión es `False` independientemente de si (x/y) > 2 se evalúa como `True` o `False`.\n",
    "\n",
    "Cuando Python detecta que no se gana nada evaluando el resto de una expresión lógica, detiene su evaluación y no realiza los cálculos en el resto de la expresión lógica. Cuando la evaluación de una expresión lógica se detiene porque el valor general ya se conoce, se denomina cortocircuito de la evaluación.\n",
    "\n",
    "Si bien esto puede parecer un punto fino, el comportamiento de cortocircuito conduce a una técnica inteligente llamada patrón guardián. Considere la siguiente secuencia de código en el intérprete de Python:"
   ]
  },
  {
   "cell_type": "code",
   "execution_count": 19,
   "metadata": {},
   "outputs": [
    {
     "data": {
      "text/plain": [
       "True"
      ]
     },
     "execution_count": 19,
     "metadata": {},
     "output_type": "execute_result"
    }
   ],
   "source": [
    "x = 6\n",
    "y = 2\n",
    "x >= 2 and (x / y) > 2"
   ]
  },
  {
   "cell_type": "code",
   "execution_count": 20,
   "metadata": {},
   "outputs": [
    {
     "data": {
      "text/plain": [
       "False"
      ]
     },
     "execution_count": 20,
     "metadata": {},
     "output_type": "execute_result"
    }
   ],
   "source": [
    "x = 2\n",
    "y = 1\n",
    "x >= 2 and (x / y) > 2"
   ]
  },
  {
   "cell_type": "code",
   "execution_count": 21,
   "metadata": {},
   "outputs": [
    {
     "data": {
      "text/plain": [
       "True"
      ]
     },
     "execution_count": 21,
     "metadata": {},
     "output_type": "execute_result"
    }
   ],
   "source": [
    "x = 6\n",
    "y = 1\n",
    "x >= 2 and (x / y) > 2"
   ]
  },
  {
   "cell_type": "markdown",
   "metadata": {},
   "source": [
    "El tercer cálculo falló porque Python estaba evaluando *(x/y)* y y era cero, lo que causa un error de tiempo de ejecución. Pero el segundo ejemplo no falló porque la primera parte de la expresión *x >= 2* se evaluó False para que *(x/y)  nunca se ejecutara debido a la regla de cortocircuito y no hubo error.\n",
    "\n",
    "Podemos construir la expresión lógica para colocar estratégicamente una evaluación de guardia justo antes de la evaluación que pueda causar un error de la siguiente manera:"
   ]
  },
  {
   "cell_type": "code",
   "execution_count": 22,
   "metadata": {},
   "outputs": [
    {
     "data": {
      "text/plain": [
       "False"
      ]
     },
     "execution_count": 22,
     "metadata": {},
     "output_type": "execute_result"
    }
   ],
   "source": [
    "x = 1\n",
    "y = 0\n",
    "x >= 2 and y != 0 and (x/y) > 2"
   ]
  },
  {
   "cell_type": "code",
   "execution_count": 23,
   "metadata": {},
   "outputs": [
    {
     "data": {
      "text/plain": [
       "True"
      ]
     },
     "execution_count": 23,
     "metadata": {},
     "output_type": "execute_result"
    }
   ],
   "source": [
    "x = 6\n",
    "y = 2\n",
    "x >= 2 and y != 0 and (x/y) > 2"
   ]
  },
  {
   "cell_type": "code",
   "execution_count": 24,
   "metadata": {},
   "outputs": [
    {
     "data": {
      "text/plain": [
       "True"
      ]
     },
     "execution_count": 24,
     "metadata": {},
     "output_type": "execute_result"
    }
   ],
   "source": [
    "x >= 2 and (x/y) > 2 and y != 0"
   ]
  },
  {
   "cell_type": "markdown",
   "metadata": {},
   "source": [
    "En la primera expresión lógica, *x >= 2* es `False` así que la evaluación se detiene en el `and`. En la segunda expresión lógica, *x >= 2* es `True` pero y *!= 0* es `False` así que nunca llegamos *(x/y)*.\n",
    "\n",
    "En la tercera expresión lógica, el y *!= 0* está después del *(x/y)* cálculo, por lo que la expresión falla con un error.\n",
    "\n",
    "En la segunda expresión, decimos que y *!= 0* actúa como guardia para asegurar que solo ejecutemos *(x/y)* si y no es cero."
   ]
  },
  {
   "cell_type": "markdown",
   "metadata": {},
   "source": [
    "## Depuración \n",
    "\n",
    "El traceback que Python muestra cuando ocurre un error contiene mucha información, pero puede ser abrumador. Las partes más útiles son usualmente:\n",
    "\n",
    "* Qué clase de error fue, y\n",
    "* Donde ocurrió\n",
    "\n",
    "Los errores de sintaxis suelen ser fáciles de encontrar, pero hay algunos errores. Los errores de espacios en blanco pueden ser complicados porque los espacios y las pestañas son invisibles y estamos acostumbrados a ignorarlos."
   ]
  },
  {
   "cell_type": "code",
   "execution_count": 25,
   "metadata": {},
   "outputs": [],
   "source": [
    "x = 5\n",
    "y = 6"
   ]
  },
  {
   "cell_type": "markdown",
   "metadata": {},
   "source": [
    "En este ejemplo, el problema es que la segunda línea está sangrada por un espacio. Pero el mensaje de error apunta a y, que es engañoso. En general, los mensajes de error indican dónde se descubrió el problema, pero el error real podría ser anterior en el código, a veces en una línea anterior.\n",
    "\n",
    "\n",
    "En general, los mensajes de error le dicen dónde se descubrió el problema, pero a menudo no es donde fue causado."
   ]
  },
  {
   "cell_type": "markdown",
   "metadata": {},
   "source": [
    "## Glosario\n",
    "\n",
    "* **cuerpo:** La secuencia de declaraciones dentro de una declaración compuesta.\n",
    "* **expresión booleana:** Una expresión cuyo valor es `True` o bien `False`.\n",
    "* **rama:** Una de las secuencias alternativas de declaraciones en una declaración condicional.\n",
    "* **encadenado condicional:** Una declaración condicional con una serie de ramas alternativas.\n",
    "* **operador de comparación:** Uno de los operadores que comparan sus operandos: ==, !=, >, <, >=, y <=.\n",
    "* **sentencia condicional:** Una declaración que controla el flujo de ejecución dependiendo de alguna condición.\n",
    "* **condición:** La expresión booleana en una declaración condicional que determina qué rama se ejecuta.\n",
    "* **declaración compuesta:** Una declaración que consiste en un encabezado y un cuerpo. El encabezado termina con dos puntos `:`. El cuerpo está indentado en relación con el encabezado.\n",
    "* **patrón guardián:** Donde construimos una expresión lógica con comparaciones adicionales para aprovechar el comportamiento de cortocircuito.\n",
    "* **operador lógico:** Uno de los operadores que combinan expresiones booleanas: `and`, `or`, y `not`.\n",
    "* **anidado condicional:** Una declaración condicional que aparece en una de las ramas de otra instrucción condicional.\n",
    "* **traceback:** Una lista de las funciones que se están ejecutando, impresas cuando ocurre una excepción.\n",
    "* **cortocircuito:** Cuando Python realiza una evaluación parcial de una expresión lógica y detiene la evaluación, Python conoce el valor final de la expresión sin necesidad de evaluar el resto de la expresión."
   ]
  },
  {
   "cell_type": "markdown",
   "metadata": {},
   "source": [
    "## Ejercicios\n",
    "\n",
    "**Ejercicio 1:** vuelva a escribir su cálculo de pago para darle al empleado 1.5 veces la tarifa por hora por horas trabajadas por encima de 40 horas.\n",
    "\n",
    "    Ingrese las Horas: 45\n",
    "    Ingrese la tarifa: 10\n",
    "    Pago: 475.0\n",
    "    \n",
    "**Ejercicio 2:** vuelva a escribir su programa de pago utilizando `try` y `except` para que su programa maneje correctamente la entrada no numérica imprimiendo un mensaje y saliendo del programa. A continuación se muestran dos ejecuciones del programa:\n",
    "\n",
    "    Ingrese las Horas: 20\n",
    "    Ingrese la tarifa: nine\n",
    "    Error, por favor ingresa un numero\n",
    "\n",
    "    Ingrese las horas: forty\n",
    "    Error, por favor ingresa un numero\n",
    "\n",
    "**Ejercicio 3:** escriba un programa para solicitar un puntaje entre 0.0 y 1.0. Si el puntaje está fuera de rango, imprima un mensaje de error. Si el puntaje está entre 0.0 y 1.0, imprima una calificación usando la siguiente tabla:\n",
    "\n",
    "    Puntaje    Grado\n",
    "    >= 0.9      A\n",
    "    >= 0.8      B\n",
    "    >= 0.7      C\n",
    "    >= 0.6      D\n",
    "    <= 0.6      F\n",
    "    Ingresa el puntaje: perfecto\n",
    "    Puntaje equivocado\n",
    "    Ingresa el puntaje: 10.0\n",
    "    Puntaje equivocado\n",
    "    Ingresa el puntaje: 0.75\n",
    "    C\n",
    "    Ingresa el puntaje: 0.5\n",
    "    F\n",
    "\n",
    "Ejecute el programa repetidamente como se muestra arriba para probar los diferentes valores de entrada.\n"
   ]
  },
  {
   "cell_type": "markdown",
   "metadata": {},
   "source": [
    "<!--NAVIGATION-->\n",
    "| [Indice](indice.ipynb) | \n",
    "\n",
    "< [Capítulo 2 - Variables, expresiones y declaraciones](cap02.ipynb) | [Capítulo 4 - Funciones](cap04.ipynb) >"
   ]
  }
 ],
 "metadata": {
  "kernelspec": {
   "display_name": "Python 3",
   "language": "python",
   "name": "python3"
  },
  "language_info": {
   "codemirror_mode": {
    "name": "ipython",
    "version": 3
   },
   "file_extension": ".py",
   "mimetype": "text/x-python",
   "name": "python",
   "nbconvert_exporter": "python",
   "pygments_lexer": "ipython3",
   "version": "3.7.3"
  },
  "varInspector": {
   "cols": {
    "lenName": 16,
    "lenType": 16,
    "lenVar": 40
   },
   "kernels_config": {
    "python": {
     "delete_cmd_postfix": "",
     "delete_cmd_prefix": "del ",
     "library": "var_list.py",
     "varRefreshCmd": "print(var_dic_list())"
    },
    "r": {
     "delete_cmd_postfix": ") ",
     "delete_cmd_prefix": "rm(",
     "library": "var_list.r",
     "varRefreshCmd": "cat(var_dic_list()) "
    }
   },
   "types_to_exclude": [
    "module",
    "function",
    "builtin_function_or_method",
    "instance",
    "_Feature"
   ],
   "window_display": false
  }
 },
 "nbformat": 4,
 "nbformat_minor": 2
}
