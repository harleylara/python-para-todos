{
 "cells": [
  {
   "cell_type": "markdown",
   "metadata": {},
   "source": [
    "<!--BOOK_INFORMATION-->\n",
    "<img align=\"left\" style=\"padding-right:10px;\" src=\"./figures/cover-small.jpg\">\n",
    "\n",
    "*Este libro es una versión al español de [Python for Everybody](https://www.py4e.com/) escrito por el [Dr. Charles R. Severance](http://www.dr-chuck.com/); este contenido esta disponible en [GitHub](https://github.com/csev/py4e).*\n",
    "\n",
    "Detalles de Copyright\n",
    "\n",
    "*Copyright ~ 2009- Charles Severance.\n",
    "Este trabajo está registrado bajo una Licencia Creative Commons AttributionNonCommercial-ShareAlike 3.0 [CC BY-NC-SA](https://creativecommons.org/licenses/by-nc-sa/3.0/).*"
   ]
  },
  {
   "cell_type": "markdown",
   "metadata": {},
   "source": [
    "<!--NAVIGATION-->\n",
    "| [Indice](indice.ipynb) | \n",
    "\n",
    "< [Capítulo 13 - Python y servicios web](cap13.ipynb) | [Capítulo 15 - Uso de bases de datos y SQL](cap15.ipynb) >"
   ]
  },
  {
   "cell_type": "markdown",
   "metadata": {},
   "source": [
    "# Capítulo 14 - Programación orientada a objetos"
   ]
  },
  {
   "cell_type": "markdown",
   "metadata": {},
   "source": [
    "## Administrar programas más grandes\n",
    "\n",
    "Al comienzo de este libro, se nos ocurrieron cuatro patrones básicos de programación que usamos para construir programas:\n",
    "* Código secuencial\n",
    "* Código condicional (if declaraciones)\n",
    "* Código repetitivo (bucles)\n",
    "* Almacenar y reutilizar (funciones)\n",
    "\n",
    "En capítulos posteriores, exploramos variables simples, así como estructuras de datos de recopilación como listas, tuplas y diccionarios.\n",
    "\n",
    "A medida que construimos programas, diseñamos estructuras de datos y escribimos código para manipular esas estructuras de datos. Hay muchas maneras de escribir programas y, a estas alturas, es probable que haya escrito algunos programas que son \"no tan elegantes\" y otros programas que son \"más elegantes\". Aunque sus programas pueden ser pequeños, está empezando a ver cómo hay un poco de \"arte\" y \"estética\" para escribir código.\n",
    "\n",
    "A medida que los programas llegan a millones de líneas, se vuelve cada vez más importante escribir código que sea fácil de entender. Si está trabajando en un programa de un millón de líneas, nunca podrá tener todo el programa en mente al mismo tiempo. Entonces, necesitamos formas de dividir el programa en varias piezas más pequeñas para resolver un problema, corregir un error o agregar una nueva función que tenemos menos que mirar.\n",
    "\n",
    "En cierto modo, la programación orientada a objetos es una forma de organizar su código para que pueda acercarse a 500 líneas del código y comprenderlo mientras ignora las otras 999,500 líneas de código por el momento."
   ]
  },
  {
   "cell_type": "markdown",
   "metadata": {},
   "source": [
    "## Empezando\n",
    "\n",
    "Al igual que muchos aspectos de la programación, es necesario aprender los conceptos de programación orientada a objetos antes de poder usarlos de manera efectiva. Por lo tanto, acérquese a este capítulo como una forma de aprender algunos términos y conceptos y trabajar a través de algunos ejemplos simples para sentar las bases para el aprendizaje futuro. Durante el resto del libro usaremos objetos en muchos de los programas, pero no construiremos nuestros propios objetos nuevos en los programas.\n",
    "\n",
    "El resultado clave de este capítulo es tener una comprensión básica de cómo se construyen los objetos y cómo funcionan y, lo más importante, cómo hacemos uso de las capacidades de los objetos que nos proporcionan las bibliotecas de Python y Python."
   ]
  },
  {
   "cell_type": "markdown",
   "metadata": {},
   "source": [
    "## Usando objetos\n",
    "\n",
    "Resulta que hemos estado usando objetos todo el tiempo en esta clase. Python nos proporciona muchos objetos incorporados. Aquí hay un código simple donde las primeras líneas deberían ser muy simples y naturales para usted."
   ]
  },
  {
   "cell_type": "code",
   "execution_count": 1,
   "metadata": {},
   "outputs": [
    {
     "name": "stdout",
     "output_type": "stream",
     "text": [
      "chuck\n",
      "chuck\n",
      "chuck\n"
     ]
    }
   ],
   "source": [
    "stuff = list()\n",
    "stuff.append('python')\n",
    "stuff.append('chuck')\n",
    "stuff.sort()\n",
    "print (stuff[0])\n",
    "print (stuff.__getitem__(0))\n",
    "print (list.__getitem__(stuff,0))"
   ]
  },
  {
   "cell_type": "markdown",
   "metadata": {},
   "source": [
    "Pero en lugar de centrarnos en lo que estas líneas logran, veamos qué está sucediendo realmente desde el punto de vista de la programación orientada a objetos. No se preocupe si los siguientes párrafos no tienen ningún sentido la primera vez que los lee porque aún no hemos definido todos estos términos.\n",
    "\n",
    "La primera línea consiste en construir un objeto de tipo lista, la segunda y la tercera líneas llaman al método `append()`, la cuarta línea llama al método `sort()` y la quinta línea recupera el elemento en la posición 0. La sexta línea llama al método `__getitem__()` en la lista `stuff` con un parámetro de cero.\n",
    "\n",
    "    print (stuff.__getitem__(0))\n",
    "\n",
    "La séptima línea es una forma aún más detallada de recuperar el elemento 0 de la lista.\n",
    "\n",
    "    print (list.__getitem__(stuff,0))\n",
    "\n",
    "En este código, nos importa llamar al método `__getitem__` en la clase `list` y pasar la lista `stuff` y el elemento que queremos recuperar de la lista como parámetros.\n",
    "\n",
    "Las últimas tres líneas del programa son completamente equivalentes, pero es más conveniente simplemente usar la sintaxis del corchete cuadrado para buscar un elemento en una posición particular en una lista. Podemos echar un vistazo a las capacidades de un objeto mirando el resultado de la función `dir()`:"
   ]
  },
  {
   "cell_type": "code",
   "execution_count": 2,
   "metadata": {
    "scrolled": true
   },
   "outputs": [
    {
     "data": {
      "text/plain": [
       "['__add__',\n",
       " '__class__',\n",
       " '__contains__',\n",
       " '__delattr__',\n",
       " '__delitem__',\n",
       " '__dir__',\n",
       " '__doc__',\n",
       " '__eq__',\n",
       " '__format__',\n",
       " '__ge__',\n",
       " '__getattribute__',\n",
       " '__getitem__',\n",
       " '__gt__',\n",
       " '__hash__',\n",
       " '__iadd__',\n",
       " '__imul__',\n",
       " '__init__',\n",
       " '__init_subclass__',\n",
       " '__iter__',\n",
       " '__le__',\n",
       " '__len__',\n",
       " '__lt__',\n",
       " '__mul__',\n",
       " '__ne__',\n",
       " '__new__',\n",
       " '__reduce__',\n",
       " '__reduce_ex__',\n",
       " '__repr__',\n",
       " '__reversed__',\n",
       " '__rmul__',\n",
       " '__setattr__',\n",
       " '__setitem__',\n",
       " '__sizeof__',\n",
       " '__str__',\n",
       " '__subclasshook__',\n",
       " 'append',\n",
       " 'clear',\n",
       " 'copy',\n",
       " 'count',\n",
       " 'extend',\n",
       " 'index',\n",
       " 'insert',\n",
       " 'pop',\n",
       " 'remove',\n",
       " 'reverse',\n",
       " 'sort']"
      ]
     },
     "execution_count": 2,
     "metadata": {},
     "output_type": "execute_result"
    }
   ],
   "source": [
    "stuff = list()\n",
    "dir(stuff)"
   ]
  },
  {
   "cell_type": "markdown",
   "metadata": {},
   "source": [
    "La definición precisa de esto `dir()` es que enumera los métodos y atributos de un objeto de Python.\n",
    "\n",
    "El resto de este capítulo definirá todos los términos anteriores, así que asegúrese de volver después de terminar el capítulo y volver a leer los párrafos anteriores para verificar su comprensión."
   ]
  },
  {
   "cell_type": "markdown",
   "metadata": {},
   "source": [
    "## Comenzando con programas\n",
    "\n",
    "Un programa en su forma más básica requiere algo de entrada, hace algo de procesamiento y produce algo de salida. Nuestro programa de conversión de ascensores muestra un programa muy breve pero completo que muestra los tres pasos."
   ]
  },
  {
   "cell_type": "code",
   "execution_count": 3,
   "metadata": {},
   "outputs": [
    {
     "name": "stdout",
     "output_type": "stream",
     "text": [
      "Ingrese el numero de piso US: 2\n",
      "El numero de piso no-US es 1\n"
     ]
    }
   ],
   "source": [
    "usf = input('Ingrese el numero de piso US: ')\n",
    "wf = int(usf) - 1\n",
    "print('El numero de piso no-US es',wf)\n",
    "\n",
    "# En US la primera planta de un edificio se conoce como piso 1\n",
    "# en cambio en EU y otros lugares se conoce como piso 0"
   ]
  },
  {
   "cell_type": "markdown",
   "metadata": {},
   "source": [
    "Si pensamos un poco más sobre este programa, existe el \"mundo exterior\" y el programa. Los aspectos de entrada y salida son aquellos en los que el programa interactúa con el mundo exterior. Dentro del programa tenemos código y datos para realizar la tarea que el programa está diseñado para resolver.\n",
    "\n",
    "![Figura 14.1](./figures/14.1.svg)\n",
    "<center><i>Figura 14.1: Un programa.</i></center>\n",
    "\n",
    "Cuando estamos \"en\" el programa, tenemos algunas interacciones definidas con el mundo \"exterior\", pero esas interacciones están bien definidas y generalmente no es algo en lo que nos concentremos. Mientras codificamos, nos preocupamos solo por los detalles \"dentro del programa\".\n",
    "\n",
    "Una forma de pensar acerca de la programación orientada a objetos es que estamos separando nuestro programa en múltiples \"zonas\". Cada \"zona\" contiene algún código y datos (como un programa) y tiene interacciones bien definidas con el mundo exterior y las otras zonas dentro del programa.\n",
    "\n",
    "Si miramos hacia atrás en la aplicación de extracción de enlaces donde utilizamos la biblioteca `BeautifulSoup`, podemos ver un programa que se construye al conectar diferentes objetos para realizar una tarea:"
   ]
  },
  {
   "cell_type": "code",
   "execution_count": 4,
   "metadata": {
    "scrolled": true
   },
   "outputs": [
    {
     "name": "stdout",
     "output_type": "stream",
     "text": [
      "Ingresa un url - http://www.dr-chuck.com/page1.htm\n",
      "http://www.dr-chuck.com/page2.htm\n"
     ]
    }
   ],
   "source": [
    "# Para ejecutar esto necesitas intallar BeautifulSoup\n",
    "# https://pypi.python.org/pypi/beautifulsoup4\n",
    "\n",
    "# o descargar el archivo\n",
    "# http://www.py4e.com/code3/bs4.zip\n",
    "# y descomprimirlo en el mismo directorio de este archivo\n",
    "\n",
    "import urllib.request, urllib.parse, urllib.error\n",
    "from bs4 import BeautifulSoup\n",
    "import ssl\n",
    "\n",
    "# Ignora errores de certificados SSL\n",
    "ctx = ssl.create_default_context()\n",
    "ctx.check_hostname = False\n",
    "ctx.verify_mode = ssl.CERT_NONE\n",
    "\n",
    "url = input('Ingresa un url - ')\n",
    "html = urllib.request.urlopen(url, context=ctx).read()\n",
    "soup = BeautifulSoup(html, 'html.parser')\n",
    "\n",
    "# Retrieve all of the anchor tags\n",
    "tags = soup('a')\n",
    "for tag in tags:\n",
    "    print(tag.get('href', None))"
   ]
  },
  {
   "cell_type": "markdown",
   "metadata": {},
   "source": [
    "Leemos la URL en una cadena y luego la pasamos a `urllib` para recuperar los datos de la web. La biblioteca `urllib` usa la biblioteca `socket` para hacer la conexión de red real para recuperar los datos. Tomamos la cadena que recibimos y se la entregamos a `urllib` y `BeautifulSoup` para su análisis. `BeautifulSoup` utiliza otro objeto llamado `html.parser1` y devuelve un objeto. Llamamos al método `tags()` en el objeto devuelto y luego obtenemos un diccionario de objetos de etiqueta y recorremos las etiquetas y llamamos al método `get()` para que cada etiqueta imprima el atributo `'href'`.\n",
    "\n",
    "![Figura 14.2](./figures/14.2.svg)\n",
    "<center><i>Figura 14.2: Un programa como red de objetos.</i></center>\n",
    "\n",
    "Podemos hacer un dibujo de este programa y cómo los objetos funcionan juntos.\n",
    "\n",
    "La clave aquí no es comprender completamente cómo funciona este programa, sino ver cómo construimos una red de objetos que interactúan y orquestar el movimiento de la información entre los objetos para crear un programa. También es importante tener en cuenta que cuando revisó ese programa varios capítulos atrás, podía comprender completamente lo que estaba sucediendo en el programa sin siquiera darse cuenta de que el programa estaba \"orquestando el movimiento de datos entre los objetos\". En aquel entonces, solo las líneas de código hacían el trabajo."
   ]
  },
  {
   "cell_type": "markdown",
   "metadata": {},
   "source": [
    "## Subdividiendo un problema – Encapsulación\n",
    "\n",
    "Una de las ventajas del enfoque orientado a objetos es que puede ocultar la complejidad. Por ejemplo, aunque necesitamos saber cómo usar el código `urllib` y `BeautifulSoup`, no necesitamos saber cómo funcionan esas bibliotecas internamente. Nos permite enfocarnos en la parte del problema que necesitamos resolver e ignorar las otras partes del programa.\n",
    "\n",
    "![Fugura 14.3](./figures/14.3.svg)\n",
    "<center><i>Figura 14.3: Ignorando detalles cuando se usa un objeto</i></center>\n",
    "\n",
    "Esta capacidad de enfocarse en una parte de un programa que nos importa e ignorar el resto del programa también es útil para los desarrolladores de los objetos. Por ejemplo, los programadores que desarrollan `BeautifulSoup` no necesitan saber ni preocuparse acerca de cómo recuperamos nuestra página HTML, qué partes queremos leer o qué planeamos hacer con los datos que extraemos de la página web.\n",
    "\n",
    "![Figura 14.4](./figures/14.4.svg)\n",
    "<center><i>Figura 14.4: Ignorar el detalle al construir un objeto</i></center>\n",
    "\n",
    "Otra palabra que usamos para capturar esta idea de que ignoramos el detalle interno de los objetos que usamos es \"encapsulación\". Esto significa que podemos saber cómo usar un objeto sin saber cómo logra internamente lo que necesitamos hacer."
   ]
  },
  {
   "cell_type": "markdown",
   "metadata": {},
   "source": [
    "## Nuestro primer objeto de Python\n",
    "\n",
    "En su forma más simple, un objeto es un código más estructuras de datos que es más pequeño que un programa completo. Definir una función nos permite almacenar un poco de código y darle un nombre y luego invocar ese código usando el nombre de la función.\n",
    "\n",
    "Un objeto puede contener varias funciones (que llamamos \"métodos\"), así como datos que utilizan esas funciones. Llamamos a los elementos de datos que son parte del objeto \"atributos\".\n",
    "\n",
    "Usamos la palabra clave `class` para definir los datos y el código que conformarán cada uno de los objetos. La palabra clave `class` incluye el nombre de la clase y comienza un bloque de código sangrado donde incluimos los atributos (datos) y métodos (código)."
   ]
  },
  {
   "cell_type": "code",
   "execution_count": 5,
   "metadata": {},
   "outputs": [
    {
     "name": "stdout",
     "output_type": "stream",
     "text": [
      "So far 1\n",
      "So far 2\n",
      "So far 3\n",
      "So far 4\n"
     ]
    }
   ],
   "source": [
    "class PartyAnimal:\n",
    "    x = 0\n",
    "    \n",
    "    def party(self) :\n",
    "        self.x = self.x + 1\n",
    "        print(\"So far\",self.x)\n",
    "\n",
    "an = PartyAnimal()\n",
    "an.party()\n",
    "an.party()\n",
    "an.party()\n",
    "PartyAnimal.party(an)"
   ]
  },
  {
   "cell_type": "markdown",
   "metadata": {},
   "source": [
    "Cada método se parece a una función, que comienza con la palabra clave `def` y consiste en un bloque de código sangrado. Este ejemplo tiene un atributo `x` y un método `party`. Los métodos tienen un primer parámetro especial que nombramos por convención `self`.\n",
    "\n",
    "Al igual que la palabra clave `def` no hace que se ejecute el código de función, la palabra clave `class` no crea un objeto. En cambio, la palabra clave `class` define una plantilla que indica qué datos y códigos se incluirán en cada objeto de tipo `PartyAnimal`. La clase es como un cortador de galletas y los objetos creados usando la clase son las galletas. No colocas glaseado en el cortador de galletas, pones glaseado en las galletas y puedes poner diferentes glaseados en cada galleta.\n",
    "\n",
    "![Figura 14.5](./figures/14.5.png)\n",
    "<center><i>Figura 14.5: Una clase y dos objetos.</i></center>\n",
    "\n",
    "Si continúa con el código de ejemplo, vemos la primera línea de código ejecutable:\n",
    "\n",
    "    an = PartyAnimal()\n",
    "\n",
    "Aquí es donde instruimos a Python para construir (por ejemplo, crear) un objeto o \"instancia de la clase llamada `PartyAnimal`\". Parece una llamada de función a la clase en sí y Python construye el objeto con los datos y métodos correctos y devuelve el objeto que luego se asigna a la variable `an`. En cierto modo, esto es bastante similar a la siguiente línea que hemos estado utilizando todo el tiempo:\n",
    "\n",
    "    counts = dict()\n",
    "\n",
    "Aquí estamos instruyendo a Python para construir un objeto usando la plantilla `dict` (ya presente en Python), devolver la instancia del diccionario y asignarla a la variable `counts`.\n",
    "\n",
    "Cuando la clase `PartyAnimal` se usa para construir un objeto, la variable `an` se usa para apuntar a ese objeto. Usamos `an` para acceder al código y a los datos para esa instancia particular de un objeto `PartyAnimal`.\n",
    "\n",
    "Cada objeto/instancia de `Partyanimal` contiene dentro una variable `x` y un método/función nombrada `party`. Llamamos a ese método `party` en esta línea:\n",
    "\n",
    "    an.party()\n",
    "    \n",
    "Cuando se llama al método `party`, el primer parámetro (que llamamos por convención `self`) apunta a la instancia particular del objeto `PartyAnimal` que se llama desde adentro `party`. Dentro del método `party`, vemos la línea:\n",
    "\n",
    "    self.x = self.x + 1\n",
    "    \n",
    "Esta sintaxis que usa el operador 'punto' está diciendo 'la `x` dentro de uno mismo'. Entonces, cada vez que `party()` se invoca, el valor interno de `x` se incrementa en 1 y el valor se imprime.\n",
    "\n",
    "Para ayudar a dar sentido a la diferencia entre una función global y un método dentro de una clase/objeto, la siguiente línea es otra manera de llamar al método `party` dentro del objeto `an`:\n",
    "\n",
    "    PartyAnimal.party(an)\n",
    "\n",
    "En esta variación, estamos accediendo al código desde dentro de la clase y pasando explícitamente el puntero del objeto `an` como el primer parámetro (es decir, `self` dentro del método). Puedes pensar `an.party()` en taquigrafía para la línea anterior.\n",
    "\n",
    "El objeto se construye y el método `party` se llama cuatro veces, incrementando e imprimiendo el valor de `x` dentro del objeto `an`."
   ]
  },
  {
   "cell_type": "markdown",
   "metadata": {},
   "source": [
    "## Clases como tipos\n",
    "\n",
    "Como hemos visto, en Python, todas las variables tienen un tipo. Y podemos usar la función `dir` incorporada para examinar las capacidades de una variable. Podemos usar `type` y `dir` con las clases que creamos."
   ]
  },
  {
   "cell_type": "code",
   "execution_count": 6,
   "metadata": {},
   "outputs": [
    {
     "name": "stdout",
     "output_type": "stream",
     "text": [
      "Type <class '__main__.PartyAnimal'>\n",
      "Dir  ['__class__', '__delattr__', '__dict__', '__dir__', '__doc__', '__eq__', '__format__', '__ge__', '__getattribute__', '__gt__', '__hash__', '__init__', '__init_subclass__', '__le__', '__lt__', '__module__', '__ne__', '__new__', '__reduce__', '__reduce_ex__', '__repr__', '__setattr__', '__sizeof__', '__str__', '__subclasshook__', '__weakref__', 'party', 'x']\n",
      "Type <class 'int'>\n",
      "Type <class 'method'>\n"
     ]
    }
   ],
   "source": [
    "class PartyAnimal:\n",
    "    x = 0\n",
    "    \n",
    "    def party(self) :\n",
    "        self.x = self.x + 1\n",
    "        print(\"So far\",self.x)\n",
    "\n",
    "an = PartyAnimal()\n",
    "print (\"Type\", type(an))\n",
    "print (\"Dir \", dir(an))\n",
    "print (\"Type\", type(an.x))\n",
    "print (\"Type\", type(an.party))"
   ]
  },
  {
   "cell_type": "markdown",
   "metadata": {},
   "source": [
    "Puede ver que al usar la palabra clave `class`, hemos creado un nuevo tipo. Desde el resultado `dir`, puede ver que tanto el atributo `x` entero como el método `party` están disponibles en el objeto."
   ]
  },
  {
   "cell_type": "markdown",
   "metadata": {},
   "source": [
    "## Ciclo de vida del objeto\n",
    "\n",
    "En los ejemplos anteriores, estamos definiendo una clase (plantilla) y usando esa clase para crear una instancia de esa clase (objeto) y luego usar la instancia. Cuando el programa finaliza, todas las variables se descartan. Por lo general, no pensamos mucho sobre la creación y destrucción de variables, pero a menudo a medida que nuestros objetos se vuelven más complejos, necesitamos tomar alguna acción dentro del objeto para configurar las cosas a medida que el objeto se construye y posiblemente limpiar las cosas como el el objeto está siendo descartado.\n",
    "\n",
    "Si queremos que nuestro objeto conozca estos momentos de construcción y destrucción, agregamos métodos con nombres especiales a nuestro objeto:"
   ]
  },
  {
   "cell_type": "code",
   "execution_count": 7,
   "metadata": {},
   "outputs": [
    {
     "name": "stdout",
     "output_type": "stream",
     "text": [
      "Yo soy un constructor\n",
      "So far 1\n",
      "So far 2\n",
      "Yo soy un destructor 2\n",
      "an contiene 42\n"
     ]
    }
   ],
   "source": [
    "class PartyAnimal:\n",
    "    x = 0\n",
    "    def __init__(self):\n",
    "        print('Yo soy un constructor')\n",
    "\n",
    "    def party(self) :\n",
    "        self.x = self.x + 1\n",
    "        print('So far',self.x)\n",
    "    \n",
    "    def __del__(self):\n",
    "        print('Yo soy un destructor', self.x)\n",
    "\n",
    "an = PartyAnimal()\n",
    "an.party()\n",
    "an.party()\n",
    "an = 42\n",
    "print('an contiene',an)"
   ]
  },
  {
   "cell_type": "markdown",
   "metadata": {},
   "source": [
    "Como Python está construyendo nuestro objeto, llama a nuestro método `__init__` para darnos la oportunidad de configurar algunos valores predeterminados o iniciales para el objeto. Cuando Python encuentra la línea:\n",
    "\n",
    "    an = 42\n",
    "\n",
    "En realidad 'arroja nuestro objeto lejos' para que pueda reutilizar la variable `an` para almacenar el valor 42. Justo en el momento en que nuestro objeto `an` está siendo 'destruido', se llama a `__del__` nuestro código destructor. No podemos evitar que nuestra variable sea destruida, pero podemos hacer cualquier limpieza necesaria justo antes de que nuestro objeto ya no exista.\n",
    "\n",
    "Al desarrollar objetos, es bastante común agregar un constructor a un objeto para establecer los valores iniciales en el objeto, es relativamente raro que no necesite un destructor para un objeto."
   ]
  },
  {
   "cell_type": "markdown",
   "metadata": {},
   "source": [
    "## Muchas instancias\n",
    "\n",
    "Hasta ahora, hemos estado definiendo una clase, haciendo un solo objeto, usando ese objeto, y luego tirando el objeto. Pero el verdadero poder en el la progrmacion orientada a objetos ocurre cuando hacemos muchos ejemplos de nuestra clase.\n",
    "\n",
    "Cuando estamos creando varios objetos de nuestra clase, es posible que deseemos configurar diferentes valores iniciales para cada uno de los objetos. Podemos pasar datos a los constructores para dar a cada objeto un valor inicial diferente:"
   ]
  },
  {
   "cell_type": "code",
   "execution_count": 8,
   "metadata": {},
   "outputs": [
    {
     "name": "stdout",
     "output_type": "stream",
     "text": [
      "Sally constructed\n",
      "Sally party count 1\n",
      "Jim constructed\n",
      "Jim party count 1\n",
      "Sally party count 2\n"
     ]
    }
   ],
   "source": [
    "class PartyAnimal:\n",
    "    x = 0\n",
    "    name = ''\n",
    "    def __init__(self, nam):\n",
    "        self.name = nam\n",
    "        print(self.name,'constructed')\n",
    "\n",
    "    def party(self) :\n",
    "        self.x = self.x + 1\n",
    "        print(self.name,'party count',self.x)\n",
    "\n",
    "s = PartyAnimal('Sally')\n",
    "s.party()\n",
    "j = PartyAnimal('Jim')\n",
    "j.party()\n",
    "s.party()"
   ]
  },
  {
   "cell_type": "markdown",
   "metadata": {},
   "source": [
    "El constructor tiene un parámetro `self` que apunta a la instancia del objeto y luego a los parámetros adicionales que se pasan al constructor a medida que se construye el objeto:\n",
    "\n",
    "    s = PartyAnimal('Sally')\n",
    "\n",
    "Dentro del constructor, la línea:\n",
    "\n",
    "    self.name = nam\n",
    "\n",
    "Copia el parámetro que se pasa en `nam` en el atributo `name` dentro de la instancia del objeto. El resultado del programa muestra que cada uno de los objetos `s` y `j` contiene sus propias copias independientes de `x` y `nam`:"
   ]
  },
  {
   "cell_type": "markdown",
   "metadata": {},
   "source": [
    "## Herencia\n",
    "\n",
    "Otra característica poderosa de la programación orientada a objetos es la capacidad de crear una nueva clase extendiendo una clase existente. Al extender una clase, llamamos a la clase original la 'clase principal' y la nueva clase como 'clase hija'.\n",
    "\n",
    "Para este ejemplo, moveremos nuestra clase `PartyAnimal` en su propio archivo:"
   ]
  },
  {
   "cell_type": "code",
   "execution_count": 9,
   "metadata": {},
   "outputs": [],
   "source": [
    "class PartyAnimal:\n",
    "    x = 0\n",
    "    name = ''\n",
    "\n",
    "    def __init__(self, nam):\n",
    "        self.name = nam\n",
    "        print(self.name,'constructed')\n",
    "\n",
    "    def party(self) :\n",
    "        self.x = self.x + 1\n",
    "        print(self.name,'party count',self.x)"
   ]
  },
  {
   "cell_type": "markdown",
   "metadata": {},
   "source": [
    "Entonces, podemos 'importar' la clase `PartyAnimal` en un nuevo archivo y extenderlo de la siguiente manera:"
   ]
  },
  {
   "cell_type": "code",
   "execution_count": 10,
   "metadata": {},
   "outputs": [
    {
     "name": "stdout",
     "output_type": "stream",
     "text": [
      "Sally constructed\n",
      "Sally party count 1\n",
      "Jim constructed\n",
      "Jim party count 1\n",
      "Jim party count 2\n",
      "Jim points 6\n",
      "['__class__', '__delattr__', '__dict__', '__dir__', '__doc__', '__eq__', '__format__', '__ge__', '__getattribute__', '__gt__', '__hash__', '__init__', '__init_subclass__', '__le__', '__lt__', '__module__', '__ne__', '__new__', '__reduce__', '__reduce_ex__', '__repr__', '__setattr__', '__sizeof__', '__str__', '__subclasshook__', '__weakref__', 'name', 'party', 'points', 'six', 'x']\n"
     ]
    }
   ],
   "source": [
    "from codes.party import PartyAnimal\n",
    "class CricketFan(PartyAnimal):\n",
    "    points = 0\n",
    "    def six(self):\n",
    "        self.points = self.points + 6\n",
    "        self.party()\n",
    "        print(self.name,\"points\",self.points)\n",
    "\n",
    "s = PartyAnimal(\"Sally\")\n",
    "s.party()\n",
    "j = CricketFan(\"Jim\")\n",
    "j.party()\n",
    "j.six()\n",
    "print(dir(j))"
   ]
  },
  {
   "cell_type": "markdown",
   "metadata": {},
   "source": [
    "En el resultado del objeto `j` (instancia de la clase `CricketFan`), puede ver que tiene los atributos y métodos de la clase principal, así como los atributos y métodos que se agregaron cuando la clase se amplió para crear la clase `CricketFan`."
   ]
  },
  {
   "cell_type": "markdown",
   "metadata": {},
   "source": [
    "## Resumen\n",
    "\n",
    "Esta es una introducción muy rápida a la programación orientada a objetos que se enfoca principalmente en la terminología y la sintaxis para definir y usar objetos. Repasemos rápidamente el código que vimos al principio del capítulo. En este punto, debe comprender completamente lo que está sucediendo."
   ]
  },
  {
   "cell_type": "code",
   "execution_count": 11,
   "metadata": {},
   "outputs": [
    {
     "name": "stdout",
     "output_type": "stream",
     "text": [
      "chuck\n",
      "chuck\n",
      "chuck\n"
     ]
    }
   ],
   "source": [
    "stuff = list()\n",
    "stuff.append('python')\n",
    "stuff.append('chuck')\n",
    "stuff.sort()\n",
    "print (stuff[0])\n",
    "print (stuff.__getitem__(0))\n",
    "print (list.__getitem__(stuff,0))"
   ]
  },
  {
   "cell_type": "markdown",
   "metadata": {},
   "source": [
    "La primera línea construye un objeto de lista. Cuando Python crea el objeto `list`, llama al método constructor llamado `__init__` para configurar los atributos de datos internos que se usarán para almacenar los datos de la lista. Debido a la encapsulación, no necesitamos saber ni debemos ocuparnos de esto en los atributos internos de los datos.\n",
    "\n",
    "No estamos pasando ningún parámetro al constructor y cuando el constructor retorna, usamos el elemento variable para apuntar a la instancia devuelta de la clase `list`.\n",
    "\n",
    "La segunda y la tercera línea llaman al método de agregar con un parámetro para agregar un nuevo elemento al final de la lista al actualizar los atributos dentro de las cosas. Luego, en la cuarta línea, llamamos al método de clasificación sin parámetros para ordenar los datos dentro del objeto material.\n",
    "\n",
    "Luego imprimimos el primer elemento de la lista usando los corchetes que son un atajo para llamar al método `__getitem__` dentro del objeto de material. Y esto es equivalente a llamar al método `__getitem__` en la clase de `list` que pasa el objeto de material como el primer parámetro y la posición que estamos buscando como el segundo parámetro.\n",
    "\n",
    "Al final del programa, el objeto `stuff` se descarta, pero no antes de llamar al destructor (llamado `__del__`) para que el objeto pueda limpiar los cabos sueltos según sea necesario.\n",
    "\n",
    "Esos son los conceptos básicos y la terminología de la programación orientada a objetos. Hay muchos detalles adicionales sobre cómo utilizar mejor los enfoques orientados a objetos cuando se desarrollan aplicaciones grandes y bibliotecas que están más allá del alcance de este capítulo."
   ]
  },
  {
   "cell_type": "markdown",
   "metadata": {},
   "source": [
    "## Glosario\n",
    "\n",
    "* **atributo:** Una variable que es parte de una clase.\n",
    "* **clase:** Una plantilla que puede usarse para construir un objeto. Define los atributos y métodos que conformarán el objeto.\n",
    "* **clase hija:** Una clase nueva creada cuando se extiende una clase principal. La clase secundaria hereda todos los atributos y métodos de la clase principal.\n",
    "* **constructor:** Un método opcional con nombre especial `__init__` que se llama en el momento en que se usa una clase para construir un objeto. Por lo general, esto se usa para establecer valores iniciales para el objeto.\n",
    "* **destructor:** Un método opcional de nombre especial `__del__` que se llama en este momento justo antes de que se destruya un objeto. Los destructores rara vez se usan.\n",
    "* **herencia:** Cuando creamos una nueva clase (hija) extendiendo una clase existente (padre). La clase secundaria tiene todos los atributos y métodos de la clase principal más los atributos y métodos adicionales definidos por la clase secundaria.\n",
    "* **método:** Una función que está contenida dentro de una clase y los objetos que se construyen a partir de la clase. Algunos patrones orientados a objetos usan 'mensaje' en lugar de 'método' para describir este concepto.\n",
    "* **objeto:** Una instancia construida de una clase. Un objeto contiene todos los atributos y métodos que fueron definidos por la clase. Alguna documentación orientada a objetos usa el término 'instancia' intercambiablemente con 'objeto'.\n",
    "* **clase padre:** La clase que se está ampliando para crear una nueva clase para niños. La clase principal contribuye con todos sus métodos y atributos a la nueva clase hija."
   ]
  },
  {
   "cell_type": "markdown",
   "metadata": {},
   "source": [
    "<!--NAVIGATION-->\n",
    "| [Indice](indice.ipynb) | \n",
    "\n",
    "< [Capítulo 13 - Python y servicios web](cap13.ipynb) | [Capítulo 15 - Uso de bases de datos y SQL](cap15.ipynb) >"
   ]
  }
 ],
 "metadata": {
  "kernelspec": {
   "display_name": "Python 3",
   "language": "python",
   "name": "python3"
  },
  "language_info": {
   "codemirror_mode": {
    "name": "ipython",
    "version": 3
   },
   "file_extension": ".py",
   "mimetype": "text/x-python",
   "name": "python",
   "nbconvert_exporter": "python",
   "pygments_lexer": "ipython3",
   "version": "3.7.3"
  },
  "varInspector": {
   "cols": {
    "lenName": 16,
    "lenType": 16,
    "lenVar": 40
   },
   "kernels_config": {
    "python": {
     "delete_cmd_postfix": "",
     "delete_cmd_prefix": "del ",
     "library": "var_list.py",
     "varRefreshCmd": "print(var_dic_list())"
    },
    "r": {
     "delete_cmd_postfix": ") ",
     "delete_cmd_prefix": "rm(",
     "library": "var_list.r",
     "varRefreshCmd": "cat(var_dic_list()) "
    }
   },
   "types_to_exclude": [
    "module",
    "function",
    "builtin_function_or_method",
    "instance",
    "_Feature"
   ],
   "window_display": false
  }
 },
 "nbformat": 4,
 "nbformat_minor": 2
}
