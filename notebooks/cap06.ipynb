{
 "cells": [
  {
   "cell_type": "markdown",
   "metadata": {},
   "source": [
    "<!--BOOK_INFORMATION-->\n",
    "<img align=\"left\" style=\"padding-right:10px;\" src=\"./figures/cover-small.jpg\">\n",
    "\n",
    "*Este libro es una versión al español de [Python for Everybody](https://www.py4e.com/) escrito por el [Dr. Charles R. Severance](http://www.dr-chuck.com/); este contenido esta disponible en [GitHub](https://github.com/csev/py4e).*\n",
    "\n",
    "Detalles de Copyright\n",
    "\n",
    "*Copyright ~ 2009- Charles Severance.\n",
    "Este trabajo está registrado bajo una Licencia Creative Commons AttributionNonCommercial-ShareAlike 3.0 [CC BY-NC-SA](https://creativecommons.org/licenses/by-nc-sa/3.0/).*"
   ]
  },
  {
   "cell_type": "markdown",
   "metadata": {},
   "source": [
    "<!--NAVIGATION-->\n",
    "| [Indice](indice.ipynb) | \n",
    "\n",
    "< [Capítulo 5 - Iteraciones](cap05.ipynb) | [Capítulo 7 - Archivos](cap07.ipynb) >"
   ]
  },
  {
   "cell_type": "markdown",
   "metadata": {},
   "source": [
    "# Capítulo 6 - Strings"
   ]
  },
  {
   "cell_type": "markdown",
   "metadata": {},
   "source": [
    "## Un string es una secuencia\n",
    "Un string o también conocida como cadena es una secuencia de caracteres. Puede acceder a los caracteres uno a la vez con el operador de corchetes:"
   ]
  },
  {
   "cell_type": "code",
   "execution_count": 1,
   "metadata": {},
   "outputs": [],
   "source": [
    "fruta = 'banana'\n",
    "letra = fruta[1]"
   ]
  },
  {
   "cell_type": "markdown",
   "metadata": {},
   "source": [
    "La segunda declaración extrae el carácter en la posición de índice 1 de la variable `fruta` y lo asigna a la variable letra.\n",
    "\n",
    "La expresión entre paréntesis se llama índice. El índice indica qué carácter de la secuencia desea (de ahí el nombre).\n",
    "\n",
    "Pero es posible que no obtenga lo que espera:"
   ]
  },
  {
   "cell_type": "code",
   "execution_count": 2,
   "metadata": {},
   "outputs": [
    {
     "name": "stdout",
     "output_type": "stream",
     "text": [
      "a\n"
     ]
    }
   ],
   "source": [
    "print(letra)"
   ]
  },
  {
   "cell_type": "markdown",
   "metadata": {},
   "source": [
    "Para la mayoría de las personas, la primera letra de `banana` es `b`, pero en Python no, el índice es un desplazamiento desde el comienzo de la cadena, y el desplazamiento de la primera letra es cero."
   ]
  },
  {
   "cell_type": "code",
   "execution_count": 3,
   "metadata": {},
   "outputs": [
    {
     "name": "stdout",
     "output_type": "stream",
     "text": [
      "b\n"
     ]
    }
   ],
   "source": [
    "letra = fruta[0]\n",
    "print(letra)"
   ]
  },
  {
   "cell_type": "markdown",
   "metadata": {},
   "source": [
    "Así `b` es la letra 0 de `banana`, `a` es la 1ª letra, y `n` es la 2ª letra.\n",
    "\n",
    "![Figura 6.1](./figures/6.1.svg)\n",
    "<center><i>Figures 6.1: Indices de cadenas,</i></center>\n",
    "\n",
    "Puede usar cualquier expresión, incluidas variables y operadores, como un índice, pero el valor del índice debe ser un número entero. De lo contrario, obtienes:"
   ]
  },
  {
   "cell_type": "code",
   "execution_count": 4,
   "metadata": {},
   "outputs": [
    {
     "ename": "TypeError",
     "evalue": "string indices must be integers",
     "output_type": "error",
     "traceback": [
      "\u001b[1;31m---------------------------------------------------------------------------\u001b[0m",
      "\u001b[1;31mTypeError\u001b[0m                                 Traceback (most recent call last)",
      "\u001b[1;32m<ipython-input-4-a11f8bbea000>\u001b[0m in \u001b[0;36m<module>\u001b[1;34m\u001b[0m\n\u001b[1;32m----> 1\u001b[1;33m \u001b[0mletra\u001b[0m \u001b[1;33m=\u001b[0m \u001b[0mfruta\u001b[0m\u001b[1;33m[\u001b[0m\u001b[1;36m1.5\u001b[0m\u001b[1;33m]\u001b[0m\u001b[1;33m\u001b[0m\u001b[1;33m\u001b[0m\u001b[0m\n\u001b[0m",
      "\u001b[1;31mTypeError\u001b[0m: string indices must be integers"
     ]
    }
   ],
   "source": [
    " letra = fruta[1.5]"
   ]
  },
  {
   "cell_type": "markdown",
   "metadata": {},
   "source": [
    "## Obteniendo la longitud de una cadena usando `len`\n",
    "\n",
    "`len` es una función incorporada que devuelve la cantidad de caracteres en una cadena:"
   ]
  },
  {
   "cell_type": "code",
   "execution_count": 5,
   "metadata": {},
   "outputs": [
    {
     "data": {
      "text/plain": [
       "6"
      ]
     },
     "execution_count": 5,
     "metadata": {},
     "output_type": "execute_result"
    }
   ],
   "source": [
    "fruta = 'banana'\n",
    "len(fruta)"
   ]
  },
  {
   "cell_type": "markdown",
   "metadata": {},
   "source": [
    "Para obtener la última letra de una cadena, es posible que tengas la tentación de probar algo como esto:"
   ]
  },
  {
   "cell_type": "code",
   "execution_count": 6,
   "metadata": {},
   "outputs": [
    {
     "ename": "IndexError",
     "evalue": "string index out of range",
     "output_type": "error",
     "traceback": [
      "\u001b[1;31m---------------------------------------------------------------------------\u001b[0m",
      "\u001b[1;31mIndexError\u001b[0m                                Traceback (most recent call last)",
      "\u001b[1;32m<ipython-input-6-a23730ee98e4>\u001b[0m in \u001b[0;36m<module>\u001b[1;34m\u001b[0m\n\u001b[0;32m      1\u001b[0m \u001b[0mlongitud\u001b[0m \u001b[1;33m=\u001b[0m \u001b[0mlen\u001b[0m\u001b[1;33m(\u001b[0m\u001b[0mfruta\u001b[0m\u001b[1;33m)\u001b[0m\u001b[1;33m\u001b[0m\u001b[1;33m\u001b[0m\u001b[0m\n\u001b[1;32m----> 2\u001b[1;33m \u001b[0multima\u001b[0m \u001b[1;33m=\u001b[0m \u001b[0mfruta\u001b[0m\u001b[1;33m[\u001b[0m\u001b[0mlongitud\u001b[0m\u001b[1;33m]\u001b[0m\u001b[1;33m\u001b[0m\u001b[1;33m\u001b[0m\u001b[0m\n\u001b[0m",
      "\u001b[1;31mIndexError\u001b[0m: string index out of range"
     ]
    }
   ],
   "source": [
    "longitud = len(fruta)\n",
    "ultima = fruta[longitud]"
   ]
  },
  {
   "cell_type": "markdown",
   "metadata": {},
   "source": [
    "La razón de estos `IndexError` es que no hay ninguna letra en `banana` con el índice 6. Como comenzamos a contar en cero, las seis letras están numeradas de 0 a 5. Para obtener el último carácter, debe restar 1 de longitud:"
   ]
  },
  {
   "cell_type": "code",
   "execution_count": 7,
   "metadata": {},
   "outputs": [
    {
     "name": "stdout",
     "output_type": "stream",
     "text": [
      "a\n"
     ]
    }
   ],
   "source": [
    "ultima = fruta[longitud-1]\n",
    "print(ultima)"
   ]
  },
  {
   "cell_type": "markdown",
   "metadata": {},
   "source": [
    "Alternativamente, puede usar índices negativos, que cuentan hacia atrás desde el final de la cadena. La expresión `fruta[-1]` produce la última letra, `fruta[-2]` produce la penúltima, y así sucesivamente."
   ]
  },
  {
   "cell_type": "markdown",
   "metadata": {},
   "source": [
    "## Recorrer una cadena con un bucle\n",
    "\n",
    "Una gran cantidad de cálculos implican el procesamiento de una cadena de un carácter a la vez. A menudo\n",
    "comienzan desde el principio, seleccionan a cada caracter por turno, le hacen algo y continúan hasta el final. Este patrón de procesamiento se denomina recorrido. Una forma de escribir un recorrido es con un bucle `while`:"
   ]
  },
  {
   "cell_type": "code",
   "execution_count": 8,
   "metadata": {},
   "outputs": [
    {
     "name": "stdout",
     "output_type": "stream",
     "text": [
      "b\n",
      "a\n",
      "n\n",
      "a\n",
      "n\n",
      "a\n"
     ]
    }
   ],
   "source": [
    "indice = 0\n",
    "while indice < len(fruta):\n",
    "    letra = fruta[indice]\n",
    "    print(letra)\n",
    "    indice = indice + 1"
   ]
  },
  {
   "cell_type": "markdown",
   "metadata": {},
   "source": [
    "Este bucle recorre la cadena y muestra cada letra en una línea sola. La condición de bucle es `indice < len(fruta)`, por lo que cuando índice es igual a la longitud de la cadena, la condición es falsa, y el cuerpo del bucle no se ejecuta. El último carácter al que se accede es el que tiene el índice `len(fruta)-1`, que es el último carácter de la cadena.\n",
    "\n",
    "**Ejercicio 1:** escriba un ciclo `while` que comience en el último carácter de la cadena y retroceda hasta el primer carácter de la cadena, imprimiendo cada letra en una línea separada, excepto al revés.\n",
    "\n",
    "Otra forma de escribir un recorrido es con un bucle `for`:"
   ]
  },
  {
   "cell_type": "code",
   "execution_count": 9,
   "metadata": {},
   "outputs": [
    {
     "name": "stdout",
     "output_type": "stream",
     "text": [
      "b\n",
      "a\n",
      "n\n",
      "a\n",
      "n\n",
      "a\n"
     ]
    }
   ],
   "source": [
    "for char in fruta:\n",
    "    print(char)"
   ]
  },
  {
   "cell_type": "markdown",
   "metadata": {},
   "source": [
    "Cada vez que pasa el ciclo, el siguiente carácter de la cadena se asigna a la variable `char`. El ciclo continúa hasta que no queden caracteres."
   ]
  },
  {
   "cell_type": "markdown",
   "metadata": {},
   "source": [
    "## Slice de una cadena\n",
    "\n",
    "Un segmento de una cadena se llama slice. Seleccionar un segmento es similar a seleccionar un carácter:"
   ]
  },
  {
   "cell_type": "code",
   "execution_count": 10,
   "metadata": {},
   "outputs": [
    {
     "name": "stdout",
     "output_type": "stream",
     "text": [
      "Monty\n",
      "Python\n"
     ]
    }
   ],
   "source": [
    "s = 'Monty Python'\n",
    "print(s[0:5])\n",
    "print(s[6:12])"
   ]
  },
  {
   "cell_type": "markdown",
   "metadata": {},
   "source": [
    "El operador devuelve la parte de la cadena del carácter `n` al carácter `m`, incluido el primero, pero excluyendo el ultimo.\n",
    "\n",
    "Si omite el primer índice (antes de los dos puntos), el slice comienza al principio de la cadena. Si omite el segundo índice, el slice va al final de la cadena:"
   ]
  },
  {
   "cell_type": "code",
   "execution_count": 11,
   "metadata": {},
   "outputs": [
    {
     "name": "stdout",
     "output_type": "stream",
     "text": [
      "ban\n",
      "ana\n"
     ]
    }
   ],
   "source": [
    "fruta = 'banana'\n",
    "print(fruta[:3])\n",
    "print(fruta[3:])"
   ]
  },
  {
   "cell_type": "markdown",
   "metadata": {},
   "source": [
    "Si el primer índice es mayor o igual que el segundo, el resultado es una cadena vacía, representada por dos comillas:"
   ]
  },
  {
   "cell_type": "code",
   "execution_count": 12,
   "metadata": {},
   "outputs": [
    {
     "data": {
      "text/plain": [
       "''"
      ]
     },
     "execution_count": 12,
     "metadata": {},
     "output_type": "execute_result"
    }
   ],
   "source": [
    "fruta = 'banana'\n",
    "fruta[3:3]"
   ]
  },
  {
   "cell_type": "markdown",
   "metadata": {},
   "source": [
    "Una cadena vacía no contiene caracteres y tiene una longitud de 0, pero aparte de eso, es igual que cualquier otra cadena.\n",
    "\n",
    "**Ejercicio 2:** dado que fruta es una cadena, ¿qué significa fruta[:]?"
   ]
  },
  {
   "cell_type": "markdown",
   "metadata": {},
   "source": [
    "## Las cadenas son inmutables\n",
    "\n",
    "Es tentador usar el operador en el lado izquierdo de una tarea, con la intención de cambiar un carácter en una cadena. Por ejemplo:"
   ]
  },
  {
   "cell_type": "code",
   "execution_count": 13,
   "metadata": {},
   "outputs": [
    {
     "ename": "TypeError",
     "evalue": "'str' object does not support item assignment",
     "output_type": "error",
     "traceback": [
      "\u001b[1;31m---------------------------------------------------------------------------\u001b[0m",
      "\u001b[1;31mTypeError\u001b[0m                                 Traceback (most recent call last)",
      "\u001b[1;32m<ipython-input-13-ebc669b560ca>\u001b[0m in \u001b[0;36m<module>\u001b[1;34m\u001b[0m\n\u001b[0;32m      1\u001b[0m \u001b[0msaludo\u001b[0m \u001b[1;33m=\u001b[0m \u001b[1;34m'Hola, mundo!'\u001b[0m\u001b[1;33m\u001b[0m\u001b[1;33m\u001b[0m\u001b[0m\n\u001b[1;32m----> 2\u001b[1;33m \u001b[0msaludo\u001b[0m\u001b[1;33m[\u001b[0m\u001b[1;36m0\u001b[0m\u001b[1;33m]\u001b[0m \u001b[1;33m=\u001b[0m \u001b[1;34m'J'\u001b[0m\u001b[1;33m\u001b[0m\u001b[1;33m\u001b[0m\u001b[0m\n\u001b[0m",
      "\u001b[1;31mTypeError\u001b[0m: 'str' object does not support item assignment"
     ]
    }
   ],
   "source": [
    "saludo = 'Hola, mundo!'\n",
    "saludo[0] = 'J'"
   ]
  },
  {
   "cell_type": "markdown",
   "metadata": {},
   "source": [
    "El \"objeto\" en este caso es la cadena y el \"elemento\" es el carácter que trataste de asignar. Por ahora, un objeto es lo mismo que un valor, pero redefiniremos esa definición más adelante. Un elemento es uno de los valores en una secuencia.\n",
    "\n",
    "El motivo del error es que las cadenas son inmutables, lo que significa que no puede cambiar una cadena existente. Lo mejor que puedes hacer es crear una nueva cadena que sea una variación del original:"
   ]
  },
  {
   "cell_type": "code",
   "execution_count": 14,
   "metadata": {},
   "outputs": [
    {
     "name": "stdout",
     "output_type": "stream",
     "text": [
      "Jola, mundo!\n"
     ]
    }
   ],
   "source": [
    "saludo = 'Hola, mundo!'\n",
    "nuevo_saludo = 'J' + saludo[1:]\n",
    "print(nuevo_saludo)"
   ]
  },
  {
   "cell_type": "markdown",
   "metadata": {},
   "source": [
    "Este ejemplo concatena una nueva primera letra en una porción de saludo. No tiene ningún efecto en la cadena original."
   ]
  },
  {
   "cell_type": "markdown",
   "metadata": {},
   "source": [
    "## Bucle y conteo\n",
    "\n",
    "El siguiente programa cuenta el número de veces que la letra a aparece en una cadena:"
   ]
  },
  {
   "cell_type": "code",
   "execution_count": 15,
   "metadata": {},
   "outputs": [
    {
     "name": "stdout",
     "output_type": "stream",
     "text": [
      "3\n"
     ]
    }
   ],
   "source": [
    "palabra = 'banana'\n",
    "contar = 0\n",
    "for letra in palabra:\n",
    "    if letra == 'a':\n",
    "        contar = contar + 1\n",
    "print(contar)"
   ]
  },
  {
   "cell_type": "markdown",
   "metadata": {},
   "source": [
    "Este programa demuestra otro patrón de computación llamado contador. La variable `contar` se inicializa a 0 y luego se incrementa cada vez que se encuentra una `a`. Cuando el ciclo sale, `contar` contiene el resultado: el número total de `a`s.\n",
    "\n",
    "**Ejercicio 3:** Encapsula este código en una función llamada `contar`, y generalízalo para que acepte la cadena y la letra como argumentos."
   ]
  },
  {
   "cell_type": "markdown",
   "metadata": {},
   "source": [
    "## El operador `in`\n",
    "\n",
    "La palabra `in` es un operador booleano que toma dos cadenas y regresa `True` si la primera aparece como una subcadena en la segunda:"
   ]
  },
  {
   "cell_type": "code",
   "execution_count": 16,
   "metadata": {},
   "outputs": [
    {
     "data": {
      "text/plain": [
       "True"
      ]
     },
     "execution_count": 16,
     "metadata": {},
     "output_type": "execute_result"
    }
   ],
   "source": [
    "'a' in 'banana'"
   ]
  },
  {
   "cell_type": "code",
   "execution_count": 17,
   "metadata": {},
   "outputs": [
    {
     "data": {
      "text/plain": [
       "False"
      ]
     },
     "execution_count": 17,
     "metadata": {},
     "output_type": "execute_result"
    }
   ],
   "source": [
    "'semilla' in 'banana'"
   ]
  },
  {
   "cell_type": "markdown",
   "metadata": {},
   "source": [
    " ## Comparación de cadenas\n",
    " \n",
    " Los operadores de comparación trabajan en cadenas. Para ver si dos cadenas son iguales:"
   ]
  },
  {
   "cell_type": "code",
   "execution_count": 18,
   "metadata": {},
   "outputs": [
    {
     "name": "stdout",
     "output_type": "stream",
     "text": [
      "Es igual a bananas.\n"
     ]
    }
   ],
   "source": [
    "if palabra == 'banana':\n",
    "    print('Es igual a bananas.')"
   ]
  },
  {
   "cell_type": "markdown",
   "metadata": {},
   "source": [
    "Otras operaciones de comparación son útiles para poner las palabras en orden alfabético:"
   ]
  },
  {
   "cell_type": "code",
   "execution_count": 19,
   "metadata": {},
   "outputs": [
    {
     "name": "stdout",
     "output_type": "stream",
     "text": [
      "Es igual a bananas.\n"
     ]
    }
   ],
   "source": [
    "palabra = 'banana'\n",
    "if palabra < 'banana':\n",
    "    print('Tu palabra,' + palabra + ', viene antes de banana.')\n",
    "elif palabra > 'banana':\n",
    "    print('Tu palabra,' + palabra + ', vienen después de banana.')\n",
    "else:\n",
    "    print('Es igual a bananas.')"
   ]
  },
  {
   "cell_type": "markdown",
   "metadata": {},
   "source": [
    "Python no maneja letras mayúsculas y minúsculas de la misma manera que las personas. Todas las letras mayúsculas aparecen antes que las letras minúsculas, así que:\n",
    "\n",
    "    Tu palabra, Piña, viene antes de banana.\n",
    "\n",
    "Una forma común de resolver este problema es convertir cadenas a un formato estándar, como todas minúsculas, antes de realizar la comparación."
   ]
  },
  {
   "cell_type": "markdown",
   "metadata": {},
   "source": [
    "##  Métodos string\n",
    "\n",
    "Las cadenas son un ejemplo de objetos de Python. Un objeto contiene tanto datos (la propia cadena real) como métodos, que son funciones efectivamente integradas en el objeto y están disponibles para cualquier instancia del objeto.\n",
    "\n",
    "Python tiene una función llamada `dir` que enumera los métodos disponibles para un objeto. La función `type` muestra el tipo de un objeto y la función `dir` muestra los métodos disponibles."
   ]
  },
  {
   "cell_type": "code",
   "execution_count": 20,
   "metadata": {},
   "outputs": [
    {
     "data": {
      "text/plain": [
       "str"
      ]
     },
     "execution_count": 20,
     "metadata": {},
     "output_type": "execute_result"
    }
   ],
   "source": [
    "stuff = 'Hola mundo'\n",
    "type(stuff)"
   ]
  },
  {
   "cell_type": "code",
   "execution_count": 21,
   "metadata": {
    "scrolled": true
   },
   "outputs": [
    {
     "data": {
      "text/plain": [
       "['__add__',\n",
       " '__class__',\n",
       " '__contains__',\n",
       " '__delattr__',\n",
       " '__dir__',\n",
       " '__doc__',\n",
       " '__eq__',\n",
       " '__format__',\n",
       " '__ge__',\n",
       " '__getattribute__',\n",
       " '__getitem__',\n",
       " '__getnewargs__',\n",
       " '__gt__',\n",
       " '__hash__',\n",
       " '__init__',\n",
       " '__init_subclass__',\n",
       " '__iter__',\n",
       " '__le__',\n",
       " '__len__',\n",
       " '__lt__',\n",
       " '__mod__',\n",
       " '__mul__',\n",
       " '__ne__',\n",
       " '__new__',\n",
       " '__reduce__',\n",
       " '__reduce_ex__',\n",
       " '__repr__',\n",
       " '__rmod__',\n",
       " '__rmul__',\n",
       " '__setattr__',\n",
       " '__sizeof__',\n",
       " '__str__',\n",
       " '__subclasshook__',\n",
       " 'capitalize',\n",
       " 'casefold',\n",
       " 'center',\n",
       " 'count',\n",
       " 'encode',\n",
       " 'endswith',\n",
       " 'expandtabs',\n",
       " 'find',\n",
       " 'format',\n",
       " 'format_map',\n",
       " 'index',\n",
       " 'isalnum',\n",
       " 'isalpha',\n",
       " 'isascii',\n",
       " 'isdecimal',\n",
       " 'isdigit',\n",
       " 'isidentifier',\n",
       " 'islower',\n",
       " 'isnumeric',\n",
       " 'isprintable',\n",
       " 'isspace',\n",
       " 'istitle',\n",
       " 'isupper',\n",
       " 'join',\n",
       " 'ljust',\n",
       " 'lower',\n",
       " 'lstrip',\n",
       " 'maketrans',\n",
       " 'partition',\n",
       " 'replace',\n",
       " 'rfind',\n",
       " 'rindex',\n",
       " 'rjust',\n",
       " 'rpartition',\n",
       " 'rsplit',\n",
       " 'rstrip',\n",
       " 'split',\n",
       " 'splitlines',\n",
       " 'startswith',\n",
       " 'strip',\n",
       " 'swapcase',\n",
       " 'title',\n",
       " 'translate',\n",
       " 'upper',\n",
       " 'zfill']"
      ]
     },
     "execution_count": 21,
     "metadata": {},
     "output_type": "execute_result"
    }
   ],
   "source": [
    "dir(stuff)"
   ]
  },
  {
   "cell_type": "code",
   "execution_count": 22,
   "metadata": {},
   "outputs": [
    {
     "name": "stdout",
     "output_type": "stream",
     "text": [
      "Help on method_descriptor:\n",
      "\n",
      "capitalize(self, /)\n",
      "    Return a capitalized version of the string.\n",
      "    \n",
      "    More specifically, make the first character have upper case and the rest lower\n",
      "    case.\n",
      "\n"
     ]
    }
   ],
   "source": [
    "help(str.capitalize)"
   ]
  },
  {
   "cell_type": "markdown",
   "metadata": {},
   "source": [
    "Si bien la función `dir` enumera los métodos y puede utilizarla `help` para obtener documentación simple sobre un método, una mejor fuente de documentación para los métodos de cadena sería\n",
    "https://docs.python.org/3.5/library/stdtypes.html#string-methods.\n",
    "\n",
    "Llamar a un método es similar a llamar a una función (toma argumentos y devuelve un valor) pero la sintaxis es diferente. Llamamos un método al agregar el nombre del método al nombre de la variable usando el período como un delimitador.\n",
    "\n",
    "Por ejemplo, el método `upper` toma una cadena y devuelve una nueva cadena con todas las letras mayúsculas:\n",
    "\n",
    "En lugar de la sintaxis de la función `upper(palabra)`, utiliza la sintaxis del método `palabra.upper()`."
   ]
  },
  {
   "cell_type": "code",
   "execution_count": 23,
   "metadata": {},
   "outputs": [
    {
     "name": "stdout",
     "output_type": "stream",
     "text": [
      "BANANA\n"
     ]
    }
   ],
   "source": [
    "palabra = 'banana'\n",
    "nueva_palabra = palabra.upper()\n",
    "print(nueva_palabra)"
   ]
  },
  {
   "cell_type": "markdown",
   "metadata": {},
   "source": [
    "Esta forma de notación de puntos especifica el nombre del método, `upper` y el nombre de la cadena de aplicar el método a `palabra`. Los paréntesis vacíos indican que este método no tiene argumento.\n",
    "\n",
    "Una llamada a un método se llama invocación; en este caso, diríamos que estamos invocando `upper` en el palabra.\n",
    "\n",
    "Por ejemplo, hay un método de cadena llamado `find` que busca la posición de una cadena dentro de otra:"
   ]
  },
  {
   "cell_type": "code",
   "execution_count": 24,
   "metadata": {},
   "outputs": [
    {
     "name": "stdout",
     "output_type": "stream",
     "text": [
      "1\n"
     ]
    }
   ],
   "source": [
    "palabra = 'banana'\n",
    "indice = palabra.find('a')\n",
    "print(indice)"
   ]
  },
  {
   "cell_type": "markdown",
   "metadata": {},
   "source": [
    "En este ejemplo, se invoca `find` en palabra y pasar la letra que estamos buscando como un parámetro.\n",
    "\n",
    "El método `find` puede encontrar subcadenas así como también caracteres:"
   ]
  },
  {
   "cell_type": "code",
   "execution_count": 25,
   "metadata": {},
   "outputs": [
    {
     "data": {
      "text/plain": [
       "2"
      ]
     },
     "execution_count": 25,
     "metadata": {},
     "output_type": "execute_result"
    }
   ],
   "source": [
    "palabra.find('na')"
   ]
  },
  {
   "cell_type": "markdown",
   "metadata": {},
   "source": [
    "Puede tomar como segundo argumento el índice donde debería comenzar:"
   ]
  },
  {
   "cell_type": "code",
   "execution_count": 26,
   "metadata": {},
   "outputs": [
    {
     "data": {
      "text/plain": [
       "4"
      ]
     },
     "execution_count": 26,
     "metadata": {},
     "output_type": "execute_result"
    }
   ],
   "source": [
    "palabra.find('na', 3)"
   ]
  },
  {
   "cell_type": "markdown",
   "metadata": {},
   "source": [
    "Una tarea común es eliminar espacios en blanco (espacios, pestañas o líneas nuevas) desde el comienzo y el final de una cadena utilizando el método `strip`:"
   ]
  },
  {
   "cell_type": "code",
   "execution_count": 27,
   "metadata": {},
   "outputs": [
    {
     "data": {
      "text/plain": [
       "'Here we go'"
      ]
     },
     "execution_count": 27,
     "metadata": {},
     "output_type": "execute_result"
    }
   ],
   "source": [
    "linea = ' Here we go '\n",
    "linea.strip()"
   ]
  },
  {
   "cell_type": "markdown",
   "metadata": {},
   "source": [
    "Algunos métodos, como `startswith`, devuelven valores booleanos."
   ]
  },
  {
   "cell_type": "code",
   "execution_count": 28,
   "metadata": {},
   "outputs": [
    {
     "data": {
      "text/plain": [
       "True"
      ]
     },
     "execution_count": 28,
     "metadata": {},
     "output_type": "execute_result"
    }
   ],
   "source": [
    "linea = 'Que tengas un buen díay'\n",
    "linea.startswith('Que')"
   ]
  },
  {
   "cell_type": "code",
   "execution_count": 29,
   "metadata": {},
   "outputs": [
    {
     "data": {
      "text/plain": [
       "False"
      ]
     },
     "execution_count": 29,
     "metadata": {},
     "output_type": "execute_result"
    }
   ],
   "source": [
    "linea.startswith('q')"
   ]
  },
  {
   "cell_type": "markdown",
   "metadata": {},
   "source": [
    "Notarás que `startswith` requiere mayúsculas y minúsculas para que coincida, por lo que a veces tomamos una línea y lo asignamos todo a minúsculas utilizando el método `lower` antes de hacer cualquier comprobación."
   ]
  },
  {
   "cell_type": "code",
   "execution_count": 30,
   "metadata": {},
   "outputs": [
    {
     "data": {
      "text/plain": [
       "False"
      ]
     },
     "execution_count": 30,
     "metadata": {},
     "output_type": "execute_result"
    }
   ],
   "source": [
    "linea = 'Que tengas un buen día'\n",
    "linea.startswith('q')"
   ]
  },
  {
   "cell_type": "code",
   "execution_count": 31,
   "metadata": {},
   "outputs": [
    {
     "data": {
      "text/plain": [
       "True"
      ]
     },
     "execution_count": 31,
     "metadata": {},
     "output_type": "execute_result"
    }
   ],
   "source": [
    "linea.lower().startswith('q')"
   ]
  },
  {
   "cell_type": "markdown",
   "metadata": {},
   "source": [
    "En el último ejemplo, `lower` se llama al método y luego usamos `startswith` para ver si la cadena en minúscula resultante comienza con la letra `q`. Siempre tengamos cuidado con el orden, podemos hacer múltiples llamadas a métodos en una sola expresión.\n",
    "\n",
    "**Ejercicio 4:** Hay un método de cadena llamado `count` que es similar a la función en el ejercicio anterior. Lea la documentación de este método en https://docs.python.org/3.5/library/stdtypes.html#string-methods y escriba una invocación que\n",
    "cuente el número de veces que la letra `a` aparece en \"banana\"."
   ]
  },
  {
   "cell_type": "markdown",
   "metadata": {},
   "source": [
    "## Análisis de cadenas\n",
    "\n",
    "A menudo, queremos ver una cadena y encontrar una subcadena. Por ejemplo, si nos presentaran una\n",
    "serie de líneas formateadas de la siguiente manera:\n",
    "\n",
    "    From stephen.marquard@ uct.ac.za Sat Jan 5 09:14:16 2008\n",
    "\n",
    "y queríamos sacar solo la segunda mitad de la dirección (es decir, uct.ac.za) de cada línea, podemos hacerlo utilizando el método `find` y el corte de cadenas.\n",
    "\n",
    "Primero, encontraremos la posición del signo a en la cadena. Luego, encontraremos la posición del primer espacio después del signo `@`. Y luego usaremos el corte de cadenas para extraer la porción de la cadena que estamos buscando."
   ]
  },
  {
   "cell_type": "code",
   "execution_count": 32,
   "metadata": {},
   "outputs": [
    {
     "name": "stdout",
     "output_type": "stream",
     "text": [
      "21\n",
      "31\n",
      "uct.ac.za\n"
     ]
    }
   ],
   "source": [
    "data = 'From stephen.marquard@uct.ac.za Sat Jan 5 09:14:16 2008'\n",
    "atpos = data.find('@')\n",
    "print(atpos)\n",
    "sppos = data.find(' ',atpos)\n",
    "print(sppos)\n",
    "host = data[atpos+1:sppos]\n",
    "print(host)"
   ]
  },
  {
   "cell_type": "markdown",
   "metadata": {},
   "source": [
    "Usamos una versión del método `find` que nos permite especificar una posición en la cadena en la que queremos comenzar a buscar. Cuando cortamos, extraemos los caracteres de \"uno más allá del signo hasta el carácter de espacio pero sin incluir el espacio\".\n",
    "\n",
    "La documentación del método `find` está disponible en https://docs.python.org/3.5/library/stdtypes.html#string-methods."
   ]
  },
  {
   "cell_type": "markdown",
   "metadata": {},
   "source": [
    "## Operador de formato\n",
    "\n",
    "El operador de formato, `%` nos permite construir cadenas, reemplazando partes de las cadenas con los datos almacenados en variables. Cuando se aplica a enteros, `%` es el operador de módulo. Pero cuando el primer operando es una cadena, `%` es el operador de formato.\n",
    "\n",
    "El primer operando es la cadena de formato, que contiene una o más secuencias de formato que especifican cómo se formatea el segundo operando. El resultado es una cadena.\n",
    "\n",
    "Por ejemplo, la secuencia de formato `%d` significa que el segundo operando debe formatearse como un entero (d significa \"decimal\"):"
   ]
  },
  {
   "cell_type": "code",
   "execution_count": 33,
   "metadata": {},
   "outputs": [
    {
     "data": {
      "text/plain": [
       "'42'"
      ]
     },
     "execution_count": 33,
     "metadata": {},
     "output_type": "execute_result"
    }
   ],
   "source": [
    "camellos = 42\n",
    "'%d' % camellos"
   ]
  },
  {
   "cell_type": "markdown",
   "metadata": {},
   "source": [
    "El resultado es la cadena `'42'`, que no debe confundirse con el valor entero `42`.\n",
    "\n",
    "Una secuencia de formato puede aparecer en cualquier lugar de la cadena, por lo que puede incrustar un valor en una oración:"
   ]
  },
  {
   "cell_type": "code",
   "execution_count": 34,
   "metadata": {},
   "outputs": [
    {
     "data": {
      "text/plain": [
       "'He visto 42 camellos'"
      ]
     },
     "execution_count": 34,
     "metadata": {},
     "output_type": "execute_result"
    }
   ],
   "source": [
    "camellos = 42\n",
    "'He visto %d camellos' % camellos"
   ]
  },
  {
   "cell_type": "markdown",
   "metadata": {},
   "source": [
    "Si hay más de una secuencia de formato en la cadena, el segundo argumento tiene que ser una tupla (Una tupla es una secuencia de valores separados por comas dentro de un par de paréntesis. Cubriremos las tuplas en el Capítulo 10. Cada secuencia de formato se empareja con un elemento de la tupla, en orden.\n",
    "\n",
    "El siguiente ejemplo usa `%d` para formatear un entero, `%g` para formatear un número de coma flotante (no preguntes por qué) y `%s` para formatear una cadena:"
   ]
  },
  {
   "cell_type": "code",
   "execution_count": 35,
   "metadata": {},
   "outputs": [
    {
     "data": {
      "text/plain": [
       "'En 3 años he visto 0.1 camellos.'"
      ]
     },
     "execution_count": 35,
     "metadata": {},
     "output_type": "execute_result"
    }
   ],
   "source": [
    "'En %d años he visto %g %s.' % (3, 0.1, 'camellos')"
   ]
  },
  {
   "cell_type": "markdown",
   "metadata": {},
   "source": [
    "El número de elementos en la tupla debe coincidir con el número de secuencias de formato en la cadena. Los tipos de elementos también deben coincidir con las secuencias de formato:"
   ]
  },
  {
   "cell_type": "code",
   "execution_count": 36,
   "metadata": {},
   "outputs": [
    {
     "ename": "TypeError",
     "evalue": "not enough arguments for format string",
     "output_type": "error",
     "traceback": [
      "\u001b[1;31m---------------------------------------------------------------------------\u001b[0m",
      "\u001b[1;31mTypeError\u001b[0m                                 Traceback (most recent call last)",
      "\u001b[1;32m<ipython-input-36-4a97654d37a9>\u001b[0m in \u001b[0;36m<module>\u001b[1;34m\u001b[0m\n\u001b[1;32m----> 1\u001b[1;33m \u001b[1;34m'%d %d %d'\u001b[0m \u001b[1;33m%\u001b[0m \u001b[1;33m(\u001b[0m\u001b[1;36m1\u001b[0m\u001b[1;33m,\u001b[0m \u001b[1;36m2\u001b[0m\u001b[1;33m)\u001b[0m\u001b[1;33m\u001b[0m\u001b[1;33m\u001b[0m\u001b[0m\n\u001b[0m",
      "\u001b[1;31mTypeError\u001b[0m: not enough arguments for format string"
     ]
    }
   ],
   "source": [
    "'%d %d %d' % (1, 2)"
   ]
  },
  {
   "cell_type": "code",
   "execution_count": 37,
   "metadata": {},
   "outputs": [
    {
     "ename": "TypeError",
     "evalue": "%d format: a number is required, not str",
     "output_type": "error",
     "traceback": [
      "\u001b[1;31m---------------------------------------------------------------------------\u001b[0m",
      "\u001b[1;31mTypeError\u001b[0m                                 Traceback (most recent call last)",
      "\u001b[1;32m<ipython-input-37-b3997f3b393b>\u001b[0m in \u001b[0;36m<module>\u001b[1;34m\u001b[0m\n\u001b[1;32m----> 1\u001b[1;33m \u001b[1;34m'%d'\u001b[0m \u001b[1;33m%\u001b[0m \u001b[1;34m'dollares'\u001b[0m\u001b[1;33m\u001b[0m\u001b[1;33m\u001b[0m\u001b[0m\n\u001b[0m",
      "\u001b[1;31mTypeError\u001b[0m: %d format: a number is required, not str"
     ]
    }
   ],
   "source": [
    "'%d' % 'dollares'"
   ]
  },
  {
   "cell_type": "markdown",
   "metadata": {},
   "source": [
    "En el primer ejemplo, no hay suficientes elementos; en el segundo, el elemento es del tipo incorrecto.\n",
    "\n",
    "El operador de formato es poderoso, pero puede ser difícil de usar. Puedes leer más sobre esto en\n",
    "https://docs.python.org/3.5/library/stdtypes.html#printf-style-string-formatting."
   ]
  },
  {
   "cell_type": "markdown",
   "metadata": {},
   "source": [
    "## Depuración\n",
    "\n",
    "Una habilidad que debe cultivar mientras programa siempre es preguntarse: \"¿Qué podría salir mal aquí?\" o alternativamente, \"¿Qué cosa loca podría hacer nuestro usuario para bloquear nuestro (aparentemente) programa perfecto?\"\n",
    "\n",
    "Por ejemplo, mire el programa que usamos para demostrar el ciclo `while` en el capítulo de iteración:\n",
    "\n",
    "    while True:\n",
    "        line = input('> ')\n",
    "        if line[0] == '#':\n",
    "            continue\n",
    "        if line == 'hecho':\n",
    "            break\n",
    "        print(line)\n",
    "    print('Hecho!')\n",
    "    \n",
    "Mira lo que sucede cuando el usuario ingresa una línea de entrada vacía:"
   ]
  },
  {
   "cell_type": "code",
   "execution_count": 38,
   "metadata": {},
   "outputs": [
    {
     "name": "stdout",
     "output_type": "stream",
     "text": [
      "> Hola\n",
      "Hola\n",
      "> Imprime esto\n",
      "Imprime esto\n",
      "> # No imprimas esto\n",
      "> listo\n",
      "listo\n",
      "> hecho\n",
      "Hecho!\n"
     ]
    }
   ],
   "source": [
    "while True:\n",
    "    linea = input('> ')\n",
    "    if linea[0] == '#':\n",
    "        continue\n",
    "    if linea == 'hecho':\n",
    "        break\n",
    "    print(linea)\n",
    "print('Hecho!')"
   ]
  },
  {
   "cell_type": "markdown",
   "metadata": {},
   "source": [
    "El código funciona bien hasta que se presente una línea vacía. Entonces no hay carácter, así que obtenemos un IndexError. Hay dos soluciones para hacer que la línea tres sea \"segura\", incluso si la línea está vacía.\n",
    "\n",
    "Una posibilidad es simplemente usar el método `startswith` que devuelve False si la cadena está vacía.\n",
    "\n",
    "    if linea.startswith('#')\n",
    "\n",
    "Otra forma es escribir con seguridad el enunciado `if` utilizando el patrón de guardián y asegurarse de que la segunda expresión lógica se evalúe solo cuando haya al menos un carácter en la cadena:\n",
    "\n",
    "    if len(linea) > 0 and linea[0] == '#':"
   ]
  },
  {
   "cell_type": "code",
   "execution_count": 39,
   "metadata": {},
   "outputs": [
    {
     "name": "stdout",
     "output_type": "stream",
     "text": [
      "> Hola\n",
      "Hola\n",
      "> Imprime esto\n",
      "Imprime esto\n",
      "> # No imprimas esto\n",
      "> Adios\n",
      "Adios\n",
      "> hecho\n",
      "Hecho!\n"
     ]
    }
   ],
   "source": [
    "while True:\n",
    "    linea = input('> ')\n",
    "    if linea.startswith('#'):\n",
    "        continue\n",
    "    if linea == 'hecho':\n",
    "        break\n",
    "    print(linea)\n",
    "print('Hecho!')"
   ]
  },
  {
   "cell_type": "markdown",
   "metadata": {},
   "source": [
    "## Glosario\n",
    "\n",
    "* **contador:** Una variable utilizada para contar algo, generalmente inicializada a cero y luego incrementada.\n",
    "* **cadena vacía:** Una cadena sin caracteres y longitud 0, representada por dos comillas.\n",
    "* **operador de formato:** Un operador `%` que toma una cadena de formato y una tupla y genera una cadena que incluye los elementos de la tupla formateados como se especifica en la cadena de formato.\n",
    "* **secuencia de formateo:** Una secuencia de caracteres en una cadena de formato, como `%d`, que especifica cómo debe formatearse un valor.\n",
    "* **cadena de formato:** Una cadena, utilizada con el operador de formato, que contiene secuencias de formato.\n",
    "* **bandera:** Una variable booleana usada para indicar si una condición es verdadera o falsa.\n",
    "* **invocación:** Una declaración que llama a un método.\n",
    "* **inmutable:** La propiedad de una secuencia cuyos elementos no se pueden asignar.\n",
    "* **índice:** Un valor entero utilizado para seleccionar un elemento en una secuencia, como un carácter en una cadena.\n",
    "* **ítem:** Uno de los valores en una secuencia.\n",
    "* **método:** Una función que se asocia con un objeto y se llama mediante notación de puntos.\n",
    "* **objeto:** Algo a lo que una variable puede referirse. Por ahora, puedes usar \"objeto\" y \"valor\" de manera intercambiable.\n",
    "* **buscar:** Un patrón de recorrido que se detiene cuando encuentra lo que está buscando.\n",
    "* **secuencia:** Un conjunto ordenado; es decir, un conjunto de valores donde cada valor se identifica mediante un índice entero.\n",
    "* **slide:** Una parte de una cadena especificada por un rango de índices.\n",
    "* **atravesar:** Para recorrer los elementos en una secuencia, realizando una operación similar en cada uno. "
   ]
  },
  {
   "cell_type": "markdown",
   "metadata": {},
   "source": [
    "## Ejercicios\n",
    "\n",
    "**Ejercicio 5:** tome el siguiente código de Python que almacena una cadena:\n",
    "\n",
    "    str = 'X-DSPAM-Confidence:0.8475'\n",
    "\n",
    "Utilice `find` y corte la cadena para extraer la parte de la cadena después del carácter de dos puntos y luego use la función `float` para convertir la cadena extraída en un número de coma flotante.\n",
    "\n",
    "**Ejercicio 6:** Lea la documentación de los métodos de cadena en https://docs.python.org/3.5/library/stdtypes.html#stringmethods.\n",
    "\n",
    "Es posible que desee experimentar con algunos de ellos para asegurarse de que entiende cómo funcionan. `strip` y `replace` son particularmente útiles.\n",
    "\n",
    "La documentación usa una sintaxis que puede ser confusa. Por ejemplo, en `find(sub[, start[, end]])`, los corchetes indican argumentos opcionales. Entonces `sub` obligatorio, pero `start` es opcional, y si lo incluye `start`, entonces `end` es opcional."
   ]
  },
  {
   "cell_type": "markdown",
   "metadata": {},
   "source": [
    "<!--NAVIGATION-->\n",
    "| [Indice](indice.ipynb) | \n",
    "\n",
    "< [Capítulo 5 - Iteraciones](cap05.ipynb) | [Capítulo 7 - Archivos](cap07.ipynb) >"
   ]
  }
 ],
 "metadata": {
  "kernelspec": {
   "display_name": "Python 3",
   "language": "python",
   "name": "python3"
  },
  "language_info": {
   "codemirror_mode": {
    "name": "ipython",
    "version": 3
   },
   "file_extension": ".py",
   "mimetype": "text/x-python",
   "name": "python",
   "nbconvert_exporter": "python",
   "pygments_lexer": "ipython3",
   "version": "3.7.3"
  },
  "varInspector": {
   "cols": {
    "lenName": 16,
    "lenType": 16,
    "lenVar": 40
   },
   "kernels_config": {
    "python": {
     "delete_cmd_postfix": "",
     "delete_cmd_prefix": "del ",
     "library": "var_list.py",
     "varRefreshCmd": "print(var_dic_list())"
    },
    "r": {
     "delete_cmd_postfix": ") ",
     "delete_cmd_prefix": "rm(",
     "library": "var_list.r",
     "varRefreshCmd": "cat(var_dic_list()) "
    }
   },
   "types_to_exclude": [
    "module",
    "function",
    "builtin_function_or_method",
    "instance",
    "_Feature"
   ],
   "window_display": false
  }
 },
 "nbformat": 4,
 "nbformat_minor": 2
}
